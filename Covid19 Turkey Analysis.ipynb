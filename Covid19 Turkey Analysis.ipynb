{
 "cells": [
  {
   "cell_type": "code",
   "execution_count": 931,
   "id": "64dbfacd",
   "metadata": {},
   "outputs": [],
   "source": [
    "import pandas as pd\n",
    "import numpy as np\n",
    "import matplotlib.pyplot as plt\n",
    "import seaborn as sbn\n",
    "import plotly.express as px\n"
   ]
  },
  {
   "cell_type": "code",
   "execution_count": 932,
   "id": "b715c721",
   "metadata": {},
   "outputs": [],
   "source": [
    "covid = pd.read_excel(\"covid19Vaccination.xlsx\")"
   ]
  },
  {
   "cell_type": "code",
   "execution_count": 933,
   "id": "af6e4fab",
   "metadata": {},
   "outputs": [
    {
     "data": {
      "text/html": [
       "<div>\n",
       "<style scoped>\n",
       "    .dataframe tbody tr th:only-of-type {\n",
       "        vertical-align: middle;\n",
       "    }\n",
       "\n",
       "    .dataframe tbody tr th {\n",
       "        vertical-align: top;\n",
       "    }\n",
       "\n",
       "    .dataframe thead th {\n",
       "        text-align: right;\n",
       "    }\n",
       "</style>\n",
       "<table border=\"1\" class=\"dataframe\">\n",
       "  <thead>\n",
       "    <tr style=\"text-align: right;\">\n",
       "      <th></th>\n",
       "      <th>ID</th>\n",
       "      <th>DATE_</th>\n",
       "      <th>SEQID</th>\n",
       "      <th>CITY</th>\n",
       "      <th>CITY2</th>\n",
       "      <th>_1DOSE</th>\n",
       "      <th>_2DOSE</th>\n",
       "      <th>_TOTAL</th>\n",
       "      <th>POPULATION</th>\n",
       "      <th>DIFF_1DOSE</th>\n",
       "      <th>DIFF_2DOSE</th>\n",
       "      <th>DIFF_TOTAL</th>\n",
       "      <th>PREVID</th>\n",
       "    </tr>\n",
       "  </thead>\n",
       "  <tbody>\n",
       "    <tr>\n",
       "      <th>0</th>\n",
       "      <td>438102</td>\n",
       "      <td>2021-06-26 22:41:31</td>\n",
       "      <td>5412</td>\n",
       "      <td>Adana</td>\n",
       "      <td>Adana</td>\n",
       "      <td>784464</td>\n",
       "      <td>355404</td>\n",
       "      <td>1139868</td>\n",
       "      <td>2258718</td>\n",
       "      <td>15</td>\n",
       "      <td>0</td>\n",
       "      <td>15</td>\n",
       "      <td>438021</td>\n",
       "    </tr>\n",
       "    <tr>\n",
       "      <th>1</th>\n",
       "      <td>438103</td>\n",
       "      <td>2021-06-26 22:41:31</td>\n",
       "      <td>5412</td>\n",
       "      <td>Adıyaman</td>\n",
       "      <td>Adiyaman</td>\n",
       "      <td>170847</td>\n",
       "      <td>77955</td>\n",
       "      <td>248802</td>\n",
       "      <td>632459</td>\n",
       "      <td>2</td>\n",
       "      <td>0</td>\n",
       "      <td>2</td>\n",
       "      <td>438022</td>\n",
       "    </tr>\n",
       "    <tr>\n",
       "      <th>2</th>\n",
       "      <td>438104</td>\n",
       "      <td>2021-06-26 22:41:31</td>\n",
       "      <td>5412</td>\n",
       "      <td>Afyonkarahisar</td>\n",
       "      <td>Afyon</td>\n",
       "      <td>292611</td>\n",
       "      <td>138934</td>\n",
       "      <td>431545</td>\n",
       "      <td>736912</td>\n",
       "      <td>8</td>\n",
       "      <td>0</td>\n",
       "      <td>8</td>\n",
       "      <td>438023</td>\n",
       "    </tr>\n",
       "    <tr>\n",
       "      <th>3</th>\n",
       "      <td>438105</td>\n",
       "      <td>2021-06-26 22:41:31</td>\n",
       "      <td>5412</td>\n",
       "      <td>Ağrı</td>\n",
       "      <td>Agri</td>\n",
       "      <td>94807</td>\n",
       "      <td>41146</td>\n",
       "      <td>135953</td>\n",
       "      <td>535435</td>\n",
       "      <td>0</td>\n",
       "      <td>0</td>\n",
       "      <td>0</td>\n",
       "      <td>438024</td>\n",
       "    </tr>\n",
       "    <tr>\n",
       "      <th>4</th>\n",
       "      <td>438106</td>\n",
       "      <td>2021-06-26 22:41:31</td>\n",
       "      <td>5412</td>\n",
       "      <td>Aksaray</td>\n",
       "      <td>Aksaray</td>\n",
       "      <td>131889</td>\n",
       "      <td>62603</td>\n",
       "      <td>194492</td>\n",
       "      <td>423011</td>\n",
       "      <td>3</td>\n",
       "      <td>0</td>\n",
       "      <td>3</td>\n",
       "      <td>438025</td>\n",
       "    </tr>\n",
       "  </tbody>\n",
       "</table>\n",
       "</div>"
      ],
      "text/plain": [
       "       ID               DATE_  SEQID            CITY     CITY2  _1DOSE  \\\n",
       "0  438102 2021-06-26 22:41:31   5412           Adana     Adana  784464   \n",
       "1  438103 2021-06-26 22:41:31   5412        Adıyaman  Adiyaman  170847   \n",
       "2  438104 2021-06-26 22:41:31   5412  Afyonkarahisar     Afyon  292611   \n",
       "3  438105 2021-06-26 22:41:31   5412            Ağrı      Agri   94807   \n",
       "4  438106 2021-06-26 22:41:31   5412         Aksaray   Aksaray  131889   \n",
       "\n",
       "   _2DOSE   _TOTAL  POPULATION  DIFF_1DOSE  DIFF_2DOSE  DIFF_TOTAL  PREVID  \n",
       "0  355404  1139868     2258718          15           0          15  438021  \n",
       "1   77955   248802      632459           2           0           2  438022  \n",
       "2  138934   431545      736912           8           0           8  438023  \n",
       "3   41146   135953      535435           0           0           0  438024  \n",
       "4   62603   194492      423011           3           0           3  438025  "
      ]
     },
     "execution_count": 933,
     "metadata": {},
     "output_type": "execute_result"
    }
   ],
   "source": [
    "covid.head()"
   ]
  },
  {
   "cell_type": "code",
   "execution_count": 934,
   "id": "b229f32e",
   "metadata": {},
   "outputs": [
    {
     "data": {
      "text/html": [
       "<div>\n",
       "<style scoped>\n",
       "    .dataframe tbody tr th:only-of-type {\n",
       "        vertical-align: middle;\n",
       "    }\n",
       "\n",
       "    .dataframe tbody tr th {\n",
       "        vertical-align: top;\n",
       "    }\n",
       "\n",
       "    .dataframe thead th {\n",
       "        text-align: right;\n",
       "    }\n",
       "</style>\n",
       "<table border=\"1\" class=\"dataframe\">\n",
       "  <thead>\n",
       "    <tr style=\"text-align: right;\">\n",
       "      <th></th>\n",
       "      <th>ID</th>\n",
       "      <th>SEQID</th>\n",
       "      <th>_1DOSE</th>\n",
       "      <th>_2DOSE</th>\n",
       "      <th>_TOTAL</th>\n",
       "      <th>POPULATION</th>\n",
       "      <th>DIFF_1DOSE</th>\n",
       "      <th>DIFF_2DOSE</th>\n",
       "      <th>DIFF_TOTAL</th>\n",
       "      <th>PREVID</th>\n",
       "    </tr>\n",
       "  </thead>\n",
       "  <tbody>\n",
       "    <tr>\n",
       "      <th>count</th>\n",
       "      <td>81.000000</td>\n",
       "      <td>81.0</td>\n",
       "      <td>8.100000e+01</td>\n",
       "      <td>8.100000e+01</td>\n",
       "      <td>8.100000e+01</td>\n",
       "      <td>8.100000e+01</td>\n",
       "      <td>81.000000</td>\n",
       "      <td>81.000000</td>\n",
       "      <td>81.000000</td>\n",
       "      <td>81.000000</td>\n",
       "    </tr>\n",
       "    <tr>\n",
       "      <th>mean</th>\n",
       "      <td>438142.000000</td>\n",
       "      <td>5412.0</td>\n",
       "      <td>3.965429e+05</td>\n",
       "      <td>1.828914e+05</td>\n",
       "      <td>5.794343e+05</td>\n",
       "      <td>1.032276e+06</td>\n",
       "      <td>8.407407</td>\n",
       "      <td>0.493827</td>\n",
       "      <td>8.901235</td>\n",
       "      <td>438061.000000</td>\n",
       "    </tr>\n",
       "    <tr>\n",
       "      <th>std</th>\n",
       "      <td>23.526581</td>\n",
       "      <td>0.0</td>\n",
       "      <td>7.727379e+05</td>\n",
       "      <td>3.171276e+05</td>\n",
       "      <td>1.088717e+06</td>\n",
       "      <td>1.872576e+06</td>\n",
       "      <td>24.283110</td>\n",
       "      <td>1.574194</td>\n",
       "      <td>25.764610</td>\n",
       "      <td>23.526581</td>\n",
       "    </tr>\n",
       "    <tr>\n",
       "      <th>min</th>\n",
       "      <td>438102.000000</td>\n",
       "      <td>5412.0</td>\n",
       "      <td>2.412800e+04</td>\n",
       "      <td>1.315500e+04</td>\n",
       "      <td>3.728300e+04</td>\n",
       "      <td>8.191000e+04</td>\n",
       "      <td>0.000000</td>\n",
       "      <td>0.000000</td>\n",
       "      <td>0.000000</td>\n",
       "      <td>438021.000000</td>\n",
       "    </tr>\n",
       "    <tr>\n",
       "      <th>25%</th>\n",
       "      <td>438122.000000</td>\n",
       "      <td>5412.0</td>\n",
       "      <td>1.069900e+05</td>\n",
       "      <td>4.914500e+04</td>\n",
       "      <td>1.575450e+05</td>\n",
       "      <td>2.849230e+05</td>\n",
       "      <td>0.000000</td>\n",
       "      <td>0.000000</td>\n",
       "      <td>0.000000</td>\n",
       "      <td>438041.000000</td>\n",
       "    </tr>\n",
       "    <tr>\n",
       "      <th>50%</th>\n",
       "      <td>438142.000000</td>\n",
       "      <td>5412.0</td>\n",
       "      <td>1.976310e+05</td>\n",
       "      <td>9.889600e+04</td>\n",
       "      <td>2.940100e+05</td>\n",
       "      <td>5.377620e+05</td>\n",
       "      <td>1.000000</td>\n",
       "      <td>0.000000</td>\n",
       "      <td>1.000000</td>\n",
       "      <td>438061.000000</td>\n",
       "    </tr>\n",
       "    <tr>\n",
       "      <th>75%</th>\n",
       "      <td>438162.000000</td>\n",
       "      <td>5412.0</td>\n",
       "      <td>3.955820e+05</td>\n",
       "      <td>1.871380e+05</td>\n",
       "      <td>5.805240e+05</td>\n",
       "      <td>1.081065e+06</td>\n",
       "      <td>6.000000</td>\n",
       "      <td>0.000000</td>\n",
       "      <td>6.000000</td>\n",
       "      <td>438081.000000</td>\n",
       "    </tr>\n",
       "    <tr>\n",
       "      <th>max</th>\n",
       "      <td>438182.000000</td>\n",
       "      <td>5412.0</td>\n",
       "      <td>6.197550e+06</td>\n",
       "      <td>2.419591e+06</td>\n",
       "      <td>8.617141e+06</td>\n",
       "      <td>1.546245e+07</td>\n",
       "      <td>193.000000</td>\n",
       "      <td>11.000000</td>\n",
       "      <td>204.000000</td>\n",
       "      <td>438101.000000</td>\n",
       "    </tr>\n",
       "  </tbody>\n",
       "</table>\n",
       "</div>"
      ],
      "text/plain": [
       "                  ID   SEQID        _1DOSE        _2DOSE        _TOTAL  \\\n",
       "count      81.000000    81.0  8.100000e+01  8.100000e+01  8.100000e+01   \n",
       "mean   438142.000000  5412.0  3.965429e+05  1.828914e+05  5.794343e+05   \n",
       "std        23.526581     0.0  7.727379e+05  3.171276e+05  1.088717e+06   \n",
       "min    438102.000000  5412.0  2.412800e+04  1.315500e+04  3.728300e+04   \n",
       "25%    438122.000000  5412.0  1.069900e+05  4.914500e+04  1.575450e+05   \n",
       "50%    438142.000000  5412.0  1.976310e+05  9.889600e+04  2.940100e+05   \n",
       "75%    438162.000000  5412.0  3.955820e+05  1.871380e+05  5.805240e+05   \n",
       "max    438182.000000  5412.0  6.197550e+06  2.419591e+06  8.617141e+06   \n",
       "\n",
       "         POPULATION  DIFF_1DOSE  DIFF_2DOSE  DIFF_TOTAL         PREVID  \n",
       "count  8.100000e+01   81.000000   81.000000   81.000000      81.000000  \n",
       "mean   1.032276e+06    8.407407    0.493827    8.901235  438061.000000  \n",
       "std    1.872576e+06   24.283110    1.574194   25.764610      23.526581  \n",
       "min    8.191000e+04    0.000000    0.000000    0.000000  438021.000000  \n",
       "25%    2.849230e+05    0.000000    0.000000    0.000000  438041.000000  \n",
       "50%    5.377620e+05    1.000000    0.000000    1.000000  438061.000000  \n",
       "75%    1.081065e+06    6.000000    0.000000    6.000000  438081.000000  \n",
       "max    1.546245e+07  193.000000   11.000000  204.000000  438101.000000  "
      ]
     },
     "execution_count": 934,
     "metadata": {},
     "output_type": "execute_result"
    }
   ],
   "source": [
    "covid.describe()"
   ]
  },
  {
   "cell_type": "code",
   "execution_count": 935,
   "id": "5b9fbe70",
   "metadata": {},
   "outputs": [],
   "source": [
    "covid.drop([\"ID\", \"CITY2\", \"SEQID\", \"DIFF_1DOSE\", \"DIFF_2DOSE\", \"DIFF_TOTAL\", \"PREVID\"] , axis = 1, inplace = True)\n"
   ]
  },
  {
   "cell_type": "code",
   "execution_count": 936,
   "id": "d5cb7c0c",
   "metadata": {},
   "outputs": [
    {
     "data": {
      "text/html": [
       "<div>\n",
       "<style scoped>\n",
       "    .dataframe tbody tr th:only-of-type {\n",
       "        vertical-align: middle;\n",
       "    }\n",
       "\n",
       "    .dataframe tbody tr th {\n",
       "        vertical-align: top;\n",
       "    }\n",
       "\n",
       "    .dataframe thead th {\n",
       "        text-align: right;\n",
       "    }\n",
       "</style>\n",
       "<table border=\"1\" class=\"dataframe\">\n",
       "  <thead>\n",
       "    <tr style=\"text-align: right;\">\n",
       "      <th></th>\n",
       "      <th>DATE_</th>\n",
       "      <th>CITY</th>\n",
       "      <th>_1DOSE</th>\n",
       "      <th>_2DOSE</th>\n",
       "      <th>_TOTAL</th>\n",
       "      <th>POPULATION</th>\n",
       "    </tr>\n",
       "  </thead>\n",
       "  <tbody>\n",
       "    <tr>\n",
       "      <th>0</th>\n",
       "      <td>2021-06-26 22:41:31</td>\n",
       "      <td>Adana</td>\n",
       "      <td>784464</td>\n",
       "      <td>355404</td>\n",
       "      <td>1139868</td>\n",
       "      <td>2258718</td>\n",
       "    </tr>\n",
       "    <tr>\n",
       "      <th>1</th>\n",
       "      <td>2021-06-26 22:41:31</td>\n",
       "      <td>Adıyaman</td>\n",
       "      <td>170847</td>\n",
       "      <td>77955</td>\n",
       "      <td>248802</td>\n",
       "      <td>632459</td>\n",
       "    </tr>\n",
       "    <tr>\n",
       "      <th>2</th>\n",
       "      <td>2021-06-26 22:41:31</td>\n",
       "      <td>Afyonkarahisar</td>\n",
       "      <td>292611</td>\n",
       "      <td>138934</td>\n",
       "      <td>431545</td>\n",
       "      <td>736912</td>\n",
       "    </tr>\n",
       "    <tr>\n",
       "      <th>3</th>\n",
       "      <td>2021-06-26 22:41:31</td>\n",
       "      <td>Ağrı</td>\n",
       "      <td>94807</td>\n",
       "      <td>41146</td>\n",
       "      <td>135953</td>\n",
       "      <td>535435</td>\n",
       "    </tr>\n",
       "    <tr>\n",
       "      <th>4</th>\n",
       "      <td>2021-06-26 22:41:31</td>\n",
       "      <td>Aksaray</td>\n",
       "      <td>131889</td>\n",
       "      <td>62603</td>\n",
       "      <td>194492</td>\n",
       "      <td>423011</td>\n",
       "    </tr>\n",
       "  </tbody>\n",
       "</table>\n",
       "</div>"
      ],
      "text/plain": [
       "                DATE_            CITY  _1DOSE  _2DOSE   _TOTAL  POPULATION\n",
       "0 2021-06-26 22:41:31           Adana  784464  355404  1139868     2258718\n",
       "1 2021-06-26 22:41:31        Adıyaman  170847   77955   248802      632459\n",
       "2 2021-06-26 22:41:31  Afyonkarahisar  292611  138934   431545      736912\n",
       "3 2021-06-26 22:41:31            Ağrı   94807   41146   135953      535435\n",
       "4 2021-06-26 22:41:31         Aksaray  131889   62603   194492      423011"
      ]
     },
     "execution_count": 936,
     "metadata": {},
     "output_type": "execute_result"
    }
   ],
   "source": [
    "covid.head()"
   ]
  },
  {
   "cell_type": "code",
   "execution_count": 937,
   "id": "6be1b897",
   "metadata": {},
   "outputs": [
    {
     "data": {
      "text/html": [
       "<div>\n",
       "<style scoped>\n",
       "    .dataframe tbody tr th:only-of-type {\n",
       "        vertical-align: middle;\n",
       "    }\n",
       "\n",
       "    .dataframe tbody tr th {\n",
       "        vertical-align: top;\n",
       "    }\n",
       "\n",
       "    .dataframe thead th {\n",
       "        text-align: right;\n",
       "    }\n",
       "</style>\n",
       "<table border=\"1\" class=\"dataframe\">\n",
       "  <thead>\n",
       "    <tr style=\"text-align: right;\">\n",
       "      <th></th>\n",
       "      <th>DATE_</th>\n",
       "      <th>CITY</th>\n",
       "      <th>_1DOSE</th>\n",
       "      <th>_2DOSE</th>\n",
       "      <th>_TOTAL</th>\n",
       "      <th>POPULATION</th>\n",
       "    </tr>\n",
       "  </thead>\n",
       "  <tbody>\n",
       "    <tr>\n",
       "      <th>76</th>\n",
       "      <td>2021-06-26 22:41:31</td>\n",
       "      <td>Uşak</td>\n",
       "      <td>169159</td>\n",
       "      <td>81055</td>\n",
       "      <td>250214</td>\n",
       "      <td>369433</td>\n",
       "    </tr>\n",
       "    <tr>\n",
       "      <th>77</th>\n",
       "      <td>2021-06-26 22:41:31</td>\n",
       "      <td>Van</td>\n",
       "      <td>236641</td>\n",
       "      <td>91208</td>\n",
       "      <td>327849</td>\n",
       "      <td>1149342</td>\n",
       "    </tr>\n",
       "    <tr>\n",
       "      <th>78</th>\n",
       "      <td>2021-06-26 22:41:31</td>\n",
       "      <td>Yalova</td>\n",
       "      <td>129888</td>\n",
       "      <td>65920</td>\n",
       "      <td>195808</td>\n",
       "      <td>276050</td>\n",
       "    </tr>\n",
       "    <tr>\n",
       "      <th>79</th>\n",
       "      <td>2021-06-26 22:41:31</td>\n",
       "      <td>Yozgat</td>\n",
       "      <td>151825</td>\n",
       "      <td>81924</td>\n",
       "      <td>233749</td>\n",
       "      <td>419095</td>\n",
       "    </tr>\n",
       "    <tr>\n",
       "      <th>80</th>\n",
       "      <td>2021-06-26 22:41:31</td>\n",
       "      <td>Zonguldak</td>\n",
       "      <td>275433</td>\n",
       "      <td>139382</td>\n",
       "      <td>414815</td>\n",
       "      <td>591204</td>\n",
       "    </tr>\n",
       "  </tbody>\n",
       "</table>\n",
       "</div>"
      ],
      "text/plain": [
       "                 DATE_       CITY  _1DOSE  _2DOSE  _TOTAL  POPULATION\n",
       "76 2021-06-26 22:41:31       Uşak  169159   81055  250214      369433\n",
       "77 2021-06-26 22:41:31        Van  236641   91208  327849     1149342\n",
       "78 2021-06-26 22:41:31     Yalova  129888   65920  195808      276050\n",
       "79 2021-06-26 22:41:31     Yozgat  151825   81924  233749      419095\n",
       "80 2021-06-26 22:41:31  Zonguldak  275433  139382  414815      591204"
      ]
     },
     "execution_count": 937,
     "metadata": {},
     "output_type": "execute_result"
    }
   ],
   "source": [
    "covid.tail()"
   ]
  },
  {
   "cell_type": "code",
   "execution_count": 938,
   "id": "dd083271",
   "metadata": {},
   "outputs": [],
   "source": [
    "covid.set_axis([\"date-tarih\",\"city-şehir\",\"1_dose-1.doz\",\"2_dose-2.doz\", \"total-toplam\", \"population-nüfus\"], axis = 1, inplace = True)"
   ]
  },
  {
   "cell_type": "code",
   "execution_count": 939,
   "id": "ca86717c",
   "metadata": {},
   "outputs": [
    {
     "data": {
      "text/html": [
       "<div>\n",
       "<style scoped>\n",
       "    .dataframe tbody tr th:only-of-type {\n",
       "        vertical-align: middle;\n",
       "    }\n",
       "\n",
       "    .dataframe tbody tr th {\n",
       "        vertical-align: top;\n",
       "    }\n",
       "\n",
       "    .dataframe thead th {\n",
       "        text-align: right;\n",
       "    }\n",
       "</style>\n",
       "<table border=\"1\" class=\"dataframe\">\n",
       "  <thead>\n",
       "    <tr style=\"text-align: right;\">\n",
       "      <th></th>\n",
       "      <th>date-tarih</th>\n",
       "      <th>city-şehir</th>\n",
       "      <th>1_dose-1.doz</th>\n",
       "      <th>2_dose-2.doz</th>\n",
       "      <th>total-toplam</th>\n",
       "      <th>population-nüfus</th>\n",
       "    </tr>\n",
       "  </thead>\n",
       "  <tbody>\n",
       "    <tr>\n",
       "      <th>0</th>\n",
       "      <td>2021-06-26 22:41:31</td>\n",
       "      <td>Adana</td>\n",
       "      <td>784464</td>\n",
       "      <td>355404</td>\n",
       "      <td>1139868</td>\n",
       "      <td>2258718</td>\n",
       "    </tr>\n",
       "    <tr>\n",
       "      <th>1</th>\n",
       "      <td>2021-06-26 22:41:31</td>\n",
       "      <td>Adıyaman</td>\n",
       "      <td>170847</td>\n",
       "      <td>77955</td>\n",
       "      <td>248802</td>\n",
       "      <td>632459</td>\n",
       "    </tr>\n",
       "    <tr>\n",
       "      <th>2</th>\n",
       "      <td>2021-06-26 22:41:31</td>\n",
       "      <td>Afyonkarahisar</td>\n",
       "      <td>292611</td>\n",
       "      <td>138934</td>\n",
       "      <td>431545</td>\n",
       "      <td>736912</td>\n",
       "    </tr>\n",
       "    <tr>\n",
       "      <th>3</th>\n",
       "      <td>2021-06-26 22:41:31</td>\n",
       "      <td>Ağrı</td>\n",
       "      <td>94807</td>\n",
       "      <td>41146</td>\n",
       "      <td>135953</td>\n",
       "      <td>535435</td>\n",
       "    </tr>\n",
       "    <tr>\n",
       "      <th>4</th>\n",
       "      <td>2021-06-26 22:41:31</td>\n",
       "      <td>Aksaray</td>\n",
       "      <td>131889</td>\n",
       "      <td>62603</td>\n",
       "      <td>194492</td>\n",
       "      <td>423011</td>\n",
       "    </tr>\n",
       "    <tr>\n",
       "      <th>...</th>\n",
       "      <td>...</td>\n",
       "      <td>...</td>\n",
       "      <td>...</td>\n",
       "      <td>...</td>\n",
       "      <td>...</td>\n",
       "      <td>...</td>\n",
       "    </tr>\n",
       "    <tr>\n",
       "      <th>76</th>\n",
       "      <td>2021-06-26 22:41:31</td>\n",
       "      <td>Uşak</td>\n",
       "      <td>169159</td>\n",
       "      <td>81055</td>\n",
       "      <td>250214</td>\n",
       "      <td>369433</td>\n",
       "    </tr>\n",
       "    <tr>\n",
       "      <th>77</th>\n",
       "      <td>2021-06-26 22:41:31</td>\n",
       "      <td>Van</td>\n",
       "      <td>236641</td>\n",
       "      <td>91208</td>\n",
       "      <td>327849</td>\n",
       "      <td>1149342</td>\n",
       "    </tr>\n",
       "    <tr>\n",
       "      <th>78</th>\n",
       "      <td>2021-06-26 22:41:31</td>\n",
       "      <td>Yalova</td>\n",
       "      <td>129888</td>\n",
       "      <td>65920</td>\n",
       "      <td>195808</td>\n",
       "      <td>276050</td>\n",
       "    </tr>\n",
       "    <tr>\n",
       "      <th>79</th>\n",
       "      <td>2021-06-26 22:41:31</td>\n",
       "      <td>Yozgat</td>\n",
       "      <td>151825</td>\n",
       "      <td>81924</td>\n",
       "      <td>233749</td>\n",
       "      <td>419095</td>\n",
       "    </tr>\n",
       "    <tr>\n",
       "      <th>80</th>\n",
       "      <td>2021-06-26 22:41:31</td>\n",
       "      <td>Zonguldak</td>\n",
       "      <td>275433</td>\n",
       "      <td>139382</td>\n",
       "      <td>414815</td>\n",
       "      <td>591204</td>\n",
       "    </tr>\n",
       "  </tbody>\n",
       "</table>\n",
       "<p>81 rows × 6 columns</p>\n",
       "</div>"
      ],
      "text/plain": [
       "            date-tarih      city-şehir  1_dose-1.doz  2_dose-2.doz  \\\n",
       "0  2021-06-26 22:41:31           Adana        784464        355404   \n",
       "1  2021-06-26 22:41:31        Adıyaman        170847         77955   \n",
       "2  2021-06-26 22:41:31  Afyonkarahisar        292611        138934   \n",
       "3  2021-06-26 22:41:31            Ağrı         94807         41146   \n",
       "4  2021-06-26 22:41:31         Aksaray        131889         62603   \n",
       "..                 ...             ...           ...           ...   \n",
       "76 2021-06-26 22:41:31            Uşak        169159         81055   \n",
       "77 2021-06-26 22:41:31             Van        236641         91208   \n",
       "78 2021-06-26 22:41:31          Yalova        129888         65920   \n",
       "79 2021-06-26 22:41:31          Yozgat        151825         81924   \n",
       "80 2021-06-26 22:41:31       Zonguldak        275433        139382   \n",
       "\n",
       "    total-toplam  population-nüfus  \n",
       "0        1139868           2258718  \n",
       "1         248802            632459  \n",
       "2         431545            736912  \n",
       "3         135953            535435  \n",
       "4         194492            423011  \n",
       "..           ...               ...  \n",
       "76        250214            369433  \n",
       "77        327849           1149342  \n",
       "78        195808            276050  \n",
       "79        233749            419095  \n",
       "80        414815            591204  \n",
       "\n",
       "[81 rows x 6 columns]"
      ]
     },
     "execution_count": 939,
     "metadata": {},
     "output_type": "execute_result"
    }
   ],
   "source": [
    "covid"
   ]
  },
  {
   "cell_type": "code",
   "execution_count": 940,
   "id": "dc4343af",
   "metadata": {},
   "outputs": [
    {
     "data": {
      "text/plain": [
       "date-tarih          0\n",
       "city-şehir          0\n",
       "1_dose-1.doz        0\n",
       "2_dose-2.doz        0\n",
       "total-toplam        0\n",
       "population-nüfus    0\n",
       "dtype: int64"
      ]
     },
     "execution_count": 940,
     "metadata": {},
     "output_type": "execute_result"
    }
   ],
   "source": [
    "covid.isnull().sum()"
   ]
  },
  {
   "cell_type": "code",
   "execution_count": 941,
   "id": "cb6bce26",
   "metadata": {},
   "outputs": [
    {
     "data": {
      "text/plain": [
       "(81, 6)"
      ]
     },
     "execution_count": 941,
     "metadata": {},
     "output_type": "execute_result"
    }
   ],
   "source": [
    "covid.shape"
   ]
  },
  {
   "cell_type": "code",
   "execution_count": 942,
   "id": "06147601",
   "metadata": {},
   "outputs": [],
   "source": [
    "marmara = [\"İstanbul\", \"Balıkesir\",\"Kocaeli\",\"Tekirdağ\", \"Bursa\", \"Çanakkale\",\n",
    "          \"Yalova\",\"Edirne\", \"Kırklareli\", \"Sakarya\",\"Bilecik\"]\n",
    "\n",
    "for r in marmara:\n",
    "    covid.loc[covid[\"city-şehir\"] == r, \"Bölge-Region\"] = \"Marmara\""
   ]
  },
  {
   "cell_type": "code",
   "execution_count": 943,
   "id": "526e43ed",
   "metadata": {},
   "outputs": [],
   "source": [
    "karadeniz = [\"Amasya\",  \"Rize\",\"Bartın\", \"Bayburt\", \"Bolu\", \"Tokat\", \"Çorum\", \"Gümüşhane\", \"Giresun\",\n",
    "            \"Karabük\", \"Kastamonu\", \"Artvin\",\"Ordu\", \"Zonguldak\" ,\"Samsun\", \"Sinop\", \"Trabzon\", ]\n",
    "for r in karadeniz:\n",
    "    covid.loc[covid[\"city-şehir\"] == r, \"Bölge-Region\"] = \"Karadeniz\""
   ]
  },
  {
   "cell_type": "code",
   "execution_count": 944,
   "id": "e3db1246",
   "metadata": {},
   "outputs": [],
   "source": [
    "doguAnadolu = [\"Ağrı\",\"Van\", \"Ardahan\", \"Bitlis\",\"Kars\" ,\"Bingöl\", \"Erzurum\",\"Elazığ\", \"Erzincan\", \n",
    "               \"Hakkari\", \"Igdır\", \"Malatya\", \"Muş\",\"Tunceli\", ]\n",
    "for r in doguAnadolu:\n",
    "    covid.loc[covid[\"city-şehir\"] == r, \"Bölge-Region\"] = \"Doğu Anadolu\"\n"
   ]
  },
  {
   "cell_type": "code",
   "execution_count": 945,
   "id": "54d4cc1a",
   "metadata": {},
   "outputs": [],
   "source": [
    "guneydogu_Anadolu = [\"Gaziantep\", \"Diyarbakır\", \"Şanlıurfa\", \"Batman\", \"Adıyaman\",\n",
    "                \"Siirt\", \"Mardin\", \"Kilis\", \"Şırnak\"]\n",
    "\n",
    "for r in guneydogu_Anadolu:\n",
    "    covid.loc[covid[\"city-şehir\"] == r, \"Bölge-Region\"] = \"Güneydoğu Anadolu\"\n",
    "    "
   ]
  },
  {
   "cell_type": "code",
   "execution_count": 946,
   "id": "5b14a554",
   "metadata": {},
   "outputs": [],
   "source": [
    "akdeniz = [\"Antalya\",\"Osmaniye\", \"Adana\",\"Isparta\", \"Mersin\", \"Burdur\",\"Hatay\",  \n",
    "          \"Kahramanmaraş\", ]\n",
    "for r in akdeniz:\n",
    "    covid.loc[covid[\"city-şehir\"] == r, \"Bölge-Region\"] = \"Akdeniz\""
   ]
  },
  {
   "cell_type": "code",
   "execution_count": 947,
   "id": "e7c14ae9",
   "metadata": {},
   "outputs": [],
   "source": [
    "ege = [\"İzmir\", \"Manisa\", \"Aydın\", \"Uşak\",\"Denizli\", \"Afyonkarahisar\", \"Kütahya\", \"Muğla\"]\n",
    "\n",
    "for r in ege:\n",
    "    covid.loc[covid[\"city-şehir\"] == r, \"Bölge-Region\"] = \"Ege\"\n",
    "    "
   ]
  },
  {
   "cell_type": "code",
   "execution_count": 948,
   "id": "8f703f5d",
   "metadata": {},
   "outputs": [],
   "source": [
    "icAnadolu = [\"Ankara\", \"Konya\",\"Niğde\",  \"Kayseri\",\"Nevşehir\", \"Eskişehir\",\"Çankırı\",\"Kırıkkale\", \"Sivas\",  \"Aksaray\",\n",
    "             \"Karaman\", \"Kırşehir\",  \"Yozgat\", ]\n",
    "\n",
    "for r in icAnadolu:\n",
    "    covid.loc[covid[\"city-şehir\"]==r, \"Bölge-Region\"] = \"İç Anadolu\"\n",
    "    "
   ]
  },
  {
   "cell_type": "code",
   "execution_count": 949,
   "id": "97a58d9f",
   "metadata": {},
   "outputs": [
    {
     "data": {
      "text/html": [
       "<div>\n",
       "<style scoped>\n",
       "    .dataframe tbody tr th:only-of-type {\n",
       "        vertical-align: middle;\n",
       "    }\n",
       "\n",
       "    .dataframe tbody tr th {\n",
       "        vertical-align: top;\n",
       "    }\n",
       "\n",
       "    .dataframe thead th {\n",
       "        text-align: right;\n",
       "    }\n",
       "</style>\n",
       "<table border=\"1\" class=\"dataframe\">\n",
       "  <thead>\n",
       "    <tr style=\"text-align: right;\">\n",
       "      <th></th>\n",
       "      <th>date-tarih</th>\n",
       "      <th>city-şehir</th>\n",
       "      <th>1_dose-1.doz</th>\n",
       "      <th>2_dose-2.doz</th>\n",
       "      <th>total-toplam</th>\n",
       "      <th>population-nüfus</th>\n",
       "      <th>Bölge-Region</th>\n",
       "    </tr>\n",
       "  </thead>\n",
       "  <tbody>\n",
       "    <tr>\n",
       "      <th>0</th>\n",
       "      <td>2021-06-26 22:41:31</td>\n",
       "      <td>Adana</td>\n",
       "      <td>784464</td>\n",
       "      <td>355404</td>\n",
       "      <td>1139868</td>\n",
       "      <td>2258718</td>\n",
       "      <td>Akdeniz</td>\n",
       "    </tr>\n",
       "    <tr>\n",
       "      <th>1</th>\n",
       "      <td>2021-06-26 22:41:31</td>\n",
       "      <td>Adıyaman</td>\n",
       "      <td>170847</td>\n",
       "      <td>77955</td>\n",
       "      <td>248802</td>\n",
       "      <td>632459</td>\n",
       "      <td>Güneydoğu Anadolu</td>\n",
       "    </tr>\n",
       "    <tr>\n",
       "      <th>2</th>\n",
       "      <td>2021-06-26 22:41:31</td>\n",
       "      <td>Afyonkarahisar</td>\n",
       "      <td>292611</td>\n",
       "      <td>138934</td>\n",
       "      <td>431545</td>\n",
       "      <td>736912</td>\n",
       "      <td>Ege</td>\n",
       "    </tr>\n",
       "    <tr>\n",
       "      <th>3</th>\n",
       "      <td>2021-06-26 22:41:31</td>\n",
       "      <td>Ağrı</td>\n",
       "      <td>94807</td>\n",
       "      <td>41146</td>\n",
       "      <td>135953</td>\n",
       "      <td>535435</td>\n",
       "      <td>Doğu Anadolu</td>\n",
       "    </tr>\n",
       "    <tr>\n",
       "      <th>4</th>\n",
       "      <td>2021-06-26 22:41:31</td>\n",
       "      <td>Aksaray</td>\n",
       "      <td>131889</td>\n",
       "      <td>62603</td>\n",
       "      <td>194492</td>\n",
       "      <td>423011</td>\n",
       "      <td>İç Anadolu</td>\n",
       "    </tr>\n",
       "  </tbody>\n",
       "</table>\n",
       "</div>"
      ],
      "text/plain": [
       "           date-tarih      city-şehir  1_dose-1.doz  2_dose-2.doz  \\\n",
       "0 2021-06-26 22:41:31           Adana        784464        355404   \n",
       "1 2021-06-26 22:41:31        Adıyaman        170847         77955   \n",
       "2 2021-06-26 22:41:31  Afyonkarahisar        292611        138934   \n",
       "3 2021-06-26 22:41:31            Ağrı         94807         41146   \n",
       "4 2021-06-26 22:41:31         Aksaray        131889         62603   \n",
       "\n",
       "   total-toplam  population-nüfus       Bölge-Region  \n",
       "0       1139868           2258718            Akdeniz  \n",
       "1        248802            632459  Güneydoğu Anadolu  \n",
       "2        431545            736912                Ege  \n",
       "3        135953            535435       Doğu Anadolu  \n",
       "4        194492            423011         İç Anadolu  "
      ]
     },
     "execution_count": 949,
     "metadata": {},
     "output_type": "execute_result"
    }
   ],
   "source": [
    "covid.head()"
   ]
  },
  {
   "cell_type": "code",
   "execution_count": 950,
   "id": "618a47a7",
   "metadata": {},
   "outputs": [
    {
     "data": {
      "text/plain": [
       "date-tarih          0\n",
       "city-şehir          0\n",
       "1_dose-1.doz        0\n",
       "2_dose-2.doz        0\n",
       "total-toplam        0\n",
       "population-nüfus    0\n",
       "Bölge-Region        2\n",
       "dtype: int64"
      ]
     },
     "execution_count": 950,
     "metadata": {},
     "output_type": "execute_result"
    }
   ],
   "source": [
    "covid.isnull().sum()"
   ]
  },
  {
   "cell_type": "code",
   "execution_count": 951,
   "id": "ec9f3276",
   "metadata": {},
   "outputs": [],
   "source": [
    "asilamaOrani = covid[\"Vaccination_Rate-Aşılama_Oranı\"] = covid[\"total-toplam\"] / covid[\"population-nüfus\"]"
   ]
  },
  {
   "cell_type": "code",
   "execution_count": 952,
   "id": "6b8192e5",
   "metadata": {},
   "outputs": [
    {
     "data": {
      "text/plain": [
       "0     0.504653\n",
       "1     0.393388\n",
       "2     0.585613\n",
       "3     0.253911\n",
       "4     0.459780\n",
       "        ...   \n",
       "76    0.677292\n",
       "77    0.285249\n",
       "78    0.709321\n",
       "79    0.557747\n",
       "80    0.701644\n",
       "Length: 81, dtype: float64"
      ]
     },
     "execution_count": 952,
     "metadata": {},
     "output_type": "execute_result"
    }
   ],
   "source": [
    "asilamaOrani"
   ]
  },
  {
   "cell_type": "code",
   "execution_count": 953,
   "id": "77429501",
   "metadata": {},
   "outputs": [
    {
     "data": {
      "text/html": [
       "<div>\n",
       "<style scoped>\n",
       "    .dataframe tbody tr th:only-of-type {\n",
       "        vertical-align: middle;\n",
       "    }\n",
       "\n",
       "    .dataframe tbody tr th {\n",
       "        vertical-align: top;\n",
       "    }\n",
       "\n",
       "    .dataframe thead th {\n",
       "        text-align: right;\n",
       "    }\n",
       "</style>\n",
       "<table border=\"1\" class=\"dataframe\">\n",
       "  <thead>\n",
       "    <tr style=\"text-align: right;\">\n",
       "      <th></th>\n",
       "      <th>date-tarih</th>\n",
       "      <th>city-şehir</th>\n",
       "      <th>1_dose-1.doz</th>\n",
       "      <th>2_dose-2.doz</th>\n",
       "      <th>total-toplam</th>\n",
       "      <th>population-nüfus</th>\n",
       "      <th>Bölge-Region</th>\n",
       "      <th>Vaccination_Rate-Aşılama_Oranı</th>\n",
       "    </tr>\n",
       "  </thead>\n",
       "  <tbody>\n",
       "    <tr>\n",
       "      <th>0</th>\n",
       "      <td>2021-06-26 22:41:31</td>\n",
       "      <td>Adana</td>\n",
       "      <td>784464</td>\n",
       "      <td>355404</td>\n",
       "      <td>1139868</td>\n",
       "      <td>2258718</td>\n",
       "      <td>Akdeniz</td>\n",
       "      <td>0.504653</td>\n",
       "    </tr>\n",
       "    <tr>\n",
       "      <th>1</th>\n",
       "      <td>2021-06-26 22:41:31</td>\n",
       "      <td>Adıyaman</td>\n",
       "      <td>170847</td>\n",
       "      <td>77955</td>\n",
       "      <td>248802</td>\n",
       "      <td>632459</td>\n",
       "      <td>Güneydoğu Anadolu</td>\n",
       "      <td>0.393388</td>\n",
       "    </tr>\n",
       "    <tr>\n",
       "      <th>2</th>\n",
       "      <td>2021-06-26 22:41:31</td>\n",
       "      <td>Afyonkarahisar</td>\n",
       "      <td>292611</td>\n",
       "      <td>138934</td>\n",
       "      <td>431545</td>\n",
       "      <td>736912</td>\n",
       "      <td>Ege</td>\n",
       "      <td>0.585613</td>\n",
       "    </tr>\n",
       "    <tr>\n",
       "      <th>3</th>\n",
       "      <td>2021-06-26 22:41:31</td>\n",
       "      <td>Ağrı</td>\n",
       "      <td>94807</td>\n",
       "      <td>41146</td>\n",
       "      <td>135953</td>\n",
       "      <td>535435</td>\n",
       "      <td>Doğu Anadolu</td>\n",
       "      <td>0.253911</td>\n",
       "    </tr>\n",
       "    <tr>\n",
       "      <th>4</th>\n",
       "      <td>2021-06-26 22:41:31</td>\n",
       "      <td>Aksaray</td>\n",
       "      <td>131889</td>\n",
       "      <td>62603</td>\n",
       "      <td>194492</td>\n",
       "      <td>423011</td>\n",
       "      <td>İç Anadolu</td>\n",
       "      <td>0.459780</td>\n",
       "    </tr>\n",
       "    <tr>\n",
       "      <th>...</th>\n",
       "      <td>...</td>\n",
       "      <td>...</td>\n",
       "      <td>...</td>\n",
       "      <td>...</td>\n",
       "      <td>...</td>\n",
       "      <td>...</td>\n",
       "      <td>...</td>\n",
       "      <td>...</td>\n",
       "    </tr>\n",
       "    <tr>\n",
       "      <th>76</th>\n",
       "      <td>2021-06-26 22:41:31</td>\n",
       "      <td>Uşak</td>\n",
       "      <td>169159</td>\n",
       "      <td>81055</td>\n",
       "      <td>250214</td>\n",
       "      <td>369433</td>\n",
       "      <td>Ege</td>\n",
       "      <td>0.677292</td>\n",
       "    </tr>\n",
       "    <tr>\n",
       "      <th>77</th>\n",
       "      <td>2021-06-26 22:41:31</td>\n",
       "      <td>Van</td>\n",
       "      <td>236641</td>\n",
       "      <td>91208</td>\n",
       "      <td>327849</td>\n",
       "      <td>1149342</td>\n",
       "      <td>Doğu Anadolu</td>\n",
       "      <td>0.285249</td>\n",
       "    </tr>\n",
       "    <tr>\n",
       "      <th>78</th>\n",
       "      <td>2021-06-26 22:41:31</td>\n",
       "      <td>Yalova</td>\n",
       "      <td>129888</td>\n",
       "      <td>65920</td>\n",
       "      <td>195808</td>\n",
       "      <td>276050</td>\n",
       "      <td>Marmara</td>\n",
       "      <td>0.709321</td>\n",
       "    </tr>\n",
       "    <tr>\n",
       "      <th>79</th>\n",
       "      <td>2021-06-26 22:41:31</td>\n",
       "      <td>Yozgat</td>\n",
       "      <td>151825</td>\n",
       "      <td>81924</td>\n",
       "      <td>233749</td>\n",
       "      <td>419095</td>\n",
       "      <td>İç Anadolu</td>\n",
       "      <td>0.557747</td>\n",
       "    </tr>\n",
       "    <tr>\n",
       "      <th>80</th>\n",
       "      <td>2021-06-26 22:41:31</td>\n",
       "      <td>Zonguldak</td>\n",
       "      <td>275433</td>\n",
       "      <td>139382</td>\n",
       "      <td>414815</td>\n",
       "      <td>591204</td>\n",
       "      <td>Karadeniz</td>\n",
       "      <td>0.701644</td>\n",
       "    </tr>\n",
       "  </tbody>\n",
       "</table>\n",
       "<p>81 rows × 8 columns</p>\n",
       "</div>"
      ],
      "text/plain": [
       "            date-tarih      city-şehir  1_dose-1.doz  2_dose-2.doz  \\\n",
       "0  2021-06-26 22:41:31           Adana        784464        355404   \n",
       "1  2021-06-26 22:41:31        Adıyaman        170847         77955   \n",
       "2  2021-06-26 22:41:31  Afyonkarahisar        292611        138934   \n",
       "3  2021-06-26 22:41:31            Ağrı         94807         41146   \n",
       "4  2021-06-26 22:41:31         Aksaray        131889         62603   \n",
       "..                 ...             ...           ...           ...   \n",
       "76 2021-06-26 22:41:31            Uşak        169159         81055   \n",
       "77 2021-06-26 22:41:31             Van        236641         91208   \n",
       "78 2021-06-26 22:41:31          Yalova        129888         65920   \n",
       "79 2021-06-26 22:41:31          Yozgat        151825         81924   \n",
       "80 2021-06-26 22:41:31       Zonguldak        275433        139382   \n",
       "\n",
       "    total-toplam  population-nüfus       Bölge-Region  \\\n",
       "0        1139868           2258718            Akdeniz   \n",
       "1         248802            632459  Güneydoğu Anadolu   \n",
       "2         431545            736912                Ege   \n",
       "3         135953            535435       Doğu Anadolu   \n",
       "4         194492            423011         İç Anadolu   \n",
       "..           ...               ...                ...   \n",
       "76        250214            369433                Ege   \n",
       "77        327849           1149342       Doğu Anadolu   \n",
       "78        195808            276050            Marmara   \n",
       "79        233749            419095         İç Anadolu   \n",
       "80        414815            591204          Karadeniz   \n",
       "\n",
       "    Vaccination_Rate-Aşılama_Oranı  \n",
       "0                         0.504653  \n",
       "1                         0.393388  \n",
       "2                         0.585613  \n",
       "3                         0.253911  \n",
       "4                         0.459780  \n",
       "..                             ...  \n",
       "76                        0.677292  \n",
       "77                        0.285249  \n",
       "78                        0.709321  \n",
       "79                        0.557747  \n",
       "80                        0.701644  \n",
       "\n",
       "[81 rows x 8 columns]"
      ]
     },
     "execution_count": 953,
     "metadata": {},
     "output_type": "execute_result"
    }
   ],
   "source": [
    "covid"
   ]
  },
  {
   "cell_type": "code",
   "execution_count": 954,
   "id": "2d1538aa",
   "metadata": {},
   "outputs": [
    {
     "data": {
      "text/html": [
       "<div>\n",
       "<style scoped>\n",
       "    .dataframe tbody tr th:only-of-type {\n",
       "        vertical-align: middle;\n",
       "    }\n",
       "\n",
       "    .dataframe tbody tr th {\n",
       "        vertical-align: top;\n",
       "    }\n",
       "\n",
       "    .dataframe thead th {\n",
       "        text-align: right;\n",
       "    }\n",
       "</style>\n",
       "<table border=\"1\" class=\"dataframe\">\n",
       "  <thead>\n",
       "    <tr style=\"text-align: right;\">\n",
       "      <th></th>\n",
       "      <th>date-tarih</th>\n",
       "      <th>city-şehir</th>\n",
       "      <th>1_dose-1.doz</th>\n",
       "      <th>2_dose-2.doz</th>\n",
       "      <th>total-toplam</th>\n",
       "      <th>population-nüfus</th>\n",
       "      <th>Bölge-Region</th>\n",
       "      <th>Vaccination_Rate-Aşılama_Oranı</th>\n",
       "    </tr>\n",
       "  </thead>\n",
       "  <tbody>\n",
       "    <tr>\n",
       "      <th>58</th>\n",
       "      <td>2021-06-26 22:41:31</td>\n",
       "      <td>Muğla</td>\n",
       "      <td>578641</td>\n",
       "      <td>286979</td>\n",
       "      <td>865620</td>\n",
       "      <td>1000773</td>\n",
       "      <td>Ege</td>\n",
       "      <td>0.864951</td>\n",
       "    </tr>\n",
       "    <tr>\n",
       "      <th>27</th>\n",
       "      <td>2021-06-26 22:41:31</td>\n",
       "      <td>Edirne</td>\n",
       "      <td>226150</td>\n",
       "      <td>123707</td>\n",
       "      <td>349857</td>\n",
       "      <td>407763</td>\n",
       "      <td>Marmara</td>\n",
       "      <td>0.857991</td>\n",
       "    </tr>\n",
       "    <tr>\n",
       "      <th>21</th>\n",
       "      <td>2021-06-26 22:41:31</td>\n",
       "      <td>Çanakkale</td>\n",
       "      <td>298662</td>\n",
       "      <td>161433</td>\n",
       "      <td>460095</td>\n",
       "      <td>541548</td>\n",
       "      <td>Marmara</td>\n",
       "      <td>0.849592</td>\n",
       "    </tr>\n",
       "    <tr>\n",
       "      <th>11</th>\n",
       "      <td>2021-06-26 22:41:31</td>\n",
       "      <td>Balıkesir</td>\n",
       "      <td>661424</td>\n",
       "      <td>359073</td>\n",
       "      <td>1020497</td>\n",
       "      <td>1240285</td>\n",
       "      <td>Marmara</td>\n",
       "      <td>0.822792</td>\n",
       "    </tr>\n",
       "    <tr>\n",
       "      <th>48</th>\n",
       "      <td>2021-06-26 22:41:31</td>\n",
       "      <td>Kırklareli</td>\n",
       "      <td>197631</td>\n",
       "      <td>98896</td>\n",
       "      <td>296527</td>\n",
       "      <td>361737</td>\n",
       "      <td>Marmara</td>\n",
       "      <td>0.819731</td>\n",
       "    </tr>\n",
       "    <tr>\n",
       "      <th>68</th>\n",
       "      <td>2021-06-26 22:41:31</td>\n",
       "      <td>Sinop</td>\n",
       "      <td>104450</td>\n",
       "      <td>61944</td>\n",
       "      <td>166394</td>\n",
       "      <td>216460</td>\n",
       "      <td>Karadeniz</td>\n",
       "      <td>0.768706</td>\n",
       "    </tr>\n",
       "    <tr>\n",
       "      <th>75</th>\n",
       "      <td>2021-06-26 22:41:31</td>\n",
       "      <td>Tunceli</td>\n",
       "      <td>40463</td>\n",
       "      <td>23646</td>\n",
       "      <td>64109</td>\n",
       "      <td>83443</td>\n",
       "      <td>Doğu Anadolu</td>\n",
       "      <td>0.768297</td>\n",
       "    </tr>\n",
       "    <tr>\n",
       "      <th>5</th>\n",
       "      <td>2021-06-26 22:41:31</td>\n",
       "      <td>Amasya</td>\n",
       "      <td>169285</td>\n",
       "      <td>87322</td>\n",
       "      <td>256607</td>\n",
       "      <td>335494</td>\n",
       "      <td>Karadeniz</td>\n",
       "      <td>0.764863</td>\n",
       "    </tr>\n",
       "    <tr>\n",
       "      <th>10</th>\n",
       "      <td>2021-06-26 22:41:31</td>\n",
       "      <td>Aydın</td>\n",
       "      <td>555807</td>\n",
       "      <td>293208</td>\n",
       "      <td>849015</td>\n",
       "      <td>1119084</td>\n",
       "      <td>Ege</td>\n",
       "      <td>0.758670</td>\n",
       "    </tr>\n",
       "    <tr>\n",
       "      <th>31</th>\n",
       "      <td>2021-06-26 22:41:31</td>\n",
       "      <td>Eskişehir</td>\n",
       "      <td>457620</td>\n",
       "      <td>215045</td>\n",
       "      <td>672665</td>\n",
       "      <td>888828</td>\n",
       "      <td>İç Anadolu</td>\n",
       "      <td>0.756800</td>\n",
       "    </tr>\n",
       "    <tr>\n",
       "      <th>33</th>\n",
       "      <td>2021-06-26 22:41:31</td>\n",
       "      <td>Giresun</td>\n",
       "      <td>210905</td>\n",
       "      <td>123826</td>\n",
       "      <td>334731</td>\n",
       "      <td>448721</td>\n",
       "      <td>Karadeniz</td>\n",
       "      <td>0.745967</td>\n",
       "    </tr>\n",
       "    <tr>\n",
       "      <th>12</th>\n",
       "      <td>2021-06-26 22:41:31</td>\n",
       "      <td>Bartın</td>\n",
       "      <td>96816</td>\n",
       "      <td>49086</td>\n",
       "      <td>145902</td>\n",
       "      <td>198979</td>\n",
       "      <td>Karadeniz</td>\n",
       "      <td>0.733253</td>\n",
       "    </tr>\n",
       "    <tr>\n",
       "      <th>45</th>\n",
       "      <td>2021-06-26 22:41:31</td>\n",
       "      <td>Kastamonu</td>\n",
       "      <td>175799</td>\n",
       "      <td>99604</td>\n",
       "      <td>275403</td>\n",
       "      <td>376377</td>\n",
       "      <td>Karadeniz</td>\n",
       "      <td>0.731721</td>\n",
       "    </tr>\n",
       "    <tr>\n",
       "      <th>19</th>\n",
       "      <td>2021-06-26 22:41:31</td>\n",
       "      <td>Burdur</td>\n",
       "      <td>128036</td>\n",
       "      <td>66955</td>\n",
       "      <td>194991</td>\n",
       "      <td>267092</td>\n",
       "      <td>Akdeniz</td>\n",
       "      <td>0.730052</td>\n",
       "    </tr>\n",
       "    <tr>\n",
       "      <th>9</th>\n",
       "      <td>2021-06-26 22:41:31</td>\n",
       "      <td>Artvin</td>\n",
       "      <td>80554</td>\n",
       "      <td>43132</td>\n",
       "      <td>123686</td>\n",
       "      <td>169501</td>\n",
       "      <td>Karadeniz</td>\n",
       "      <td>0.729707</td>\n",
       "    </tr>\n",
       "    <tr>\n",
       "      <th>18</th>\n",
       "      <td>2021-06-26 22:41:31</td>\n",
       "      <td>Bolu</td>\n",
       "      <td>151636</td>\n",
       "      <td>75911</td>\n",
       "      <td>227547</td>\n",
       "      <td>314802</td>\n",
       "      <td>Karadeniz</td>\n",
       "      <td>0.722826</td>\n",
       "    </tr>\n",
       "    <tr>\n",
       "      <th>15</th>\n",
       "      <td>2021-06-26 22:41:31</td>\n",
       "      <td>Bilecik</td>\n",
       "      <td>108385</td>\n",
       "      <td>49145</td>\n",
       "      <td>157530</td>\n",
       "      <td>218717</td>\n",
       "      <td>Marmara</td>\n",
       "      <td>0.720246</td>\n",
       "    </tr>\n",
       "    <tr>\n",
       "      <th>40</th>\n",
       "      <td>2021-06-26 22:41:31</td>\n",
       "      <td>İzmir</td>\n",
       "      <td>2136705</td>\n",
       "      <td>1006223</td>\n",
       "      <td>3142928</td>\n",
       "      <td>4394694</td>\n",
       "      <td>Ege</td>\n",
       "      <td>0.715164</td>\n",
       "    </tr>\n",
       "    <tr>\n",
       "      <th>38</th>\n",
       "      <td>2021-06-26 22:41:31</td>\n",
       "      <td>Isparta</td>\n",
       "      <td>205991</td>\n",
       "      <td>107865</td>\n",
       "      <td>313856</td>\n",
       "      <td>440304</td>\n",
       "      <td>Akdeniz</td>\n",
       "      <td>0.712817</td>\n",
       "    </tr>\n",
       "    <tr>\n",
       "      <th>78</th>\n",
       "      <td>2021-06-26 22:41:31</td>\n",
       "      <td>Yalova</td>\n",
       "      <td>129888</td>\n",
       "      <td>65920</td>\n",
       "      <td>195808</td>\n",
       "      <td>276050</td>\n",
       "      <td>Marmara</td>\n",
       "      <td>0.709321</td>\n",
       "    </tr>\n",
       "    <tr>\n",
       "      <th>62</th>\n",
       "      <td>2021-06-26 22:41:31</td>\n",
       "      <td>Ordu</td>\n",
       "      <td>352377</td>\n",
       "      <td>187138</td>\n",
       "      <td>539515</td>\n",
       "      <td>761400</td>\n",
       "      <td>Karadeniz</td>\n",
       "      <td>0.708583</td>\n",
       "    </tr>\n",
       "    <tr>\n",
       "      <th>80</th>\n",
       "      <td>2021-06-26 22:41:31</td>\n",
       "      <td>Zonguldak</td>\n",
       "      <td>275433</td>\n",
       "      <td>139382</td>\n",
       "      <td>414815</td>\n",
       "      <td>591204</td>\n",
       "      <td>Karadeniz</td>\n",
       "      <td>0.701644</td>\n",
       "    </tr>\n",
       "    <tr>\n",
       "      <th>6</th>\n",
       "      <td>2021-06-26 22:41:31</td>\n",
       "      <td>Ankara</td>\n",
       "      <td>2652085</td>\n",
       "      <td>1241906</td>\n",
       "      <td>3893991</td>\n",
       "      <td>5663322</td>\n",
       "      <td>İç Anadolu</td>\n",
       "      <td>0.687581</td>\n",
       "    </tr>\n",
       "    <tr>\n",
       "      <th>23</th>\n",
       "      <td>2021-06-26 22:41:31</td>\n",
       "      <td>Çorum</td>\n",
       "      <td>238440</td>\n",
       "      <td>121891</td>\n",
       "      <td>360331</td>\n",
       "      <td>530126</td>\n",
       "      <td>Karadeniz</td>\n",
       "      <td>0.679708</td>\n",
       "    </tr>\n",
       "    <tr>\n",
       "      <th>42</th>\n",
       "      <td>2021-06-26 22:41:31</td>\n",
       "      <td>Karabük</td>\n",
       "      <td>107924</td>\n",
       "      <td>57241</td>\n",
       "      <td>165165</td>\n",
       "      <td>243614</td>\n",
       "      <td>Karadeniz</td>\n",
       "      <td>0.677978</td>\n",
       "    </tr>\n",
       "    <tr>\n",
       "      <th>76</th>\n",
       "      <td>2021-06-26 22:41:31</td>\n",
       "      <td>Uşak</td>\n",
       "      <td>169159</td>\n",
       "      <td>81055</td>\n",
       "      <td>250214</td>\n",
       "      <td>369433</td>\n",
       "      <td>Ege</td>\n",
       "      <td>0.677292</td>\n",
       "    </tr>\n",
       "    <tr>\n",
       "      <th>49</th>\n",
       "      <td>2021-06-26 22:41:31</td>\n",
       "      <td>Kırşehir</td>\n",
       "      <td>106990</td>\n",
       "      <td>54748</td>\n",
       "      <td>161738</td>\n",
       "      <td>243042</td>\n",
       "      <td>İç Anadolu</td>\n",
       "      <td>0.665473</td>\n",
       "    </tr>\n",
       "    <tr>\n",
       "      <th>22</th>\n",
       "      <td>2021-06-26 22:41:31</td>\n",
       "      <td>Çankırı</td>\n",
       "      <td>81521</td>\n",
       "      <td>45799</td>\n",
       "      <td>127320</td>\n",
       "      <td>192428</td>\n",
       "      <td>İç Anadolu</td>\n",
       "      <td>0.661650</td>\n",
       "    </tr>\n",
       "    <tr>\n",
       "      <th>24</th>\n",
       "      <td>2021-06-26 22:41:31</td>\n",
       "      <td>Denizli</td>\n",
       "      <td>475605</td>\n",
       "      <td>212478</td>\n",
       "      <td>688083</td>\n",
       "      <td>1040915</td>\n",
       "      <td>Ege</td>\n",
       "      <td>0.661037</td>\n",
       "    </tr>\n",
       "    <tr>\n",
       "      <th>53</th>\n",
       "      <td>2021-06-26 22:41:31</td>\n",
       "      <td>Kütahya</td>\n",
       "      <td>254612</td>\n",
       "      <td>125308</td>\n",
       "      <td>379920</td>\n",
       "      <td>576688</td>\n",
       "      <td>Ege</td>\n",
       "      <td>0.658796</td>\n",
       "    </tr>\n",
       "    <tr>\n",
       "      <th>74</th>\n",
       "      <td>2021-06-26 22:41:31</td>\n",
       "      <td>Trabzon</td>\n",
       "      <td>341832</td>\n",
       "      <td>186529</td>\n",
       "      <td>528361</td>\n",
       "      <td>811901</td>\n",
       "      <td>Karadeniz</td>\n",
       "      <td>0.650770</td>\n",
       "    </tr>\n",
       "    <tr>\n",
       "      <th>64</th>\n",
       "      <td>2021-06-26 22:41:31</td>\n",
       "      <td>Rize</td>\n",
       "      <td>145810</td>\n",
       "      <td>78152</td>\n",
       "      <td>223962</td>\n",
       "      <td>344359</td>\n",
       "      <td>Karadeniz</td>\n",
       "      <td>0.650374</td>\n",
       "    </tr>\n",
       "    <tr>\n",
       "      <th>73</th>\n",
       "      <td>2021-06-26 22:41:31</td>\n",
       "      <td>Tokat</td>\n",
       "      <td>250396</td>\n",
       "      <td>137312</td>\n",
       "      <td>387708</td>\n",
       "      <td>597861</td>\n",
       "      <td>Karadeniz</td>\n",
       "      <td>0.648492</td>\n",
       "    </tr>\n",
       "    <tr>\n",
       "      <th>55</th>\n",
       "      <td>2021-06-26 22:41:31</td>\n",
       "      <td>Manisa</td>\n",
       "      <td>637609</td>\n",
       "      <td>284045</td>\n",
       "      <td>921654</td>\n",
       "      <td>1450616</td>\n",
       "      <td>Ege</td>\n",
       "      <td>0.635354</td>\n",
       "    </tr>\n",
       "    <tr>\n",
       "      <th>72</th>\n",
       "      <td>2021-06-26 22:41:31</td>\n",
       "      <td>Tekirdağ</td>\n",
       "      <td>477726</td>\n",
       "      <td>208146</td>\n",
       "      <td>685872</td>\n",
       "      <td>1081065</td>\n",
       "      <td>Marmara</td>\n",
       "      <td>0.634441</td>\n",
       "    </tr>\n",
       "    <tr>\n",
       "      <th>66</th>\n",
       "      <td>2021-06-26 22:41:31</td>\n",
       "      <td>Samsun</td>\n",
       "      <td>562448</td>\n",
       "      <td>292951</td>\n",
       "      <td>855399</td>\n",
       "      <td>1356079</td>\n",
       "      <td>Karadeniz</td>\n",
       "      <td>0.630788</td>\n",
       "    </tr>\n",
       "    <tr>\n",
       "      <th>47</th>\n",
       "      <td>2021-06-26 22:41:31</td>\n",
       "      <td>Kırıkkale</td>\n",
       "      <td>114702</td>\n",
       "      <td>60949</td>\n",
       "      <td>175651</td>\n",
       "      <td>278703</td>\n",
       "      <td>İç Anadolu</td>\n",
       "      <td>0.630244</td>\n",
       "    </tr>\n",
       "    <tr>\n",
       "      <th>7</th>\n",
       "      <td>2021-06-26 22:41:31</td>\n",
       "      <td>Antalya</td>\n",
       "      <td>1055350</td>\n",
       "      <td>530415</td>\n",
       "      <td>1585765</td>\n",
       "      <td>2548308</td>\n",
       "      <td>Akdeniz</td>\n",
       "      <td>0.622282</td>\n",
       "    </tr>\n",
       "    <tr>\n",
       "      <th>29</th>\n",
       "      <td>2021-06-26 22:41:31</td>\n",
       "      <td>Erzincan</td>\n",
       "      <td>91827</td>\n",
       "      <td>48554</td>\n",
       "      <td>140381</td>\n",
       "      <td>234431</td>\n",
       "      <td>Doğu Anadolu</td>\n",
       "      <td>0.598816</td>\n",
       "    </tr>\n",
       "    <tr>\n",
       "      <th>60</th>\n",
       "      <td>2021-06-26 22:41:31</td>\n",
       "      <td>Nevşehir</td>\n",
       "      <td>122431</td>\n",
       "      <td>59594</td>\n",
       "      <td>182025</td>\n",
       "      <td>304962</td>\n",
       "      <td>İç Anadolu</td>\n",
       "      <td>0.596878</td>\n",
       "    </tr>\n",
       "  </tbody>\n",
       "</table>\n",
       "</div>"
      ],
      "text/plain": [
       "            date-tarih  city-şehir  1_dose-1.doz  2_dose-2.doz  total-toplam  \\\n",
       "58 2021-06-26 22:41:31       Muğla        578641        286979        865620   \n",
       "27 2021-06-26 22:41:31      Edirne        226150        123707        349857   \n",
       "21 2021-06-26 22:41:31   Çanakkale        298662        161433        460095   \n",
       "11 2021-06-26 22:41:31   Balıkesir        661424        359073       1020497   \n",
       "48 2021-06-26 22:41:31  Kırklareli        197631         98896        296527   \n",
       "68 2021-06-26 22:41:31       Sinop        104450         61944        166394   \n",
       "75 2021-06-26 22:41:31     Tunceli         40463         23646         64109   \n",
       "5  2021-06-26 22:41:31      Amasya        169285         87322        256607   \n",
       "10 2021-06-26 22:41:31       Aydın        555807        293208        849015   \n",
       "31 2021-06-26 22:41:31   Eskişehir        457620        215045        672665   \n",
       "33 2021-06-26 22:41:31     Giresun        210905        123826        334731   \n",
       "12 2021-06-26 22:41:31      Bartın         96816         49086        145902   \n",
       "45 2021-06-26 22:41:31   Kastamonu        175799         99604        275403   \n",
       "19 2021-06-26 22:41:31      Burdur        128036         66955        194991   \n",
       "9  2021-06-26 22:41:31      Artvin         80554         43132        123686   \n",
       "18 2021-06-26 22:41:31        Bolu        151636         75911        227547   \n",
       "15 2021-06-26 22:41:31     Bilecik        108385         49145        157530   \n",
       "40 2021-06-26 22:41:31       İzmir       2136705       1006223       3142928   \n",
       "38 2021-06-26 22:41:31     Isparta        205991        107865        313856   \n",
       "78 2021-06-26 22:41:31      Yalova        129888         65920        195808   \n",
       "62 2021-06-26 22:41:31        Ordu        352377        187138        539515   \n",
       "80 2021-06-26 22:41:31   Zonguldak        275433        139382        414815   \n",
       "6  2021-06-26 22:41:31      Ankara       2652085       1241906       3893991   \n",
       "23 2021-06-26 22:41:31       Çorum        238440        121891        360331   \n",
       "42 2021-06-26 22:41:31     Karabük        107924         57241        165165   \n",
       "76 2021-06-26 22:41:31        Uşak        169159         81055        250214   \n",
       "49 2021-06-26 22:41:31    Kırşehir        106990         54748        161738   \n",
       "22 2021-06-26 22:41:31     Çankırı         81521         45799        127320   \n",
       "24 2021-06-26 22:41:31     Denizli        475605        212478        688083   \n",
       "53 2021-06-26 22:41:31     Kütahya        254612        125308        379920   \n",
       "74 2021-06-26 22:41:31     Trabzon        341832        186529        528361   \n",
       "64 2021-06-26 22:41:31        Rize        145810         78152        223962   \n",
       "73 2021-06-26 22:41:31       Tokat        250396        137312        387708   \n",
       "55 2021-06-26 22:41:31      Manisa        637609        284045        921654   \n",
       "72 2021-06-26 22:41:31    Tekirdağ        477726        208146        685872   \n",
       "66 2021-06-26 22:41:31      Samsun        562448        292951        855399   \n",
       "47 2021-06-26 22:41:31   Kırıkkale        114702         60949        175651   \n",
       "7  2021-06-26 22:41:31     Antalya       1055350        530415       1585765   \n",
       "29 2021-06-26 22:41:31    Erzincan         91827         48554        140381   \n",
       "60 2021-06-26 22:41:31    Nevşehir        122431         59594        182025   \n",
       "\n",
       "    population-nüfus  Bölge-Region  Vaccination_Rate-Aşılama_Oranı  \n",
       "58           1000773           Ege                        0.864951  \n",
       "27            407763       Marmara                        0.857991  \n",
       "21            541548       Marmara                        0.849592  \n",
       "11           1240285       Marmara                        0.822792  \n",
       "48            361737       Marmara                        0.819731  \n",
       "68            216460     Karadeniz                        0.768706  \n",
       "75             83443  Doğu Anadolu                        0.768297  \n",
       "5             335494     Karadeniz                        0.764863  \n",
       "10           1119084           Ege                        0.758670  \n",
       "31            888828    İç Anadolu                        0.756800  \n",
       "33            448721     Karadeniz                        0.745967  \n",
       "12            198979     Karadeniz                        0.733253  \n",
       "45            376377     Karadeniz                        0.731721  \n",
       "19            267092       Akdeniz                        0.730052  \n",
       "9             169501     Karadeniz                        0.729707  \n",
       "18            314802     Karadeniz                        0.722826  \n",
       "15            218717       Marmara                        0.720246  \n",
       "40           4394694           Ege                        0.715164  \n",
       "38            440304       Akdeniz                        0.712817  \n",
       "78            276050       Marmara                        0.709321  \n",
       "62            761400     Karadeniz                        0.708583  \n",
       "80            591204     Karadeniz                        0.701644  \n",
       "6            5663322    İç Anadolu                        0.687581  \n",
       "23            530126     Karadeniz                        0.679708  \n",
       "42            243614     Karadeniz                        0.677978  \n",
       "76            369433           Ege                        0.677292  \n",
       "49            243042    İç Anadolu                        0.665473  \n",
       "22            192428    İç Anadolu                        0.661650  \n",
       "24           1040915           Ege                        0.661037  \n",
       "53            576688           Ege                        0.658796  \n",
       "74            811901     Karadeniz                        0.650770  \n",
       "64            344359     Karadeniz                        0.650374  \n",
       "73            597861     Karadeniz                        0.648492  \n",
       "55           1450616           Ege                        0.635354  \n",
       "72           1081065       Marmara                        0.634441  \n",
       "66           1356079     Karadeniz                        0.630788  \n",
       "47            278703    İç Anadolu                        0.630244  \n",
       "7            2548308       Akdeniz                        0.622282  \n",
       "29            234431  Doğu Anadolu                        0.598816  \n",
       "60            304962    İç Anadolu                        0.596878  "
      ]
     },
     "execution_count": 954,
     "metadata": {},
     "output_type": "execute_result"
    }
   ],
   "source": [
    "covid.sort_values(\"Vaccination_Rate-Aşılama_Oranı\",  ascending = False). head(40)\n",
    "                                                                            \n",
    "                                                                             \n",
    "                                                                             "
   ]
  },
  {
   "cell_type": "code",
   "execution_count": 955,
   "id": "47e9f3f9",
   "metadata": {},
   "outputs": [
    {
     "data": {
      "text/html": [
       "<div>\n",
       "<style scoped>\n",
       "    .dataframe tbody tr th:only-of-type {\n",
       "        vertical-align: middle;\n",
       "    }\n",
       "\n",
       "    .dataframe tbody tr th {\n",
       "        vertical-align: top;\n",
       "    }\n",
       "\n",
       "    .dataframe thead th {\n",
       "        text-align: right;\n",
       "    }\n",
       "</style>\n",
       "<table border=\"1\" class=\"dataframe\">\n",
       "  <thead>\n",
       "    <tr style=\"text-align: right;\">\n",
       "      <th></th>\n",
       "      <th>date-tarih</th>\n",
       "      <th>city-şehir</th>\n",
       "      <th>1_dose-1.doz</th>\n",
       "      <th>2_dose-2.doz</th>\n",
       "      <th>total-toplam</th>\n",
       "      <th>population-nüfus</th>\n",
       "      <th>Bölge-Region</th>\n",
       "      <th>Vaccination_Rate-Aşılama_Oranı</th>\n",
       "    </tr>\n",
       "  </thead>\n",
       "  <tbody>\n",
       "    <tr>\n",
       "      <th>70</th>\n",
       "      <td>2021-06-26 22:41:31</td>\n",
       "      <td>Şanlıurfa</td>\n",
       "      <td>266534</td>\n",
       "      <td>109394</td>\n",
       "      <td>375928</td>\n",
       "      <td>2115256</td>\n",
       "      <td>Güneydoğu Anadolu</td>\n",
       "      <td>0.177722</td>\n",
       "    </tr>\n",
       "    <tr>\n",
       "      <th>71</th>\n",
       "      <td>2021-06-26 22:41:31</td>\n",
       "      <td>Şırnak</td>\n",
       "      <td>70624</td>\n",
       "      <td>25473</td>\n",
       "      <td>96097</td>\n",
       "      <td>537762</td>\n",
       "      <td>Güneydoğu Anadolu</td>\n",
       "      <td>0.178698</td>\n",
       "    </tr>\n",
       "    <tr>\n",
       "      <th>67</th>\n",
       "      <td>2021-06-26 22:41:31</td>\n",
       "      <td>Siirt</td>\n",
       "      <td>45367</td>\n",
       "      <td>19836</td>\n",
       "      <td>65203</td>\n",
       "      <td>331070</td>\n",
       "      <td>Güneydoğu Anadolu</td>\n",
       "      <td>0.196946</td>\n",
       "    </tr>\n",
       "    <tr>\n",
       "      <th>56</th>\n",
       "      <td>2021-06-26 22:41:31</td>\n",
       "      <td>Mardin</td>\n",
       "      <td>124235</td>\n",
       "      <td>53374</td>\n",
       "      <td>177609</td>\n",
       "      <td>854716</td>\n",
       "      <td>Güneydoğu Anadolu</td>\n",
       "      <td>0.207799</td>\n",
       "    </tr>\n",
       "    <tr>\n",
       "      <th>17</th>\n",
       "      <td>2021-06-26 22:41:31</td>\n",
       "      <td>Bitlis</td>\n",
       "      <td>51093</td>\n",
       "      <td>23726</td>\n",
       "      <td>74819</td>\n",
       "      <td>350994</td>\n",
       "      <td>Doğu Anadolu</td>\n",
       "      <td>0.213163</td>\n",
       "    </tr>\n",
       "    <tr>\n",
       "      <th>35</th>\n",
       "      <td>2021-06-26 22:41:31</td>\n",
       "      <td>Hakkari</td>\n",
       "      <td>47078</td>\n",
       "      <td>14102</td>\n",
       "      <td>61180</td>\n",
       "      <td>280514</td>\n",
       "      <td>Doğu Anadolu</td>\n",
       "      <td>0.218100</td>\n",
       "    </tr>\n",
       "    <tr>\n",
       "      <th>59</th>\n",
       "      <td>2021-06-26 22:41:31</td>\n",
       "      <td>Muş</td>\n",
       "      <td>62187</td>\n",
       "      <td>29056</td>\n",
       "      <td>91243</td>\n",
       "      <td>411117</td>\n",
       "      <td>Doğu Anadolu</td>\n",
       "      <td>0.221939</td>\n",
       "    </tr>\n",
       "    <tr>\n",
       "      <th>25</th>\n",
       "      <td>2021-06-26 22:41:31</td>\n",
       "      <td>Diyarbakır</td>\n",
       "      <td>307868</td>\n",
       "      <td>134167</td>\n",
       "      <td>442035</td>\n",
       "      <td>1783431</td>\n",
       "      <td>Güneydoğu Anadolu</td>\n",
       "      <td>0.247857</td>\n",
       "    </tr>\n",
       "    <tr>\n",
       "      <th>3</th>\n",
       "      <td>2021-06-26 22:41:31</td>\n",
       "      <td>Ağrı</td>\n",
       "      <td>94807</td>\n",
       "      <td>41146</td>\n",
       "      <td>135953</td>\n",
       "      <td>535435</td>\n",
       "      <td>Doğu Anadolu</td>\n",
       "      <td>0.253911</td>\n",
       "    </tr>\n",
       "    <tr>\n",
       "      <th>13</th>\n",
       "      <td>2021-06-26 22:41:31</td>\n",
       "      <td>Batman</td>\n",
       "      <td>108989</td>\n",
       "      <td>48556</td>\n",
       "      <td>157545</td>\n",
       "      <td>620278</td>\n",
       "      <td>Güneydoğu Anadolu</td>\n",
       "      <td>0.253991</td>\n",
       "    </tr>\n",
       "    <tr>\n",
       "      <th>77</th>\n",
       "      <td>2021-06-26 22:41:31</td>\n",
       "      <td>Van</td>\n",
       "      <td>236641</td>\n",
       "      <td>91208</td>\n",
       "      <td>327849</td>\n",
       "      <td>1149342</td>\n",
       "      <td>Doğu Anadolu</td>\n",
       "      <td>0.285249</td>\n",
       "    </tr>\n",
       "    <tr>\n",
       "      <th>16</th>\n",
       "      <td>2021-06-26 22:41:31</td>\n",
       "      <td>Bingöl</td>\n",
       "      <td>57366</td>\n",
       "      <td>30771</td>\n",
       "      <td>88137</td>\n",
       "      <td>281768</td>\n",
       "      <td>Doğu Anadolu</td>\n",
       "      <td>0.312800</td>\n",
       "    </tr>\n",
       "    <tr>\n",
       "      <th>37</th>\n",
       "      <td>2021-06-26 22:41:31</td>\n",
       "      <td>Iğdır</td>\n",
       "      <td>43627</td>\n",
       "      <td>21324</td>\n",
       "      <td>64951</td>\n",
       "      <td>201314</td>\n",
       "      <td>NaN</td>\n",
       "      <td>0.322635</td>\n",
       "    </tr>\n",
       "    <tr>\n",
       "      <th>32</th>\n",
       "      <td>2021-06-26 22:41:31</td>\n",
       "      <td>Gaziantep</td>\n",
       "      <td>570536</td>\n",
       "      <td>207651</td>\n",
       "      <td>778187</td>\n",
       "      <td>2101157</td>\n",
       "      <td>Güneydoğu Anadolu</td>\n",
       "      <td>0.370361</td>\n",
       "    </tr>\n",
       "    <tr>\n",
       "      <th>1</th>\n",
       "      <td>2021-06-26 22:41:31</td>\n",
       "      <td>Adıyaman</td>\n",
       "      <td>170847</td>\n",
       "      <td>77955</td>\n",
       "      <td>248802</td>\n",
       "      <td>632459</td>\n",
       "      <td>Güneydoğu Anadolu</td>\n",
       "      <td>0.393388</td>\n",
       "    </tr>\n",
       "    <tr>\n",
       "      <th>41</th>\n",
       "      <td>2021-06-26 22:41:31</td>\n",
       "      <td>Kahramanmaraş</td>\n",
       "      <td>336185</td>\n",
       "      <td>149207</td>\n",
       "      <td>485392</td>\n",
       "      <td>1168163</td>\n",
       "      <td>Akdeniz</td>\n",
       "      <td>0.415517</td>\n",
       "    </tr>\n",
       "    <tr>\n",
       "      <th>30</th>\n",
       "      <td>2021-06-26 22:41:31</td>\n",
       "      <td>Erzurum</td>\n",
       "      <td>212225</td>\n",
       "      <td>106493</td>\n",
       "      <td>318718</td>\n",
       "      <td>758279</td>\n",
       "      <td>Doğu Anadolu</td>\n",
       "      <td>0.420318</td>\n",
       "    </tr>\n",
       "    <tr>\n",
       "      <th>44</th>\n",
       "      <td>2021-06-26 22:41:31</td>\n",
       "      <td>Kars</td>\n",
       "      <td>81829</td>\n",
       "      <td>37951</td>\n",
       "      <td>119780</td>\n",
       "      <td>284923</td>\n",
       "      <td>Doğu Anadolu</td>\n",
       "      <td>0.420394</td>\n",
       "    </tr>\n",
       "    <tr>\n",
       "      <th>50</th>\n",
       "      <td>2021-06-26 22:41:31</td>\n",
       "      <td>Kilis</td>\n",
       "      <td>43872</td>\n",
       "      <td>18348</td>\n",
       "      <td>62220</td>\n",
       "      <td>142792</td>\n",
       "      <td>Güneydoğu Anadolu</td>\n",
       "      <td>0.435739</td>\n",
       "    </tr>\n",
       "    <tr>\n",
       "      <th>36</th>\n",
       "      <td>2021-06-26 22:41:31</td>\n",
       "      <td>Hatay</td>\n",
       "      <td>512074</td>\n",
       "      <td>223365</td>\n",
       "      <td>735439</td>\n",
       "      <td>1659320</td>\n",
       "      <td>Akdeniz</td>\n",
       "      <td>0.443217</td>\n",
       "    </tr>\n",
       "    <tr>\n",
       "      <th>14</th>\n",
       "      <td>2021-06-26 22:41:31</td>\n",
       "      <td>Bayburt</td>\n",
       "      <td>24128</td>\n",
       "      <td>13155</td>\n",
       "      <td>37283</td>\n",
       "      <td>81910</td>\n",
       "      <td>Karadeniz</td>\n",
       "      <td>0.455170</td>\n",
       "    </tr>\n",
       "    <tr>\n",
       "      <th>4</th>\n",
       "      <td>2021-06-26 22:41:31</td>\n",
       "      <td>Aksaray</td>\n",
       "      <td>131889</td>\n",
       "      <td>62603</td>\n",
       "      <td>194492</td>\n",
       "      <td>423011</td>\n",
       "      <td>İç Anadolu</td>\n",
       "      <td>0.459780</td>\n",
       "    </tr>\n",
       "    <tr>\n",
       "      <th>34</th>\n",
       "      <td>2021-06-26 22:41:31</td>\n",
       "      <td>Gümüşhane</td>\n",
       "      <td>41380</td>\n",
       "      <td>24740</td>\n",
       "      <td>66120</td>\n",
       "      <td>141702</td>\n",
       "      <td>Karadeniz</td>\n",
       "      <td>0.466613</td>\n",
       "    </tr>\n",
       "    <tr>\n",
       "      <th>28</th>\n",
       "      <td>2021-06-26 22:41:31</td>\n",
       "      <td>Elazığ</td>\n",
       "      <td>191848</td>\n",
       "      <td>101103</td>\n",
       "      <td>292951</td>\n",
       "      <td>587960</td>\n",
       "      <td>Doğu Anadolu</td>\n",
       "      <td>0.498250</td>\n",
       "    </tr>\n",
       "    <tr>\n",
       "      <th>52</th>\n",
       "      <td>2021-06-26 22:41:31</td>\n",
       "      <td>Konya</td>\n",
       "      <td>757561</td>\n",
       "      <td>374716</td>\n",
       "      <td>1132277</td>\n",
       "      <td>2250020</td>\n",
       "      <td>İç Anadolu</td>\n",
       "      <td>0.503230</td>\n",
       "    </tr>\n",
       "    <tr>\n",
       "      <th>0</th>\n",
       "      <td>2021-06-26 22:41:31</td>\n",
       "      <td>Adana</td>\n",
       "      <td>784464</td>\n",
       "      <td>355404</td>\n",
       "      <td>1139868</td>\n",
       "      <td>2258718</td>\n",
       "      <td>Akdeniz</td>\n",
       "      <td>0.504653</td>\n",
       "    </tr>\n",
       "    <tr>\n",
       "      <th>61</th>\n",
       "      <td>2021-06-26 22:41:31</td>\n",
       "      <td>Niğde</td>\n",
       "      <td>123623</td>\n",
       "      <td>59908</td>\n",
       "      <td>183531</td>\n",
       "      <td>362071</td>\n",
       "      <td>İç Anadolu</td>\n",
       "      <td>0.506892</td>\n",
       "    </tr>\n",
       "    <tr>\n",
       "      <th>63</th>\n",
       "      <td>2021-06-26 22:41:31</td>\n",
       "      <td>Osmaniye</td>\n",
       "      <td>198547</td>\n",
       "      <td>95463</td>\n",
       "      <td>294010</td>\n",
       "      <td>548556</td>\n",
       "      <td>Akdeniz</td>\n",
       "      <td>0.535971</td>\n",
       "    </tr>\n",
       "    <tr>\n",
       "      <th>54</th>\n",
       "      <td>2021-06-26 22:41:31</td>\n",
       "      <td>Malatya</td>\n",
       "      <td>290096</td>\n",
       "      <td>147223</td>\n",
       "      <td>437319</td>\n",
       "      <td>806156</td>\n",
       "      <td>Doğu Anadolu</td>\n",
       "      <td>0.542474</td>\n",
       "    </tr>\n",
       "    <tr>\n",
       "      <th>46</th>\n",
       "      <td>2021-06-26 22:41:31</td>\n",
       "      <td>Kayseri</td>\n",
       "      <td>534876</td>\n",
       "      <td>250399</td>\n",
       "      <td>785275</td>\n",
       "      <td>1421455</td>\n",
       "      <td>İç Anadolu</td>\n",
       "      <td>0.552445</td>\n",
       "    </tr>\n",
       "    <tr>\n",
       "      <th>8</th>\n",
       "      <td>2021-06-26 22:41:31</td>\n",
       "      <td>Ardahan</td>\n",
       "      <td>34629</td>\n",
       "      <td>18642</td>\n",
       "      <td>53271</td>\n",
       "      <td>96161</td>\n",
       "      <td>Doğu Anadolu</td>\n",
       "      <td>0.553977</td>\n",
       "    </tr>\n",
       "    <tr>\n",
       "      <th>65</th>\n",
       "      <td>2021-06-26 22:41:31</td>\n",
       "      <td>Sakarya</td>\n",
       "      <td>395582</td>\n",
       "      <td>184942</td>\n",
       "      <td>580524</td>\n",
       "      <td>1042649</td>\n",
       "      <td>Marmara</td>\n",
       "      <td>0.556778</td>\n",
       "    </tr>\n",
       "    <tr>\n",
       "      <th>39</th>\n",
       "      <td>2021-06-26 22:41:31</td>\n",
       "      <td>İstanbul</td>\n",
       "      <td>6197550</td>\n",
       "      <td>2419591</td>\n",
       "      <td>8617141</td>\n",
       "      <td>15462452</td>\n",
       "      <td>Marmara</td>\n",
       "      <td>0.557295</td>\n",
       "    </tr>\n",
       "    <tr>\n",
       "      <th>79</th>\n",
       "      <td>2021-06-26 22:41:31</td>\n",
       "      <td>Yozgat</td>\n",
       "      <td>151825</td>\n",
       "      <td>81924</td>\n",
       "      <td>233749</td>\n",
       "      <td>419095</td>\n",
       "      <td>İç Anadolu</td>\n",
       "      <td>0.557747</td>\n",
       "    </tr>\n",
       "    <tr>\n",
       "      <th>51</th>\n",
       "      <td>2021-06-26 22:41:31</td>\n",
       "      <td>Kocaeli</td>\n",
       "      <td>793994</td>\n",
       "      <td>321371</td>\n",
       "      <td>1115365</td>\n",
       "      <td>1997258</td>\n",
       "      <td>Marmara</td>\n",
       "      <td>0.558448</td>\n",
       "    </tr>\n",
       "    <tr>\n",
       "      <th>43</th>\n",
       "      <td>2021-06-26 22:41:31</td>\n",
       "      <td>Karaman</td>\n",
       "      <td>96204</td>\n",
       "      <td>48437</td>\n",
       "      <td>144641</td>\n",
       "      <td>254919</td>\n",
       "      <td>İç Anadolu</td>\n",
       "      <td>0.567400</td>\n",
       "    </tr>\n",
       "    <tr>\n",
       "      <th>57</th>\n",
       "      <td>2021-06-26 22:41:31</td>\n",
       "      <td>Mersin</td>\n",
       "      <td>730833</td>\n",
       "      <td>349594</td>\n",
       "      <td>1080427</td>\n",
       "      <td>1868757</td>\n",
       "      <td>Akdeniz</td>\n",
       "      <td>0.578153</td>\n",
       "    </tr>\n",
       "    <tr>\n",
       "      <th>69</th>\n",
       "      <td>2021-06-26 22:41:31</td>\n",
       "      <td>Sivas</td>\n",
       "      <td>245140</td>\n",
       "      <td>126038</td>\n",
       "      <td>371178</td>\n",
       "      <td>635889</td>\n",
       "      <td>İç Anadolu</td>\n",
       "      <td>0.583715</td>\n",
       "    </tr>\n",
       "    <tr>\n",
       "      <th>2</th>\n",
       "      <td>2021-06-26 22:41:31</td>\n",
       "      <td>Afyonkarahisar</td>\n",
       "      <td>292611</td>\n",
       "      <td>138934</td>\n",
       "      <td>431545</td>\n",
       "      <td>736912</td>\n",
       "      <td>Ege</td>\n",
       "      <td>0.585613</td>\n",
       "    </tr>\n",
       "    <tr>\n",
       "      <th>26</th>\n",
       "      <td>2021-06-26 22:41:31</td>\n",
       "      <td>Düzce</td>\n",
       "      <td>158046</td>\n",
       "      <td>73865</td>\n",
       "      <td>231911</td>\n",
       "      <td>395679</td>\n",
       "      <td>NaN</td>\n",
       "      <td>0.586109</td>\n",
       "    </tr>\n",
       "  </tbody>\n",
       "</table>\n",
       "</div>"
      ],
      "text/plain": [
       "            date-tarih      city-şehir  1_dose-1.doz  2_dose-2.doz  \\\n",
       "70 2021-06-26 22:41:31       Şanlıurfa        266534        109394   \n",
       "71 2021-06-26 22:41:31          Şırnak         70624         25473   \n",
       "67 2021-06-26 22:41:31           Siirt         45367         19836   \n",
       "56 2021-06-26 22:41:31          Mardin        124235         53374   \n",
       "17 2021-06-26 22:41:31          Bitlis         51093         23726   \n",
       "35 2021-06-26 22:41:31         Hakkari         47078         14102   \n",
       "59 2021-06-26 22:41:31             Muş         62187         29056   \n",
       "25 2021-06-26 22:41:31      Diyarbakır        307868        134167   \n",
       "3  2021-06-26 22:41:31            Ağrı         94807         41146   \n",
       "13 2021-06-26 22:41:31          Batman        108989         48556   \n",
       "77 2021-06-26 22:41:31             Van        236641         91208   \n",
       "16 2021-06-26 22:41:31          Bingöl         57366         30771   \n",
       "37 2021-06-26 22:41:31           Iğdır         43627         21324   \n",
       "32 2021-06-26 22:41:31       Gaziantep        570536        207651   \n",
       "1  2021-06-26 22:41:31        Adıyaman        170847         77955   \n",
       "41 2021-06-26 22:41:31   Kahramanmaraş        336185        149207   \n",
       "30 2021-06-26 22:41:31         Erzurum        212225        106493   \n",
       "44 2021-06-26 22:41:31            Kars         81829         37951   \n",
       "50 2021-06-26 22:41:31           Kilis         43872         18348   \n",
       "36 2021-06-26 22:41:31           Hatay        512074        223365   \n",
       "14 2021-06-26 22:41:31         Bayburt         24128         13155   \n",
       "4  2021-06-26 22:41:31         Aksaray        131889         62603   \n",
       "34 2021-06-26 22:41:31       Gümüşhane         41380         24740   \n",
       "28 2021-06-26 22:41:31          Elazığ        191848        101103   \n",
       "52 2021-06-26 22:41:31           Konya        757561        374716   \n",
       "0  2021-06-26 22:41:31           Adana        784464        355404   \n",
       "61 2021-06-26 22:41:31           Niğde        123623         59908   \n",
       "63 2021-06-26 22:41:31        Osmaniye        198547         95463   \n",
       "54 2021-06-26 22:41:31         Malatya        290096        147223   \n",
       "46 2021-06-26 22:41:31         Kayseri        534876        250399   \n",
       "8  2021-06-26 22:41:31         Ardahan         34629         18642   \n",
       "65 2021-06-26 22:41:31         Sakarya        395582        184942   \n",
       "39 2021-06-26 22:41:31        İstanbul       6197550       2419591   \n",
       "79 2021-06-26 22:41:31          Yozgat        151825         81924   \n",
       "51 2021-06-26 22:41:31         Kocaeli        793994        321371   \n",
       "43 2021-06-26 22:41:31         Karaman         96204         48437   \n",
       "57 2021-06-26 22:41:31          Mersin        730833        349594   \n",
       "69 2021-06-26 22:41:31           Sivas        245140        126038   \n",
       "2  2021-06-26 22:41:31  Afyonkarahisar        292611        138934   \n",
       "26 2021-06-26 22:41:31           Düzce        158046         73865   \n",
       "\n",
       "    total-toplam  population-nüfus       Bölge-Region  \\\n",
       "70        375928           2115256  Güneydoğu Anadolu   \n",
       "71         96097            537762  Güneydoğu Anadolu   \n",
       "67         65203            331070  Güneydoğu Anadolu   \n",
       "56        177609            854716  Güneydoğu Anadolu   \n",
       "17         74819            350994       Doğu Anadolu   \n",
       "35         61180            280514       Doğu Anadolu   \n",
       "59         91243            411117       Doğu Anadolu   \n",
       "25        442035           1783431  Güneydoğu Anadolu   \n",
       "3         135953            535435       Doğu Anadolu   \n",
       "13        157545            620278  Güneydoğu Anadolu   \n",
       "77        327849           1149342       Doğu Anadolu   \n",
       "16         88137            281768       Doğu Anadolu   \n",
       "37         64951            201314                NaN   \n",
       "32        778187           2101157  Güneydoğu Anadolu   \n",
       "1         248802            632459  Güneydoğu Anadolu   \n",
       "41        485392           1168163            Akdeniz   \n",
       "30        318718            758279       Doğu Anadolu   \n",
       "44        119780            284923       Doğu Anadolu   \n",
       "50         62220            142792  Güneydoğu Anadolu   \n",
       "36        735439           1659320            Akdeniz   \n",
       "14         37283             81910          Karadeniz   \n",
       "4         194492            423011         İç Anadolu   \n",
       "34         66120            141702          Karadeniz   \n",
       "28        292951            587960       Doğu Anadolu   \n",
       "52       1132277           2250020         İç Anadolu   \n",
       "0        1139868           2258718            Akdeniz   \n",
       "61        183531            362071         İç Anadolu   \n",
       "63        294010            548556            Akdeniz   \n",
       "54        437319            806156       Doğu Anadolu   \n",
       "46        785275           1421455         İç Anadolu   \n",
       "8          53271             96161       Doğu Anadolu   \n",
       "65        580524           1042649            Marmara   \n",
       "39       8617141          15462452            Marmara   \n",
       "79        233749            419095         İç Anadolu   \n",
       "51       1115365           1997258            Marmara   \n",
       "43        144641            254919         İç Anadolu   \n",
       "57       1080427           1868757            Akdeniz   \n",
       "69        371178            635889         İç Anadolu   \n",
       "2         431545            736912                Ege   \n",
       "26        231911            395679                NaN   \n",
       "\n",
       "    Vaccination_Rate-Aşılama_Oranı  \n",
       "70                        0.177722  \n",
       "71                        0.178698  \n",
       "67                        0.196946  \n",
       "56                        0.207799  \n",
       "17                        0.213163  \n",
       "35                        0.218100  \n",
       "59                        0.221939  \n",
       "25                        0.247857  \n",
       "3                         0.253911  \n",
       "13                        0.253991  \n",
       "77                        0.285249  \n",
       "16                        0.312800  \n",
       "37                        0.322635  \n",
       "32                        0.370361  \n",
       "1                         0.393388  \n",
       "41                        0.415517  \n",
       "30                        0.420318  \n",
       "44                        0.420394  \n",
       "50                        0.435739  \n",
       "36                        0.443217  \n",
       "14                        0.455170  \n",
       "4                         0.459780  \n",
       "34                        0.466613  \n",
       "28                        0.498250  \n",
       "52                        0.503230  \n",
       "0                         0.504653  \n",
       "61                        0.506892  \n",
       "63                        0.535971  \n",
       "54                        0.542474  \n",
       "46                        0.552445  \n",
       "8                         0.553977  \n",
       "65                        0.556778  \n",
       "39                        0.557295  \n",
       "79                        0.557747  \n",
       "51                        0.558448  \n",
       "43                        0.567400  \n",
       "57                        0.578153  \n",
       "69                        0.583715  \n",
       "2                         0.585613  \n",
       "26                        0.586109  "
      ]
     },
     "execution_count": 955,
     "metadata": {},
     "output_type": "execute_result"
    }
   ],
   "source": [
    "covid.sort_values(\"Vaccination_Rate-Aşılama_Oranı\",  ascending = True). head(40)"
   ]
  },
  {
   "cell_type": "code",
   "execution_count": 956,
   "id": "2a6cd2b1",
   "metadata": {},
   "outputs": [],
   "source": [
    "bolgelerim = covid.groupby(\"Bölge-Region\")"
   ]
  },
  {
   "cell_type": "code",
   "execution_count": 957,
   "id": "5ff3e01b",
   "metadata": {},
   "outputs": [],
   "source": [
    "bolgelerimOrtalama = bolgelerim.mean()"
   ]
  },
  {
   "cell_type": "code",
   "execution_count": 958,
   "id": "2ccfda62",
   "metadata": {},
   "outputs": [],
   "source": [
    "asilama = covid.groupby(\"Vaccination_Rate-Aşılama_Oranı\")"
   ]
  },
  {
   "cell_type": "code",
   "execution_count": 959,
   "id": "13be2ef5",
   "metadata": {},
   "outputs": [],
   "source": [
    "asilamaOrtalama = asilama.mean()"
   ]
  },
  {
   "cell_type": "code",
   "execution_count": 960,
   "id": "fa181146",
   "metadata": {},
   "outputs": [],
   "source": [
    "c = covid.corr()"
   ]
  },
  {
   "cell_type": "code",
   "execution_count": 961,
   "id": "7bd3035a",
   "metadata": {},
   "outputs": [
    {
     "data": {
      "text/html": [
       "<div>\n",
       "<style scoped>\n",
       "    .dataframe tbody tr th:only-of-type {\n",
       "        vertical-align: middle;\n",
       "    }\n",
       "\n",
       "    .dataframe tbody tr th {\n",
       "        vertical-align: top;\n",
       "    }\n",
       "\n",
       "    .dataframe thead th {\n",
       "        text-align: right;\n",
       "    }\n",
       "</style>\n",
       "<table border=\"1\" class=\"dataframe\">\n",
       "  <thead>\n",
       "    <tr style=\"text-align: right;\">\n",
       "      <th></th>\n",
       "      <th>1_dose-1.doz</th>\n",
       "      <th>2_dose-2.doz</th>\n",
       "      <th>total-toplam</th>\n",
       "      <th>population-nüfus</th>\n",
       "      <th>Vaccination_Rate-Aşılama_Oranı</th>\n",
       "    </tr>\n",
       "  </thead>\n",
       "  <tbody>\n",
       "    <tr>\n",
       "      <th>1_dose-1.doz</th>\n",
       "      <td>1.000000</td>\n",
       "      <td>0.994893</td>\n",
       "      <td>0.999568</td>\n",
       "      <td>0.987001</td>\n",
       "      <td>0.109480</td>\n",
       "    </tr>\n",
       "    <tr>\n",
       "      <th>2_dose-2.doz</th>\n",
       "      <td>0.994893</td>\n",
       "      <td>1.000000</td>\n",
       "      <td>0.997430</td>\n",
       "      <td>0.972741</td>\n",
       "      <td>0.148566</td>\n",
       "    </tr>\n",
       "    <tr>\n",
       "      <th>total-toplam</th>\n",
       "      <td>0.999568</td>\n",
       "      <td>0.997430</td>\n",
       "      <td>1.000000</td>\n",
       "      <td>0.983889</td>\n",
       "      <td>0.120981</td>\n",
       "    </tr>\n",
       "    <tr>\n",
       "      <th>population-nüfus</th>\n",
       "      <td>0.987001</td>\n",
       "      <td>0.972741</td>\n",
       "      <td>0.983889</td>\n",
       "      <td>1.000000</td>\n",
       "      <td>-0.006926</td>\n",
       "    </tr>\n",
       "    <tr>\n",
       "      <th>Vaccination_Rate-Aşılama_Oranı</th>\n",
       "      <td>0.109480</td>\n",
       "      <td>0.148566</td>\n",
       "      <td>0.120981</td>\n",
       "      <td>-0.006926</td>\n",
       "      <td>1.000000</td>\n",
       "    </tr>\n",
       "  </tbody>\n",
       "</table>\n",
       "</div>"
      ],
      "text/plain": [
       "                                1_dose-1.doz  2_dose-2.doz  total-toplam  \\\n",
       "1_dose-1.doz                        1.000000      0.994893      0.999568   \n",
       "2_dose-2.doz                        0.994893      1.000000      0.997430   \n",
       "total-toplam                        0.999568      0.997430      1.000000   \n",
       "population-nüfus                    0.987001      0.972741      0.983889   \n",
       "Vaccination_Rate-Aşılama_Oranı      0.109480      0.148566      0.120981   \n",
       "\n",
       "                                population-nüfus  \\\n",
       "1_dose-1.doz                            0.987001   \n",
       "2_dose-2.doz                            0.972741   \n",
       "total-toplam                            0.983889   \n",
       "population-nüfus                        1.000000   \n",
       "Vaccination_Rate-Aşılama_Oranı         -0.006926   \n",
       "\n",
       "                                Vaccination_Rate-Aşılama_Oranı  \n",
       "1_dose-1.doz                                          0.109480  \n",
       "2_dose-2.doz                                          0.148566  \n",
       "total-toplam                                          0.120981  \n",
       "population-nüfus                                     -0.006926  \n",
       "Vaccination_Rate-Aşılama_Oranı                        1.000000  "
      ]
     },
     "execution_count": 961,
     "metadata": {},
     "output_type": "execute_result"
    }
   ],
   "source": [
    "c"
   ]
  },
  {
   "cell_type": "code",
   "execution_count": 962,
   "id": "cb9c43e0",
   "metadata": {},
   "outputs": [
    {
     "data": {
      "text/html": [
       "<div>\n",
       "<style scoped>\n",
       "    .dataframe tbody tr th:only-of-type {\n",
       "        vertical-align: middle;\n",
       "    }\n",
       "\n",
       "    .dataframe tbody tr th {\n",
       "        vertical-align: top;\n",
       "    }\n",
       "\n",
       "    .dataframe thead th {\n",
       "        text-align: right;\n",
       "    }\n",
       "</style>\n",
       "<table border=\"1\" class=\"dataframe\">\n",
       "  <thead>\n",
       "    <tr style=\"text-align: right;\">\n",
       "      <th></th>\n",
       "      <th>1_dose-1.doz</th>\n",
       "      <th>2_dose-2.doz</th>\n",
       "      <th>total-toplam</th>\n",
       "      <th>population-nüfus</th>\n",
       "      <th>Vaccination_Rate-Aşılama_Oranı</th>\n",
       "    </tr>\n",
       "    <tr>\n",
       "      <th>Bölge-Region</th>\n",
       "      <th></th>\n",
       "      <th></th>\n",
       "      <th></th>\n",
       "      <th></th>\n",
       "      <th></th>\n",
       "    </tr>\n",
       "  </thead>\n",
       "  <tbody>\n",
       "    <tr>\n",
       "      <th>Akdeniz</th>\n",
       "      <td>493935.000000</td>\n",
       "      <td>234783.500000</td>\n",
       "      <td>7.287185e+05</td>\n",
       "      <td>1.344902e+06</td>\n",
       "      <td>0.567833</td>\n",
       "    </tr>\n",
       "    <tr>\n",
       "      <th>Doğu Anadolu</th>\n",
       "      <td>114776.076923</td>\n",
       "      <td>54893.923077</td>\n",
       "      <td>1.696700e+05</td>\n",
       "      <td>4.508095e+05</td>\n",
       "      <td>0.408284</td>\n",
       "    </tr>\n",
       "    <tr>\n",
       "      <th>Ege</th>\n",
       "      <td>637593.625000</td>\n",
       "      <td>303528.750000</td>\n",
       "      <td>9.411224e+05</td>\n",
       "      <td>1.336139e+06</td>\n",
       "      <td>0.694610</td>\n",
       "    </tr>\n",
       "    <tr>\n",
       "      <th>Güneydoğu Anadolu</th>\n",
       "      <td>189874.666667</td>\n",
       "      <td>77194.888889</td>\n",
       "      <td>2.670696e+05</td>\n",
       "      <td>1.013213e+06</td>\n",
       "      <td>0.273611</td>\n",
       "    </tr>\n",
       "    <tr>\n",
       "      <th>Karadeniz</th>\n",
       "      <td>195859.588235</td>\n",
       "      <td>104665.647059</td>\n",
       "      <td>3.005252e+05</td>\n",
       "      <td>4.423818e+05</td>\n",
       "      <td>0.674539</td>\n",
       "    </tr>\n",
       "    <tr>\n",
       "      <th>Marmara</th>\n",
       "      <td>978093.636364</td>\n",
       "      <td>412978.454545</td>\n",
       "      <td>1.391072e+06</td>\n",
       "      <td>2.339214e+06</td>\n",
       "      <td>0.697656</td>\n",
       "    </tr>\n",
       "    <tr>\n",
       "      <th>İç Anadolu</th>\n",
       "      <td>428959.000000</td>\n",
       "      <td>206312.769231</td>\n",
       "      <td>6.352718e+05</td>\n",
       "      <td>1.025980e+06</td>\n",
       "      <td>0.594603</td>\n",
       "    </tr>\n",
       "  </tbody>\n",
       "</table>\n",
       "</div>"
      ],
      "text/plain": [
       "                    1_dose-1.doz   2_dose-2.doz  total-toplam  \\\n",
       "Bölge-Region                                                    \n",
       "Akdeniz            493935.000000  234783.500000  7.287185e+05   \n",
       "Doğu Anadolu       114776.076923   54893.923077  1.696700e+05   \n",
       "Ege                637593.625000  303528.750000  9.411224e+05   \n",
       "Güneydoğu Anadolu  189874.666667   77194.888889  2.670696e+05   \n",
       "Karadeniz          195859.588235  104665.647059  3.005252e+05   \n",
       "Marmara            978093.636364  412978.454545  1.391072e+06   \n",
       "İç Anadolu         428959.000000  206312.769231  6.352718e+05   \n",
       "\n",
       "                   population-nüfus  Vaccination_Rate-Aşılama_Oranı  \n",
       "Bölge-Region                                                         \n",
       "Akdeniz                1.344902e+06                        0.567833  \n",
       "Doğu Anadolu           4.508095e+05                        0.408284  \n",
       "Ege                    1.336139e+06                        0.694610  \n",
       "Güneydoğu Anadolu      1.013213e+06                        0.273611  \n",
       "Karadeniz              4.423818e+05                        0.674539  \n",
       "Marmara                2.339214e+06                        0.697656  \n",
       "İç Anadolu             1.025980e+06                        0.594603  "
      ]
     },
     "execution_count": 962,
     "metadata": {},
     "output_type": "execute_result"
    }
   ],
   "source": [
    "bolgelerimOrtalama"
   ]
  },
  {
   "cell_type": "code",
   "execution_count": 963,
   "id": "a8d29c2b",
   "metadata": {},
   "outputs": [
    {
     "data": {
      "text/html": [
       "<style  type=\"text/css\" >\n",
       "#T_8ed4f_row0_col0{\n",
       "            background-color:  #fb7d5d;\n",
       "            color:  #000000;\n",
       "        }#T_8ed4f_row0_col1{\n",
       "            background-color:  #fb694a;\n",
       "            color:  #000000;\n",
       "        }#T_8ed4f_row0_col2{\n",
       "            background-color:  #fb7757;\n",
       "            color:  #000000;\n",
       "        }#T_8ed4f_row0_col3,#T_8ed4f_row2_col1{\n",
       "            background-color:  #db2824;\n",
       "            color:  #f1f1f1;\n",
       "        }#T_8ed4f_row1_col0,#T_8ed4f_row1_col1,#T_8ed4f_row1_col2,#T_8ed4f_row3_col3{\n",
       "            background-color:  #fff5f0;\n",
       "            color:  #000000;\n",
       "        }#T_8ed4f_row1_col3{\n",
       "            background-color:  #fca588;\n",
       "            color:  #000000;\n",
       "        }#T_8ed4f_row2_col0{\n",
       "            background-color:  #f14130;\n",
       "            color:  #f1f1f1;\n",
       "        }#T_8ed4f_row2_col2{\n",
       "            background-color:  #ed392b;\n",
       "            color:  #f1f1f1;\n",
       "        }#T_8ed4f_row2_col3{\n",
       "            background-color:  #69000d;\n",
       "            color:  #f1f1f1;\n",
       "        }#T_8ed4f_row3_col0{\n",
       "            background-color:  #fee7db;\n",
       "            color:  #000000;\n",
       "        }#T_8ed4f_row3_col1{\n",
       "            background-color:  #ffebe2;\n",
       "            color:  #000000;\n",
       "        }#T_8ed4f_row3_col2{\n",
       "            background-color:  #fee8dd;\n",
       "            color:  #000000;\n",
       "        }#T_8ed4f_row4_col0{\n",
       "            background-color:  #fee5d9;\n",
       "            color:  #000000;\n",
       "        }#T_8ed4f_row4_col1{\n",
       "            background-color:  #fedccd;\n",
       "            color:  #000000;\n",
       "        }#T_8ed4f_row4_col2{\n",
       "            background-color:  #fee3d7;\n",
       "            color:  #000000;\n",
       "        }#T_8ed4f_row4_col3{\n",
       "            background-color:  #800610;\n",
       "            color:  #f1f1f1;\n",
       "        }#T_8ed4f_row5_col0,#T_8ed4f_row5_col1,#T_8ed4f_row5_col2,#T_8ed4f_row5_col3{\n",
       "            background-color:  #67000d;\n",
       "            color:  #f1f1f1;\n",
       "        }#T_8ed4f_row6_col0{\n",
       "            background-color:  #fc9576;\n",
       "            color:  #000000;\n",
       "        }#T_8ed4f_row6_col1{\n",
       "            background-color:  #fc8262;\n",
       "            color:  #000000;\n",
       "        }#T_8ed4f_row6_col2{\n",
       "            background-color:  #fc9070;\n",
       "            color:  #000000;\n",
       "        }#T_8ed4f_row6_col3{\n",
       "            background-color:  #c9181d;\n",
       "            color:  #f1f1f1;\n",
       "        }</style><table id=\"T_8ed4f_\" ><thead>    <tr>        <th class=\"blank level0\" ></th>        <th class=\"col_heading level0 col0\" >1_dose-1.doz</th>        <th class=\"col_heading level0 col1\" >2_dose-2.doz</th>        <th class=\"col_heading level0 col2\" >total-toplam</th>        <th class=\"col_heading level0 col3\" >Vaccination_Rate-Aşılama_Oranı</th>    </tr>    <tr>        <th class=\"index_name level0\" >Bölge-Region</th>        <th class=\"blank\" ></th>        <th class=\"blank\" ></th>        <th class=\"blank\" ></th>        <th class=\"blank\" ></th>    </tr></thead><tbody>\n",
       "                <tr>\n",
       "                        <th id=\"T_8ed4f_level0_row0\" class=\"row_heading level0 row0\" >Akdeniz</th>\n",
       "                        <td id=\"T_8ed4f_row0_col0\" class=\"data row0 col0\" >493935.000000</td>\n",
       "                        <td id=\"T_8ed4f_row0_col1\" class=\"data row0 col1\" >234783.500000</td>\n",
       "                        <td id=\"T_8ed4f_row0_col2\" class=\"data row0 col2\" >728718.500000</td>\n",
       "                        <td id=\"T_8ed4f_row0_col3\" class=\"data row0 col3\" >0.567833</td>\n",
       "            </tr>\n",
       "            <tr>\n",
       "                        <th id=\"T_8ed4f_level0_row1\" class=\"row_heading level0 row1\" >Doğu Anadolu</th>\n",
       "                        <td id=\"T_8ed4f_row1_col0\" class=\"data row1 col0\" >114776.076923</td>\n",
       "                        <td id=\"T_8ed4f_row1_col1\" class=\"data row1 col1\" >54893.923077</td>\n",
       "                        <td id=\"T_8ed4f_row1_col2\" class=\"data row1 col2\" >169670.000000</td>\n",
       "                        <td id=\"T_8ed4f_row1_col3\" class=\"data row1 col3\" >0.408284</td>\n",
       "            </tr>\n",
       "            <tr>\n",
       "                        <th id=\"T_8ed4f_level0_row2\" class=\"row_heading level0 row2\" >Ege</th>\n",
       "                        <td id=\"T_8ed4f_row2_col0\" class=\"data row2 col0\" >637593.625000</td>\n",
       "                        <td id=\"T_8ed4f_row2_col1\" class=\"data row2 col1\" >303528.750000</td>\n",
       "                        <td id=\"T_8ed4f_row2_col2\" class=\"data row2 col2\" >941122.375000</td>\n",
       "                        <td id=\"T_8ed4f_row2_col3\" class=\"data row2 col3\" >0.694610</td>\n",
       "            </tr>\n",
       "            <tr>\n",
       "                        <th id=\"T_8ed4f_level0_row3\" class=\"row_heading level0 row3\" >Güneydoğu Anadolu</th>\n",
       "                        <td id=\"T_8ed4f_row3_col0\" class=\"data row3 col0\" >189874.666667</td>\n",
       "                        <td id=\"T_8ed4f_row3_col1\" class=\"data row3 col1\" >77194.888889</td>\n",
       "                        <td id=\"T_8ed4f_row3_col2\" class=\"data row3 col2\" >267069.555556</td>\n",
       "                        <td id=\"T_8ed4f_row3_col3\" class=\"data row3 col3\" >0.273611</td>\n",
       "            </tr>\n",
       "            <tr>\n",
       "                        <th id=\"T_8ed4f_level0_row4\" class=\"row_heading level0 row4\" >Karadeniz</th>\n",
       "                        <td id=\"T_8ed4f_row4_col0\" class=\"data row4 col0\" >195859.588235</td>\n",
       "                        <td id=\"T_8ed4f_row4_col1\" class=\"data row4 col1\" >104665.647059</td>\n",
       "                        <td id=\"T_8ed4f_row4_col2\" class=\"data row4 col2\" >300525.235294</td>\n",
       "                        <td id=\"T_8ed4f_row4_col3\" class=\"data row4 col3\" >0.674539</td>\n",
       "            </tr>\n",
       "            <tr>\n",
       "                        <th id=\"T_8ed4f_level0_row5\" class=\"row_heading level0 row5\" >Marmara</th>\n",
       "                        <td id=\"T_8ed4f_row5_col0\" class=\"data row5 col0\" >978093.636364</td>\n",
       "                        <td id=\"T_8ed4f_row5_col1\" class=\"data row5 col1\" >412978.454545</td>\n",
       "                        <td id=\"T_8ed4f_row5_col2\" class=\"data row5 col2\" >1391072.090909</td>\n",
       "                        <td id=\"T_8ed4f_row5_col3\" class=\"data row5 col3\" >0.697656</td>\n",
       "            </tr>\n",
       "            <tr>\n",
       "                        <th id=\"T_8ed4f_level0_row6\" class=\"row_heading level0 row6\" >İç Anadolu</th>\n",
       "                        <td id=\"T_8ed4f_row6_col0\" class=\"data row6 col0\" >428959.000000</td>\n",
       "                        <td id=\"T_8ed4f_row6_col1\" class=\"data row6 col1\" >206312.769231</td>\n",
       "                        <td id=\"T_8ed4f_row6_col2\" class=\"data row6 col2\" >635271.769231</td>\n",
       "                        <td id=\"T_8ed4f_row6_col3\" class=\"data row6 col3\" >0.594603</td>\n",
       "            </tr>\n",
       "    </tbody></table>"
      ],
      "text/plain": [
       "<pandas.io.formats.style.Styler at 0x241d51c0f40>"
      ]
     },
     "execution_count": 963,
     "metadata": {},
     "output_type": "execute_result"
    }
   ],
   "source": [
    "bolgelerimOrtalama.drop(\"population-nüfus\", axis=1, inplace =True)\n",
    "bolgelerimOrtalama.style.background_gradient(cmap=\"Reds\")\n"
   ]
  },
  {
   "cell_type": "code",
   "execution_count": 964,
   "id": "274040a6",
   "metadata": {},
   "outputs": [
    {
     "data": {
      "application/vnd.plotly.v1+json": {
       "config": {
        "plotlyServerURL": "https://plot.ly"
       },
       "data": [
        {
         "alignmentgroup": "True",
         "hovertemplate": "city-şehir=Adana<br>1_dose-1.doz=%{x}<br>Bölge-Region=%{y}<extra></extra>",
         "legendgroup": "Adana",
         "marker": {
          "color": "#636efa",
          "pattern": {
           "shape": ""
          }
         },
         "name": "Adana",
         "offsetgroup": "Adana",
         "orientation": "h",
         "showlegend": true,
         "textposition": "auto",
         "type": "bar",
         "x": [
          784464
         ],
         "xaxis": "x",
         "y": [
          "Akdeniz"
         ],
         "yaxis": "y"
        },
        {
         "alignmentgroup": "True",
         "hovertemplate": "city-şehir=Adıyaman<br>1_dose-1.doz=%{x}<br>Bölge-Region=%{y}<extra></extra>",
         "legendgroup": "Adıyaman",
         "marker": {
          "color": "#EF553B",
          "pattern": {
           "shape": ""
          }
         },
         "name": "Adıyaman",
         "offsetgroup": "Adıyaman",
         "orientation": "h",
         "showlegend": true,
         "textposition": "auto",
         "type": "bar",
         "x": [
          170847
         ],
         "xaxis": "x",
         "y": [
          "Güneydoğu Anadolu"
         ],
         "yaxis": "y"
        },
        {
         "alignmentgroup": "True",
         "hovertemplate": "city-şehir=Afyonkarahisar<br>1_dose-1.doz=%{x}<br>Bölge-Region=%{y}<extra></extra>",
         "legendgroup": "Afyonkarahisar",
         "marker": {
          "color": "#00cc96",
          "pattern": {
           "shape": ""
          }
         },
         "name": "Afyonkarahisar",
         "offsetgroup": "Afyonkarahisar",
         "orientation": "h",
         "showlegend": true,
         "textposition": "auto",
         "type": "bar",
         "x": [
          292611
         ],
         "xaxis": "x",
         "y": [
          "Ege"
         ],
         "yaxis": "y"
        },
        {
         "alignmentgroup": "True",
         "hovertemplate": "city-şehir=Ağrı<br>1_dose-1.doz=%{x}<br>Bölge-Region=%{y}<extra></extra>",
         "legendgroup": "Ağrı",
         "marker": {
          "color": "#ab63fa",
          "pattern": {
           "shape": ""
          }
         },
         "name": "Ağrı",
         "offsetgroup": "Ağrı",
         "orientation": "h",
         "showlegend": true,
         "textposition": "auto",
         "type": "bar",
         "x": [
          94807
         ],
         "xaxis": "x",
         "y": [
          "Doğu Anadolu"
         ],
         "yaxis": "y"
        },
        {
         "alignmentgroup": "True",
         "hovertemplate": "city-şehir=Aksaray<br>1_dose-1.doz=%{x}<br>Bölge-Region=%{y}<extra></extra>",
         "legendgroup": "Aksaray",
         "marker": {
          "color": "#FFA15A",
          "pattern": {
           "shape": ""
          }
         },
         "name": "Aksaray",
         "offsetgroup": "Aksaray",
         "orientation": "h",
         "showlegend": true,
         "textposition": "auto",
         "type": "bar",
         "x": [
          131889
         ],
         "xaxis": "x",
         "y": [
          "İç Anadolu"
         ],
         "yaxis": "y"
        },
        {
         "alignmentgroup": "True",
         "hovertemplate": "city-şehir=Amasya<br>1_dose-1.doz=%{x}<br>Bölge-Region=%{y}<extra></extra>",
         "legendgroup": "Amasya",
         "marker": {
          "color": "#19d3f3",
          "pattern": {
           "shape": ""
          }
         },
         "name": "Amasya",
         "offsetgroup": "Amasya",
         "orientation": "h",
         "showlegend": true,
         "textposition": "auto",
         "type": "bar",
         "x": [
          169285
         ],
         "xaxis": "x",
         "y": [
          "Karadeniz"
         ],
         "yaxis": "y"
        },
        {
         "alignmentgroup": "True",
         "hovertemplate": "city-şehir=Ankara<br>1_dose-1.doz=%{x}<br>Bölge-Region=%{y}<extra></extra>",
         "legendgroup": "Ankara",
         "marker": {
          "color": "#FF6692",
          "pattern": {
           "shape": ""
          }
         },
         "name": "Ankara",
         "offsetgroup": "Ankara",
         "orientation": "h",
         "showlegend": true,
         "textposition": "auto",
         "type": "bar",
         "x": [
          2652085
         ],
         "xaxis": "x",
         "y": [
          "İç Anadolu"
         ],
         "yaxis": "y"
        },
        {
         "alignmentgroup": "True",
         "hovertemplate": "city-şehir=Antalya<br>1_dose-1.doz=%{x}<br>Bölge-Region=%{y}<extra></extra>",
         "legendgroup": "Antalya",
         "marker": {
          "color": "#B6E880",
          "pattern": {
           "shape": ""
          }
         },
         "name": "Antalya",
         "offsetgroup": "Antalya",
         "orientation": "h",
         "showlegend": true,
         "textposition": "auto",
         "type": "bar",
         "x": [
          1055350
         ],
         "xaxis": "x",
         "y": [
          "Akdeniz"
         ],
         "yaxis": "y"
        },
        {
         "alignmentgroup": "True",
         "hovertemplate": "city-şehir=Ardahan<br>1_dose-1.doz=%{x}<br>Bölge-Region=%{y}<extra></extra>",
         "legendgroup": "Ardahan",
         "marker": {
          "color": "#FF97FF",
          "pattern": {
           "shape": ""
          }
         },
         "name": "Ardahan",
         "offsetgroup": "Ardahan",
         "orientation": "h",
         "showlegend": true,
         "textposition": "auto",
         "type": "bar",
         "x": [
          34629
         ],
         "xaxis": "x",
         "y": [
          "Doğu Anadolu"
         ],
         "yaxis": "y"
        },
        {
         "alignmentgroup": "True",
         "hovertemplate": "city-şehir=Artvin<br>1_dose-1.doz=%{x}<br>Bölge-Region=%{y}<extra></extra>",
         "legendgroup": "Artvin",
         "marker": {
          "color": "#FECB52",
          "pattern": {
           "shape": ""
          }
         },
         "name": "Artvin",
         "offsetgroup": "Artvin",
         "orientation": "h",
         "showlegend": true,
         "textposition": "auto",
         "type": "bar",
         "x": [
          80554
         ],
         "xaxis": "x",
         "y": [
          "Karadeniz"
         ],
         "yaxis": "y"
        },
        {
         "alignmentgroup": "True",
         "hovertemplate": "city-şehir=Aydın<br>1_dose-1.doz=%{x}<br>Bölge-Region=%{y}<extra></extra>",
         "legendgroup": "Aydın",
         "marker": {
          "color": "#636efa",
          "pattern": {
           "shape": ""
          }
         },
         "name": "Aydın",
         "offsetgroup": "Aydın",
         "orientation": "h",
         "showlegend": true,
         "textposition": "auto",
         "type": "bar",
         "x": [
          555807
         ],
         "xaxis": "x",
         "y": [
          "Ege"
         ],
         "yaxis": "y"
        },
        {
         "alignmentgroup": "True",
         "hovertemplate": "city-şehir=Balıkesir<br>1_dose-1.doz=%{x}<br>Bölge-Region=%{y}<extra></extra>",
         "legendgroup": "Balıkesir",
         "marker": {
          "color": "#EF553B",
          "pattern": {
           "shape": ""
          }
         },
         "name": "Balıkesir",
         "offsetgroup": "Balıkesir",
         "orientation": "h",
         "showlegend": true,
         "textposition": "auto",
         "type": "bar",
         "x": [
          661424
         ],
         "xaxis": "x",
         "y": [
          "Marmara"
         ],
         "yaxis": "y"
        },
        {
         "alignmentgroup": "True",
         "hovertemplate": "city-şehir=Bartın<br>1_dose-1.doz=%{x}<br>Bölge-Region=%{y}<extra></extra>",
         "legendgroup": "Bartın",
         "marker": {
          "color": "#00cc96",
          "pattern": {
           "shape": ""
          }
         },
         "name": "Bartın",
         "offsetgroup": "Bartın",
         "orientation": "h",
         "showlegend": true,
         "textposition": "auto",
         "type": "bar",
         "x": [
          96816
         ],
         "xaxis": "x",
         "y": [
          "Karadeniz"
         ],
         "yaxis": "y"
        },
        {
         "alignmentgroup": "True",
         "hovertemplate": "city-şehir=Batman<br>1_dose-1.doz=%{x}<br>Bölge-Region=%{y}<extra></extra>",
         "legendgroup": "Batman",
         "marker": {
          "color": "#ab63fa",
          "pattern": {
           "shape": ""
          }
         },
         "name": "Batman",
         "offsetgroup": "Batman",
         "orientation": "h",
         "showlegend": true,
         "textposition": "auto",
         "type": "bar",
         "x": [
          108989
         ],
         "xaxis": "x",
         "y": [
          "Güneydoğu Anadolu"
         ],
         "yaxis": "y"
        },
        {
         "alignmentgroup": "True",
         "hovertemplate": "city-şehir=Bayburt<br>1_dose-1.doz=%{x}<br>Bölge-Region=%{y}<extra></extra>",
         "legendgroup": "Bayburt",
         "marker": {
          "color": "#FFA15A",
          "pattern": {
           "shape": ""
          }
         },
         "name": "Bayburt",
         "offsetgroup": "Bayburt",
         "orientation": "h",
         "showlegend": true,
         "textposition": "auto",
         "type": "bar",
         "x": [
          24128
         ],
         "xaxis": "x",
         "y": [
          "Karadeniz"
         ],
         "yaxis": "y"
        },
        {
         "alignmentgroup": "True",
         "hovertemplate": "city-şehir=Bilecik<br>1_dose-1.doz=%{x}<br>Bölge-Region=%{y}<extra></extra>",
         "legendgroup": "Bilecik",
         "marker": {
          "color": "#19d3f3",
          "pattern": {
           "shape": ""
          }
         },
         "name": "Bilecik",
         "offsetgroup": "Bilecik",
         "orientation": "h",
         "showlegend": true,
         "textposition": "auto",
         "type": "bar",
         "x": [
          108385
         ],
         "xaxis": "x",
         "y": [
          "Marmara"
         ],
         "yaxis": "y"
        },
        {
         "alignmentgroup": "True",
         "hovertemplate": "city-şehir=Bingöl<br>1_dose-1.doz=%{x}<br>Bölge-Region=%{y}<extra></extra>",
         "legendgroup": "Bingöl",
         "marker": {
          "color": "#FF6692",
          "pattern": {
           "shape": ""
          }
         },
         "name": "Bingöl",
         "offsetgroup": "Bingöl",
         "orientation": "h",
         "showlegend": true,
         "textposition": "auto",
         "type": "bar",
         "x": [
          57366
         ],
         "xaxis": "x",
         "y": [
          "Doğu Anadolu"
         ],
         "yaxis": "y"
        },
        {
         "alignmentgroup": "True",
         "hovertemplate": "city-şehir=Bitlis<br>1_dose-1.doz=%{x}<br>Bölge-Region=%{y}<extra></extra>",
         "legendgroup": "Bitlis",
         "marker": {
          "color": "#B6E880",
          "pattern": {
           "shape": ""
          }
         },
         "name": "Bitlis",
         "offsetgroup": "Bitlis",
         "orientation": "h",
         "showlegend": true,
         "textposition": "auto",
         "type": "bar",
         "x": [
          51093
         ],
         "xaxis": "x",
         "y": [
          "Doğu Anadolu"
         ],
         "yaxis": "y"
        },
        {
         "alignmentgroup": "True",
         "hovertemplate": "city-şehir=Bolu<br>1_dose-1.doz=%{x}<br>Bölge-Region=%{y}<extra></extra>",
         "legendgroup": "Bolu",
         "marker": {
          "color": "#FF97FF",
          "pattern": {
           "shape": ""
          }
         },
         "name": "Bolu",
         "offsetgroup": "Bolu",
         "orientation": "h",
         "showlegend": true,
         "textposition": "auto",
         "type": "bar",
         "x": [
          151636
         ],
         "xaxis": "x",
         "y": [
          "Karadeniz"
         ],
         "yaxis": "y"
        },
        {
         "alignmentgroup": "True",
         "hovertemplate": "city-şehir=Burdur<br>1_dose-1.doz=%{x}<br>Bölge-Region=%{y}<extra></extra>",
         "legendgroup": "Burdur",
         "marker": {
          "color": "#FECB52",
          "pattern": {
           "shape": ""
          }
         },
         "name": "Burdur",
         "offsetgroup": "Burdur",
         "orientation": "h",
         "showlegend": true,
         "textposition": "auto",
         "type": "bar",
         "x": [
          128036
         ],
         "xaxis": "x",
         "y": [
          "Akdeniz"
         ],
         "yaxis": "y"
        },
        {
         "alignmentgroup": "True",
         "hovertemplate": "city-şehir=Bursa<br>1_dose-1.doz=%{x}<br>Bölge-Region=%{y}<extra></extra>",
         "legendgroup": "Bursa",
         "marker": {
          "color": "#636efa",
          "pattern": {
           "shape": ""
          }
         },
         "name": "Bursa",
         "offsetgroup": "Bursa",
         "orientation": "h",
         "showlegend": true,
         "textposition": "auto",
         "type": "bar",
         "x": [
          1272038
         ],
         "xaxis": "x",
         "y": [
          "Marmara"
         ],
         "yaxis": "y"
        },
        {
         "alignmentgroup": "True",
         "hovertemplate": "city-şehir=Çanakkale<br>1_dose-1.doz=%{x}<br>Bölge-Region=%{y}<extra></extra>",
         "legendgroup": "Çanakkale",
         "marker": {
          "color": "#EF553B",
          "pattern": {
           "shape": ""
          }
         },
         "name": "Çanakkale",
         "offsetgroup": "Çanakkale",
         "orientation": "h",
         "showlegend": true,
         "textposition": "auto",
         "type": "bar",
         "x": [
          298662
         ],
         "xaxis": "x",
         "y": [
          "Marmara"
         ],
         "yaxis": "y"
        },
        {
         "alignmentgroup": "True",
         "hovertemplate": "city-şehir=Çankırı<br>1_dose-1.doz=%{x}<br>Bölge-Region=%{y}<extra></extra>",
         "legendgroup": "Çankırı",
         "marker": {
          "color": "#00cc96",
          "pattern": {
           "shape": ""
          }
         },
         "name": "Çankırı",
         "offsetgroup": "Çankırı",
         "orientation": "h",
         "showlegend": true,
         "textposition": "auto",
         "type": "bar",
         "x": [
          81521
         ],
         "xaxis": "x",
         "y": [
          "İç Anadolu"
         ],
         "yaxis": "y"
        },
        {
         "alignmentgroup": "True",
         "hovertemplate": "city-şehir=Çorum<br>1_dose-1.doz=%{x}<br>Bölge-Region=%{y}<extra></extra>",
         "legendgroup": "Çorum",
         "marker": {
          "color": "#ab63fa",
          "pattern": {
           "shape": ""
          }
         },
         "name": "Çorum",
         "offsetgroup": "Çorum",
         "orientation": "h",
         "showlegend": true,
         "textposition": "auto",
         "type": "bar",
         "x": [
          238440
         ],
         "xaxis": "x",
         "y": [
          "Karadeniz"
         ],
         "yaxis": "y"
        },
        {
         "alignmentgroup": "True",
         "hovertemplate": "city-şehir=Denizli<br>1_dose-1.doz=%{x}<br>Bölge-Region=%{y}<extra></extra>",
         "legendgroup": "Denizli",
         "marker": {
          "color": "#FFA15A",
          "pattern": {
           "shape": ""
          }
         },
         "name": "Denizli",
         "offsetgroup": "Denizli",
         "orientation": "h",
         "showlegend": true,
         "textposition": "auto",
         "type": "bar",
         "x": [
          475605
         ],
         "xaxis": "x",
         "y": [
          "Ege"
         ],
         "yaxis": "y"
        },
        {
         "alignmentgroup": "True",
         "hovertemplate": "city-şehir=Diyarbakır<br>1_dose-1.doz=%{x}<br>Bölge-Region=%{y}<extra></extra>",
         "legendgroup": "Diyarbakır",
         "marker": {
          "color": "#19d3f3",
          "pattern": {
           "shape": ""
          }
         },
         "name": "Diyarbakır",
         "offsetgroup": "Diyarbakır",
         "orientation": "h",
         "showlegend": true,
         "textposition": "auto",
         "type": "bar",
         "x": [
          307868
         ],
         "xaxis": "x",
         "y": [
          "Güneydoğu Anadolu"
         ],
         "yaxis": "y"
        },
        {
         "alignmentgroup": "True",
         "hovertemplate": "city-şehir=Düzce<br>1_dose-1.doz=%{x}<br>Bölge-Region=%{y}<extra></extra>",
         "legendgroup": "Düzce",
         "marker": {
          "color": "#FF6692",
          "pattern": {
           "shape": ""
          }
         },
         "name": "Düzce",
         "offsetgroup": "Düzce",
         "orientation": "h",
         "showlegend": true,
         "textposition": "auto",
         "type": "bar",
         "x": [
          158046
         ],
         "xaxis": "x",
         "y": [
          null
         ],
         "yaxis": "y"
        },
        {
         "alignmentgroup": "True",
         "hovertemplate": "city-şehir=Edirne<br>1_dose-1.doz=%{x}<br>Bölge-Region=%{y}<extra></extra>",
         "legendgroup": "Edirne",
         "marker": {
          "color": "#B6E880",
          "pattern": {
           "shape": ""
          }
         },
         "name": "Edirne",
         "offsetgroup": "Edirne",
         "orientation": "h",
         "showlegend": true,
         "textposition": "auto",
         "type": "bar",
         "x": [
          226150
         ],
         "xaxis": "x",
         "y": [
          "Marmara"
         ],
         "yaxis": "y"
        },
        {
         "alignmentgroup": "True",
         "hovertemplate": "city-şehir=Elazığ<br>1_dose-1.doz=%{x}<br>Bölge-Region=%{y}<extra></extra>",
         "legendgroup": "Elazığ",
         "marker": {
          "color": "#FF97FF",
          "pattern": {
           "shape": ""
          }
         },
         "name": "Elazığ",
         "offsetgroup": "Elazığ",
         "orientation": "h",
         "showlegend": true,
         "textposition": "auto",
         "type": "bar",
         "x": [
          191848
         ],
         "xaxis": "x",
         "y": [
          "Doğu Anadolu"
         ],
         "yaxis": "y"
        },
        {
         "alignmentgroup": "True",
         "hovertemplate": "city-şehir=Erzincan<br>1_dose-1.doz=%{x}<br>Bölge-Region=%{y}<extra></extra>",
         "legendgroup": "Erzincan",
         "marker": {
          "color": "#FECB52",
          "pattern": {
           "shape": ""
          }
         },
         "name": "Erzincan",
         "offsetgroup": "Erzincan",
         "orientation": "h",
         "showlegend": true,
         "textposition": "auto",
         "type": "bar",
         "x": [
          91827
         ],
         "xaxis": "x",
         "y": [
          "Doğu Anadolu"
         ],
         "yaxis": "y"
        },
        {
         "alignmentgroup": "True",
         "hovertemplate": "city-şehir=Erzurum<br>1_dose-1.doz=%{x}<br>Bölge-Region=%{y}<extra></extra>",
         "legendgroup": "Erzurum",
         "marker": {
          "color": "#636efa",
          "pattern": {
           "shape": ""
          }
         },
         "name": "Erzurum",
         "offsetgroup": "Erzurum",
         "orientation": "h",
         "showlegend": true,
         "textposition": "auto",
         "type": "bar",
         "x": [
          212225
         ],
         "xaxis": "x",
         "y": [
          "Doğu Anadolu"
         ],
         "yaxis": "y"
        },
        {
         "alignmentgroup": "True",
         "hovertemplate": "city-şehir=Eskişehir<br>1_dose-1.doz=%{x}<br>Bölge-Region=%{y}<extra></extra>",
         "legendgroup": "Eskişehir",
         "marker": {
          "color": "#EF553B",
          "pattern": {
           "shape": ""
          }
         },
         "name": "Eskişehir",
         "offsetgroup": "Eskişehir",
         "orientation": "h",
         "showlegend": true,
         "textposition": "auto",
         "type": "bar",
         "x": [
          457620
         ],
         "xaxis": "x",
         "y": [
          "İç Anadolu"
         ],
         "yaxis": "y"
        },
        {
         "alignmentgroup": "True",
         "hovertemplate": "city-şehir=Gaziantep<br>1_dose-1.doz=%{x}<br>Bölge-Region=%{y}<extra></extra>",
         "legendgroup": "Gaziantep",
         "marker": {
          "color": "#00cc96",
          "pattern": {
           "shape": ""
          }
         },
         "name": "Gaziantep",
         "offsetgroup": "Gaziantep",
         "orientation": "h",
         "showlegend": true,
         "textposition": "auto",
         "type": "bar",
         "x": [
          570536
         ],
         "xaxis": "x",
         "y": [
          "Güneydoğu Anadolu"
         ],
         "yaxis": "y"
        },
        {
         "alignmentgroup": "True",
         "hovertemplate": "city-şehir=Giresun<br>1_dose-1.doz=%{x}<br>Bölge-Region=%{y}<extra></extra>",
         "legendgroup": "Giresun",
         "marker": {
          "color": "#ab63fa",
          "pattern": {
           "shape": ""
          }
         },
         "name": "Giresun",
         "offsetgroup": "Giresun",
         "orientation": "h",
         "showlegend": true,
         "textposition": "auto",
         "type": "bar",
         "x": [
          210905
         ],
         "xaxis": "x",
         "y": [
          "Karadeniz"
         ],
         "yaxis": "y"
        },
        {
         "alignmentgroup": "True",
         "hovertemplate": "city-şehir=Gümüşhane<br>1_dose-1.doz=%{x}<br>Bölge-Region=%{y}<extra></extra>",
         "legendgroup": "Gümüşhane",
         "marker": {
          "color": "#FFA15A",
          "pattern": {
           "shape": ""
          }
         },
         "name": "Gümüşhane",
         "offsetgroup": "Gümüşhane",
         "orientation": "h",
         "showlegend": true,
         "textposition": "auto",
         "type": "bar",
         "x": [
          41380
         ],
         "xaxis": "x",
         "y": [
          "Karadeniz"
         ],
         "yaxis": "y"
        },
        {
         "alignmentgroup": "True",
         "hovertemplate": "city-şehir=Hakkari<br>1_dose-1.doz=%{x}<br>Bölge-Region=%{y}<extra></extra>",
         "legendgroup": "Hakkari",
         "marker": {
          "color": "#19d3f3",
          "pattern": {
           "shape": ""
          }
         },
         "name": "Hakkari",
         "offsetgroup": "Hakkari",
         "orientation": "h",
         "showlegend": true,
         "textposition": "auto",
         "type": "bar",
         "x": [
          47078
         ],
         "xaxis": "x",
         "y": [
          "Doğu Anadolu"
         ],
         "yaxis": "y"
        },
        {
         "alignmentgroup": "True",
         "hovertemplate": "city-şehir=Hatay<br>1_dose-1.doz=%{x}<br>Bölge-Region=%{y}<extra></extra>",
         "legendgroup": "Hatay",
         "marker": {
          "color": "#FF6692",
          "pattern": {
           "shape": ""
          }
         },
         "name": "Hatay",
         "offsetgroup": "Hatay",
         "orientation": "h",
         "showlegend": true,
         "textposition": "auto",
         "type": "bar",
         "x": [
          512074
         ],
         "xaxis": "x",
         "y": [
          "Akdeniz"
         ],
         "yaxis": "y"
        },
        {
         "alignmentgroup": "True",
         "hovertemplate": "city-şehir=Iğdır<br>1_dose-1.doz=%{x}<br>Bölge-Region=%{y}<extra></extra>",
         "legendgroup": "Iğdır",
         "marker": {
          "color": "#B6E880",
          "pattern": {
           "shape": ""
          }
         },
         "name": "Iğdır",
         "offsetgroup": "Iğdır",
         "orientation": "h",
         "showlegend": true,
         "textposition": "auto",
         "type": "bar",
         "x": [
          43627
         ],
         "xaxis": "x",
         "y": [
          null
         ],
         "yaxis": "y"
        },
        {
         "alignmentgroup": "True",
         "hovertemplate": "city-şehir=Isparta<br>1_dose-1.doz=%{x}<br>Bölge-Region=%{y}<extra></extra>",
         "legendgroup": "Isparta",
         "marker": {
          "color": "#FF97FF",
          "pattern": {
           "shape": ""
          }
         },
         "name": "Isparta",
         "offsetgroup": "Isparta",
         "orientation": "h",
         "showlegend": true,
         "textposition": "auto",
         "type": "bar",
         "x": [
          205991
         ],
         "xaxis": "x",
         "y": [
          "Akdeniz"
         ],
         "yaxis": "y"
        },
        {
         "alignmentgroup": "True",
         "hovertemplate": "city-şehir=İstanbul<br>1_dose-1.doz=%{x}<br>Bölge-Region=%{y}<extra></extra>",
         "legendgroup": "İstanbul",
         "marker": {
          "color": "#FECB52",
          "pattern": {
           "shape": ""
          }
         },
         "name": "İstanbul",
         "offsetgroup": "İstanbul",
         "orientation": "h",
         "showlegend": true,
         "textposition": "auto",
         "type": "bar",
         "x": [
          6197550
         ],
         "xaxis": "x",
         "y": [
          "Marmara"
         ],
         "yaxis": "y"
        },
        {
         "alignmentgroup": "True",
         "hovertemplate": "city-şehir=İzmir<br>1_dose-1.doz=%{x}<br>Bölge-Region=%{y}<extra></extra>",
         "legendgroup": "İzmir",
         "marker": {
          "color": "#636efa",
          "pattern": {
           "shape": ""
          }
         },
         "name": "İzmir",
         "offsetgroup": "İzmir",
         "orientation": "h",
         "showlegend": true,
         "textposition": "auto",
         "type": "bar",
         "x": [
          2136705
         ],
         "xaxis": "x",
         "y": [
          "Ege"
         ],
         "yaxis": "y"
        },
        {
         "alignmentgroup": "True",
         "hovertemplate": "city-şehir=Kahramanmaraş<br>1_dose-1.doz=%{x}<br>Bölge-Region=%{y}<extra></extra>",
         "legendgroup": "Kahramanmaraş",
         "marker": {
          "color": "#EF553B",
          "pattern": {
           "shape": ""
          }
         },
         "name": "Kahramanmaraş",
         "offsetgroup": "Kahramanmaraş",
         "orientation": "h",
         "showlegend": true,
         "textposition": "auto",
         "type": "bar",
         "x": [
          336185
         ],
         "xaxis": "x",
         "y": [
          "Akdeniz"
         ],
         "yaxis": "y"
        },
        {
         "alignmentgroup": "True",
         "hovertemplate": "city-şehir=Karabük<br>1_dose-1.doz=%{x}<br>Bölge-Region=%{y}<extra></extra>",
         "legendgroup": "Karabük",
         "marker": {
          "color": "#00cc96",
          "pattern": {
           "shape": ""
          }
         },
         "name": "Karabük",
         "offsetgroup": "Karabük",
         "orientation": "h",
         "showlegend": true,
         "textposition": "auto",
         "type": "bar",
         "x": [
          107924
         ],
         "xaxis": "x",
         "y": [
          "Karadeniz"
         ],
         "yaxis": "y"
        },
        {
         "alignmentgroup": "True",
         "hovertemplate": "city-şehir=Karaman<br>1_dose-1.doz=%{x}<br>Bölge-Region=%{y}<extra></extra>",
         "legendgroup": "Karaman",
         "marker": {
          "color": "#ab63fa",
          "pattern": {
           "shape": ""
          }
         },
         "name": "Karaman",
         "offsetgroup": "Karaman",
         "orientation": "h",
         "showlegend": true,
         "textposition": "auto",
         "type": "bar",
         "x": [
          96204
         ],
         "xaxis": "x",
         "y": [
          "İç Anadolu"
         ],
         "yaxis": "y"
        },
        {
         "alignmentgroup": "True",
         "hovertemplate": "city-şehir=Kars<br>1_dose-1.doz=%{x}<br>Bölge-Region=%{y}<extra></extra>",
         "legendgroup": "Kars",
         "marker": {
          "color": "#FFA15A",
          "pattern": {
           "shape": ""
          }
         },
         "name": "Kars",
         "offsetgroup": "Kars",
         "orientation": "h",
         "showlegend": true,
         "textposition": "auto",
         "type": "bar",
         "x": [
          81829
         ],
         "xaxis": "x",
         "y": [
          "Doğu Anadolu"
         ],
         "yaxis": "y"
        },
        {
         "alignmentgroup": "True",
         "hovertemplate": "city-şehir=Kastamonu<br>1_dose-1.doz=%{x}<br>Bölge-Region=%{y}<extra></extra>",
         "legendgroup": "Kastamonu",
         "marker": {
          "color": "#19d3f3",
          "pattern": {
           "shape": ""
          }
         },
         "name": "Kastamonu",
         "offsetgroup": "Kastamonu",
         "orientation": "h",
         "showlegend": true,
         "textposition": "auto",
         "type": "bar",
         "x": [
          175799
         ],
         "xaxis": "x",
         "y": [
          "Karadeniz"
         ],
         "yaxis": "y"
        },
        {
         "alignmentgroup": "True",
         "hovertemplate": "city-şehir=Kayseri<br>1_dose-1.doz=%{x}<br>Bölge-Region=%{y}<extra></extra>",
         "legendgroup": "Kayseri",
         "marker": {
          "color": "#FF6692",
          "pattern": {
           "shape": ""
          }
         },
         "name": "Kayseri",
         "offsetgroup": "Kayseri",
         "orientation": "h",
         "showlegend": true,
         "textposition": "auto",
         "type": "bar",
         "x": [
          534876
         ],
         "xaxis": "x",
         "y": [
          "İç Anadolu"
         ],
         "yaxis": "y"
        },
        {
         "alignmentgroup": "True",
         "hovertemplate": "city-şehir=Kırıkkale<br>1_dose-1.doz=%{x}<br>Bölge-Region=%{y}<extra></extra>",
         "legendgroup": "Kırıkkale",
         "marker": {
          "color": "#B6E880",
          "pattern": {
           "shape": ""
          }
         },
         "name": "Kırıkkale",
         "offsetgroup": "Kırıkkale",
         "orientation": "h",
         "showlegend": true,
         "textposition": "auto",
         "type": "bar",
         "x": [
          114702
         ],
         "xaxis": "x",
         "y": [
          "İç Anadolu"
         ],
         "yaxis": "y"
        },
        {
         "alignmentgroup": "True",
         "hovertemplate": "city-şehir=Kırklareli<br>1_dose-1.doz=%{x}<br>Bölge-Region=%{y}<extra></extra>",
         "legendgroup": "Kırklareli",
         "marker": {
          "color": "#FF97FF",
          "pattern": {
           "shape": ""
          }
         },
         "name": "Kırklareli",
         "offsetgroup": "Kırklareli",
         "orientation": "h",
         "showlegend": true,
         "textposition": "auto",
         "type": "bar",
         "x": [
          197631
         ],
         "xaxis": "x",
         "y": [
          "Marmara"
         ],
         "yaxis": "y"
        },
        {
         "alignmentgroup": "True",
         "hovertemplate": "city-şehir=Kırşehir<br>1_dose-1.doz=%{x}<br>Bölge-Region=%{y}<extra></extra>",
         "legendgroup": "Kırşehir",
         "marker": {
          "color": "#FECB52",
          "pattern": {
           "shape": ""
          }
         },
         "name": "Kırşehir",
         "offsetgroup": "Kırşehir",
         "orientation": "h",
         "showlegend": true,
         "textposition": "auto",
         "type": "bar",
         "x": [
          106990
         ],
         "xaxis": "x",
         "y": [
          "İç Anadolu"
         ],
         "yaxis": "y"
        },
        {
         "alignmentgroup": "True",
         "hovertemplate": "city-şehir=Kilis<br>1_dose-1.doz=%{x}<br>Bölge-Region=%{y}<extra></extra>",
         "legendgroup": "Kilis",
         "marker": {
          "color": "#636efa",
          "pattern": {
           "shape": ""
          }
         },
         "name": "Kilis",
         "offsetgroup": "Kilis",
         "orientation": "h",
         "showlegend": true,
         "textposition": "auto",
         "type": "bar",
         "x": [
          43872
         ],
         "xaxis": "x",
         "y": [
          "Güneydoğu Anadolu"
         ],
         "yaxis": "y"
        },
        {
         "alignmentgroup": "True",
         "hovertemplate": "city-şehir=Kocaeli<br>1_dose-1.doz=%{x}<br>Bölge-Region=%{y}<extra></extra>",
         "legendgroup": "Kocaeli",
         "marker": {
          "color": "#EF553B",
          "pattern": {
           "shape": ""
          }
         },
         "name": "Kocaeli",
         "offsetgroup": "Kocaeli",
         "orientation": "h",
         "showlegend": true,
         "textposition": "auto",
         "type": "bar",
         "x": [
          793994
         ],
         "xaxis": "x",
         "y": [
          "Marmara"
         ],
         "yaxis": "y"
        },
        {
         "alignmentgroup": "True",
         "hovertemplate": "city-şehir=Konya<br>1_dose-1.doz=%{x}<br>Bölge-Region=%{y}<extra></extra>",
         "legendgroup": "Konya",
         "marker": {
          "color": "#00cc96",
          "pattern": {
           "shape": ""
          }
         },
         "name": "Konya",
         "offsetgroup": "Konya",
         "orientation": "h",
         "showlegend": true,
         "textposition": "auto",
         "type": "bar",
         "x": [
          757561
         ],
         "xaxis": "x",
         "y": [
          "İç Anadolu"
         ],
         "yaxis": "y"
        },
        {
         "alignmentgroup": "True",
         "hovertemplate": "city-şehir=Kütahya<br>1_dose-1.doz=%{x}<br>Bölge-Region=%{y}<extra></extra>",
         "legendgroup": "Kütahya",
         "marker": {
          "color": "#ab63fa",
          "pattern": {
           "shape": ""
          }
         },
         "name": "Kütahya",
         "offsetgroup": "Kütahya",
         "orientation": "h",
         "showlegend": true,
         "textposition": "auto",
         "type": "bar",
         "x": [
          254612
         ],
         "xaxis": "x",
         "y": [
          "Ege"
         ],
         "yaxis": "y"
        },
        {
         "alignmentgroup": "True",
         "hovertemplate": "city-şehir=Malatya<br>1_dose-1.doz=%{x}<br>Bölge-Region=%{y}<extra></extra>",
         "legendgroup": "Malatya",
         "marker": {
          "color": "#FFA15A",
          "pattern": {
           "shape": ""
          }
         },
         "name": "Malatya",
         "offsetgroup": "Malatya",
         "orientation": "h",
         "showlegend": true,
         "textposition": "auto",
         "type": "bar",
         "x": [
          290096
         ],
         "xaxis": "x",
         "y": [
          "Doğu Anadolu"
         ],
         "yaxis": "y"
        },
        {
         "alignmentgroup": "True",
         "hovertemplate": "city-şehir=Manisa<br>1_dose-1.doz=%{x}<br>Bölge-Region=%{y}<extra></extra>",
         "legendgroup": "Manisa",
         "marker": {
          "color": "#19d3f3",
          "pattern": {
           "shape": ""
          }
         },
         "name": "Manisa",
         "offsetgroup": "Manisa",
         "orientation": "h",
         "showlegend": true,
         "textposition": "auto",
         "type": "bar",
         "x": [
          637609
         ],
         "xaxis": "x",
         "y": [
          "Ege"
         ],
         "yaxis": "y"
        },
        {
         "alignmentgroup": "True",
         "hovertemplate": "city-şehir=Mardin<br>1_dose-1.doz=%{x}<br>Bölge-Region=%{y}<extra></extra>",
         "legendgroup": "Mardin",
         "marker": {
          "color": "#FF6692",
          "pattern": {
           "shape": ""
          }
         },
         "name": "Mardin",
         "offsetgroup": "Mardin",
         "orientation": "h",
         "showlegend": true,
         "textposition": "auto",
         "type": "bar",
         "x": [
          124235
         ],
         "xaxis": "x",
         "y": [
          "Güneydoğu Anadolu"
         ],
         "yaxis": "y"
        },
        {
         "alignmentgroup": "True",
         "hovertemplate": "city-şehir=Mersin<br>1_dose-1.doz=%{x}<br>Bölge-Region=%{y}<extra></extra>",
         "legendgroup": "Mersin",
         "marker": {
          "color": "#B6E880",
          "pattern": {
           "shape": ""
          }
         },
         "name": "Mersin",
         "offsetgroup": "Mersin",
         "orientation": "h",
         "showlegend": true,
         "textposition": "auto",
         "type": "bar",
         "x": [
          730833
         ],
         "xaxis": "x",
         "y": [
          "Akdeniz"
         ],
         "yaxis": "y"
        },
        {
         "alignmentgroup": "True",
         "hovertemplate": "city-şehir=Muğla<br>1_dose-1.doz=%{x}<br>Bölge-Region=%{y}<extra></extra>",
         "legendgroup": "Muğla",
         "marker": {
          "color": "#FF97FF",
          "pattern": {
           "shape": ""
          }
         },
         "name": "Muğla",
         "offsetgroup": "Muğla",
         "orientation": "h",
         "showlegend": true,
         "textposition": "auto",
         "type": "bar",
         "x": [
          578641
         ],
         "xaxis": "x",
         "y": [
          "Ege"
         ],
         "yaxis": "y"
        },
        {
         "alignmentgroup": "True",
         "hovertemplate": "city-şehir=Muş<br>1_dose-1.doz=%{x}<br>Bölge-Region=%{y}<extra></extra>",
         "legendgroup": "Muş",
         "marker": {
          "color": "#FECB52",
          "pattern": {
           "shape": ""
          }
         },
         "name": "Muş",
         "offsetgroup": "Muş",
         "orientation": "h",
         "showlegend": true,
         "textposition": "auto",
         "type": "bar",
         "x": [
          62187
         ],
         "xaxis": "x",
         "y": [
          "Doğu Anadolu"
         ],
         "yaxis": "y"
        },
        {
         "alignmentgroup": "True",
         "hovertemplate": "city-şehir=Nevşehir<br>1_dose-1.doz=%{x}<br>Bölge-Region=%{y}<extra></extra>",
         "legendgroup": "Nevşehir",
         "marker": {
          "color": "#636efa",
          "pattern": {
           "shape": ""
          }
         },
         "name": "Nevşehir",
         "offsetgroup": "Nevşehir",
         "orientation": "h",
         "showlegend": true,
         "textposition": "auto",
         "type": "bar",
         "x": [
          122431
         ],
         "xaxis": "x",
         "y": [
          "İç Anadolu"
         ],
         "yaxis": "y"
        },
        {
         "alignmentgroup": "True",
         "hovertemplate": "city-şehir=Niğde<br>1_dose-1.doz=%{x}<br>Bölge-Region=%{y}<extra></extra>",
         "legendgroup": "Niğde",
         "marker": {
          "color": "#EF553B",
          "pattern": {
           "shape": ""
          }
         },
         "name": "Niğde",
         "offsetgroup": "Niğde",
         "orientation": "h",
         "showlegend": true,
         "textposition": "auto",
         "type": "bar",
         "x": [
          123623
         ],
         "xaxis": "x",
         "y": [
          "İç Anadolu"
         ],
         "yaxis": "y"
        },
        {
         "alignmentgroup": "True",
         "hovertemplate": "city-şehir=Ordu<br>1_dose-1.doz=%{x}<br>Bölge-Region=%{y}<extra></extra>",
         "legendgroup": "Ordu",
         "marker": {
          "color": "#00cc96",
          "pattern": {
           "shape": ""
          }
         },
         "name": "Ordu",
         "offsetgroup": "Ordu",
         "orientation": "h",
         "showlegend": true,
         "textposition": "auto",
         "type": "bar",
         "x": [
          352377
         ],
         "xaxis": "x",
         "y": [
          "Karadeniz"
         ],
         "yaxis": "y"
        },
        {
         "alignmentgroup": "True",
         "hovertemplate": "city-şehir=Osmaniye<br>1_dose-1.doz=%{x}<br>Bölge-Region=%{y}<extra></extra>",
         "legendgroup": "Osmaniye",
         "marker": {
          "color": "#ab63fa",
          "pattern": {
           "shape": ""
          }
         },
         "name": "Osmaniye",
         "offsetgroup": "Osmaniye",
         "orientation": "h",
         "showlegend": true,
         "textposition": "auto",
         "type": "bar",
         "x": [
          198547
         ],
         "xaxis": "x",
         "y": [
          "Akdeniz"
         ],
         "yaxis": "y"
        },
        {
         "alignmentgroup": "True",
         "hovertemplate": "city-şehir=Rize<br>1_dose-1.doz=%{x}<br>Bölge-Region=%{y}<extra></extra>",
         "legendgroup": "Rize",
         "marker": {
          "color": "#FFA15A",
          "pattern": {
           "shape": ""
          }
         },
         "name": "Rize",
         "offsetgroup": "Rize",
         "orientation": "h",
         "showlegend": true,
         "textposition": "auto",
         "type": "bar",
         "x": [
          145810
         ],
         "xaxis": "x",
         "y": [
          "Karadeniz"
         ],
         "yaxis": "y"
        },
        {
         "alignmentgroup": "True",
         "hovertemplate": "city-şehir=Sakarya<br>1_dose-1.doz=%{x}<br>Bölge-Region=%{y}<extra></extra>",
         "legendgroup": "Sakarya",
         "marker": {
          "color": "#19d3f3",
          "pattern": {
           "shape": ""
          }
         },
         "name": "Sakarya",
         "offsetgroup": "Sakarya",
         "orientation": "h",
         "showlegend": true,
         "textposition": "auto",
         "type": "bar",
         "x": [
          395582
         ],
         "xaxis": "x",
         "y": [
          "Marmara"
         ],
         "yaxis": "y"
        },
        {
         "alignmentgroup": "True",
         "hovertemplate": "city-şehir=Samsun<br>1_dose-1.doz=%{x}<br>Bölge-Region=%{y}<extra></extra>",
         "legendgroup": "Samsun",
         "marker": {
          "color": "#FF6692",
          "pattern": {
           "shape": ""
          }
         },
         "name": "Samsun",
         "offsetgroup": "Samsun",
         "orientation": "h",
         "showlegend": true,
         "textposition": "auto",
         "type": "bar",
         "x": [
          562448
         ],
         "xaxis": "x",
         "y": [
          "Karadeniz"
         ],
         "yaxis": "y"
        },
        {
         "alignmentgroup": "True",
         "hovertemplate": "city-şehir=Siirt<br>1_dose-1.doz=%{x}<br>Bölge-Region=%{y}<extra></extra>",
         "legendgroup": "Siirt",
         "marker": {
          "color": "#B6E880",
          "pattern": {
           "shape": ""
          }
         },
         "name": "Siirt",
         "offsetgroup": "Siirt",
         "orientation": "h",
         "showlegend": true,
         "textposition": "auto",
         "type": "bar",
         "x": [
          45367
         ],
         "xaxis": "x",
         "y": [
          "Güneydoğu Anadolu"
         ],
         "yaxis": "y"
        },
        {
         "alignmentgroup": "True",
         "hovertemplate": "city-şehir=Sinop<br>1_dose-1.doz=%{x}<br>Bölge-Region=%{y}<extra></extra>",
         "legendgroup": "Sinop",
         "marker": {
          "color": "#FF97FF",
          "pattern": {
           "shape": ""
          }
         },
         "name": "Sinop",
         "offsetgroup": "Sinop",
         "orientation": "h",
         "showlegend": true,
         "textposition": "auto",
         "type": "bar",
         "x": [
          104450
         ],
         "xaxis": "x",
         "y": [
          "Karadeniz"
         ],
         "yaxis": "y"
        },
        {
         "alignmentgroup": "True",
         "hovertemplate": "city-şehir=Sivas<br>1_dose-1.doz=%{x}<br>Bölge-Region=%{y}<extra></extra>",
         "legendgroup": "Sivas",
         "marker": {
          "color": "#FECB52",
          "pattern": {
           "shape": ""
          }
         },
         "name": "Sivas",
         "offsetgroup": "Sivas",
         "orientation": "h",
         "showlegend": true,
         "textposition": "auto",
         "type": "bar",
         "x": [
          245140
         ],
         "xaxis": "x",
         "y": [
          "İç Anadolu"
         ],
         "yaxis": "y"
        },
        {
         "alignmentgroup": "True",
         "hovertemplate": "city-şehir=Şanlıurfa<br>1_dose-1.doz=%{x}<br>Bölge-Region=%{y}<extra></extra>",
         "legendgroup": "Şanlıurfa",
         "marker": {
          "color": "#636efa",
          "pattern": {
           "shape": ""
          }
         },
         "name": "Şanlıurfa",
         "offsetgroup": "Şanlıurfa",
         "orientation": "h",
         "showlegend": true,
         "textposition": "auto",
         "type": "bar",
         "x": [
          266534
         ],
         "xaxis": "x",
         "y": [
          "Güneydoğu Anadolu"
         ],
         "yaxis": "y"
        },
        {
         "alignmentgroup": "True",
         "hovertemplate": "city-şehir=Şırnak<br>1_dose-1.doz=%{x}<br>Bölge-Region=%{y}<extra></extra>",
         "legendgroup": "Şırnak",
         "marker": {
          "color": "#EF553B",
          "pattern": {
           "shape": ""
          }
         },
         "name": "Şırnak",
         "offsetgroup": "Şırnak",
         "orientation": "h",
         "showlegend": true,
         "textposition": "auto",
         "type": "bar",
         "x": [
          70624
         ],
         "xaxis": "x",
         "y": [
          "Güneydoğu Anadolu"
         ],
         "yaxis": "y"
        },
        {
         "alignmentgroup": "True",
         "hovertemplate": "city-şehir=Tekirdağ<br>1_dose-1.doz=%{x}<br>Bölge-Region=%{y}<extra></extra>",
         "legendgroup": "Tekirdağ",
         "marker": {
          "color": "#00cc96",
          "pattern": {
           "shape": ""
          }
         },
         "name": "Tekirdağ",
         "offsetgroup": "Tekirdağ",
         "orientation": "h",
         "showlegend": true,
         "textposition": "auto",
         "type": "bar",
         "x": [
          477726
         ],
         "xaxis": "x",
         "y": [
          "Marmara"
         ],
         "yaxis": "y"
        },
        {
         "alignmentgroup": "True",
         "hovertemplate": "city-şehir=Tokat<br>1_dose-1.doz=%{x}<br>Bölge-Region=%{y}<extra></extra>",
         "legendgroup": "Tokat",
         "marker": {
          "color": "#ab63fa",
          "pattern": {
           "shape": ""
          }
         },
         "name": "Tokat",
         "offsetgroup": "Tokat",
         "orientation": "h",
         "showlegend": true,
         "textposition": "auto",
         "type": "bar",
         "x": [
          250396
         ],
         "xaxis": "x",
         "y": [
          "Karadeniz"
         ],
         "yaxis": "y"
        },
        {
         "alignmentgroup": "True",
         "hovertemplate": "city-şehir=Trabzon<br>1_dose-1.doz=%{x}<br>Bölge-Region=%{y}<extra></extra>",
         "legendgroup": "Trabzon",
         "marker": {
          "color": "#FFA15A",
          "pattern": {
           "shape": ""
          }
         },
         "name": "Trabzon",
         "offsetgroup": "Trabzon",
         "orientation": "h",
         "showlegend": true,
         "textposition": "auto",
         "type": "bar",
         "x": [
          341832
         ],
         "xaxis": "x",
         "y": [
          "Karadeniz"
         ],
         "yaxis": "y"
        },
        {
         "alignmentgroup": "True",
         "hovertemplate": "city-şehir=Tunceli<br>1_dose-1.doz=%{x}<br>Bölge-Region=%{y}<extra></extra>",
         "legendgroup": "Tunceli",
         "marker": {
          "color": "#19d3f3",
          "pattern": {
           "shape": ""
          }
         },
         "name": "Tunceli",
         "offsetgroup": "Tunceli",
         "orientation": "h",
         "showlegend": true,
         "textposition": "auto",
         "type": "bar",
         "x": [
          40463
         ],
         "xaxis": "x",
         "y": [
          "Doğu Anadolu"
         ],
         "yaxis": "y"
        },
        {
         "alignmentgroup": "True",
         "hovertemplate": "city-şehir=Uşak<br>1_dose-1.doz=%{x}<br>Bölge-Region=%{y}<extra></extra>",
         "legendgroup": "Uşak",
         "marker": {
          "color": "#FF6692",
          "pattern": {
           "shape": ""
          }
         },
         "name": "Uşak",
         "offsetgroup": "Uşak",
         "orientation": "h",
         "showlegend": true,
         "textposition": "auto",
         "type": "bar",
         "x": [
          169159
         ],
         "xaxis": "x",
         "y": [
          "Ege"
         ],
         "yaxis": "y"
        },
        {
         "alignmentgroup": "True",
         "hovertemplate": "city-şehir=Van<br>1_dose-1.doz=%{x}<br>Bölge-Region=%{y}<extra></extra>",
         "legendgroup": "Van",
         "marker": {
          "color": "#B6E880",
          "pattern": {
           "shape": ""
          }
         },
         "name": "Van",
         "offsetgroup": "Van",
         "orientation": "h",
         "showlegend": true,
         "textposition": "auto",
         "type": "bar",
         "x": [
          236641
         ],
         "xaxis": "x",
         "y": [
          "Doğu Anadolu"
         ],
         "yaxis": "y"
        },
        {
         "alignmentgroup": "True",
         "hovertemplate": "city-şehir=Yalova<br>1_dose-1.doz=%{x}<br>Bölge-Region=%{y}<extra></extra>",
         "legendgroup": "Yalova",
         "marker": {
          "color": "#FF97FF",
          "pattern": {
           "shape": ""
          }
         },
         "name": "Yalova",
         "offsetgroup": "Yalova",
         "orientation": "h",
         "showlegend": true,
         "textposition": "auto",
         "type": "bar",
         "x": [
          129888
         ],
         "xaxis": "x",
         "y": [
          "Marmara"
         ],
         "yaxis": "y"
        },
        {
         "alignmentgroup": "True",
         "hovertemplate": "city-şehir=Yozgat<br>1_dose-1.doz=%{x}<br>Bölge-Region=%{y}<extra></extra>",
         "legendgroup": "Yozgat",
         "marker": {
          "color": "#FECB52",
          "pattern": {
           "shape": ""
          }
         },
         "name": "Yozgat",
         "offsetgroup": "Yozgat",
         "orientation": "h",
         "showlegend": true,
         "textposition": "auto",
         "type": "bar",
         "x": [
          151825
         ],
         "xaxis": "x",
         "y": [
          "İç Anadolu"
         ],
         "yaxis": "y"
        },
        {
         "alignmentgroup": "True",
         "hovertemplate": "city-şehir=Zonguldak<br>1_dose-1.doz=%{x}<br>Bölge-Region=%{y}<extra></extra>",
         "legendgroup": "Zonguldak",
         "marker": {
          "color": "#636efa",
          "pattern": {
           "shape": ""
          }
         },
         "name": "Zonguldak",
         "offsetgroup": "Zonguldak",
         "orientation": "h",
         "showlegend": true,
         "textposition": "auto",
         "type": "bar",
         "x": [
          275433
         ],
         "xaxis": "x",
         "y": [
          "Karadeniz"
         ],
         "yaxis": "y"
        }
       ],
       "layout": {
        "barmode": "relative",
        "legend": {
         "title": {
          "text": "city-şehir"
         },
         "tracegroupgap": 0
        },
        "template": {
         "data": {
          "bar": [
           {
            "error_x": {
             "color": "#2a3f5f"
            },
            "error_y": {
             "color": "#2a3f5f"
            },
            "marker": {
             "line": {
              "color": "#E5ECF6",
              "width": 0.5
             },
             "pattern": {
              "fillmode": "overlay",
              "size": 10,
              "solidity": 0.2
             }
            },
            "type": "bar"
           }
          ],
          "barpolar": [
           {
            "marker": {
             "line": {
              "color": "#E5ECF6",
              "width": 0.5
             },
             "pattern": {
              "fillmode": "overlay",
              "size": 10,
              "solidity": 0.2
             }
            },
            "type": "barpolar"
           }
          ],
          "carpet": [
           {
            "aaxis": {
             "endlinecolor": "#2a3f5f",
             "gridcolor": "white",
             "linecolor": "white",
             "minorgridcolor": "white",
             "startlinecolor": "#2a3f5f"
            },
            "baxis": {
             "endlinecolor": "#2a3f5f",
             "gridcolor": "white",
             "linecolor": "white",
             "minorgridcolor": "white",
             "startlinecolor": "#2a3f5f"
            },
            "type": "carpet"
           }
          ],
          "choropleth": [
           {
            "colorbar": {
             "outlinewidth": 0,
             "ticks": ""
            },
            "type": "choropleth"
           }
          ],
          "contour": [
           {
            "colorbar": {
             "outlinewidth": 0,
             "ticks": ""
            },
            "colorscale": [
             [
              0,
              "#0d0887"
             ],
             [
              0.1111111111111111,
              "#46039f"
             ],
             [
              0.2222222222222222,
              "#7201a8"
             ],
             [
              0.3333333333333333,
              "#9c179e"
             ],
             [
              0.4444444444444444,
              "#bd3786"
             ],
             [
              0.5555555555555556,
              "#d8576b"
             ],
             [
              0.6666666666666666,
              "#ed7953"
             ],
             [
              0.7777777777777778,
              "#fb9f3a"
             ],
             [
              0.8888888888888888,
              "#fdca26"
             ],
             [
              1,
              "#f0f921"
             ]
            ],
            "type": "contour"
           }
          ],
          "contourcarpet": [
           {
            "colorbar": {
             "outlinewidth": 0,
             "ticks": ""
            },
            "type": "contourcarpet"
           }
          ],
          "heatmap": [
           {
            "colorbar": {
             "outlinewidth": 0,
             "ticks": ""
            },
            "colorscale": [
             [
              0,
              "#0d0887"
             ],
             [
              0.1111111111111111,
              "#46039f"
             ],
             [
              0.2222222222222222,
              "#7201a8"
             ],
             [
              0.3333333333333333,
              "#9c179e"
             ],
             [
              0.4444444444444444,
              "#bd3786"
             ],
             [
              0.5555555555555556,
              "#d8576b"
             ],
             [
              0.6666666666666666,
              "#ed7953"
             ],
             [
              0.7777777777777778,
              "#fb9f3a"
             ],
             [
              0.8888888888888888,
              "#fdca26"
             ],
             [
              1,
              "#f0f921"
             ]
            ],
            "type": "heatmap"
           }
          ],
          "heatmapgl": [
           {
            "colorbar": {
             "outlinewidth": 0,
             "ticks": ""
            },
            "colorscale": [
             [
              0,
              "#0d0887"
             ],
             [
              0.1111111111111111,
              "#46039f"
             ],
             [
              0.2222222222222222,
              "#7201a8"
             ],
             [
              0.3333333333333333,
              "#9c179e"
             ],
             [
              0.4444444444444444,
              "#bd3786"
             ],
             [
              0.5555555555555556,
              "#d8576b"
             ],
             [
              0.6666666666666666,
              "#ed7953"
             ],
             [
              0.7777777777777778,
              "#fb9f3a"
             ],
             [
              0.8888888888888888,
              "#fdca26"
             ],
             [
              1,
              "#f0f921"
             ]
            ],
            "type": "heatmapgl"
           }
          ],
          "histogram": [
           {
            "marker": {
             "pattern": {
              "fillmode": "overlay",
              "size": 10,
              "solidity": 0.2
             }
            },
            "type": "histogram"
           }
          ],
          "histogram2d": [
           {
            "colorbar": {
             "outlinewidth": 0,
             "ticks": ""
            },
            "colorscale": [
             [
              0,
              "#0d0887"
             ],
             [
              0.1111111111111111,
              "#46039f"
             ],
             [
              0.2222222222222222,
              "#7201a8"
             ],
             [
              0.3333333333333333,
              "#9c179e"
             ],
             [
              0.4444444444444444,
              "#bd3786"
             ],
             [
              0.5555555555555556,
              "#d8576b"
             ],
             [
              0.6666666666666666,
              "#ed7953"
             ],
             [
              0.7777777777777778,
              "#fb9f3a"
             ],
             [
              0.8888888888888888,
              "#fdca26"
             ],
             [
              1,
              "#f0f921"
             ]
            ],
            "type": "histogram2d"
           }
          ],
          "histogram2dcontour": [
           {
            "colorbar": {
             "outlinewidth": 0,
             "ticks": ""
            },
            "colorscale": [
             [
              0,
              "#0d0887"
             ],
             [
              0.1111111111111111,
              "#46039f"
             ],
             [
              0.2222222222222222,
              "#7201a8"
             ],
             [
              0.3333333333333333,
              "#9c179e"
             ],
             [
              0.4444444444444444,
              "#bd3786"
             ],
             [
              0.5555555555555556,
              "#d8576b"
             ],
             [
              0.6666666666666666,
              "#ed7953"
             ],
             [
              0.7777777777777778,
              "#fb9f3a"
             ],
             [
              0.8888888888888888,
              "#fdca26"
             ],
             [
              1,
              "#f0f921"
             ]
            ],
            "type": "histogram2dcontour"
           }
          ],
          "mesh3d": [
           {
            "colorbar": {
             "outlinewidth": 0,
             "ticks": ""
            },
            "type": "mesh3d"
           }
          ],
          "parcoords": [
           {
            "line": {
             "colorbar": {
              "outlinewidth": 0,
              "ticks": ""
             }
            },
            "type": "parcoords"
           }
          ],
          "pie": [
           {
            "automargin": true,
            "type": "pie"
           }
          ],
          "scatter": [
           {
            "marker": {
             "colorbar": {
              "outlinewidth": 0,
              "ticks": ""
             }
            },
            "type": "scatter"
           }
          ],
          "scatter3d": [
           {
            "line": {
             "colorbar": {
              "outlinewidth": 0,
              "ticks": ""
             }
            },
            "marker": {
             "colorbar": {
              "outlinewidth": 0,
              "ticks": ""
             }
            },
            "type": "scatter3d"
           }
          ],
          "scattercarpet": [
           {
            "marker": {
             "colorbar": {
              "outlinewidth": 0,
              "ticks": ""
             }
            },
            "type": "scattercarpet"
           }
          ],
          "scattergeo": [
           {
            "marker": {
             "colorbar": {
              "outlinewidth": 0,
              "ticks": ""
             }
            },
            "type": "scattergeo"
           }
          ],
          "scattergl": [
           {
            "marker": {
             "colorbar": {
              "outlinewidth": 0,
              "ticks": ""
             }
            },
            "type": "scattergl"
           }
          ],
          "scattermapbox": [
           {
            "marker": {
             "colorbar": {
              "outlinewidth": 0,
              "ticks": ""
             }
            },
            "type": "scattermapbox"
           }
          ],
          "scatterpolar": [
           {
            "marker": {
             "colorbar": {
              "outlinewidth": 0,
              "ticks": ""
             }
            },
            "type": "scatterpolar"
           }
          ],
          "scatterpolargl": [
           {
            "marker": {
             "colorbar": {
              "outlinewidth": 0,
              "ticks": ""
             }
            },
            "type": "scatterpolargl"
           }
          ],
          "scatterternary": [
           {
            "marker": {
             "colorbar": {
              "outlinewidth": 0,
              "ticks": ""
             }
            },
            "type": "scatterternary"
           }
          ],
          "surface": [
           {
            "colorbar": {
             "outlinewidth": 0,
             "ticks": ""
            },
            "colorscale": [
             [
              0,
              "#0d0887"
             ],
             [
              0.1111111111111111,
              "#46039f"
             ],
             [
              0.2222222222222222,
              "#7201a8"
             ],
             [
              0.3333333333333333,
              "#9c179e"
             ],
             [
              0.4444444444444444,
              "#bd3786"
             ],
             [
              0.5555555555555556,
              "#d8576b"
             ],
             [
              0.6666666666666666,
              "#ed7953"
             ],
             [
              0.7777777777777778,
              "#fb9f3a"
             ],
             [
              0.8888888888888888,
              "#fdca26"
             ],
             [
              1,
              "#f0f921"
             ]
            ],
            "type": "surface"
           }
          ],
          "table": [
           {
            "cells": {
             "fill": {
              "color": "#EBF0F8"
             },
             "line": {
              "color": "white"
             }
            },
            "header": {
             "fill": {
              "color": "#C8D4E3"
             },
             "line": {
              "color": "white"
             }
            },
            "type": "table"
           }
          ]
         },
         "layout": {
          "annotationdefaults": {
           "arrowcolor": "#2a3f5f",
           "arrowhead": 0,
           "arrowwidth": 1
          },
          "autotypenumbers": "strict",
          "coloraxis": {
           "colorbar": {
            "outlinewidth": 0,
            "ticks": ""
           }
          },
          "colorscale": {
           "diverging": [
            [
             0,
             "#8e0152"
            ],
            [
             0.1,
             "#c51b7d"
            ],
            [
             0.2,
             "#de77ae"
            ],
            [
             0.3,
             "#f1b6da"
            ],
            [
             0.4,
             "#fde0ef"
            ],
            [
             0.5,
             "#f7f7f7"
            ],
            [
             0.6,
             "#e6f5d0"
            ],
            [
             0.7,
             "#b8e186"
            ],
            [
             0.8,
             "#7fbc41"
            ],
            [
             0.9,
             "#4d9221"
            ],
            [
             1,
             "#276419"
            ]
           ],
           "sequential": [
            [
             0,
             "#0d0887"
            ],
            [
             0.1111111111111111,
             "#46039f"
            ],
            [
             0.2222222222222222,
             "#7201a8"
            ],
            [
             0.3333333333333333,
             "#9c179e"
            ],
            [
             0.4444444444444444,
             "#bd3786"
            ],
            [
             0.5555555555555556,
             "#d8576b"
            ],
            [
             0.6666666666666666,
             "#ed7953"
            ],
            [
             0.7777777777777778,
             "#fb9f3a"
            ],
            [
             0.8888888888888888,
             "#fdca26"
            ],
            [
             1,
             "#f0f921"
            ]
           ],
           "sequentialminus": [
            [
             0,
             "#0d0887"
            ],
            [
             0.1111111111111111,
             "#46039f"
            ],
            [
             0.2222222222222222,
             "#7201a8"
            ],
            [
             0.3333333333333333,
             "#9c179e"
            ],
            [
             0.4444444444444444,
             "#bd3786"
            ],
            [
             0.5555555555555556,
             "#d8576b"
            ],
            [
             0.6666666666666666,
             "#ed7953"
            ],
            [
             0.7777777777777778,
             "#fb9f3a"
            ],
            [
             0.8888888888888888,
             "#fdca26"
            ],
            [
             1,
             "#f0f921"
            ]
           ]
          },
          "colorway": [
           "#636efa",
           "#EF553B",
           "#00cc96",
           "#ab63fa",
           "#FFA15A",
           "#19d3f3",
           "#FF6692",
           "#B6E880",
           "#FF97FF",
           "#FECB52"
          ],
          "font": {
           "color": "#2a3f5f"
          },
          "geo": {
           "bgcolor": "white",
           "lakecolor": "white",
           "landcolor": "#E5ECF6",
           "showlakes": true,
           "showland": true,
           "subunitcolor": "white"
          },
          "hoverlabel": {
           "align": "left"
          },
          "hovermode": "closest",
          "mapbox": {
           "style": "light"
          },
          "paper_bgcolor": "white",
          "plot_bgcolor": "#E5ECF6",
          "polar": {
           "angularaxis": {
            "gridcolor": "white",
            "linecolor": "white",
            "ticks": ""
           },
           "bgcolor": "#E5ECF6",
           "radialaxis": {
            "gridcolor": "white",
            "linecolor": "white",
            "ticks": ""
           }
          },
          "scene": {
           "xaxis": {
            "backgroundcolor": "#E5ECF6",
            "gridcolor": "white",
            "gridwidth": 2,
            "linecolor": "white",
            "showbackground": true,
            "ticks": "",
            "zerolinecolor": "white"
           },
           "yaxis": {
            "backgroundcolor": "#E5ECF6",
            "gridcolor": "white",
            "gridwidth": 2,
            "linecolor": "white",
            "showbackground": true,
            "ticks": "",
            "zerolinecolor": "white"
           },
           "zaxis": {
            "backgroundcolor": "#E5ECF6",
            "gridcolor": "white",
            "gridwidth": 2,
            "linecolor": "white",
            "showbackground": true,
            "ticks": "",
            "zerolinecolor": "white"
           }
          },
          "shapedefaults": {
           "line": {
            "color": "#2a3f5f"
           }
          },
          "ternary": {
           "aaxis": {
            "gridcolor": "white",
            "linecolor": "white",
            "ticks": ""
           },
           "baxis": {
            "gridcolor": "white",
            "linecolor": "white",
            "ticks": ""
           },
           "bgcolor": "#E5ECF6",
           "caxis": {
            "gridcolor": "white",
            "linecolor": "white",
            "ticks": ""
           }
          },
          "title": {
           "x": 0.05
          },
          "xaxis": {
           "automargin": true,
           "gridcolor": "white",
           "linecolor": "white",
           "ticks": "",
           "title": {
            "standoff": 15
           },
           "zerolinecolor": "white",
           "zerolinewidth": 2
          },
          "yaxis": {
           "automargin": true,
           "gridcolor": "white",
           "linecolor": "white",
           "ticks": "",
           "title": {
            "standoff": 15
           },
           "zerolinecolor": "white",
           "zerolinewidth": 2
          }
         }
        },
        "title": {
         "text": "Completed 1nd dose of Vaccine as of June 26, 26 Haziran'da tamamlanan 1.doz aşı"
        },
        "xaxis": {
         "anchor": "y",
         "domain": [
          0,
          1
         ],
         "title": {
          "text": "1_dose-1.doz"
         }
        },
        "yaxis": {
         "anchor": "x",
         "domain": [
          0,
          1
         ],
         "title": {
          "text": "Bölge-Region"
         }
        }
       }
      },
      "text/html": [
       "<div>                            <div id=\"bd28a2e5-3006-4601-9c94-29da8464a1e3\" class=\"plotly-graph-div\" style=\"height:525px; width:100%;\"></div>            <script type=\"text/javascript\">                require([\"plotly\"], function(Plotly) {                    window.PLOTLYENV=window.PLOTLYENV || {};                                    if (document.getElementById(\"bd28a2e5-3006-4601-9c94-29da8464a1e3\")) {                    Plotly.newPlot(                        \"bd28a2e5-3006-4601-9c94-29da8464a1e3\",                        [{\"alignmentgroup\":\"True\",\"hovertemplate\":\"city-\\u015fehir=Adana<br>1_dose-1.doz=%{x}<br>B\\u00f6lge-Region=%{y}<extra></extra>\",\"legendgroup\":\"Adana\",\"marker\":{\"color\":\"#636efa\",\"pattern\":{\"shape\":\"\"}},\"name\":\"Adana\",\"offsetgroup\":\"Adana\",\"orientation\":\"h\",\"showlegend\":true,\"textposition\":\"auto\",\"type\":\"bar\",\"x\":[784464],\"xaxis\":\"x\",\"y\":[\"Akdeniz\"],\"yaxis\":\"y\"},{\"alignmentgroup\":\"True\",\"hovertemplate\":\"city-\\u015fehir=Ad\\u0131yaman<br>1_dose-1.doz=%{x}<br>B\\u00f6lge-Region=%{y}<extra></extra>\",\"legendgroup\":\"Ad\\u0131yaman\",\"marker\":{\"color\":\"#EF553B\",\"pattern\":{\"shape\":\"\"}},\"name\":\"Ad\\u0131yaman\",\"offsetgroup\":\"Ad\\u0131yaman\",\"orientation\":\"h\",\"showlegend\":true,\"textposition\":\"auto\",\"type\":\"bar\",\"x\":[170847],\"xaxis\":\"x\",\"y\":[\"G\\u00fcneydo\\u011fu Anadolu\"],\"yaxis\":\"y\"},{\"alignmentgroup\":\"True\",\"hovertemplate\":\"city-\\u015fehir=Afyonkarahisar<br>1_dose-1.doz=%{x}<br>B\\u00f6lge-Region=%{y}<extra></extra>\",\"legendgroup\":\"Afyonkarahisar\",\"marker\":{\"color\":\"#00cc96\",\"pattern\":{\"shape\":\"\"}},\"name\":\"Afyonkarahisar\",\"offsetgroup\":\"Afyonkarahisar\",\"orientation\":\"h\",\"showlegend\":true,\"textposition\":\"auto\",\"type\":\"bar\",\"x\":[292611],\"xaxis\":\"x\",\"y\":[\"Ege\"],\"yaxis\":\"y\"},{\"alignmentgroup\":\"True\",\"hovertemplate\":\"city-\\u015fehir=A\\u011fr\\u0131<br>1_dose-1.doz=%{x}<br>B\\u00f6lge-Region=%{y}<extra></extra>\",\"legendgroup\":\"A\\u011fr\\u0131\",\"marker\":{\"color\":\"#ab63fa\",\"pattern\":{\"shape\":\"\"}},\"name\":\"A\\u011fr\\u0131\",\"offsetgroup\":\"A\\u011fr\\u0131\",\"orientation\":\"h\",\"showlegend\":true,\"textposition\":\"auto\",\"type\":\"bar\",\"x\":[94807],\"xaxis\":\"x\",\"y\":[\"Do\\u011fu Anadolu\"],\"yaxis\":\"y\"},{\"alignmentgroup\":\"True\",\"hovertemplate\":\"city-\\u015fehir=Aksaray<br>1_dose-1.doz=%{x}<br>B\\u00f6lge-Region=%{y}<extra></extra>\",\"legendgroup\":\"Aksaray\",\"marker\":{\"color\":\"#FFA15A\",\"pattern\":{\"shape\":\"\"}},\"name\":\"Aksaray\",\"offsetgroup\":\"Aksaray\",\"orientation\":\"h\",\"showlegend\":true,\"textposition\":\"auto\",\"type\":\"bar\",\"x\":[131889],\"xaxis\":\"x\",\"y\":[\"\\u0130\\u00e7 Anadolu\"],\"yaxis\":\"y\"},{\"alignmentgroup\":\"True\",\"hovertemplate\":\"city-\\u015fehir=Amasya<br>1_dose-1.doz=%{x}<br>B\\u00f6lge-Region=%{y}<extra></extra>\",\"legendgroup\":\"Amasya\",\"marker\":{\"color\":\"#19d3f3\",\"pattern\":{\"shape\":\"\"}},\"name\":\"Amasya\",\"offsetgroup\":\"Amasya\",\"orientation\":\"h\",\"showlegend\":true,\"textposition\":\"auto\",\"type\":\"bar\",\"x\":[169285],\"xaxis\":\"x\",\"y\":[\"Karadeniz\"],\"yaxis\":\"y\"},{\"alignmentgroup\":\"True\",\"hovertemplate\":\"city-\\u015fehir=Ankara<br>1_dose-1.doz=%{x}<br>B\\u00f6lge-Region=%{y}<extra></extra>\",\"legendgroup\":\"Ankara\",\"marker\":{\"color\":\"#FF6692\",\"pattern\":{\"shape\":\"\"}},\"name\":\"Ankara\",\"offsetgroup\":\"Ankara\",\"orientation\":\"h\",\"showlegend\":true,\"textposition\":\"auto\",\"type\":\"bar\",\"x\":[2652085],\"xaxis\":\"x\",\"y\":[\"\\u0130\\u00e7 Anadolu\"],\"yaxis\":\"y\"},{\"alignmentgroup\":\"True\",\"hovertemplate\":\"city-\\u015fehir=Antalya<br>1_dose-1.doz=%{x}<br>B\\u00f6lge-Region=%{y}<extra></extra>\",\"legendgroup\":\"Antalya\",\"marker\":{\"color\":\"#B6E880\",\"pattern\":{\"shape\":\"\"}},\"name\":\"Antalya\",\"offsetgroup\":\"Antalya\",\"orientation\":\"h\",\"showlegend\":true,\"textposition\":\"auto\",\"type\":\"bar\",\"x\":[1055350],\"xaxis\":\"x\",\"y\":[\"Akdeniz\"],\"yaxis\":\"y\"},{\"alignmentgroup\":\"True\",\"hovertemplate\":\"city-\\u015fehir=Ardahan<br>1_dose-1.doz=%{x}<br>B\\u00f6lge-Region=%{y}<extra></extra>\",\"legendgroup\":\"Ardahan\",\"marker\":{\"color\":\"#FF97FF\",\"pattern\":{\"shape\":\"\"}},\"name\":\"Ardahan\",\"offsetgroup\":\"Ardahan\",\"orientation\":\"h\",\"showlegend\":true,\"textposition\":\"auto\",\"type\":\"bar\",\"x\":[34629],\"xaxis\":\"x\",\"y\":[\"Do\\u011fu Anadolu\"],\"yaxis\":\"y\"},{\"alignmentgroup\":\"True\",\"hovertemplate\":\"city-\\u015fehir=Artvin<br>1_dose-1.doz=%{x}<br>B\\u00f6lge-Region=%{y}<extra></extra>\",\"legendgroup\":\"Artvin\",\"marker\":{\"color\":\"#FECB52\",\"pattern\":{\"shape\":\"\"}},\"name\":\"Artvin\",\"offsetgroup\":\"Artvin\",\"orientation\":\"h\",\"showlegend\":true,\"textposition\":\"auto\",\"type\":\"bar\",\"x\":[80554],\"xaxis\":\"x\",\"y\":[\"Karadeniz\"],\"yaxis\":\"y\"},{\"alignmentgroup\":\"True\",\"hovertemplate\":\"city-\\u015fehir=Ayd\\u0131n<br>1_dose-1.doz=%{x}<br>B\\u00f6lge-Region=%{y}<extra></extra>\",\"legendgroup\":\"Ayd\\u0131n\",\"marker\":{\"color\":\"#636efa\",\"pattern\":{\"shape\":\"\"}},\"name\":\"Ayd\\u0131n\",\"offsetgroup\":\"Ayd\\u0131n\",\"orientation\":\"h\",\"showlegend\":true,\"textposition\":\"auto\",\"type\":\"bar\",\"x\":[555807],\"xaxis\":\"x\",\"y\":[\"Ege\"],\"yaxis\":\"y\"},{\"alignmentgroup\":\"True\",\"hovertemplate\":\"city-\\u015fehir=Bal\\u0131kesir<br>1_dose-1.doz=%{x}<br>B\\u00f6lge-Region=%{y}<extra></extra>\",\"legendgroup\":\"Bal\\u0131kesir\",\"marker\":{\"color\":\"#EF553B\",\"pattern\":{\"shape\":\"\"}},\"name\":\"Bal\\u0131kesir\",\"offsetgroup\":\"Bal\\u0131kesir\",\"orientation\":\"h\",\"showlegend\":true,\"textposition\":\"auto\",\"type\":\"bar\",\"x\":[661424],\"xaxis\":\"x\",\"y\":[\"Marmara\"],\"yaxis\":\"y\"},{\"alignmentgroup\":\"True\",\"hovertemplate\":\"city-\\u015fehir=Bart\\u0131n<br>1_dose-1.doz=%{x}<br>B\\u00f6lge-Region=%{y}<extra></extra>\",\"legendgroup\":\"Bart\\u0131n\",\"marker\":{\"color\":\"#00cc96\",\"pattern\":{\"shape\":\"\"}},\"name\":\"Bart\\u0131n\",\"offsetgroup\":\"Bart\\u0131n\",\"orientation\":\"h\",\"showlegend\":true,\"textposition\":\"auto\",\"type\":\"bar\",\"x\":[96816],\"xaxis\":\"x\",\"y\":[\"Karadeniz\"],\"yaxis\":\"y\"},{\"alignmentgroup\":\"True\",\"hovertemplate\":\"city-\\u015fehir=Batman<br>1_dose-1.doz=%{x}<br>B\\u00f6lge-Region=%{y}<extra></extra>\",\"legendgroup\":\"Batman\",\"marker\":{\"color\":\"#ab63fa\",\"pattern\":{\"shape\":\"\"}},\"name\":\"Batman\",\"offsetgroup\":\"Batman\",\"orientation\":\"h\",\"showlegend\":true,\"textposition\":\"auto\",\"type\":\"bar\",\"x\":[108989],\"xaxis\":\"x\",\"y\":[\"G\\u00fcneydo\\u011fu Anadolu\"],\"yaxis\":\"y\"},{\"alignmentgroup\":\"True\",\"hovertemplate\":\"city-\\u015fehir=Bayburt<br>1_dose-1.doz=%{x}<br>B\\u00f6lge-Region=%{y}<extra></extra>\",\"legendgroup\":\"Bayburt\",\"marker\":{\"color\":\"#FFA15A\",\"pattern\":{\"shape\":\"\"}},\"name\":\"Bayburt\",\"offsetgroup\":\"Bayburt\",\"orientation\":\"h\",\"showlegend\":true,\"textposition\":\"auto\",\"type\":\"bar\",\"x\":[24128],\"xaxis\":\"x\",\"y\":[\"Karadeniz\"],\"yaxis\":\"y\"},{\"alignmentgroup\":\"True\",\"hovertemplate\":\"city-\\u015fehir=Bilecik<br>1_dose-1.doz=%{x}<br>B\\u00f6lge-Region=%{y}<extra></extra>\",\"legendgroup\":\"Bilecik\",\"marker\":{\"color\":\"#19d3f3\",\"pattern\":{\"shape\":\"\"}},\"name\":\"Bilecik\",\"offsetgroup\":\"Bilecik\",\"orientation\":\"h\",\"showlegend\":true,\"textposition\":\"auto\",\"type\":\"bar\",\"x\":[108385],\"xaxis\":\"x\",\"y\":[\"Marmara\"],\"yaxis\":\"y\"},{\"alignmentgroup\":\"True\",\"hovertemplate\":\"city-\\u015fehir=Bing\\u00f6l<br>1_dose-1.doz=%{x}<br>B\\u00f6lge-Region=%{y}<extra></extra>\",\"legendgroup\":\"Bing\\u00f6l\",\"marker\":{\"color\":\"#FF6692\",\"pattern\":{\"shape\":\"\"}},\"name\":\"Bing\\u00f6l\",\"offsetgroup\":\"Bing\\u00f6l\",\"orientation\":\"h\",\"showlegend\":true,\"textposition\":\"auto\",\"type\":\"bar\",\"x\":[57366],\"xaxis\":\"x\",\"y\":[\"Do\\u011fu Anadolu\"],\"yaxis\":\"y\"},{\"alignmentgroup\":\"True\",\"hovertemplate\":\"city-\\u015fehir=Bitlis<br>1_dose-1.doz=%{x}<br>B\\u00f6lge-Region=%{y}<extra></extra>\",\"legendgroup\":\"Bitlis\",\"marker\":{\"color\":\"#B6E880\",\"pattern\":{\"shape\":\"\"}},\"name\":\"Bitlis\",\"offsetgroup\":\"Bitlis\",\"orientation\":\"h\",\"showlegend\":true,\"textposition\":\"auto\",\"type\":\"bar\",\"x\":[51093],\"xaxis\":\"x\",\"y\":[\"Do\\u011fu Anadolu\"],\"yaxis\":\"y\"},{\"alignmentgroup\":\"True\",\"hovertemplate\":\"city-\\u015fehir=Bolu<br>1_dose-1.doz=%{x}<br>B\\u00f6lge-Region=%{y}<extra></extra>\",\"legendgroup\":\"Bolu\",\"marker\":{\"color\":\"#FF97FF\",\"pattern\":{\"shape\":\"\"}},\"name\":\"Bolu\",\"offsetgroup\":\"Bolu\",\"orientation\":\"h\",\"showlegend\":true,\"textposition\":\"auto\",\"type\":\"bar\",\"x\":[151636],\"xaxis\":\"x\",\"y\":[\"Karadeniz\"],\"yaxis\":\"y\"},{\"alignmentgroup\":\"True\",\"hovertemplate\":\"city-\\u015fehir=Burdur<br>1_dose-1.doz=%{x}<br>B\\u00f6lge-Region=%{y}<extra></extra>\",\"legendgroup\":\"Burdur\",\"marker\":{\"color\":\"#FECB52\",\"pattern\":{\"shape\":\"\"}},\"name\":\"Burdur\",\"offsetgroup\":\"Burdur\",\"orientation\":\"h\",\"showlegend\":true,\"textposition\":\"auto\",\"type\":\"bar\",\"x\":[128036],\"xaxis\":\"x\",\"y\":[\"Akdeniz\"],\"yaxis\":\"y\"},{\"alignmentgroup\":\"True\",\"hovertemplate\":\"city-\\u015fehir=Bursa<br>1_dose-1.doz=%{x}<br>B\\u00f6lge-Region=%{y}<extra></extra>\",\"legendgroup\":\"Bursa\",\"marker\":{\"color\":\"#636efa\",\"pattern\":{\"shape\":\"\"}},\"name\":\"Bursa\",\"offsetgroup\":\"Bursa\",\"orientation\":\"h\",\"showlegend\":true,\"textposition\":\"auto\",\"type\":\"bar\",\"x\":[1272038],\"xaxis\":\"x\",\"y\":[\"Marmara\"],\"yaxis\":\"y\"},{\"alignmentgroup\":\"True\",\"hovertemplate\":\"city-\\u015fehir=\\u00c7anakkale<br>1_dose-1.doz=%{x}<br>B\\u00f6lge-Region=%{y}<extra></extra>\",\"legendgroup\":\"\\u00c7anakkale\",\"marker\":{\"color\":\"#EF553B\",\"pattern\":{\"shape\":\"\"}},\"name\":\"\\u00c7anakkale\",\"offsetgroup\":\"\\u00c7anakkale\",\"orientation\":\"h\",\"showlegend\":true,\"textposition\":\"auto\",\"type\":\"bar\",\"x\":[298662],\"xaxis\":\"x\",\"y\":[\"Marmara\"],\"yaxis\":\"y\"},{\"alignmentgroup\":\"True\",\"hovertemplate\":\"city-\\u015fehir=\\u00c7ank\\u0131r\\u0131<br>1_dose-1.doz=%{x}<br>B\\u00f6lge-Region=%{y}<extra></extra>\",\"legendgroup\":\"\\u00c7ank\\u0131r\\u0131\",\"marker\":{\"color\":\"#00cc96\",\"pattern\":{\"shape\":\"\"}},\"name\":\"\\u00c7ank\\u0131r\\u0131\",\"offsetgroup\":\"\\u00c7ank\\u0131r\\u0131\",\"orientation\":\"h\",\"showlegend\":true,\"textposition\":\"auto\",\"type\":\"bar\",\"x\":[81521],\"xaxis\":\"x\",\"y\":[\"\\u0130\\u00e7 Anadolu\"],\"yaxis\":\"y\"},{\"alignmentgroup\":\"True\",\"hovertemplate\":\"city-\\u015fehir=\\u00c7orum<br>1_dose-1.doz=%{x}<br>B\\u00f6lge-Region=%{y}<extra></extra>\",\"legendgroup\":\"\\u00c7orum\",\"marker\":{\"color\":\"#ab63fa\",\"pattern\":{\"shape\":\"\"}},\"name\":\"\\u00c7orum\",\"offsetgroup\":\"\\u00c7orum\",\"orientation\":\"h\",\"showlegend\":true,\"textposition\":\"auto\",\"type\":\"bar\",\"x\":[238440],\"xaxis\":\"x\",\"y\":[\"Karadeniz\"],\"yaxis\":\"y\"},{\"alignmentgroup\":\"True\",\"hovertemplate\":\"city-\\u015fehir=Denizli<br>1_dose-1.doz=%{x}<br>B\\u00f6lge-Region=%{y}<extra></extra>\",\"legendgroup\":\"Denizli\",\"marker\":{\"color\":\"#FFA15A\",\"pattern\":{\"shape\":\"\"}},\"name\":\"Denizli\",\"offsetgroup\":\"Denizli\",\"orientation\":\"h\",\"showlegend\":true,\"textposition\":\"auto\",\"type\":\"bar\",\"x\":[475605],\"xaxis\":\"x\",\"y\":[\"Ege\"],\"yaxis\":\"y\"},{\"alignmentgroup\":\"True\",\"hovertemplate\":\"city-\\u015fehir=Diyarbak\\u0131r<br>1_dose-1.doz=%{x}<br>B\\u00f6lge-Region=%{y}<extra></extra>\",\"legendgroup\":\"Diyarbak\\u0131r\",\"marker\":{\"color\":\"#19d3f3\",\"pattern\":{\"shape\":\"\"}},\"name\":\"Diyarbak\\u0131r\",\"offsetgroup\":\"Diyarbak\\u0131r\",\"orientation\":\"h\",\"showlegend\":true,\"textposition\":\"auto\",\"type\":\"bar\",\"x\":[307868],\"xaxis\":\"x\",\"y\":[\"G\\u00fcneydo\\u011fu Anadolu\"],\"yaxis\":\"y\"},{\"alignmentgroup\":\"True\",\"hovertemplate\":\"city-\\u015fehir=D\\u00fczce<br>1_dose-1.doz=%{x}<br>B\\u00f6lge-Region=%{y}<extra></extra>\",\"legendgroup\":\"D\\u00fczce\",\"marker\":{\"color\":\"#FF6692\",\"pattern\":{\"shape\":\"\"}},\"name\":\"D\\u00fczce\",\"offsetgroup\":\"D\\u00fczce\",\"orientation\":\"h\",\"showlegend\":true,\"textposition\":\"auto\",\"type\":\"bar\",\"x\":[158046],\"xaxis\":\"x\",\"y\":[null],\"yaxis\":\"y\"},{\"alignmentgroup\":\"True\",\"hovertemplate\":\"city-\\u015fehir=Edirne<br>1_dose-1.doz=%{x}<br>B\\u00f6lge-Region=%{y}<extra></extra>\",\"legendgroup\":\"Edirne\",\"marker\":{\"color\":\"#B6E880\",\"pattern\":{\"shape\":\"\"}},\"name\":\"Edirne\",\"offsetgroup\":\"Edirne\",\"orientation\":\"h\",\"showlegend\":true,\"textposition\":\"auto\",\"type\":\"bar\",\"x\":[226150],\"xaxis\":\"x\",\"y\":[\"Marmara\"],\"yaxis\":\"y\"},{\"alignmentgroup\":\"True\",\"hovertemplate\":\"city-\\u015fehir=Elaz\\u0131\\u011f<br>1_dose-1.doz=%{x}<br>B\\u00f6lge-Region=%{y}<extra></extra>\",\"legendgroup\":\"Elaz\\u0131\\u011f\",\"marker\":{\"color\":\"#FF97FF\",\"pattern\":{\"shape\":\"\"}},\"name\":\"Elaz\\u0131\\u011f\",\"offsetgroup\":\"Elaz\\u0131\\u011f\",\"orientation\":\"h\",\"showlegend\":true,\"textposition\":\"auto\",\"type\":\"bar\",\"x\":[191848],\"xaxis\":\"x\",\"y\":[\"Do\\u011fu Anadolu\"],\"yaxis\":\"y\"},{\"alignmentgroup\":\"True\",\"hovertemplate\":\"city-\\u015fehir=Erzincan<br>1_dose-1.doz=%{x}<br>B\\u00f6lge-Region=%{y}<extra></extra>\",\"legendgroup\":\"Erzincan\",\"marker\":{\"color\":\"#FECB52\",\"pattern\":{\"shape\":\"\"}},\"name\":\"Erzincan\",\"offsetgroup\":\"Erzincan\",\"orientation\":\"h\",\"showlegend\":true,\"textposition\":\"auto\",\"type\":\"bar\",\"x\":[91827],\"xaxis\":\"x\",\"y\":[\"Do\\u011fu Anadolu\"],\"yaxis\":\"y\"},{\"alignmentgroup\":\"True\",\"hovertemplate\":\"city-\\u015fehir=Erzurum<br>1_dose-1.doz=%{x}<br>B\\u00f6lge-Region=%{y}<extra></extra>\",\"legendgroup\":\"Erzurum\",\"marker\":{\"color\":\"#636efa\",\"pattern\":{\"shape\":\"\"}},\"name\":\"Erzurum\",\"offsetgroup\":\"Erzurum\",\"orientation\":\"h\",\"showlegend\":true,\"textposition\":\"auto\",\"type\":\"bar\",\"x\":[212225],\"xaxis\":\"x\",\"y\":[\"Do\\u011fu Anadolu\"],\"yaxis\":\"y\"},{\"alignmentgroup\":\"True\",\"hovertemplate\":\"city-\\u015fehir=Eski\\u015fehir<br>1_dose-1.doz=%{x}<br>B\\u00f6lge-Region=%{y}<extra></extra>\",\"legendgroup\":\"Eski\\u015fehir\",\"marker\":{\"color\":\"#EF553B\",\"pattern\":{\"shape\":\"\"}},\"name\":\"Eski\\u015fehir\",\"offsetgroup\":\"Eski\\u015fehir\",\"orientation\":\"h\",\"showlegend\":true,\"textposition\":\"auto\",\"type\":\"bar\",\"x\":[457620],\"xaxis\":\"x\",\"y\":[\"\\u0130\\u00e7 Anadolu\"],\"yaxis\":\"y\"},{\"alignmentgroup\":\"True\",\"hovertemplate\":\"city-\\u015fehir=Gaziantep<br>1_dose-1.doz=%{x}<br>B\\u00f6lge-Region=%{y}<extra></extra>\",\"legendgroup\":\"Gaziantep\",\"marker\":{\"color\":\"#00cc96\",\"pattern\":{\"shape\":\"\"}},\"name\":\"Gaziantep\",\"offsetgroup\":\"Gaziantep\",\"orientation\":\"h\",\"showlegend\":true,\"textposition\":\"auto\",\"type\":\"bar\",\"x\":[570536],\"xaxis\":\"x\",\"y\":[\"G\\u00fcneydo\\u011fu Anadolu\"],\"yaxis\":\"y\"},{\"alignmentgroup\":\"True\",\"hovertemplate\":\"city-\\u015fehir=Giresun<br>1_dose-1.doz=%{x}<br>B\\u00f6lge-Region=%{y}<extra></extra>\",\"legendgroup\":\"Giresun\",\"marker\":{\"color\":\"#ab63fa\",\"pattern\":{\"shape\":\"\"}},\"name\":\"Giresun\",\"offsetgroup\":\"Giresun\",\"orientation\":\"h\",\"showlegend\":true,\"textposition\":\"auto\",\"type\":\"bar\",\"x\":[210905],\"xaxis\":\"x\",\"y\":[\"Karadeniz\"],\"yaxis\":\"y\"},{\"alignmentgroup\":\"True\",\"hovertemplate\":\"city-\\u015fehir=G\\u00fcm\\u00fc\\u015fhane<br>1_dose-1.doz=%{x}<br>B\\u00f6lge-Region=%{y}<extra></extra>\",\"legendgroup\":\"G\\u00fcm\\u00fc\\u015fhane\",\"marker\":{\"color\":\"#FFA15A\",\"pattern\":{\"shape\":\"\"}},\"name\":\"G\\u00fcm\\u00fc\\u015fhane\",\"offsetgroup\":\"G\\u00fcm\\u00fc\\u015fhane\",\"orientation\":\"h\",\"showlegend\":true,\"textposition\":\"auto\",\"type\":\"bar\",\"x\":[41380],\"xaxis\":\"x\",\"y\":[\"Karadeniz\"],\"yaxis\":\"y\"},{\"alignmentgroup\":\"True\",\"hovertemplate\":\"city-\\u015fehir=Hakkari<br>1_dose-1.doz=%{x}<br>B\\u00f6lge-Region=%{y}<extra></extra>\",\"legendgroup\":\"Hakkari\",\"marker\":{\"color\":\"#19d3f3\",\"pattern\":{\"shape\":\"\"}},\"name\":\"Hakkari\",\"offsetgroup\":\"Hakkari\",\"orientation\":\"h\",\"showlegend\":true,\"textposition\":\"auto\",\"type\":\"bar\",\"x\":[47078],\"xaxis\":\"x\",\"y\":[\"Do\\u011fu Anadolu\"],\"yaxis\":\"y\"},{\"alignmentgroup\":\"True\",\"hovertemplate\":\"city-\\u015fehir=Hatay<br>1_dose-1.doz=%{x}<br>B\\u00f6lge-Region=%{y}<extra></extra>\",\"legendgroup\":\"Hatay\",\"marker\":{\"color\":\"#FF6692\",\"pattern\":{\"shape\":\"\"}},\"name\":\"Hatay\",\"offsetgroup\":\"Hatay\",\"orientation\":\"h\",\"showlegend\":true,\"textposition\":\"auto\",\"type\":\"bar\",\"x\":[512074],\"xaxis\":\"x\",\"y\":[\"Akdeniz\"],\"yaxis\":\"y\"},{\"alignmentgroup\":\"True\",\"hovertemplate\":\"city-\\u015fehir=I\\u011fd\\u0131r<br>1_dose-1.doz=%{x}<br>B\\u00f6lge-Region=%{y}<extra></extra>\",\"legendgroup\":\"I\\u011fd\\u0131r\",\"marker\":{\"color\":\"#B6E880\",\"pattern\":{\"shape\":\"\"}},\"name\":\"I\\u011fd\\u0131r\",\"offsetgroup\":\"I\\u011fd\\u0131r\",\"orientation\":\"h\",\"showlegend\":true,\"textposition\":\"auto\",\"type\":\"bar\",\"x\":[43627],\"xaxis\":\"x\",\"y\":[null],\"yaxis\":\"y\"},{\"alignmentgroup\":\"True\",\"hovertemplate\":\"city-\\u015fehir=Isparta<br>1_dose-1.doz=%{x}<br>B\\u00f6lge-Region=%{y}<extra></extra>\",\"legendgroup\":\"Isparta\",\"marker\":{\"color\":\"#FF97FF\",\"pattern\":{\"shape\":\"\"}},\"name\":\"Isparta\",\"offsetgroup\":\"Isparta\",\"orientation\":\"h\",\"showlegend\":true,\"textposition\":\"auto\",\"type\":\"bar\",\"x\":[205991],\"xaxis\":\"x\",\"y\":[\"Akdeniz\"],\"yaxis\":\"y\"},{\"alignmentgroup\":\"True\",\"hovertemplate\":\"city-\\u015fehir=\\u0130stanbul<br>1_dose-1.doz=%{x}<br>B\\u00f6lge-Region=%{y}<extra></extra>\",\"legendgroup\":\"\\u0130stanbul\",\"marker\":{\"color\":\"#FECB52\",\"pattern\":{\"shape\":\"\"}},\"name\":\"\\u0130stanbul\",\"offsetgroup\":\"\\u0130stanbul\",\"orientation\":\"h\",\"showlegend\":true,\"textposition\":\"auto\",\"type\":\"bar\",\"x\":[6197550],\"xaxis\":\"x\",\"y\":[\"Marmara\"],\"yaxis\":\"y\"},{\"alignmentgroup\":\"True\",\"hovertemplate\":\"city-\\u015fehir=\\u0130zmir<br>1_dose-1.doz=%{x}<br>B\\u00f6lge-Region=%{y}<extra></extra>\",\"legendgroup\":\"\\u0130zmir\",\"marker\":{\"color\":\"#636efa\",\"pattern\":{\"shape\":\"\"}},\"name\":\"\\u0130zmir\",\"offsetgroup\":\"\\u0130zmir\",\"orientation\":\"h\",\"showlegend\":true,\"textposition\":\"auto\",\"type\":\"bar\",\"x\":[2136705],\"xaxis\":\"x\",\"y\":[\"Ege\"],\"yaxis\":\"y\"},{\"alignmentgroup\":\"True\",\"hovertemplate\":\"city-\\u015fehir=Kahramanmara\\u015f<br>1_dose-1.doz=%{x}<br>B\\u00f6lge-Region=%{y}<extra></extra>\",\"legendgroup\":\"Kahramanmara\\u015f\",\"marker\":{\"color\":\"#EF553B\",\"pattern\":{\"shape\":\"\"}},\"name\":\"Kahramanmara\\u015f\",\"offsetgroup\":\"Kahramanmara\\u015f\",\"orientation\":\"h\",\"showlegend\":true,\"textposition\":\"auto\",\"type\":\"bar\",\"x\":[336185],\"xaxis\":\"x\",\"y\":[\"Akdeniz\"],\"yaxis\":\"y\"},{\"alignmentgroup\":\"True\",\"hovertemplate\":\"city-\\u015fehir=Karab\\u00fck<br>1_dose-1.doz=%{x}<br>B\\u00f6lge-Region=%{y}<extra></extra>\",\"legendgroup\":\"Karab\\u00fck\",\"marker\":{\"color\":\"#00cc96\",\"pattern\":{\"shape\":\"\"}},\"name\":\"Karab\\u00fck\",\"offsetgroup\":\"Karab\\u00fck\",\"orientation\":\"h\",\"showlegend\":true,\"textposition\":\"auto\",\"type\":\"bar\",\"x\":[107924],\"xaxis\":\"x\",\"y\":[\"Karadeniz\"],\"yaxis\":\"y\"},{\"alignmentgroup\":\"True\",\"hovertemplate\":\"city-\\u015fehir=Karaman<br>1_dose-1.doz=%{x}<br>B\\u00f6lge-Region=%{y}<extra></extra>\",\"legendgroup\":\"Karaman\",\"marker\":{\"color\":\"#ab63fa\",\"pattern\":{\"shape\":\"\"}},\"name\":\"Karaman\",\"offsetgroup\":\"Karaman\",\"orientation\":\"h\",\"showlegend\":true,\"textposition\":\"auto\",\"type\":\"bar\",\"x\":[96204],\"xaxis\":\"x\",\"y\":[\"\\u0130\\u00e7 Anadolu\"],\"yaxis\":\"y\"},{\"alignmentgroup\":\"True\",\"hovertemplate\":\"city-\\u015fehir=Kars<br>1_dose-1.doz=%{x}<br>B\\u00f6lge-Region=%{y}<extra></extra>\",\"legendgroup\":\"Kars\",\"marker\":{\"color\":\"#FFA15A\",\"pattern\":{\"shape\":\"\"}},\"name\":\"Kars\",\"offsetgroup\":\"Kars\",\"orientation\":\"h\",\"showlegend\":true,\"textposition\":\"auto\",\"type\":\"bar\",\"x\":[81829],\"xaxis\":\"x\",\"y\":[\"Do\\u011fu Anadolu\"],\"yaxis\":\"y\"},{\"alignmentgroup\":\"True\",\"hovertemplate\":\"city-\\u015fehir=Kastamonu<br>1_dose-1.doz=%{x}<br>B\\u00f6lge-Region=%{y}<extra></extra>\",\"legendgroup\":\"Kastamonu\",\"marker\":{\"color\":\"#19d3f3\",\"pattern\":{\"shape\":\"\"}},\"name\":\"Kastamonu\",\"offsetgroup\":\"Kastamonu\",\"orientation\":\"h\",\"showlegend\":true,\"textposition\":\"auto\",\"type\":\"bar\",\"x\":[175799],\"xaxis\":\"x\",\"y\":[\"Karadeniz\"],\"yaxis\":\"y\"},{\"alignmentgroup\":\"True\",\"hovertemplate\":\"city-\\u015fehir=Kayseri<br>1_dose-1.doz=%{x}<br>B\\u00f6lge-Region=%{y}<extra></extra>\",\"legendgroup\":\"Kayseri\",\"marker\":{\"color\":\"#FF6692\",\"pattern\":{\"shape\":\"\"}},\"name\":\"Kayseri\",\"offsetgroup\":\"Kayseri\",\"orientation\":\"h\",\"showlegend\":true,\"textposition\":\"auto\",\"type\":\"bar\",\"x\":[534876],\"xaxis\":\"x\",\"y\":[\"\\u0130\\u00e7 Anadolu\"],\"yaxis\":\"y\"},{\"alignmentgroup\":\"True\",\"hovertemplate\":\"city-\\u015fehir=K\\u0131r\\u0131kkale<br>1_dose-1.doz=%{x}<br>B\\u00f6lge-Region=%{y}<extra></extra>\",\"legendgroup\":\"K\\u0131r\\u0131kkale\",\"marker\":{\"color\":\"#B6E880\",\"pattern\":{\"shape\":\"\"}},\"name\":\"K\\u0131r\\u0131kkale\",\"offsetgroup\":\"K\\u0131r\\u0131kkale\",\"orientation\":\"h\",\"showlegend\":true,\"textposition\":\"auto\",\"type\":\"bar\",\"x\":[114702],\"xaxis\":\"x\",\"y\":[\"\\u0130\\u00e7 Anadolu\"],\"yaxis\":\"y\"},{\"alignmentgroup\":\"True\",\"hovertemplate\":\"city-\\u015fehir=K\\u0131rklareli<br>1_dose-1.doz=%{x}<br>B\\u00f6lge-Region=%{y}<extra></extra>\",\"legendgroup\":\"K\\u0131rklareli\",\"marker\":{\"color\":\"#FF97FF\",\"pattern\":{\"shape\":\"\"}},\"name\":\"K\\u0131rklareli\",\"offsetgroup\":\"K\\u0131rklareli\",\"orientation\":\"h\",\"showlegend\":true,\"textposition\":\"auto\",\"type\":\"bar\",\"x\":[197631],\"xaxis\":\"x\",\"y\":[\"Marmara\"],\"yaxis\":\"y\"},{\"alignmentgroup\":\"True\",\"hovertemplate\":\"city-\\u015fehir=K\\u0131r\\u015fehir<br>1_dose-1.doz=%{x}<br>B\\u00f6lge-Region=%{y}<extra></extra>\",\"legendgroup\":\"K\\u0131r\\u015fehir\",\"marker\":{\"color\":\"#FECB52\",\"pattern\":{\"shape\":\"\"}},\"name\":\"K\\u0131r\\u015fehir\",\"offsetgroup\":\"K\\u0131r\\u015fehir\",\"orientation\":\"h\",\"showlegend\":true,\"textposition\":\"auto\",\"type\":\"bar\",\"x\":[106990],\"xaxis\":\"x\",\"y\":[\"\\u0130\\u00e7 Anadolu\"],\"yaxis\":\"y\"},{\"alignmentgroup\":\"True\",\"hovertemplate\":\"city-\\u015fehir=Kilis<br>1_dose-1.doz=%{x}<br>B\\u00f6lge-Region=%{y}<extra></extra>\",\"legendgroup\":\"Kilis\",\"marker\":{\"color\":\"#636efa\",\"pattern\":{\"shape\":\"\"}},\"name\":\"Kilis\",\"offsetgroup\":\"Kilis\",\"orientation\":\"h\",\"showlegend\":true,\"textposition\":\"auto\",\"type\":\"bar\",\"x\":[43872],\"xaxis\":\"x\",\"y\":[\"G\\u00fcneydo\\u011fu Anadolu\"],\"yaxis\":\"y\"},{\"alignmentgroup\":\"True\",\"hovertemplate\":\"city-\\u015fehir=Kocaeli<br>1_dose-1.doz=%{x}<br>B\\u00f6lge-Region=%{y}<extra></extra>\",\"legendgroup\":\"Kocaeli\",\"marker\":{\"color\":\"#EF553B\",\"pattern\":{\"shape\":\"\"}},\"name\":\"Kocaeli\",\"offsetgroup\":\"Kocaeli\",\"orientation\":\"h\",\"showlegend\":true,\"textposition\":\"auto\",\"type\":\"bar\",\"x\":[793994],\"xaxis\":\"x\",\"y\":[\"Marmara\"],\"yaxis\":\"y\"},{\"alignmentgroup\":\"True\",\"hovertemplate\":\"city-\\u015fehir=Konya<br>1_dose-1.doz=%{x}<br>B\\u00f6lge-Region=%{y}<extra></extra>\",\"legendgroup\":\"Konya\",\"marker\":{\"color\":\"#00cc96\",\"pattern\":{\"shape\":\"\"}},\"name\":\"Konya\",\"offsetgroup\":\"Konya\",\"orientation\":\"h\",\"showlegend\":true,\"textposition\":\"auto\",\"type\":\"bar\",\"x\":[757561],\"xaxis\":\"x\",\"y\":[\"\\u0130\\u00e7 Anadolu\"],\"yaxis\":\"y\"},{\"alignmentgroup\":\"True\",\"hovertemplate\":\"city-\\u015fehir=K\\u00fctahya<br>1_dose-1.doz=%{x}<br>B\\u00f6lge-Region=%{y}<extra></extra>\",\"legendgroup\":\"K\\u00fctahya\",\"marker\":{\"color\":\"#ab63fa\",\"pattern\":{\"shape\":\"\"}},\"name\":\"K\\u00fctahya\",\"offsetgroup\":\"K\\u00fctahya\",\"orientation\":\"h\",\"showlegend\":true,\"textposition\":\"auto\",\"type\":\"bar\",\"x\":[254612],\"xaxis\":\"x\",\"y\":[\"Ege\"],\"yaxis\":\"y\"},{\"alignmentgroup\":\"True\",\"hovertemplate\":\"city-\\u015fehir=Malatya<br>1_dose-1.doz=%{x}<br>B\\u00f6lge-Region=%{y}<extra></extra>\",\"legendgroup\":\"Malatya\",\"marker\":{\"color\":\"#FFA15A\",\"pattern\":{\"shape\":\"\"}},\"name\":\"Malatya\",\"offsetgroup\":\"Malatya\",\"orientation\":\"h\",\"showlegend\":true,\"textposition\":\"auto\",\"type\":\"bar\",\"x\":[290096],\"xaxis\":\"x\",\"y\":[\"Do\\u011fu Anadolu\"],\"yaxis\":\"y\"},{\"alignmentgroup\":\"True\",\"hovertemplate\":\"city-\\u015fehir=Manisa<br>1_dose-1.doz=%{x}<br>B\\u00f6lge-Region=%{y}<extra></extra>\",\"legendgroup\":\"Manisa\",\"marker\":{\"color\":\"#19d3f3\",\"pattern\":{\"shape\":\"\"}},\"name\":\"Manisa\",\"offsetgroup\":\"Manisa\",\"orientation\":\"h\",\"showlegend\":true,\"textposition\":\"auto\",\"type\":\"bar\",\"x\":[637609],\"xaxis\":\"x\",\"y\":[\"Ege\"],\"yaxis\":\"y\"},{\"alignmentgroup\":\"True\",\"hovertemplate\":\"city-\\u015fehir=Mardin<br>1_dose-1.doz=%{x}<br>B\\u00f6lge-Region=%{y}<extra></extra>\",\"legendgroup\":\"Mardin\",\"marker\":{\"color\":\"#FF6692\",\"pattern\":{\"shape\":\"\"}},\"name\":\"Mardin\",\"offsetgroup\":\"Mardin\",\"orientation\":\"h\",\"showlegend\":true,\"textposition\":\"auto\",\"type\":\"bar\",\"x\":[124235],\"xaxis\":\"x\",\"y\":[\"G\\u00fcneydo\\u011fu Anadolu\"],\"yaxis\":\"y\"},{\"alignmentgroup\":\"True\",\"hovertemplate\":\"city-\\u015fehir=Mersin<br>1_dose-1.doz=%{x}<br>B\\u00f6lge-Region=%{y}<extra></extra>\",\"legendgroup\":\"Mersin\",\"marker\":{\"color\":\"#B6E880\",\"pattern\":{\"shape\":\"\"}},\"name\":\"Mersin\",\"offsetgroup\":\"Mersin\",\"orientation\":\"h\",\"showlegend\":true,\"textposition\":\"auto\",\"type\":\"bar\",\"x\":[730833],\"xaxis\":\"x\",\"y\":[\"Akdeniz\"],\"yaxis\":\"y\"},{\"alignmentgroup\":\"True\",\"hovertemplate\":\"city-\\u015fehir=Mu\\u011fla<br>1_dose-1.doz=%{x}<br>B\\u00f6lge-Region=%{y}<extra></extra>\",\"legendgroup\":\"Mu\\u011fla\",\"marker\":{\"color\":\"#FF97FF\",\"pattern\":{\"shape\":\"\"}},\"name\":\"Mu\\u011fla\",\"offsetgroup\":\"Mu\\u011fla\",\"orientation\":\"h\",\"showlegend\":true,\"textposition\":\"auto\",\"type\":\"bar\",\"x\":[578641],\"xaxis\":\"x\",\"y\":[\"Ege\"],\"yaxis\":\"y\"},{\"alignmentgroup\":\"True\",\"hovertemplate\":\"city-\\u015fehir=Mu\\u015f<br>1_dose-1.doz=%{x}<br>B\\u00f6lge-Region=%{y}<extra></extra>\",\"legendgroup\":\"Mu\\u015f\",\"marker\":{\"color\":\"#FECB52\",\"pattern\":{\"shape\":\"\"}},\"name\":\"Mu\\u015f\",\"offsetgroup\":\"Mu\\u015f\",\"orientation\":\"h\",\"showlegend\":true,\"textposition\":\"auto\",\"type\":\"bar\",\"x\":[62187],\"xaxis\":\"x\",\"y\":[\"Do\\u011fu Anadolu\"],\"yaxis\":\"y\"},{\"alignmentgroup\":\"True\",\"hovertemplate\":\"city-\\u015fehir=Nev\\u015fehir<br>1_dose-1.doz=%{x}<br>B\\u00f6lge-Region=%{y}<extra></extra>\",\"legendgroup\":\"Nev\\u015fehir\",\"marker\":{\"color\":\"#636efa\",\"pattern\":{\"shape\":\"\"}},\"name\":\"Nev\\u015fehir\",\"offsetgroup\":\"Nev\\u015fehir\",\"orientation\":\"h\",\"showlegend\":true,\"textposition\":\"auto\",\"type\":\"bar\",\"x\":[122431],\"xaxis\":\"x\",\"y\":[\"\\u0130\\u00e7 Anadolu\"],\"yaxis\":\"y\"},{\"alignmentgroup\":\"True\",\"hovertemplate\":\"city-\\u015fehir=Ni\\u011fde<br>1_dose-1.doz=%{x}<br>B\\u00f6lge-Region=%{y}<extra></extra>\",\"legendgroup\":\"Ni\\u011fde\",\"marker\":{\"color\":\"#EF553B\",\"pattern\":{\"shape\":\"\"}},\"name\":\"Ni\\u011fde\",\"offsetgroup\":\"Ni\\u011fde\",\"orientation\":\"h\",\"showlegend\":true,\"textposition\":\"auto\",\"type\":\"bar\",\"x\":[123623],\"xaxis\":\"x\",\"y\":[\"\\u0130\\u00e7 Anadolu\"],\"yaxis\":\"y\"},{\"alignmentgroup\":\"True\",\"hovertemplate\":\"city-\\u015fehir=Ordu<br>1_dose-1.doz=%{x}<br>B\\u00f6lge-Region=%{y}<extra></extra>\",\"legendgroup\":\"Ordu\",\"marker\":{\"color\":\"#00cc96\",\"pattern\":{\"shape\":\"\"}},\"name\":\"Ordu\",\"offsetgroup\":\"Ordu\",\"orientation\":\"h\",\"showlegend\":true,\"textposition\":\"auto\",\"type\":\"bar\",\"x\":[352377],\"xaxis\":\"x\",\"y\":[\"Karadeniz\"],\"yaxis\":\"y\"},{\"alignmentgroup\":\"True\",\"hovertemplate\":\"city-\\u015fehir=Osmaniye<br>1_dose-1.doz=%{x}<br>B\\u00f6lge-Region=%{y}<extra></extra>\",\"legendgroup\":\"Osmaniye\",\"marker\":{\"color\":\"#ab63fa\",\"pattern\":{\"shape\":\"\"}},\"name\":\"Osmaniye\",\"offsetgroup\":\"Osmaniye\",\"orientation\":\"h\",\"showlegend\":true,\"textposition\":\"auto\",\"type\":\"bar\",\"x\":[198547],\"xaxis\":\"x\",\"y\":[\"Akdeniz\"],\"yaxis\":\"y\"},{\"alignmentgroup\":\"True\",\"hovertemplate\":\"city-\\u015fehir=Rize<br>1_dose-1.doz=%{x}<br>B\\u00f6lge-Region=%{y}<extra></extra>\",\"legendgroup\":\"Rize\",\"marker\":{\"color\":\"#FFA15A\",\"pattern\":{\"shape\":\"\"}},\"name\":\"Rize\",\"offsetgroup\":\"Rize\",\"orientation\":\"h\",\"showlegend\":true,\"textposition\":\"auto\",\"type\":\"bar\",\"x\":[145810],\"xaxis\":\"x\",\"y\":[\"Karadeniz\"],\"yaxis\":\"y\"},{\"alignmentgroup\":\"True\",\"hovertemplate\":\"city-\\u015fehir=Sakarya<br>1_dose-1.doz=%{x}<br>B\\u00f6lge-Region=%{y}<extra></extra>\",\"legendgroup\":\"Sakarya\",\"marker\":{\"color\":\"#19d3f3\",\"pattern\":{\"shape\":\"\"}},\"name\":\"Sakarya\",\"offsetgroup\":\"Sakarya\",\"orientation\":\"h\",\"showlegend\":true,\"textposition\":\"auto\",\"type\":\"bar\",\"x\":[395582],\"xaxis\":\"x\",\"y\":[\"Marmara\"],\"yaxis\":\"y\"},{\"alignmentgroup\":\"True\",\"hovertemplate\":\"city-\\u015fehir=Samsun<br>1_dose-1.doz=%{x}<br>B\\u00f6lge-Region=%{y}<extra></extra>\",\"legendgroup\":\"Samsun\",\"marker\":{\"color\":\"#FF6692\",\"pattern\":{\"shape\":\"\"}},\"name\":\"Samsun\",\"offsetgroup\":\"Samsun\",\"orientation\":\"h\",\"showlegend\":true,\"textposition\":\"auto\",\"type\":\"bar\",\"x\":[562448],\"xaxis\":\"x\",\"y\":[\"Karadeniz\"],\"yaxis\":\"y\"},{\"alignmentgroup\":\"True\",\"hovertemplate\":\"city-\\u015fehir=Siirt<br>1_dose-1.doz=%{x}<br>B\\u00f6lge-Region=%{y}<extra></extra>\",\"legendgroup\":\"Siirt\",\"marker\":{\"color\":\"#B6E880\",\"pattern\":{\"shape\":\"\"}},\"name\":\"Siirt\",\"offsetgroup\":\"Siirt\",\"orientation\":\"h\",\"showlegend\":true,\"textposition\":\"auto\",\"type\":\"bar\",\"x\":[45367],\"xaxis\":\"x\",\"y\":[\"G\\u00fcneydo\\u011fu Anadolu\"],\"yaxis\":\"y\"},{\"alignmentgroup\":\"True\",\"hovertemplate\":\"city-\\u015fehir=Sinop<br>1_dose-1.doz=%{x}<br>B\\u00f6lge-Region=%{y}<extra></extra>\",\"legendgroup\":\"Sinop\",\"marker\":{\"color\":\"#FF97FF\",\"pattern\":{\"shape\":\"\"}},\"name\":\"Sinop\",\"offsetgroup\":\"Sinop\",\"orientation\":\"h\",\"showlegend\":true,\"textposition\":\"auto\",\"type\":\"bar\",\"x\":[104450],\"xaxis\":\"x\",\"y\":[\"Karadeniz\"],\"yaxis\":\"y\"},{\"alignmentgroup\":\"True\",\"hovertemplate\":\"city-\\u015fehir=Sivas<br>1_dose-1.doz=%{x}<br>B\\u00f6lge-Region=%{y}<extra></extra>\",\"legendgroup\":\"Sivas\",\"marker\":{\"color\":\"#FECB52\",\"pattern\":{\"shape\":\"\"}},\"name\":\"Sivas\",\"offsetgroup\":\"Sivas\",\"orientation\":\"h\",\"showlegend\":true,\"textposition\":\"auto\",\"type\":\"bar\",\"x\":[245140],\"xaxis\":\"x\",\"y\":[\"\\u0130\\u00e7 Anadolu\"],\"yaxis\":\"y\"},{\"alignmentgroup\":\"True\",\"hovertemplate\":\"city-\\u015fehir=\\u015eanl\\u0131urfa<br>1_dose-1.doz=%{x}<br>B\\u00f6lge-Region=%{y}<extra></extra>\",\"legendgroup\":\"\\u015eanl\\u0131urfa\",\"marker\":{\"color\":\"#636efa\",\"pattern\":{\"shape\":\"\"}},\"name\":\"\\u015eanl\\u0131urfa\",\"offsetgroup\":\"\\u015eanl\\u0131urfa\",\"orientation\":\"h\",\"showlegend\":true,\"textposition\":\"auto\",\"type\":\"bar\",\"x\":[266534],\"xaxis\":\"x\",\"y\":[\"G\\u00fcneydo\\u011fu Anadolu\"],\"yaxis\":\"y\"},{\"alignmentgroup\":\"True\",\"hovertemplate\":\"city-\\u015fehir=\\u015e\\u0131rnak<br>1_dose-1.doz=%{x}<br>B\\u00f6lge-Region=%{y}<extra></extra>\",\"legendgroup\":\"\\u015e\\u0131rnak\",\"marker\":{\"color\":\"#EF553B\",\"pattern\":{\"shape\":\"\"}},\"name\":\"\\u015e\\u0131rnak\",\"offsetgroup\":\"\\u015e\\u0131rnak\",\"orientation\":\"h\",\"showlegend\":true,\"textposition\":\"auto\",\"type\":\"bar\",\"x\":[70624],\"xaxis\":\"x\",\"y\":[\"G\\u00fcneydo\\u011fu Anadolu\"],\"yaxis\":\"y\"},{\"alignmentgroup\":\"True\",\"hovertemplate\":\"city-\\u015fehir=Tekirda\\u011f<br>1_dose-1.doz=%{x}<br>B\\u00f6lge-Region=%{y}<extra></extra>\",\"legendgroup\":\"Tekirda\\u011f\",\"marker\":{\"color\":\"#00cc96\",\"pattern\":{\"shape\":\"\"}},\"name\":\"Tekirda\\u011f\",\"offsetgroup\":\"Tekirda\\u011f\",\"orientation\":\"h\",\"showlegend\":true,\"textposition\":\"auto\",\"type\":\"bar\",\"x\":[477726],\"xaxis\":\"x\",\"y\":[\"Marmara\"],\"yaxis\":\"y\"},{\"alignmentgroup\":\"True\",\"hovertemplate\":\"city-\\u015fehir=Tokat<br>1_dose-1.doz=%{x}<br>B\\u00f6lge-Region=%{y}<extra></extra>\",\"legendgroup\":\"Tokat\",\"marker\":{\"color\":\"#ab63fa\",\"pattern\":{\"shape\":\"\"}},\"name\":\"Tokat\",\"offsetgroup\":\"Tokat\",\"orientation\":\"h\",\"showlegend\":true,\"textposition\":\"auto\",\"type\":\"bar\",\"x\":[250396],\"xaxis\":\"x\",\"y\":[\"Karadeniz\"],\"yaxis\":\"y\"},{\"alignmentgroup\":\"True\",\"hovertemplate\":\"city-\\u015fehir=Trabzon<br>1_dose-1.doz=%{x}<br>B\\u00f6lge-Region=%{y}<extra></extra>\",\"legendgroup\":\"Trabzon\",\"marker\":{\"color\":\"#FFA15A\",\"pattern\":{\"shape\":\"\"}},\"name\":\"Trabzon\",\"offsetgroup\":\"Trabzon\",\"orientation\":\"h\",\"showlegend\":true,\"textposition\":\"auto\",\"type\":\"bar\",\"x\":[341832],\"xaxis\":\"x\",\"y\":[\"Karadeniz\"],\"yaxis\":\"y\"},{\"alignmentgroup\":\"True\",\"hovertemplate\":\"city-\\u015fehir=Tunceli<br>1_dose-1.doz=%{x}<br>B\\u00f6lge-Region=%{y}<extra></extra>\",\"legendgroup\":\"Tunceli\",\"marker\":{\"color\":\"#19d3f3\",\"pattern\":{\"shape\":\"\"}},\"name\":\"Tunceli\",\"offsetgroup\":\"Tunceli\",\"orientation\":\"h\",\"showlegend\":true,\"textposition\":\"auto\",\"type\":\"bar\",\"x\":[40463],\"xaxis\":\"x\",\"y\":[\"Do\\u011fu Anadolu\"],\"yaxis\":\"y\"},{\"alignmentgroup\":\"True\",\"hovertemplate\":\"city-\\u015fehir=U\\u015fak<br>1_dose-1.doz=%{x}<br>B\\u00f6lge-Region=%{y}<extra></extra>\",\"legendgroup\":\"U\\u015fak\",\"marker\":{\"color\":\"#FF6692\",\"pattern\":{\"shape\":\"\"}},\"name\":\"U\\u015fak\",\"offsetgroup\":\"U\\u015fak\",\"orientation\":\"h\",\"showlegend\":true,\"textposition\":\"auto\",\"type\":\"bar\",\"x\":[169159],\"xaxis\":\"x\",\"y\":[\"Ege\"],\"yaxis\":\"y\"},{\"alignmentgroup\":\"True\",\"hovertemplate\":\"city-\\u015fehir=Van<br>1_dose-1.doz=%{x}<br>B\\u00f6lge-Region=%{y}<extra></extra>\",\"legendgroup\":\"Van\",\"marker\":{\"color\":\"#B6E880\",\"pattern\":{\"shape\":\"\"}},\"name\":\"Van\",\"offsetgroup\":\"Van\",\"orientation\":\"h\",\"showlegend\":true,\"textposition\":\"auto\",\"type\":\"bar\",\"x\":[236641],\"xaxis\":\"x\",\"y\":[\"Do\\u011fu Anadolu\"],\"yaxis\":\"y\"},{\"alignmentgroup\":\"True\",\"hovertemplate\":\"city-\\u015fehir=Yalova<br>1_dose-1.doz=%{x}<br>B\\u00f6lge-Region=%{y}<extra></extra>\",\"legendgroup\":\"Yalova\",\"marker\":{\"color\":\"#FF97FF\",\"pattern\":{\"shape\":\"\"}},\"name\":\"Yalova\",\"offsetgroup\":\"Yalova\",\"orientation\":\"h\",\"showlegend\":true,\"textposition\":\"auto\",\"type\":\"bar\",\"x\":[129888],\"xaxis\":\"x\",\"y\":[\"Marmara\"],\"yaxis\":\"y\"},{\"alignmentgroup\":\"True\",\"hovertemplate\":\"city-\\u015fehir=Yozgat<br>1_dose-1.doz=%{x}<br>B\\u00f6lge-Region=%{y}<extra></extra>\",\"legendgroup\":\"Yozgat\",\"marker\":{\"color\":\"#FECB52\",\"pattern\":{\"shape\":\"\"}},\"name\":\"Yozgat\",\"offsetgroup\":\"Yozgat\",\"orientation\":\"h\",\"showlegend\":true,\"textposition\":\"auto\",\"type\":\"bar\",\"x\":[151825],\"xaxis\":\"x\",\"y\":[\"\\u0130\\u00e7 Anadolu\"],\"yaxis\":\"y\"},{\"alignmentgroup\":\"True\",\"hovertemplate\":\"city-\\u015fehir=Zonguldak<br>1_dose-1.doz=%{x}<br>B\\u00f6lge-Region=%{y}<extra></extra>\",\"legendgroup\":\"Zonguldak\",\"marker\":{\"color\":\"#636efa\",\"pattern\":{\"shape\":\"\"}},\"name\":\"Zonguldak\",\"offsetgroup\":\"Zonguldak\",\"orientation\":\"h\",\"showlegend\":true,\"textposition\":\"auto\",\"type\":\"bar\",\"x\":[275433],\"xaxis\":\"x\",\"y\":[\"Karadeniz\"],\"yaxis\":\"y\"}],                        {\"barmode\":\"relative\",\"legend\":{\"title\":{\"text\":\"city-\\u015fehir\"},\"tracegroupgap\":0},\"template\":{\"data\":{\"bar\":[{\"error_x\":{\"color\":\"#2a3f5f\"},\"error_y\":{\"color\":\"#2a3f5f\"},\"marker\":{\"line\":{\"color\":\"#E5ECF6\",\"width\":0.5},\"pattern\":{\"fillmode\":\"overlay\",\"size\":10,\"solidity\":0.2}},\"type\":\"bar\"}],\"barpolar\":[{\"marker\":{\"line\":{\"color\":\"#E5ECF6\",\"width\":0.5},\"pattern\":{\"fillmode\":\"overlay\",\"size\":10,\"solidity\":0.2}},\"type\":\"barpolar\"}],\"carpet\":[{\"aaxis\":{\"endlinecolor\":\"#2a3f5f\",\"gridcolor\":\"white\",\"linecolor\":\"white\",\"minorgridcolor\":\"white\",\"startlinecolor\":\"#2a3f5f\"},\"baxis\":{\"endlinecolor\":\"#2a3f5f\",\"gridcolor\":\"white\",\"linecolor\":\"white\",\"minorgridcolor\":\"white\",\"startlinecolor\":\"#2a3f5f\"},\"type\":\"carpet\"}],\"choropleth\":[{\"colorbar\":{\"outlinewidth\":0,\"ticks\":\"\"},\"type\":\"choropleth\"}],\"contour\":[{\"colorbar\":{\"outlinewidth\":0,\"ticks\":\"\"},\"colorscale\":[[0.0,\"#0d0887\"],[0.1111111111111111,\"#46039f\"],[0.2222222222222222,\"#7201a8\"],[0.3333333333333333,\"#9c179e\"],[0.4444444444444444,\"#bd3786\"],[0.5555555555555556,\"#d8576b\"],[0.6666666666666666,\"#ed7953\"],[0.7777777777777778,\"#fb9f3a\"],[0.8888888888888888,\"#fdca26\"],[1.0,\"#f0f921\"]],\"type\":\"contour\"}],\"contourcarpet\":[{\"colorbar\":{\"outlinewidth\":0,\"ticks\":\"\"},\"type\":\"contourcarpet\"}],\"heatmap\":[{\"colorbar\":{\"outlinewidth\":0,\"ticks\":\"\"},\"colorscale\":[[0.0,\"#0d0887\"],[0.1111111111111111,\"#46039f\"],[0.2222222222222222,\"#7201a8\"],[0.3333333333333333,\"#9c179e\"],[0.4444444444444444,\"#bd3786\"],[0.5555555555555556,\"#d8576b\"],[0.6666666666666666,\"#ed7953\"],[0.7777777777777778,\"#fb9f3a\"],[0.8888888888888888,\"#fdca26\"],[1.0,\"#f0f921\"]],\"type\":\"heatmap\"}],\"heatmapgl\":[{\"colorbar\":{\"outlinewidth\":0,\"ticks\":\"\"},\"colorscale\":[[0.0,\"#0d0887\"],[0.1111111111111111,\"#46039f\"],[0.2222222222222222,\"#7201a8\"],[0.3333333333333333,\"#9c179e\"],[0.4444444444444444,\"#bd3786\"],[0.5555555555555556,\"#d8576b\"],[0.6666666666666666,\"#ed7953\"],[0.7777777777777778,\"#fb9f3a\"],[0.8888888888888888,\"#fdca26\"],[1.0,\"#f0f921\"]],\"type\":\"heatmapgl\"}],\"histogram\":[{\"marker\":{\"pattern\":{\"fillmode\":\"overlay\",\"size\":10,\"solidity\":0.2}},\"type\":\"histogram\"}],\"histogram2d\":[{\"colorbar\":{\"outlinewidth\":0,\"ticks\":\"\"},\"colorscale\":[[0.0,\"#0d0887\"],[0.1111111111111111,\"#46039f\"],[0.2222222222222222,\"#7201a8\"],[0.3333333333333333,\"#9c179e\"],[0.4444444444444444,\"#bd3786\"],[0.5555555555555556,\"#d8576b\"],[0.6666666666666666,\"#ed7953\"],[0.7777777777777778,\"#fb9f3a\"],[0.8888888888888888,\"#fdca26\"],[1.0,\"#f0f921\"]],\"type\":\"histogram2d\"}],\"histogram2dcontour\":[{\"colorbar\":{\"outlinewidth\":0,\"ticks\":\"\"},\"colorscale\":[[0.0,\"#0d0887\"],[0.1111111111111111,\"#46039f\"],[0.2222222222222222,\"#7201a8\"],[0.3333333333333333,\"#9c179e\"],[0.4444444444444444,\"#bd3786\"],[0.5555555555555556,\"#d8576b\"],[0.6666666666666666,\"#ed7953\"],[0.7777777777777778,\"#fb9f3a\"],[0.8888888888888888,\"#fdca26\"],[1.0,\"#f0f921\"]],\"type\":\"histogram2dcontour\"}],\"mesh3d\":[{\"colorbar\":{\"outlinewidth\":0,\"ticks\":\"\"},\"type\":\"mesh3d\"}],\"parcoords\":[{\"line\":{\"colorbar\":{\"outlinewidth\":0,\"ticks\":\"\"}},\"type\":\"parcoords\"}],\"pie\":[{\"automargin\":true,\"type\":\"pie\"}],\"scatter\":[{\"marker\":{\"colorbar\":{\"outlinewidth\":0,\"ticks\":\"\"}},\"type\":\"scatter\"}],\"scatter3d\":[{\"line\":{\"colorbar\":{\"outlinewidth\":0,\"ticks\":\"\"}},\"marker\":{\"colorbar\":{\"outlinewidth\":0,\"ticks\":\"\"}},\"type\":\"scatter3d\"}],\"scattercarpet\":[{\"marker\":{\"colorbar\":{\"outlinewidth\":0,\"ticks\":\"\"}},\"type\":\"scattercarpet\"}],\"scattergeo\":[{\"marker\":{\"colorbar\":{\"outlinewidth\":0,\"ticks\":\"\"}},\"type\":\"scattergeo\"}],\"scattergl\":[{\"marker\":{\"colorbar\":{\"outlinewidth\":0,\"ticks\":\"\"}},\"type\":\"scattergl\"}],\"scattermapbox\":[{\"marker\":{\"colorbar\":{\"outlinewidth\":0,\"ticks\":\"\"}},\"type\":\"scattermapbox\"}],\"scatterpolar\":[{\"marker\":{\"colorbar\":{\"outlinewidth\":0,\"ticks\":\"\"}},\"type\":\"scatterpolar\"}],\"scatterpolargl\":[{\"marker\":{\"colorbar\":{\"outlinewidth\":0,\"ticks\":\"\"}},\"type\":\"scatterpolargl\"}],\"scatterternary\":[{\"marker\":{\"colorbar\":{\"outlinewidth\":0,\"ticks\":\"\"}},\"type\":\"scatterternary\"}],\"surface\":[{\"colorbar\":{\"outlinewidth\":0,\"ticks\":\"\"},\"colorscale\":[[0.0,\"#0d0887\"],[0.1111111111111111,\"#46039f\"],[0.2222222222222222,\"#7201a8\"],[0.3333333333333333,\"#9c179e\"],[0.4444444444444444,\"#bd3786\"],[0.5555555555555556,\"#d8576b\"],[0.6666666666666666,\"#ed7953\"],[0.7777777777777778,\"#fb9f3a\"],[0.8888888888888888,\"#fdca26\"],[1.0,\"#f0f921\"]],\"type\":\"surface\"}],\"table\":[{\"cells\":{\"fill\":{\"color\":\"#EBF0F8\"},\"line\":{\"color\":\"white\"}},\"header\":{\"fill\":{\"color\":\"#C8D4E3\"},\"line\":{\"color\":\"white\"}},\"type\":\"table\"}]},\"layout\":{\"annotationdefaults\":{\"arrowcolor\":\"#2a3f5f\",\"arrowhead\":0,\"arrowwidth\":1},\"autotypenumbers\":\"strict\",\"coloraxis\":{\"colorbar\":{\"outlinewidth\":0,\"ticks\":\"\"}},\"colorscale\":{\"diverging\":[[0,\"#8e0152\"],[0.1,\"#c51b7d\"],[0.2,\"#de77ae\"],[0.3,\"#f1b6da\"],[0.4,\"#fde0ef\"],[0.5,\"#f7f7f7\"],[0.6,\"#e6f5d0\"],[0.7,\"#b8e186\"],[0.8,\"#7fbc41\"],[0.9,\"#4d9221\"],[1,\"#276419\"]],\"sequential\":[[0.0,\"#0d0887\"],[0.1111111111111111,\"#46039f\"],[0.2222222222222222,\"#7201a8\"],[0.3333333333333333,\"#9c179e\"],[0.4444444444444444,\"#bd3786\"],[0.5555555555555556,\"#d8576b\"],[0.6666666666666666,\"#ed7953\"],[0.7777777777777778,\"#fb9f3a\"],[0.8888888888888888,\"#fdca26\"],[1.0,\"#f0f921\"]],\"sequentialminus\":[[0.0,\"#0d0887\"],[0.1111111111111111,\"#46039f\"],[0.2222222222222222,\"#7201a8\"],[0.3333333333333333,\"#9c179e\"],[0.4444444444444444,\"#bd3786\"],[0.5555555555555556,\"#d8576b\"],[0.6666666666666666,\"#ed7953\"],[0.7777777777777778,\"#fb9f3a\"],[0.8888888888888888,\"#fdca26\"],[1.0,\"#f0f921\"]]},\"colorway\":[\"#636efa\",\"#EF553B\",\"#00cc96\",\"#ab63fa\",\"#FFA15A\",\"#19d3f3\",\"#FF6692\",\"#B6E880\",\"#FF97FF\",\"#FECB52\"],\"font\":{\"color\":\"#2a3f5f\"},\"geo\":{\"bgcolor\":\"white\",\"lakecolor\":\"white\",\"landcolor\":\"#E5ECF6\",\"showlakes\":true,\"showland\":true,\"subunitcolor\":\"white\"},\"hoverlabel\":{\"align\":\"left\"},\"hovermode\":\"closest\",\"mapbox\":{\"style\":\"light\"},\"paper_bgcolor\":\"white\",\"plot_bgcolor\":\"#E5ECF6\",\"polar\":{\"angularaxis\":{\"gridcolor\":\"white\",\"linecolor\":\"white\",\"ticks\":\"\"},\"bgcolor\":\"#E5ECF6\",\"radialaxis\":{\"gridcolor\":\"white\",\"linecolor\":\"white\",\"ticks\":\"\"}},\"scene\":{\"xaxis\":{\"backgroundcolor\":\"#E5ECF6\",\"gridcolor\":\"white\",\"gridwidth\":2,\"linecolor\":\"white\",\"showbackground\":true,\"ticks\":\"\",\"zerolinecolor\":\"white\"},\"yaxis\":{\"backgroundcolor\":\"#E5ECF6\",\"gridcolor\":\"white\",\"gridwidth\":2,\"linecolor\":\"white\",\"showbackground\":true,\"ticks\":\"\",\"zerolinecolor\":\"white\"},\"zaxis\":{\"backgroundcolor\":\"#E5ECF6\",\"gridcolor\":\"white\",\"gridwidth\":2,\"linecolor\":\"white\",\"showbackground\":true,\"ticks\":\"\",\"zerolinecolor\":\"white\"}},\"shapedefaults\":{\"line\":{\"color\":\"#2a3f5f\"}},\"ternary\":{\"aaxis\":{\"gridcolor\":\"white\",\"linecolor\":\"white\",\"ticks\":\"\"},\"baxis\":{\"gridcolor\":\"white\",\"linecolor\":\"white\",\"ticks\":\"\"},\"bgcolor\":\"#E5ECF6\",\"caxis\":{\"gridcolor\":\"white\",\"linecolor\":\"white\",\"ticks\":\"\"}},\"title\":{\"x\":0.05},\"xaxis\":{\"automargin\":true,\"gridcolor\":\"white\",\"linecolor\":\"white\",\"ticks\":\"\",\"title\":{\"standoff\":15},\"zerolinecolor\":\"white\",\"zerolinewidth\":2},\"yaxis\":{\"automargin\":true,\"gridcolor\":\"white\",\"linecolor\":\"white\",\"ticks\":\"\",\"title\":{\"standoff\":15},\"zerolinecolor\":\"white\",\"zerolinewidth\":2}}},\"title\":{\"text\":\"Completed 1nd dose of Vaccine as of June 26, 26 Haziran'da tamamlanan 1.doz a\\u015f\\u0131\"},\"xaxis\":{\"anchor\":\"y\",\"domain\":[0.0,1.0],\"title\":{\"text\":\"1_dose-1.doz\"}},\"yaxis\":{\"anchor\":\"x\",\"domain\":[0.0,1.0],\"title\":{\"text\":\"B\\u00f6lge-Region\"}}},                        {\"responsive\": true}                    ).then(function(){\n",
       "                            \n",
       "var gd = document.getElementById('bd28a2e5-3006-4601-9c94-29da8464a1e3');\n",
       "var x = new MutationObserver(function (mutations, observer) {{\n",
       "        var display = window.getComputedStyle(gd).display;\n",
       "        if (!display || display === 'none') {{\n",
       "            console.log([gd, 'removed!']);\n",
       "            Plotly.purge(gd);\n",
       "            observer.disconnect();\n",
       "        }}\n",
       "}});\n",
       "\n",
       "// Listen for the removal of the full notebook cells\n",
       "var notebookContainer = gd.closest('#notebook-container');\n",
       "if (notebookContainer) {{\n",
       "    x.observe(notebookContainer, {childList: true});\n",
       "}}\n",
       "\n",
       "// Listen for the clearing of the current output cell\n",
       "var outputEl = gd.closest('.output');\n",
       "if (outputEl) {{\n",
       "    x.observe(outputEl, {childList: true});\n",
       "}}\n",
       "\n",
       "                        })                };                });            </script>        </div>"
      ]
     },
     "metadata": {},
     "output_type": "display_data"
    }
   ],
   "source": [
    "fig = px.bar(covid, x=\"1_dose-1.doz\", y=\"Bölge-Region\", color=\"city-şehir\", title=\"Completed 1nd dose of Vaccine as of June 26, 26 Haziran'da tamamlanan 1.doz aşı\")\n",
    "fig.show()"
   ]
  },
  {
   "cell_type": "code",
   "execution_count": 965,
   "id": "84ad676b",
   "metadata": {},
   "outputs": [
    {
     "data": {
      "application/vnd.plotly.v1+json": {
       "config": {
        "plotlyServerURL": "https://plot.ly"
       },
       "data": [
        {
         "alignmentgroup": "True",
         "hovertemplate": "city-şehir=Adana<br>2_dose-2.doz=%{x}<br>Bölge-Region=%{y}<extra></extra>",
         "legendgroup": "Adana",
         "marker": {
          "color": "#636efa",
          "pattern": {
           "shape": ""
          }
         },
         "name": "Adana",
         "offsetgroup": "Adana",
         "orientation": "h",
         "showlegend": true,
         "textposition": "auto",
         "type": "bar",
         "x": [
          355404
         ],
         "xaxis": "x",
         "y": [
          "Akdeniz"
         ],
         "yaxis": "y"
        },
        {
         "alignmentgroup": "True",
         "hovertemplate": "city-şehir=Adıyaman<br>2_dose-2.doz=%{x}<br>Bölge-Region=%{y}<extra></extra>",
         "legendgroup": "Adıyaman",
         "marker": {
          "color": "#EF553B",
          "pattern": {
           "shape": ""
          }
         },
         "name": "Adıyaman",
         "offsetgroup": "Adıyaman",
         "orientation": "h",
         "showlegend": true,
         "textposition": "auto",
         "type": "bar",
         "x": [
          77955
         ],
         "xaxis": "x",
         "y": [
          "Güneydoğu Anadolu"
         ],
         "yaxis": "y"
        },
        {
         "alignmentgroup": "True",
         "hovertemplate": "city-şehir=Afyonkarahisar<br>2_dose-2.doz=%{x}<br>Bölge-Region=%{y}<extra></extra>",
         "legendgroup": "Afyonkarahisar",
         "marker": {
          "color": "#00cc96",
          "pattern": {
           "shape": ""
          }
         },
         "name": "Afyonkarahisar",
         "offsetgroup": "Afyonkarahisar",
         "orientation": "h",
         "showlegend": true,
         "textposition": "auto",
         "type": "bar",
         "x": [
          138934
         ],
         "xaxis": "x",
         "y": [
          "Ege"
         ],
         "yaxis": "y"
        },
        {
         "alignmentgroup": "True",
         "hovertemplate": "city-şehir=Ağrı<br>2_dose-2.doz=%{x}<br>Bölge-Region=%{y}<extra></extra>",
         "legendgroup": "Ağrı",
         "marker": {
          "color": "#ab63fa",
          "pattern": {
           "shape": ""
          }
         },
         "name": "Ağrı",
         "offsetgroup": "Ağrı",
         "orientation": "h",
         "showlegend": true,
         "textposition": "auto",
         "type": "bar",
         "x": [
          41146
         ],
         "xaxis": "x",
         "y": [
          "Doğu Anadolu"
         ],
         "yaxis": "y"
        },
        {
         "alignmentgroup": "True",
         "hovertemplate": "city-şehir=Aksaray<br>2_dose-2.doz=%{x}<br>Bölge-Region=%{y}<extra></extra>",
         "legendgroup": "Aksaray",
         "marker": {
          "color": "#FFA15A",
          "pattern": {
           "shape": ""
          }
         },
         "name": "Aksaray",
         "offsetgroup": "Aksaray",
         "orientation": "h",
         "showlegend": true,
         "textposition": "auto",
         "type": "bar",
         "x": [
          62603
         ],
         "xaxis": "x",
         "y": [
          "İç Anadolu"
         ],
         "yaxis": "y"
        },
        {
         "alignmentgroup": "True",
         "hovertemplate": "city-şehir=Amasya<br>2_dose-2.doz=%{x}<br>Bölge-Region=%{y}<extra></extra>",
         "legendgroup": "Amasya",
         "marker": {
          "color": "#19d3f3",
          "pattern": {
           "shape": ""
          }
         },
         "name": "Amasya",
         "offsetgroup": "Amasya",
         "orientation": "h",
         "showlegend": true,
         "textposition": "auto",
         "type": "bar",
         "x": [
          87322
         ],
         "xaxis": "x",
         "y": [
          "Karadeniz"
         ],
         "yaxis": "y"
        },
        {
         "alignmentgroup": "True",
         "hovertemplate": "city-şehir=Ankara<br>2_dose-2.doz=%{x}<br>Bölge-Region=%{y}<extra></extra>",
         "legendgroup": "Ankara",
         "marker": {
          "color": "#FF6692",
          "pattern": {
           "shape": ""
          }
         },
         "name": "Ankara",
         "offsetgroup": "Ankara",
         "orientation": "h",
         "showlegend": true,
         "textposition": "auto",
         "type": "bar",
         "x": [
          1241906
         ],
         "xaxis": "x",
         "y": [
          "İç Anadolu"
         ],
         "yaxis": "y"
        },
        {
         "alignmentgroup": "True",
         "hovertemplate": "city-şehir=Antalya<br>2_dose-2.doz=%{x}<br>Bölge-Region=%{y}<extra></extra>",
         "legendgroup": "Antalya",
         "marker": {
          "color": "#B6E880",
          "pattern": {
           "shape": ""
          }
         },
         "name": "Antalya",
         "offsetgroup": "Antalya",
         "orientation": "h",
         "showlegend": true,
         "textposition": "auto",
         "type": "bar",
         "x": [
          530415
         ],
         "xaxis": "x",
         "y": [
          "Akdeniz"
         ],
         "yaxis": "y"
        },
        {
         "alignmentgroup": "True",
         "hovertemplate": "city-şehir=Ardahan<br>2_dose-2.doz=%{x}<br>Bölge-Region=%{y}<extra></extra>",
         "legendgroup": "Ardahan",
         "marker": {
          "color": "#FF97FF",
          "pattern": {
           "shape": ""
          }
         },
         "name": "Ardahan",
         "offsetgroup": "Ardahan",
         "orientation": "h",
         "showlegend": true,
         "textposition": "auto",
         "type": "bar",
         "x": [
          18642
         ],
         "xaxis": "x",
         "y": [
          "Doğu Anadolu"
         ],
         "yaxis": "y"
        },
        {
         "alignmentgroup": "True",
         "hovertemplate": "city-şehir=Artvin<br>2_dose-2.doz=%{x}<br>Bölge-Region=%{y}<extra></extra>",
         "legendgroup": "Artvin",
         "marker": {
          "color": "#FECB52",
          "pattern": {
           "shape": ""
          }
         },
         "name": "Artvin",
         "offsetgroup": "Artvin",
         "orientation": "h",
         "showlegend": true,
         "textposition": "auto",
         "type": "bar",
         "x": [
          43132
         ],
         "xaxis": "x",
         "y": [
          "Karadeniz"
         ],
         "yaxis": "y"
        },
        {
         "alignmentgroup": "True",
         "hovertemplate": "city-şehir=Aydın<br>2_dose-2.doz=%{x}<br>Bölge-Region=%{y}<extra></extra>",
         "legendgroup": "Aydın",
         "marker": {
          "color": "#636efa",
          "pattern": {
           "shape": ""
          }
         },
         "name": "Aydın",
         "offsetgroup": "Aydın",
         "orientation": "h",
         "showlegend": true,
         "textposition": "auto",
         "type": "bar",
         "x": [
          293208
         ],
         "xaxis": "x",
         "y": [
          "Ege"
         ],
         "yaxis": "y"
        },
        {
         "alignmentgroup": "True",
         "hovertemplate": "city-şehir=Balıkesir<br>2_dose-2.doz=%{x}<br>Bölge-Region=%{y}<extra></extra>",
         "legendgroup": "Balıkesir",
         "marker": {
          "color": "#EF553B",
          "pattern": {
           "shape": ""
          }
         },
         "name": "Balıkesir",
         "offsetgroup": "Balıkesir",
         "orientation": "h",
         "showlegend": true,
         "textposition": "auto",
         "type": "bar",
         "x": [
          359073
         ],
         "xaxis": "x",
         "y": [
          "Marmara"
         ],
         "yaxis": "y"
        },
        {
         "alignmentgroup": "True",
         "hovertemplate": "city-şehir=Bartın<br>2_dose-2.doz=%{x}<br>Bölge-Region=%{y}<extra></extra>",
         "legendgroup": "Bartın",
         "marker": {
          "color": "#00cc96",
          "pattern": {
           "shape": ""
          }
         },
         "name": "Bartın",
         "offsetgroup": "Bartın",
         "orientation": "h",
         "showlegend": true,
         "textposition": "auto",
         "type": "bar",
         "x": [
          49086
         ],
         "xaxis": "x",
         "y": [
          "Karadeniz"
         ],
         "yaxis": "y"
        },
        {
         "alignmentgroup": "True",
         "hovertemplate": "city-şehir=Batman<br>2_dose-2.doz=%{x}<br>Bölge-Region=%{y}<extra></extra>",
         "legendgroup": "Batman",
         "marker": {
          "color": "#ab63fa",
          "pattern": {
           "shape": ""
          }
         },
         "name": "Batman",
         "offsetgroup": "Batman",
         "orientation": "h",
         "showlegend": true,
         "textposition": "auto",
         "type": "bar",
         "x": [
          48556
         ],
         "xaxis": "x",
         "y": [
          "Güneydoğu Anadolu"
         ],
         "yaxis": "y"
        },
        {
         "alignmentgroup": "True",
         "hovertemplate": "city-şehir=Bayburt<br>2_dose-2.doz=%{x}<br>Bölge-Region=%{y}<extra></extra>",
         "legendgroup": "Bayburt",
         "marker": {
          "color": "#FFA15A",
          "pattern": {
           "shape": ""
          }
         },
         "name": "Bayburt",
         "offsetgroup": "Bayburt",
         "orientation": "h",
         "showlegend": true,
         "textposition": "auto",
         "type": "bar",
         "x": [
          13155
         ],
         "xaxis": "x",
         "y": [
          "Karadeniz"
         ],
         "yaxis": "y"
        },
        {
         "alignmentgroup": "True",
         "hovertemplate": "city-şehir=Bilecik<br>2_dose-2.doz=%{x}<br>Bölge-Region=%{y}<extra></extra>",
         "legendgroup": "Bilecik",
         "marker": {
          "color": "#19d3f3",
          "pattern": {
           "shape": ""
          }
         },
         "name": "Bilecik",
         "offsetgroup": "Bilecik",
         "orientation": "h",
         "showlegend": true,
         "textposition": "auto",
         "type": "bar",
         "x": [
          49145
         ],
         "xaxis": "x",
         "y": [
          "Marmara"
         ],
         "yaxis": "y"
        },
        {
         "alignmentgroup": "True",
         "hovertemplate": "city-şehir=Bingöl<br>2_dose-2.doz=%{x}<br>Bölge-Region=%{y}<extra></extra>",
         "legendgroup": "Bingöl",
         "marker": {
          "color": "#FF6692",
          "pattern": {
           "shape": ""
          }
         },
         "name": "Bingöl",
         "offsetgroup": "Bingöl",
         "orientation": "h",
         "showlegend": true,
         "textposition": "auto",
         "type": "bar",
         "x": [
          30771
         ],
         "xaxis": "x",
         "y": [
          "Doğu Anadolu"
         ],
         "yaxis": "y"
        },
        {
         "alignmentgroup": "True",
         "hovertemplate": "city-şehir=Bitlis<br>2_dose-2.doz=%{x}<br>Bölge-Region=%{y}<extra></extra>",
         "legendgroup": "Bitlis",
         "marker": {
          "color": "#B6E880",
          "pattern": {
           "shape": ""
          }
         },
         "name": "Bitlis",
         "offsetgroup": "Bitlis",
         "orientation": "h",
         "showlegend": true,
         "textposition": "auto",
         "type": "bar",
         "x": [
          23726
         ],
         "xaxis": "x",
         "y": [
          "Doğu Anadolu"
         ],
         "yaxis": "y"
        },
        {
         "alignmentgroup": "True",
         "hovertemplate": "city-şehir=Bolu<br>2_dose-2.doz=%{x}<br>Bölge-Region=%{y}<extra></extra>",
         "legendgroup": "Bolu",
         "marker": {
          "color": "#FF97FF",
          "pattern": {
           "shape": ""
          }
         },
         "name": "Bolu",
         "offsetgroup": "Bolu",
         "orientation": "h",
         "showlegend": true,
         "textposition": "auto",
         "type": "bar",
         "x": [
          75911
         ],
         "xaxis": "x",
         "y": [
          "Karadeniz"
         ],
         "yaxis": "y"
        },
        {
         "alignmentgroup": "True",
         "hovertemplate": "city-şehir=Burdur<br>2_dose-2.doz=%{x}<br>Bölge-Region=%{y}<extra></extra>",
         "legendgroup": "Burdur",
         "marker": {
          "color": "#FECB52",
          "pattern": {
           "shape": ""
          }
         },
         "name": "Burdur",
         "offsetgroup": "Burdur",
         "orientation": "h",
         "showlegend": true,
         "textposition": "auto",
         "type": "bar",
         "x": [
          66955
         ],
         "xaxis": "x",
         "y": [
          "Akdeniz"
         ],
         "yaxis": "y"
        },
        {
         "alignmentgroup": "True",
         "hovertemplate": "city-şehir=Bursa<br>2_dose-2.doz=%{x}<br>Bölge-Region=%{y}<extra></extra>",
         "legendgroup": "Bursa",
         "marker": {
          "color": "#636efa",
          "pattern": {
           "shape": ""
          }
         },
         "name": "Bursa",
         "offsetgroup": "Bursa",
         "orientation": "h",
         "showlegend": true,
         "textposition": "auto",
         "type": "bar",
         "x": [
          550539
         ],
         "xaxis": "x",
         "y": [
          "Marmara"
         ],
         "yaxis": "y"
        },
        {
         "alignmentgroup": "True",
         "hovertemplate": "city-şehir=Çanakkale<br>2_dose-2.doz=%{x}<br>Bölge-Region=%{y}<extra></extra>",
         "legendgroup": "Çanakkale",
         "marker": {
          "color": "#EF553B",
          "pattern": {
           "shape": ""
          }
         },
         "name": "Çanakkale",
         "offsetgroup": "Çanakkale",
         "orientation": "h",
         "showlegend": true,
         "textposition": "auto",
         "type": "bar",
         "x": [
          161433
         ],
         "xaxis": "x",
         "y": [
          "Marmara"
         ],
         "yaxis": "y"
        },
        {
         "alignmentgroup": "True",
         "hovertemplate": "city-şehir=Çankırı<br>2_dose-2.doz=%{x}<br>Bölge-Region=%{y}<extra></extra>",
         "legendgroup": "Çankırı",
         "marker": {
          "color": "#00cc96",
          "pattern": {
           "shape": ""
          }
         },
         "name": "Çankırı",
         "offsetgroup": "Çankırı",
         "orientation": "h",
         "showlegend": true,
         "textposition": "auto",
         "type": "bar",
         "x": [
          45799
         ],
         "xaxis": "x",
         "y": [
          "İç Anadolu"
         ],
         "yaxis": "y"
        },
        {
         "alignmentgroup": "True",
         "hovertemplate": "city-şehir=Çorum<br>2_dose-2.doz=%{x}<br>Bölge-Region=%{y}<extra></extra>",
         "legendgroup": "Çorum",
         "marker": {
          "color": "#ab63fa",
          "pattern": {
           "shape": ""
          }
         },
         "name": "Çorum",
         "offsetgroup": "Çorum",
         "orientation": "h",
         "showlegend": true,
         "textposition": "auto",
         "type": "bar",
         "x": [
          121891
         ],
         "xaxis": "x",
         "y": [
          "Karadeniz"
         ],
         "yaxis": "y"
        },
        {
         "alignmentgroup": "True",
         "hovertemplate": "city-şehir=Denizli<br>2_dose-2.doz=%{x}<br>Bölge-Region=%{y}<extra></extra>",
         "legendgroup": "Denizli",
         "marker": {
          "color": "#FFA15A",
          "pattern": {
           "shape": ""
          }
         },
         "name": "Denizli",
         "offsetgroup": "Denizli",
         "orientation": "h",
         "showlegend": true,
         "textposition": "auto",
         "type": "bar",
         "x": [
          212478
         ],
         "xaxis": "x",
         "y": [
          "Ege"
         ],
         "yaxis": "y"
        },
        {
         "alignmentgroup": "True",
         "hovertemplate": "city-şehir=Diyarbakır<br>2_dose-2.doz=%{x}<br>Bölge-Region=%{y}<extra></extra>",
         "legendgroup": "Diyarbakır",
         "marker": {
          "color": "#19d3f3",
          "pattern": {
           "shape": ""
          }
         },
         "name": "Diyarbakır",
         "offsetgroup": "Diyarbakır",
         "orientation": "h",
         "showlegend": true,
         "textposition": "auto",
         "type": "bar",
         "x": [
          134167
         ],
         "xaxis": "x",
         "y": [
          "Güneydoğu Anadolu"
         ],
         "yaxis": "y"
        },
        {
         "alignmentgroup": "True",
         "hovertemplate": "city-şehir=Düzce<br>2_dose-2.doz=%{x}<br>Bölge-Region=%{y}<extra></extra>",
         "legendgroup": "Düzce",
         "marker": {
          "color": "#FF6692",
          "pattern": {
           "shape": ""
          }
         },
         "name": "Düzce",
         "offsetgroup": "Düzce",
         "orientation": "h",
         "showlegend": true,
         "textposition": "auto",
         "type": "bar",
         "x": [
          73865
         ],
         "xaxis": "x",
         "y": [
          null
         ],
         "yaxis": "y"
        },
        {
         "alignmentgroup": "True",
         "hovertemplate": "city-şehir=Edirne<br>2_dose-2.doz=%{x}<br>Bölge-Region=%{y}<extra></extra>",
         "legendgroup": "Edirne",
         "marker": {
          "color": "#B6E880",
          "pattern": {
           "shape": ""
          }
         },
         "name": "Edirne",
         "offsetgroup": "Edirne",
         "orientation": "h",
         "showlegend": true,
         "textposition": "auto",
         "type": "bar",
         "x": [
          123707
         ],
         "xaxis": "x",
         "y": [
          "Marmara"
         ],
         "yaxis": "y"
        },
        {
         "alignmentgroup": "True",
         "hovertemplate": "city-şehir=Elazığ<br>2_dose-2.doz=%{x}<br>Bölge-Region=%{y}<extra></extra>",
         "legendgroup": "Elazığ",
         "marker": {
          "color": "#FF97FF",
          "pattern": {
           "shape": ""
          }
         },
         "name": "Elazığ",
         "offsetgroup": "Elazığ",
         "orientation": "h",
         "showlegend": true,
         "textposition": "auto",
         "type": "bar",
         "x": [
          101103
         ],
         "xaxis": "x",
         "y": [
          "Doğu Anadolu"
         ],
         "yaxis": "y"
        },
        {
         "alignmentgroup": "True",
         "hovertemplate": "city-şehir=Erzincan<br>2_dose-2.doz=%{x}<br>Bölge-Region=%{y}<extra></extra>",
         "legendgroup": "Erzincan",
         "marker": {
          "color": "#FECB52",
          "pattern": {
           "shape": ""
          }
         },
         "name": "Erzincan",
         "offsetgroup": "Erzincan",
         "orientation": "h",
         "showlegend": true,
         "textposition": "auto",
         "type": "bar",
         "x": [
          48554
         ],
         "xaxis": "x",
         "y": [
          "Doğu Anadolu"
         ],
         "yaxis": "y"
        },
        {
         "alignmentgroup": "True",
         "hovertemplate": "city-şehir=Erzurum<br>2_dose-2.doz=%{x}<br>Bölge-Region=%{y}<extra></extra>",
         "legendgroup": "Erzurum",
         "marker": {
          "color": "#636efa",
          "pattern": {
           "shape": ""
          }
         },
         "name": "Erzurum",
         "offsetgroup": "Erzurum",
         "orientation": "h",
         "showlegend": true,
         "textposition": "auto",
         "type": "bar",
         "x": [
          106493
         ],
         "xaxis": "x",
         "y": [
          "Doğu Anadolu"
         ],
         "yaxis": "y"
        },
        {
         "alignmentgroup": "True",
         "hovertemplate": "city-şehir=Eskişehir<br>2_dose-2.doz=%{x}<br>Bölge-Region=%{y}<extra></extra>",
         "legendgroup": "Eskişehir",
         "marker": {
          "color": "#EF553B",
          "pattern": {
           "shape": ""
          }
         },
         "name": "Eskişehir",
         "offsetgroup": "Eskişehir",
         "orientation": "h",
         "showlegend": true,
         "textposition": "auto",
         "type": "bar",
         "x": [
          215045
         ],
         "xaxis": "x",
         "y": [
          "İç Anadolu"
         ],
         "yaxis": "y"
        },
        {
         "alignmentgroup": "True",
         "hovertemplate": "city-şehir=Gaziantep<br>2_dose-2.doz=%{x}<br>Bölge-Region=%{y}<extra></extra>",
         "legendgroup": "Gaziantep",
         "marker": {
          "color": "#00cc96",
          "pattern": {
           "shape": ""
          }
         },
         "name": "Gaziantep",
         "offsetgroup": "Gaziantep",
         "orientation": "h",
         "showlegend": true,
         "textposition": "auto",
         "type": "bar",
         "x": [
          207651
         ],
         "xaxis": "x",
         "y": [
          "Güneydoğu Anadolu"
         ],
         "yaxis": "y"
        },
        {
         "alignmentgroup": "True",
         "hovertemplate": "city-şehir=Giresun<br>2_dose-2.doz=%{x}<br>Bölge-Region=%{y}<extra></extra>",
         "legendgroup": "Giresun",
         "marker": {
          "color": "#ab63fa",
          "pattern": {
           "shape": ""
          }
         },
         "name": "Giresun",
         "offsetgroup": "Giresun",
         "orientation": "h",
         "showlegend": true,
         "textposition": "auto",
         "type": "bar",
         "x": [
          123826
         ],
         "xaxis": "x",
         "y": [
          "Karadeniz"
         ],
         "yaxis": "y"
        },
        {
         "alignmentgroup": "True",
         "hovertemplate": "city-şehir=Gümüşhane<br>2_dose-2.doz=%{x}<br>Bölge-Region=%{y}<extra></extra>",
         "legendgroup": "Gümüşhane",
         "marker": {
          "color": "#FFA15A",
          "pattern": {
           "shape": ""
          }
         },
         "name": "Gümüşhane",
         "offsetgroup": "Gümüşhane",
         "orientation": "h",
         "showlegend": true,
         "textposition": "auto",
         "type": "bar",
         "x": [
          24740
         ],
         "xaxis": "x",
         "y": [
          "Karadeniz"
         ],
         "yaxis": "y"
        },
        {
         "alignmentgroup": "True",
         "hovertemplate": "city-şehir=Hakkari<br>2_dose-2.doz=%{x}<br>Bölge-Region=%{y}<extra></extra>",
         "legendgroup": "Hakkari",
         "marker": {
          "color": "#19d3f3",
          "pattern": {
           "shape": ""
          }
         },
         "name": "Hakkari",
         "offsetgroup": "Hakkari",
         "orientation": "h",
         "showlegend": true,
         "textposition": "auto",
         "type": "bar",
         "x": [
          14102
         ],
         "xaxis": "x",
         "y": [
          "Doğu Anadolu"
         ],
         "yaxis": "y"
        },
        {
         "alignmentgroup": "True",
         "hovertemplate": "city-şehir=Hatay<br>2_dose-2.doz=%{x}<br>Bölge-Region=%{y}<extra></extra>",
         "legendgroup": "Hatay",
         "marker": {
          "color": "#FF6692",
          "pattern": {
           "shape": ""
          }
         },
         "name": "Hatay",
         "offsetgroup": "Hatay",
         "orientation": "h",
         "showlegend": true,
         "textposition": "auto",
         "type": "bar",
         "x": [
          223365
         ],
         "xaxis": "x",
         "y": [
          "Akdeniz"
         ],
         "yaxis": "y"
        },
        {
         "alignmentgroup": "True",
         "hovertemplate": "city-şehir=Iğdır<br>2_dose-2.doz=%{x}<br>Bölge-Region=%{y}<extra></extra>",
         "legendgroup": "Iğdır",
         "marker": {
          "color": "#B6E880",
          "pattern": {
           "shape": ""
          }
         },
         "name": "Iğdır",
         "offsetgroup": "Iğdır",
         "orientation": "h",
         "showlegend": true,
         "textposition": "auto",
         "type": "bar",
         "x": [
          21324
         ],
         "xaxis": "x",
         "y": [
          null
         ],
         "yaxis": "y"
        },
        {
         "alignmentgroup": "True",
         "hovertemplate": "city-şehir=Isparta<br>2_dose-2.doz=%{x}<br>Bölge-Region=%{y}<extra></extra>",
         "legendgroup": "Isparta",
         "marker": {
          "color": "#FF97FF",
          "pattern": {
           "shape": ""
          }
         },
         "name": "Isparta",
         "offsetgroup": "Isparta",
         "orientation": "h",
         "showlegend": true,
         "textposition": "auto",
         "type": "bar",
         "x": [
          107865
         ],
         "xaxis": "x",
         "y": [
          "Akdeniz"
         ],
         "yaxis": "y"
        },
        {
         "alignmentgroup": "True",
         "hovertemplate": "city-şehir=İstanbul<br>2_dose-2.doz=%{x}<br>Bölge-Region=%{y}<extra></extra>",
         "legendgroup": "İstanbul",
         "marker": {
          "color": "#FECB52",
          "pattern": {
           "shape": ""
          }
         },
         "name": "İstanbul",
         "offsetgroup": "İstanbul",
         "orientation": "h",
         "showlegend": true,
         "textposition": "auto",
         "type": "bar",
         "x": [
          2419591
         ],
         "xaxis": "x",
         "y": [
          "Marmara"
         ],
         "yaxis": "y"
        },
        {
         "alignmentgroup": "True",
         "hovertemplate": "city-şehir=İzmir<br>2_dose-2.doz=%{x}<br>Bölge-Region=%{y}<extra></extra>",
         "legendgroup": "İzmir",
         "marker": {
          "color": "#636efa",
          "pattern": {
           "shape": ""
          }
         },
         "name": "İzmir",
         "offsetgroup": "İzmir",
         "orientation": "h",
         "showlegend": true,
         "textposition": "auto",
         "type": "bar",
         "x": [
          1006223
         ],
         "xaxis": "x",
         "y": [
          "Ege"
         ],
         "yaxis": "y"
        },
        {
         "alignmentgroup": "True",
         "hovertemplate": "city-şehir=Kahramanmaraş<br>2_dose-2.doz=%{x}<br>Bölge-Region=%{y}<extra></extra>",
         "legendgroup": "Kahramanmaraş",
         "marker": {
          "color": "#EF553B",
          "pattern": {
           "shape": ""
          }
         },
         "name": "Kahramanmaraş",
         "offsetgroup": "Kahramanmaraş",
         "orientation": "h",
         "showlegend": true,
         "textposition": "auto",
         "type": "bar",
         "x": [
          149207
         ],
         "xaxis": "x",
         "y": [
          "Akdeniz"
         ],
         "yaxis": "y"
        },
        {
         "alignmentgroup": "True",
         "hovertemplate": "city-şehir=Karabük<br>2_dose-2.doz=%{x}<br>Bölge-Region=%{y}<extra></extra>",
         "legendgroup": "Karabük",
         "marker": {
          "color": "#00cc96",
          "pattern": {
           "shape": ""
          }
         },
         "name": "Karabük",
         "offsetgroup": "Karabük",
         "orientation": "h",
         "showlegend": true,
         "textposition": "auto",
         "type": "bar",
         "x": [
          57241
         ],
         "xaxis": "x",
         "y": [
          "Karadeniz"
         ],
         "yaxis": "y"
        },
        {
         "alignmentgroup": "True",
         "hovertemplate": "city-şehir=Karaman<br>2_dose-2.doz=%{x}<br>Bölge-Region=%{y}<extra></extra>",
         "legendgroup": "Karaman",
         "marker": {
          "color": "#ab63fa",
          "pattern": {
           "shape": ""
          }
         },
         "name": "Karaman",
         "offsetgroup": "Karaman",
         "orientation": "h",
         "showlegend": true,
         "textposition": "auto",
         "type": "bar",
         "x": [
          48437
         ],
         "xaxis": "x",
         "y": [
          "İç Anadolu"
         ],
         "yaxis": "y"
        },
        {
         "alignmentgroup": "True",
         "hovertemplate": "city-şehir=Kars<br>2_dose-2.doz=%{x}<br>Bölge-Region=%{y}<extra></extra>",
         "legendgroup": "Kars",
         "marker": {
          "color": "#FFA15A",
          "pattern": {
           "shape": ""
          }
         },
         "name": "Kars",
         "offsetgroup": "Kars",
         "orientation": "h",
         "showlegend": true,
         "textposition": "auto",
         "type": "bar",
         "x": [
          37951
         ],
         "xaxis": "x",
         "y": [
          "Doğu Anadolu"
         ],
         "yaxis": "y"
        },
        {
         "alignmentgroup": "True",
         "hovertemplate": "city-şehir=Kastamonu<br>2_dose-2.doz=%{x}<br>Bölge-Region=%{y}<extra></extra>",
         "legendgroup": "Kastamonu",
         "marker": {
          "color": "#19d3f3",
          "pattern": {
           "shape": ""
          }
         },
         "name": "Kastamonu",
         "offsetgroup": "Kastamonu",
         "orientation": "h",
         "showlegend": true,
         "textposition": "auto",
         "type": "bar",
         "x": [
          99604
         ],
         "xaxis": "x",
         "y": [
          "Karadeniz"
         ],
         "yaxis": "y"
        },
        {
         "alignmentgroup": "True",
         "hovertemplate": "city-şehir=Kayseri<br>2_dose-2.doz=%{x}<br>Bölge-Region=%{y}<extra></extra>",
         "legendgroup": "Kayseri",
         "marker": {
          "color": "#FF6692",
          "pattern": {
           "shape": ""
          }
         },
         "name": "Kayseri",
         "offsetgroup": "Kayseri",
         "orientation": "h",
         "showlegend": true,
         "textposition": "auto",
         "type": "bar",
         "x": [
          250399
         ],
         "xaxis": "x",
         "y": [
          "İç Anadolu"
         ],
         "yaxis": "y"
        },
        {
         "alignmentgroup": "True",
         "hovertemplate": "city-şehir=Kırıkkale<br>2_dose-2.doz=%{x}<br>Bölge-Region=%{y}<extra></extra>",
         "legendgroup": "Kırıkkale",
         "marker": {
          "color": "#B6E880",
          "pattern": {
           "shape": ""
          }
         },
         "name": "Kırıkkale",
         "offsetgroup": "Kırıkkale",
         "orientation": "h",
         "showlegend": true,
         "textposition": "auto",
         "type": "bar",
         "x": [
          60949
         ],
         "xaxis": "x",
         "y": [
          "İç Anadolu"
         ],
         "yaxis": "y"
        },
        {
         "alignmentgroup": "True",
         "hovertemplate": "city-şehir=Kırklareli<br>2_dose-2.doz=%{x}<br>Bölge-Region=%{y}<extra></extra>",
         "legendgroup": "Kırklareli",
         "marker": {
          "color": "#FF97FF",
          "pattern": {
           "shape": ""
          }
         },
         "name": "Kırklareli",
         "offsetgroup": "Kırklareli",
         "orientation": "h",
         "showlegend": true,
         "textposition": "auto",
         "type": "bar",
         "x": [
          98896
         ],
         "xaxis": "x",
         "y": [
          "Marmara"
         ],
         "yaxis": "y"
        },
        {
         "alignmentgroup": "True",
         "hovertemplate": "city-şehir=Kırşehir<br>2_dose-2.doz=%{x}<br>Bölge-Region=%{y}<extra></extra>",
         "legendgroup": "Kırşehir",
         "marker": {
          "color": "#FECB52",
          "pattern": {
           "shape": ""
          }
         },
         "name": "Kırşehir",
         "offsetgroup": "Kırşehir",
         "orientation": "h",
         "showlegend": true,
         "textposition": "auto",
         "type": "bar",
         "x": [
          54748
         ],
         "xaxis": "x",
         "y": [
          "İç Anadolu"
         ],
         "yaxis": "y"
        },
        {
         "alignmentgroup": "True",
         "hovertemplate": "city-şehir=Kilis<br>2_dose-2.doz=%{x}<br>Bölge-Region=%{y}<extra></extra>",
         "legendgroup": "Kilis",
         "marker": {
          "color": "#636efa",
          "pattern": {
           "shape": ""
          }
         },
         "name": "Kilis",
         "offsetgroup": "Kilis",
         "orientation": "h",
         "showlegend": true,
         "textposition": "auto",
         "type": "bar",
         "x": [
          18348
         ],
         "xaxis": "x",
         "y": [
          "Güneydoğu Anadolu"
         ],
         "yaxis": "y"
        },
        {
         "alignmentgroup": "True",
         "hovertemplate": "city-şehir=Kocaeli<br>2_dose-2.doz=%{x}<br>Bölge-Region=%{y}<extra></extra>",
         "legendgroup": "Kocaeli",
         "marker": {
          "color": "#EF553B",
          "pattern": {
           "shape": ""
          }
         },
         "name": "Kocaeli",
         "offsetgroup": "Kocaeli",
         "orientation": "h",
         "showlegend": true,
         "textposition": "auto",
         "type": "bar",
         "x": [
          321371
         ],
         "xaxis": "x",
         "y": [
          "Marmara"
         ],
         "yaxis": "y"
        },
        {
         "alignmentgroup": "True",
         "hovertemplate": "city-şehir=Konya<br>2_dose-2.doz=%{x}<br>Bölge-Region=%{y}<extra></extra>",
         "legendgroup": "Konya",
         "marker": {
          "color": "#00cc96",
          "pattern": {
           "shape": ""
          }
         },
         "name": "Konya",
         "offsetgroup": "Konya",
         "orientation": "h",
         "showlegend": true,
         "textposition": "auto",
         "type": "bar",
         "x": [
          374716
         ],
         "xaxis": "x",
         "y": [
          "İç Anadolu"
         ],
         "yaxis": "y"
        },
        {
         "alignmentgroup": "True",
         "hovertemplate": "city-şehir=Kütahya<br>2_dose-2.doz=%{x}<br>Bölge-Region=%{y}<extra></extra>",
         "legendgroup": "Kütahya",
         "marker": {
          "color": "#ab63fa",
          "pattern": {
           "shape": ""
          }
         },
         "name": "Kütahya",
         "offsetgroup": "Kütahya",
         "orientation": "h",
         "showlegend": true,
         "textposition": "auto",
         "type": "bar",
         "x": [
          125308
         ],
         "xaxis": "x",
         "y": [
          "Ege"
         ],
         "yaxis": "y"
        },
        {
         "alignmentgroup": "True",
         "hovertemplate": "city-şehir=Malatya<br>2_dose-2.doz=%{x}<br>Bölge-Region=%{y}<extra></extra>",
         "legendgroup": "Malatya",
         "marker": {
          "color": "#FFA15A",
          "pattern": {
           "shape": ""
          }
         },
         "name": "Malatya",
         "offsetgroup": "Malatya",
         "orientation": "h",
         "showlegend": true,
         "textposition": "auto",
         "type": "bar",
         "x": [
          147223
         ],
         "xaxis": "x",
         "y": [
          "Doğu Anadolu"
         ],
         "yaxis": "y"
        },
        {
         "alignmentgroup": "True",
         "hovertemplate": "city-şehir=Manisa<br>2_dose-2.doz=%{x}<br>Bölge-Region=%{y}<extra></extra>",
         "legendgroup": "Manisa",
         "marker": {
          "color": "#19d3f3",
          "pattern": {
           "shape": ""
          }
         },
         "name": "Manisa",
         "offsetgroup": "Manisa",
         "orientation": "h",
         "showlegend": true,
         "textposition": "auto",
         "type": "bar",
         "x": [
          284045
         ],
         "xaxis": "x",
         "y": [
          "Ege"
         ],
         "yaxis": "y"
        },
        {
         "alignmentgroup": "True",
         "hovertemplate": "city-şehir=Mardin<br>2_dose-2.doz=%{x}<br>Bölge-Region=%{y}<extra></extra>",
         "legendgroup": "Mardin",
         "marker": {
          "color": "#FF6692",
          "pattern": {
           "shape": ""
          }
         },
         "name": "Mardin",
         "offsetgroup": "Mardin",
         "orientation": "h",
         "showlegend": true,
         "textposition": "auto",
         "type": "bar",
         "x": [
          53374
         ],
         "xaxis": "x",
         "y": [
          "Güneydoğu Anadolu"
         ],
         "yaxis": "y"
        },
        {
         "alignmentgroup": "True",
         "hovertemplate": "city-şehir=Mersin<br>2_dose-2.doz=%{x}<br>Bölge-Region=%{y}<extra></extra>",
         "legendgroup": "Mersin",
         "marker": {
          "color": "#B6E880",
          "pattern": {
           "shape": ""
          }
         },
         "name": "Mersin",
         "offsetgroup": "Mersin",
         "orientation": "h",
         "showlegend": true,
         "textposition": "auto",
         "type": "bar",
         "x": [
          349594
         ],
         "xaxis": "x",
         "y": [
          "Akdeniz"
         ],
         "yaxis": "y"
        },
        {
         "alignmentgroup": "True",
         "hovertemplate": "city-şehir=Muğla<br>2_dose-2.doz=%{x}<br>Bölge-Region=%{y}<extra></extra>",
         "legendgroup": "Muğla",
         "marker": {
          "color": "#FF97FF",
          "pattern": {
           "shape": ""
          }
         },
         "name": "Muğla",
         "offsetgroup": "Muğla",
         "orientation": "h",
         "showlegend": true,
         "textposition": "auto",
         "type": "bar",
         "x": [
          286979
         ],
         "xaxis": "x",
         "y": [
          "Ege"
         ],
         "yaxis": "y"
        },
        {
         "alignmentgroup": "True",
         "hovertemplate": "city-şehir=Muş<br>2_dose-2.doz=%{x}<br>Bölge-Region=%{y}<extra></extra>",
         "legendgroup": "Muş",
         "marker": {
          "color": "#FECB52",
          "pattern": {
           "shape": ""
          }
         },
         "name": "Muş",
         "offsetgroup": "Muş",
         "orientation": "h",
         "showlegend": true,
         "textposition": "auto",
         "type": "bar",
         "x": [
          29056
         ],
         "xaxis": "x",
         "y": [
          "Doğu Anadolu"
         ],
         "yaxis": "y"
        },
        {
         "alignmentgroup": "True",
         "hovertemplate": "city-şehir=Nevşehir<br>2_dose-2.doz=%{x}<br>Bölge-Region=%{y}<extra></extra>",
         "legendgroup": "Nevşehir",
         "marker": {
          "color": "#636efa",
          "pattern": {
           "shape": ""
          }
         },
         "name": "Nevşehir",
         "offsetgroup": "Nevşehir",
         "orientation": "h",
         "showlegend": true,
         "textposition": "auto",
         "type": "bar",
         "x": [
          59594
         ],
         "xaxis": "x",
         "y": [
          "İç Anadolu"
         ],
         "yaxis": "y"
        },
        {
         "alignmentgroup": "True",
         "hovertemplate": "city-şehir=Niğde<br>2_dose-2.doz=%{x}<br>Bölge-Region=%{y}<extra></extra>",
         "legendgroup": "Niğde",
         "marker": {
          "color": "#EF553B",
          "pattern": {
           "shape": ""
          }
         },
         "name": "Niğde",
         "offsetgroup": "Niğde",
         "orientation": "h",
         "showlegend": true,
         "textposition": "auto",
         "type": "bar",
         "x": [
          59908
         ],
         "xaxis": "x",
         "y": [
          "İç Anadolu"
         ],
         "yaxis": "y"
        },
        {
         "alignmentgroup": "True",
         "hovertemplate": "city-şehir=Ordu<br>2_dose-2.doz=%{x}<br>Bölge-Region=%{y}<extra></extra>",
         "legendgroup": "Ordu",
         "marker": {
          "color": "#00cc96",
          "pattern": {
           "shape": ""
          }
         },
         "name": "Ordu",
         "offsetgroup": "Ordu",
         "orientation": "h",
         "showlegend": true,
         "textposition": "auto",
         "type": "bar",
         "x": [
          187138
         ],
         "xaxis": "x",
         "y": [
          "Karadeniz"
         ],
         "yaxis": "y"
        },
        {
         "alignmentgroup": "True",
         "hovertemplate": "city-şehir=Osmaniye<br>2_dose-2.doz=%{x}<br>Bölge-Region=%{y}<extra></extra>",
         "legendgroup": "Osmaniye",
         "marker": {
          "color": "#ab63fa",
          "pattern": {
           "shape": ""
          }
         },
         "name": "Osmaniye",
         "offsetgroup": "Osmaniye",
         "orientation": "h",
         "showlegend": true,
         "textposition": "auto",
         "type": "bar",
         "x": [
          95463
         ],
         "xaxis": "x",
         "y": [
          "Akdeniz"
         ],
         "yaxis": "y"
        },
        {
         "alignmentgroup": "True",
         "hovertemplate": "city-şehir=Rize<br>2_dose-2.doz=%{x}<br>Bölge-Region=%{y}<extra></extra>",
         "legendgroup": "Rize",
         "marker": {
          "color": "#FFA15A",
          "pattern": {
           "shape": ""
          }
         },
         "name": "Rize",
         "offsetgroup": "Rize",
         "orientation": "h",
         "showlegend": true,
         "textposition": "auto",
         "type": "bar",
         "x": [
          78152
         ],
         "xaxis": "x",
         "y": [
          "Karadeniz"
         ],
         "yaxis": "y"
        },
        {
         "alignmentgroup": "True",
         "hovertemplate": "city-şehir=Sakarya<br>2_dose-2.doz=%{x}<br>Bölge-Region=%{y}<extra></extra>",
         "legendgroup": "Sakarya",
         "marker": {
          "color": "#19d3f3",
          "pattern": {
           "shape": ""
          }
         },
         "name": "Sakarya",
         "offsetgroup": "Sakarya",
         "orientation": "h",
         "showlegend": true,
         "textposition": "auto",
         "type": "bar",
         "x": [
          184942
         ],
         "xaxis": "x",
         "y": [
          "Marmara"
         ],
         "yaxis": "y"
        },
        {
         "alignmentgroup": "True",
         "hovertemplate": "city-şehir=Samsun<br>2_dose-2.doz=%{x}<br>Bölge-Region=%{y}<extra></extra>",
         "legendgroup": "Samsun",
         "marker": {
          "color": "#FF6692",
          "pattern": {
           "shape": ""
          }
         },
         "name": "Samsun",
         "offsetgroup": "Samsun",
         "orientation": "h",
         "showlegend": true,
         "textposition": "auto",
         "type": "bar",
         "x": [
          292951
         ],
         "xaxis": "x",
         "y": [
          "Karadeniz"
         ],
         "yaxis": "y"
        },
        {
         "alignmentgroup": "True",
         "hovertemplate": "city-şehir=Siirt<br>2_dose-2.doz=%{x}<br>Bölge-Region=%{y}<extra></extra>",
         "legendgroup": "Siirt",
         "marker": {
          "color": "#B6E880",
          "pattern": {
           "shape": ""
          }
         },
         "name": "Siirt",
         "offsetgroup": "Siirt",
         "orientation": "h",
         "showlegend": true,
         "textposition": "auto",
         "type": "bar",
         "x": [
          19836
         ],
         "xaxis": "x",
         "y": [
          "Güneydoğu Anadolu"
         ],
         "yaxis": "y"
        },
        {
         "alignmentgroup": "True",
         "hovertemplate": "city-şehir=Sinop<br>2_dose-2.doz=%{x}<br>Bölge-Region=%{y}<extra></extra>",
         "legendgroup": "Sinop",
         "marker": {
          "color": "#FF97FF",
          "pattern": {
           "shape": ""
          }
         },
         "name": "Sinop",
         "offsetgroup": "Sinop",
         "orientation": "h",
         "showlegend": true,
         "textposition": "auto",
         "type": "bar",
         "x": [
          61944
         ],
         "xaxis": "x",
         "y": [
          "Karadeniz"
         ],
         "yaxis": "y"
        },
        {
         "alignmentgroup": "True",
         "hovertemplate": "city-şehir=Sivas<br>2_dose-2.doz=%{x}<br>Bölge-Region=%{y}<extra></extra>",
         "legendgroup": "Sivas",
         "marker": {
          "color": "#FECB52",
          "pattern": {
           "shape": ""
          }
         },
         "name": "Sivas",
         "offsetgroup": "Sivas",
         "orientation": "h",
         "showlegend": true,
         "textposition": "auto",
         "type": "bar",
         "x": [
          126038
         ],
         "xaxis": "x",
         "y": [
          "İç Anadolu"
         ],
         "yaxis": "y"
        },
        {
         "alignmentgroup": "True",
         "hovertemplate": "city-şehir=Şanlıurfa<br>2_dose-2.doz=%{x}<br>Bölge-Region=%{y}<extra></extra>",
         "legendgroup": "Şanlıurfa",
         "marker": {
          "color": "#636efa",
          "pattern": {
           "shape": ""
          }
         },
         "name": "Şanlıurfa",
         "offsetgroup": "Şanlıurfa",
         "orientation": "h",
         "showlegend": true,
         "textposition": "auto",
         "type": "bar",
         "x": [
          109394
         ],
         "xaxis": "x",
         "y": [
          "Güneydoğu Anadolu"
         ],
         "yaxis": "y"
        },
        {
         "alignmentgroup": "True",
         "hovertemplate": "city-şehir=Şırnak<br>2_dose-2.doz=%{x}<br>Bölge-Region=%{y}<extra></extra>",
         "legendgroup": "Şırnak",
         "marker": {
          "color": "#EF553B",
          "pattern": {
           "shape": ""
          }
         },
         "name": "Şırnak",
         "offsetgroup": "Şırnak",
         "orientation": "h",
         "showlegend": true,
         "textposition": "auto",
         "type": "bar",
         "x": [
          25473
         ],
         "xaxis": "x",
         "y": [
          "Güneydoğu Anadolu"
         ],
         "yaxis": "y"
        },
        {
         "alignmentgroup": "True",
         "hovertemplate": "city-şehir=Tekirdağ<br>2_dose-2.doz=%{x}<br>Bölge-Region=%{y}<extra></extra>",
         "legendgroup": "Tekirdağ",
         "marker": {
          "color": "#00cc96",
          "pattern": {
           "shape": ""
          }
         },
         "name": "Tekirdağ",
         "offsetgroup": "Tekirdağ",
         "orientation": "h",
         "showlegend": true,
         "textposition": "auto",
         "type": "bar",
         "x": [
          208146
         ],
         "xaxis": "x",
         "y": [
          "Marmara"
         ],
         "yaxis": "y"
        },
        {
         "alignmentgroup": "True",
         "hovertemplate": "city-şehir=Tokat<br>2_dose-2.doz=%{x}<br>Bölge-Region=%{y}<extra></extra>",
         "legendgroup": "Tokat",
         "marker": {
          "color": "#ab63fa",
          "pattern": {
           "shape": ""
          }
         },
         "name": "Tokat",
         "offsetgroup": "Tokat",
         "orientation": "h",
         "showlegend": true,
         "textposition": "auto",
         "type": "bar",
         "x": [
          137312
         ],
         "xaxis": "x",
         "y": [
          "Karadeniz"
         ],
         "yaxis": "y"
        },
        {
         "alignmentgroup": "True",
         "hovertemplate": "city-şehir=Trabzon<br>2_dose-2.doz=%{x}<br>Bölge-Region=%{y}<extra></extra>",
         "legendgroup": "Trabzon",
         "marker": {
          "color": "#FFA15A",
          "pattern": {
           "shape": ""
          }
         },
         "name": "Trabzon",
         "offsetgroup": "Trabzon",
         "orientation": "h",
         "showlegend": true,
         "textposition": "auto",
         "type": "bar",
         "x": [
          186529
         ],
         "xaxis": "x",
         "y": [
          "Karadeniz"
         ],
         "yaxis": "y"
        },
        {
         "alignmentgroup": "True",
         "hovertemplate": "city-şehir=Tunceli<br>2_dose-2.doz=%{x}<br>Bölge-Region=%{y}<extra></extra>",
         "legendgroup": "Tunceli",
         "marker": {
          "color": "#19d3f3",
          "pattern": {
           "shape": ""
          }
         },
         "name": "Tunceli",
         "offsetgroup": "Tunceli",
         "orientation": "h",
         "showlegend": true,
         "textposition": "auto",
         "type": "bar",
         "x": [
          23646
         ],
         "xaxis": "x",
         "y": [
          "Doğu Anadolu"
         ],
         "yaxis": "y"
        },
        {
         "alignmentgroup": "True",
         "hovertemplate": "city-şehir=Uşak<br>2_dose-2.doz=%{x}<br>Bölge-Region=%{y}<extra></extra>",
         "legendgroup": "Uşak",
         "marker": {
          "color": "#FF6692",
          "pattern": {
           "shape": ""
          }
         },
         "name": "Uşak",
         "offsetgroup": "Uşak",
         "orientation": "h",
         "showlegend": true,
         "textposition": "auto",
         "type": "bar",
         "x": [
          81055
         ],
         "xaxis": "x",
         "y": [
          "Ege"
         ],
         "yaxis": "y"
        },
        {
         "alignmentgroup": "True",
         "hovertemplate": "city-şehir=Van<br>2_dose-2.doz=%{x}<br>Bölge-Region=%{y}<extra></extra>",
         "legendgroup": "Van",
         "marker": {
          "color": "#B6E880",
          "pattern": {
           "shape": ""
          }
         },
         "name": "Van",
         "offsetgroup": "Van",
         "orientation": "h",
         "showlegend": true,
         "textposition": "auto",
         "type": "bar",
         "x": [
          91208
         ],
         "xaxis": "x",
         "y": [
          "Doğu Anadolu"
         ],
         "yaxis": "y"
        },
        {
         "alignmentgroup": "True",
         "hovertemplate": "city-şehir=Yalova<br>2_dose-2.doz=%{x}<br>Bölge-Region=%{y}<extra></extra>",
         "legendgroup": "Yalova",
         "marker": {
          "color": "#FF97FF",
          "pattern": {
           "shape": ""
          }
         },
         "name": "Yalova",
         "offsetgroup": "Yalova",
         "orientation": "h",
         "showlegend": true,
         "textposition": "auto",
         "type": "bar",
         "x": [
          65920
         ],
         "xaxis": "x",
         "y": [
          "Marmara"
         ],
         "yaxis": "y"
        },
        {
         "alignmentgroup": "True",
         "hovertemplate": "city-şehir=Yozgat<br>2_dose-2.doz=%{x}<br>Bölge-Region=%{y}<extra></extra>",
         "legendgroup": "Yozgat",
         "marker": {
          "color": "#FECB52",
          "pattern": {
           "shape": ""
          }
         },
         "name": "Yozgat",
         "offsetgroup": "Yozgat",
         "orientation": "h",
         "showlegend": true,
         "textposition": "auto",
         "type": "bar",
         "x": [
          81924
         ],
         "xaxis": "x",
         "y": [
          "İç Anadolu"
         ],
         "yaxis": "y"
        },
        {
         "alignmentgroup": "True",
         "hovertemplate": "city-şehir=Zonguldak<br>2_dose-2.doz=%{x}<br>Bölge-Region=%{y}<extra></extra>",
         "legendgroup": "Zonguldak",
         "marker": {
          "color": "#636efa",
          "pattern": {
           "shape": ""
          }
         },
         "name": "Zonguldak",
         "offsetgroup": "Zonguldak",
         "orientation": "h",
         "showlegend": true,
         "textposition": "auto",
         "type": "bar",
         "x": [
          139382
         ],
         "xaxis": "x",
         "y": [
          "Karadeniz"
         ],
         "yaxis": "y"
        }
       ],
       "layout": {
        "barmode": "relative",
        "legend": {
         "title": {
          "text": "city-şehir"
         },
         "tracegroupgap": 0
        },
        "template": {
         "data": {
          "bar": [
           {
            "error_x": {
             "color": "#2a3f5f"
            },
            "error_y": {
             "color": "#2a3f5f"
            },
            "marker": {
             "line": {
              "color": "#E5ECF6",
              "width": 0.5
             },
             "pattern": {
              "fillmode": "overlay",
              "size": 10,
              "solidity": 0.2
             }
            },
            "type": "bar"
           }
          ],
          "barpolar": [
           {
            "marker": {
             "line": {
              "color": "#E5ECF6",
              "width": 0.5
             },
             "pattern": {
              "fillmode": "overlay",
              "size": 10,
              "solidity": 0.2
             }
            },
            "type": "barpolar"
           }
          ],
          "carpet": [
           {
            "aaxis": {
             "endlinecolor": "#2a3f5f",
             "gridcolor": "white",
             "linecolor": "white",
             "minorgridcolor": "white",
             "startlinecolor": "#2a3f5f"
            },
            "baxis": {
             "endlinecolor": "#2a3f5f",
             "gridcolor": "white",
             "linecolor": "white",
             "minorgridcolor": "white",
             "startlinecolor": "#2a3f5f"
            },
            "type": "carpet"
           }
          ],
          "choropleth": [
           {
            "colorbar": {
             "outlinewidth": 0,
             "ticks": ""
            },
            "type": "choropleth"
           }
          ],
          "contour": [
           {
            "colorbar": {
             "outlinewidth": 0,
             "ticks": ""
            },
            "colorscale": [
             [
              0,
              "#0d0887"
             ],
             [
              0.1111111111111111,
              "#46039f"
             ],
             [
              0.2222222222222222,
              "#7201a8"
             ],
             [
              0.3333333333333333,
              "#9c179e"
             ],
             [
              0.4444444444444444,
              "#bd3786"
             ],
             [
              0.5555555555555556,
              "#d8576b"
             ],
             [
              0.6666666666666666,
              "#ed7953"
             ],
             [
              0.7777777777777778,
              "#fb9f3a"
             ],
             [
              0.8888888888888888,
              "#fdca26"
             ],
             [
              1,
              "#f0f921"
             ]
            ],
            "type": "contour"
           }
          ],
          "contourcarpet": [
           {
            "colorbar": {
             "outlinewidth": 0,
             "ticks": ""
            },
            "type": "contourcarpet"
           }
          ],
          "heatmap": [
           {
            "colorbar": {
             "outlinewidth": 0,
             "ticks": ""
            },
            "colorscale": [
             [
              0,
              "#0d0887"
             ],
             [
              0.1111111111111111,
              "#46039f"
             ],
             [
              0.2222222222222222,
              "#7201a8"
             ],
             [
              0.3333333333333333,
              "#9c179e"
             ],
             [
              0.4444444444444444,
              "#bd3786"
             ],
             [
              0.5555555555555556,
              "#d8576b"
             ],
             [
              0.6666666666666666,
              "#ed7953"
             ],
             [
              0.7777777777777778,
              "#fb9f3a"
             ],
             [
              0.8888888888888888,
              "#fdca26"
             ],
             [
              1,
              "#f0f921"
             ]
            ],
            "type": "heatmap"
           }
          ],
          "heatmapgl": [
           {
            "colorbar": {
             "outlinewidth": 0,
             "ticks": ""
            },
            "colorscale": [
             [
              0,
              "#0d0887"
             ],
             [
              0.1111111111111111,
              "#46039f"
             ],
             [
              0.2222222222222222,
              "#7201a8"
             ],
             [
              0.3333333333333333,
              "#9c179e"
             ],
             [
              0.4444444444444444,
              "#bd3786"
             ],
             [
              0.5555555555555556,
              "#d8576b"
             ],
             [
              0.6666666666666666,
              "#ed7953"
             ],
             [
              0.7777777777777778,
              "#fb9f3a"
             ],
             [
              0.8888888888888888,
              "#fdca26"
             ],
             [
              1,
              "#f0f921"
             ]
            ],
            "type": "heatmapgl"
           }
          ],
          "histogram": [
           {
            "marker": {
             "pattern": {
              "fillmode": "overlay",
              "size": 10,
              "solidity": 0.2
             }
            },
            "type": "histogram"
           }
          ],
          "histogram2d": [
           {
            "colorbar": {
             "outlinewidth": 0,
             "ticks": ""
            },
            "colorscale": [
             [
              0,
              "#0d0887"
             ],
             [
              0.1111111111111111,
              "#46039f"
             ],
             [
              0.2222222222222222,
              "#7201a8"
             ],
             [
              0.3333333333333333,
              "#9c179e"
             ],
             [
              0.4444444444444444,
              "#bd3786"
             ],
             [
              0.5555555555555556,
              "#d8576b"
             ],
             [
              0.6666666666666666,
              "#ed7953"
             ],
             [
              0.7777777777777778,
              "#fb9f3a"
             ],
             [
              0.8888888888888888,
              "#fdca26"
             ],
             [
              1,
              "#f0f921"
             ]
            ],
            "type": "histogram2d"
           }
          ],
          "histogram2dcontour": [
           {
            "colorbar": {
             "outlinewidth": 0,
             "ticks": ""
            },
            "colorscale": [
             [
              0,
              "#0d0887"
             ],
             [
              0.1111111111111111,
              "#46039f"
             ],
             [
              0.2222222222222222,
              "#7201a8"
             ],
             [
              0.3333333333333333,
              "#9c179e"
             ],
             [
              0.4444444444444444,
              "#bd3786"
             ],
             [
              0.5555555555555556,
              "#d8576b"
             ],
             [
              0.6666666666666666,
              "#ed7953"
             ],
             [
              0.7777777777777778,
              "#fb9f3a"
             ],
             [
              0.8888888888888888,
              "#fdca26"
             ],
             [
              1,
              "#f0f921"
             ]
            ],
            "type": "histogram2dcontour"
           }
          ],
          "mesh3d": [
           {
            "colorbar": {
             "outlinewidth": 0,
             "ticks": ""
            },
            "type": "mesh3d"
           }
          ],
          "parcoords": [
           {
            "line": {
             "colorbar": {
              "outlinewidth": 0,
              "ticks": ""
             }
            },
            "type": "parcoords"
           }
          ],
          "pie": [
           {
            "automargin": true,
            "type": "pie"
           }
          ],
          "scatter": [
           {
            "marker": {
             "colorbar": {
              "outlinewidth": 0,
              "ticks": ""
             }
            },
            "type": "scatter"
           }
          ],
          "scatter3d": [
           {
            "line": {
             "colorbar": {
              "outlinewidth": 0,
              "ticks": ""
             }
            },
            "marker": {
             "colorbar": {
              "outlinewidth": 0,
              "ticks": ""
             }
            },
            "type": "scatter3d"
           }
          ],
          "scattercarpet": [
           {
            "marker": {
             "colorbar": {
              "outlinewidth": 0,
              "ticks": ""
             }
            },
            "type": "scattercarpet"
           }
          ],
          "scattergeo": [
           {
            "marker": {
             "colorbar": {
              "outlinewidth": 0,
              "ticks": ""
             }
            },
            "type": "scattergeo"
           }
          ],
          "scattergl": [
           {
            "marker": {
             "colorbar": {
              "outlinewidth": 0,
              "ticks": ""
             }
            },
            "type": "scattergl"
           }
          ],
          "scattermapbox": [
           {
            "marker": {
             "colorbar": {
              "outlinewidth": 0,
              "ticks": ""
             }
            },
            "type": "scattermapbox"
           }
          ],
          "scatterpolar": [
           {
            "marker": {
             "colorbar": {
              "outlinewidth": 0,
              "ticks": ""
             }
            },
            "type": "scatterpolar"
           }
          ],
          "scatterpolargl": [
           {
            "marker": {
             "colorbar": {
              "outlinewidth": 0,
              "ticks": ""
             }
            },
            "type": "scatterpolargl"
           }
          ],
          "scatterternary": [
           {
            "marker": {
             "colorbar": {
              "outlinewidth": 0,
              "ticks": ""
             }
            },
            "type": "scatterternary"
           }
          ],
          "surface": [
           {
            "colorbar": {
             "outlinewidth": 0,
             "ticks": ""
            },
            "colorscale": [
             [
              0,
              "#0d0887"
             ],
             [
              0.1111111111111111,
              "#46039f"
             ],
             [
              0.2222222222222222,
              "#7201a8"
             ],
             [
              0.3333333333333333,
              "#9c179e"
             ],
             [
              0.4444444444444444,
              "#bd3786"
             ],
             [
              0.5555555555555556,
              "#d8576b"
             ],
             [
              0.6666666666666666,
              "#ed7953"
             ],
             [
              0.7777777777777778,
              "#fb9f3a"
             ],
             [
              0.8888888888888888,
              "#fdca26"
             ],
             [
              1,
              "#f0f921"
             ]
            ],
            "type": "surface"
           }
          ],
          "table": [
           {
            "cells": {
             "fill": {
              "color": "#EBF0F8"
             },
             "line": {
              "color": "white"
             }
            },
            "header": {
             "fill": {
              "color": "#C8D4E3"
             },
             "line": {
              "color": "white"
             }
            },
            "type": "table"
           }
          ]
         },
         "layout": {
          "annotationdefaults": {
           "arrowcolor": "#2a3f5f",
           "arrowhead": 0,
           "arrowwidth": 1
          },
          "autotypenumbers": "strict",
          "coloraxis": {
           "colorbar": {
            "outlinewidth": 0,
            "ticks": ""
           }
          },
          "colorscale": {
           "diverging": [
            [
             0,
             "#8e0152"
            ],
            [
             0.1,
             "#c51b7d"
            ],
            [
             0.2,
             "#de77ae"
            ],
            [
             0.3,
             "#f1b6da"
            ],
            [
             0.4,
             "#fde0ef"
            ],
            [
             0.5,
             "#f7f7f7"
            ],
            [
             0.6,
             "#e6f5d0"
            ],
            [
             0.7,
             "#b8e186"
            ],
            [
             0.8,
             "#7fbc41"
            ],
            [
             0.9,
             "#4d9221"
            ],
            [
             1,
             "#276419"
            ]
           ],
           "sequential": [
            [
             0,
             "#0d0887"
            ],
            [
             0.1111111111111111,
             "#46039f"
            ],
            [
             0.2222222222222222,
             "#7201a8"
            ],
            [
             0.3333333333333333,
             "#9c179e"
            ],
            [
             0.4444444444444444,
             "#bd3786"
            ],
            [
             0.5555555555555556,
             "#d8576b"
            ],
            [
             0.6666666666666666,
             "#ed7953"
            ],
            [
             0.7777777777777778,
             "#fb9f3a"
            ],
            [
             0.8888888888888888,
             "#fdca26"
            ],
            [
             1,
             "#f0f921"
            ]
           ],
           "sequentialminus": [
            [
             0,
             "#0d0887"
            ],
            [
             0.1111111111111111,
             "#46039f"
            ],
            [
             0.2222222222222222,
             "#7201a8"
            ],
            [
             0.3333333333333333,
             "#9c179e"
            ],
            [
             0.4444444444444444,
             "#bd3786"
            ],
            [
             0.5555555555555556,
             "#d8576b"
            ],
            [
             0.6666666666666666,
             "#ed7953"
            ],
            [
             0.7777777777777778,
             "#fb9f3a"
            ],
            [
             0.8888888888888888,
             "#fdca26"
            ],
            [
             1,
             "#f0f921"
            ]
           ]
          },
          "colorway": [
           "#636efa",
           "#EF553B",
           "#00cc96",
           "#ab63fa",
           "#FFA15A",
           "#19d3f3",
           "#FF6692",
           "#B6E880",
           "#FF97FF",
           "#FECB52"
          ],
          "font": {
           "color": "#2a3f5f"
          },
          "geo": {
           "bgcolor": "white",
           "lakecolor": "white",
           "landcolor": "#E5ECF6",
           "showlakes": true,
           "showland": true,
           "subunitcolor": "white"
          },
          "hoverlabel": {
           "align": "left"
          },
          "hovermode": "closest",
          "mapbox": {
           "style": "light"
          },
          "paper_bgcolor": "white",
          "plot_bgcolor": "#E5ECF6",
          "polar": {
           "angularaxis": {
            "gridcolor": "white",
            "linecolor": "white",
            "ticks": ""
           },
           "bgcolor": "#E5ECF6",
           "radialaxis": {
            "gridcolor": "white",
            "linecolor": "white",
            "ticks": ""
           }
          },
          "scene": {
           "xaxis": {
            "backgroundcolor": "#E5ECF6",
            "gridcolor": "white",
            "gridwidth": 2,
            "linecolor": "white",
            "showbackground": true,
            "ticks": "",
            "zerolinecolor": "white"
           },
           "yaxis": {
            "backgroundcolor": "#E5ECF6",
            "gridcolor": "white",
            "gridwidth": 2,
            "linecolor": "white",
            "showbackground": true,
            "ticks": "",
            "zerolinecolor": "white"
           },
           "zaxis": {
            "backgroundcolor": "#E5ECF6",
            "gridcolor": "white",
            "gridwidth": 2,
            "linecolor": "white",
            "showbackground": true,
            "ticks": "",
            "zerolinecolor": "white"
           }
          },
          "shapedefaults": {
           "line": {
            "color": "#2a3f5f"
           }
          },
          "ternary": {
           "aaxis": {
            "gridcolor": "white",
            "linecolor": "white",
            "ticks": ""
           },
           "baxis": {
            "gridcolor": "white",
            "linecolor": "white",
            "ticks": ""
           },
           "bgcolor": "#E5ECF6",
           "caxis": {
            "gridcolor": "white",
            "linecolor": "white",
            "ticks": ""
           }
          },
          "title": {
           "x": 0.05
          },
          "xaxis": {
           "automargin": true,
           "gridcolor": "white",
           "linecolor": "white",
           "ticks": "",
           "title": {
            "standoff": 15
           },
           "zerolinecolor": "white",
           "zerolinewidth": 2
          },
          "yaxis": {
           "automargin": true,
           "gridcolor": "white",
           "linecolor": "white",
           "ticks": "",
           "title": {
            "standoff": 15
           },
           "zerolinecolor": "white",
           "zerolinewidth": 2
          }
         }
        },
        "title": {
         "text": "Completed 2nd dose of Vaccine as of June 26, 26 Haziran'da tamamlanan 2.doz aşı"
        },
        "xaxis": {
         "anchor": "y",
         "domain": [
          0,
          1
         ],
         "title": {
          "text": "2_dose-2.doz"
         }
        },
        "yaxis": {
         "anchor": "x",
         "domain": [
          0,
          1
         ],
         "title": {
          "text": "Bölge-Region"
         }
        }
       }
      },
      "text/html": [
       "<div>                            <div id=\"4fee2816-853d-4d48-a54d-124b7d5721e1\" class=\"plotly-graph-div\" style=\"height:525px; width:100%;\"></div>            <script type=\"text/javascript\">                require([\"plotly\"], function(Plotly) {                    window.PLOTLYENV=window.PLOTLYENV || {};                                    if (document.getElementById(\"4fee2816-853d-4d48-a54d-124b7d5721e1\")) {                    Plotly.newPlot(                        \"4fee2816-853d-4d48-a54d-124b7d5721e1\",                        [{\"alignmentgroup\":\"True\",\"hovertemplate\":\"city-\\u015fehir=Adana<br>2_dose-2.doz=%{x}<br>B\\u00f6lge-Region=%{y}<extra></extra>\",\"legendgroup\":\"Adana\",\"marker\":{\"color\":\"#636efa\",\"pattern\":{\"shape\":\"\"}},\"name\":\"Adana\",\"offsetgroup\":\"Adana\",\"orientation\":\"h\",\"showlegend\":true,\"textposition\":\"auto\",\"type\":\"bar\",\"x\":[355404],\"xaxis\":\"x\",\"y\":[\"Akdeniz\"],\"yaxis\":\"y\"},{\"alignmentgroup\":\"True\",\"hovertemplate\":\"city-\\u015fehir=Ad\\u0131yaman<br>2_dose-2.doz=%{x}<br>B\\u00f6lge-Region=%{y}<extra></extra>\",\"legendgroup\":\"Ad\\u0131yaman\",\"marker\":{\"color\":\"#EF553B\",\"pattern\":{\"shape\":\"\"}},\"name\":\"Ad\\u0131yaman\",\"offsetgroup\":\"Ad\\u0131yaman\",\"orientation\":\"h\",\"showlegend\":true,\"textposition\":\"auto\",\"type\":\"bar\",\"x\":[77955],\"xaxis\":\"x\",\"y\":[\"G\\u00fcneydo\\u011fu Anadolu\"],\"yaxis\":\"y\"},{\"alignmentgroup\":\"True\",\"hovertemplate\":\"city-\\u015fehir=Afyonkarahisar<br>2_dose-2.doz=%{x}<br>B\\u00f6lge-Region=%{y}<extra></extra>\",\"legendgroup\":\"Afyonkarahisar\",\"marker\":{\"color\":\"#00cc96\",\"pattern\":{\"shape\":\"\"}},\"name\":\"Afyonkarahisar\",\"offsetgroup\":\"Afyonkarahisar\",\"orientation\":\"h\",\"showlegend\":true,\"textposition\":\"auto\",\"type\":\"bar\",\"x\":[138934],\"xaxis\":\"x\",\"y\":[\"Ege\"],\"yaxis\":\"y\"},{\"alignmentgroup\":\"True\",\"hovertemplate\":\"city-\\u015fehir=A\\u011fr\\u0131<br>2_dose-2.doz=%{x}<br>B\\u00f6lge-Region=%{y}<extra></extra>\",\"legendgroup\":\"A\\u011fr\\u0131\",\"marker\":{\"color\":\"#ab63fa\",\"pattern\":{\"shape\":\"\"}},\"name\":\"A\\u011fr\\u0131\",\"offsetgroup\":\"A\\u011fr\\u0131\",\"orientation\":\"h\",\"showlegend\":true,\"textposition\":\"auto\",\"type\":\"bar\",\"x\":[41146],\"xaxis\":\"x\",\"y\":[\"Do\\u011fu Anadolu\"],\"yaxis\":\"y\"},{\"alignmentgroup\":\"True\",\"hovertemplate\":\"city-\\u015fehir=Aksaray<br>2_dose-2.doz=%{x}<br>B\\u00f6lge-Region=%{y}<extra></extra>\",\"legendgroup\":\"Aksaray\",\"marker\":{\"color\":\"#FFA15A\",\"pattern\":{\"shape\":\"\"}},\"name\":\"Aksaray\",\"offsetgroup\":\"Aksaray\",\"orientation\":\"h\",\"showlegend\":true,\"textposition\":\"auto\",\"type\":\"bar\",\"x\":[62603],\"xaxis\":\"x\",\"y\":[\"\\u0130\\u00e7 Anadolu\"],\"yaxis\":\"y\"},{\"alignmentgroup\":\"True\",\"hovertemplate\":\"city-\\u015fehir=Amasya<br>2_dose-2.doz=%{x}<br>B\\u00f6lge-Region=%{y}<extra></extra>\",\"legendgroup\":\"Amasya\",\"marker\":{\"color\":\"#19d3f3\",\"pattern\":{\"shape\":\"\"}},\"name\":\"Amasya\",\"offsetgroup\":\"Amasya\",\"orientation\":\"h\",\"showlegend\":true,\"textposition\":\"auto\",\"type\":\"bar\",\"x\":[87322],\"xaxis\":\"x\",\"y\":[\"Karadeniz\"],\"yaxis\":\"y\"},{\"alignmentgroup\":\"True\",\"hovertemplate\":\"city-\\u015fehir=Ankara<br>2_dose-2.doz=%{x}<br>B\\u00f6lge-Region=%{y}<extra></extra>\",\"legendgroup\":\"Ankara\",\"marker\":{\"color\":\"#FF6692\",\"pattern\":{\"shape\":\"\"}},\"name\":\"Ankara\",\"offsetgroup\":\"Ankara\",\"orientation\":\"h\",\"showlegend\":true,\"textposition\":\"auto\",\"type\":\"bar\",\"x\":[1241906],\"xaxis\":\"x\",\"y\":[\"\\u0130\\u00e7 Anadolu\"],\"yaxis\":\"y\"},{\"alignmentgroup\":\"True\",\"hovertemplate\":\"city-\\u015fehir=Antalya<br>2_dose-2.doz=%{x}<br>B\\u00f6lge-Region=%{y}<extra></extra>\",\"legendgroup\":\"Antalya\",\"marker\":{\"color\":\"#B6E880\",\"pattern\":{\"shape\":\"\"}},\"name\":\"Antalya\",\"offsetgroup\":\"Antalya\",\"orientation\":\"h\",\"showlegend\":true,\"textposition\":\"auto\",\"type\":\"bar\",\"x\":[530415],\"xaxis\":\"x\",\"y\":[\"Akdeniz\"],\"yaxis\":\"y\"},{\"alignmentgroup\":\"True\",\"hovertemplate\":\"city-\\u015fehir=Ardahan<br>2_dose-2.doz=%{x}<br>B\\u00f6lge-Region=%{y}<extra></extra>\",\"legendgroup\":\"Ardahan\",\"marker\":{\"color\":\"#FF97FF\",\"pattern\":{\"shape\":\"\"}},\"name\":\"Ardahan\",\"offsetgroup\":\"Ardahan\",\"orientation\":\"h\",\"showlegend\":true,\"textposition\":\"auto\",\"type\":\"bar\",\"x\":[18642],\"xaxis\":\"x\",\"y\":[\"Do\\u011fu Anadolu\"],\"yaxis\":\"y\"},{\"alignmentgroup\":\"True\",\"hovertemplate\":\"city-\\u015fehir=Artvin<br>2_dose-2.doz=%{x}<br>B\\u00f6lge-Region=%{y}<extra></extra>\",\"legendgroup\":\"Artvin\",\"marker\":{\"color\":\"#FECB52\",\"pattern\":{\"shape\":\"\"}},\"name\":\"Artvin\",\"offsetgroup\":\"Artvin\",\"orientation\":\"h\",\"showlegend\":true,\"textposition\":\"auto\",\"type\":\"bar\",\"x\":[43132],\"xaxis\":\"x\",\"y\":[\"Karadeniz\"],\"yaxis\":\"y\"},{\"alignmentgroup\":\"True\",\"hovertemplate\":\"city-\\u015fehir=Ayd\\u0131n<br>2_dose-2.doz=%{x}<br>B\\u00f6lge-Region=%{y}<extra></extra>\",\"legendgroup\":\"Ayd\\u0131n\",\"marker\":{\"color\":\"#636efa\",\"pattern\":{\"shape\":\"\"}},\"name\":\"Ayd\\u0131n\",\"offsetgroup\":\"Ayd\\u0131n\",\"orientation\":\"h\",\"showlegend\":true,\"textposition\":\"auto\",\"type\":\"bar\",\"x\":[293208],\"xaxis\":\"x\",\"y\":[\"Ege\"],\"yaxis\":\"y\"},{\"alignmentgroup\":\"True\",\"hovertemplate\":\"city-\\u015fehir=Bal\\u0131kesir<br>2_dose-2.doz=%{x}<br>B\\u00f6lge-Region=%{y}<extra></extra>\",\"legendgroup\":\"Bal\\u0131kesir\",\"marker\":{\"color\":\"#EF553B\",\"pattern\":{\"shape\":\"\"}},\"name\":\"Bal\\u0131kesir\",\"offsetgroup\":\"Bal\\u0131kesir\",\"orientation\":\"h\",\"showlegend\":true,\"textposition\":\"auto\",\"type\":\"bar\",\"x\":[359073],\"xaxis\":\"x\",\"y\":[\"Marmara\"],\"yaxis\":\"y\"},{\"alignmentgroup\":\"True\",\"hovertemplate\":\"city-\\u015fehir=Bart\\u0131n<br>2_dose-2.doz=%{x}<br>B\\u00f6lge-Region=%{y}<extra></extra>\",\"legendgroup\":\"Bart\\u0131n\",\"marker\":{\"color\":\"#00cc96\",\"pattern\":{\"shape\":\"\"}},\"name\":\"Bart\\u0131n\",\"offsetgroup\":\"Bart\\u0131n\",\"orientation\":\"h\",\"showlegend\":true,\"textposition\":\"auto\",\"type\":\"bar\",\"x\":[49086],\"xaxis\":\"x\",\"y\":[\"Karadeniz\"],\"yaxis\":\"y\"},{\"alignmentgroup\":\"True\",\"hovertemplate\":\"city-\\u015fehir=Batman<br>2_dose-2.doz=%{x}<br>B\\u00f6lge-Region=%{y}<extra></extra>\",\"legendgroup\":\"Batman\",\"marker\":{\"color\":\"#ab63fa\",\"pattern\":{\"shape\":\"\"}},\"name\":\"Batman\",\"offsetgroup\":\"Batman\",\"orientation\":\"h\",\"showlegend\":true,\"textposition\":\"auto\",\"type\":\"bar\",\"x\":[48556],\"xaxis\":\"x\",\"y\":[\"G\\u00fcneydo\\u011fu Anadolu\"],\"yaxis\":\"y\"},{\"alignmentgroup\":\"True\",\"hovertemplate\":\"city-\\u015fehir=Bayburt<br>2_dose-2.doz=%{x}<br>B\\u00f6lge-Region=%{y}<extra></extra>\",\"legendgroup\":\"Bayburt\",\"marker\":{\"color\":\"#FFA15A\",\"pattern\":{\"shape\":\"\"}},\"name\":\"Bayburt\",\"offsetgroup\":\"Bayburt\",\"orientation\":\"h\",\"showlegend\":true,\"textposition\":\"auto\",\"type\":\"bar\",\"x\":[13155],\"xaxis\":\"x\",\"y\":[\"Karadeniz\"],\"yaxis\":\"y\"},{\"alignmentgroup\":\"True\",\"hovertemplate\":\"city-\\u015fehir=Bilecik<br>2_dose-2.doz=%{x}<br>B\\u00f6lge-Region=%{y}<extra></extra>\",\"legendgroup\":\"Bilecik\",\"marker\":{\"color\":\"#19d3f3\",\"pattern\":{\"shape\":\"\"}},\"name\":\"Bilecik\",\"offsetgroup\":\"Bilecik\",\"orientation\":\"h\",\"showlegend\":true,\"textposition\":\"auto\",\"type\":\"bar\",\"x\":[49145],\"xaxis\":\"x\",\"y\":[\"Marmara\"],\"yaxis\":\"y\"},{\"alignmentgroup\":\"True\",\"hovertemplate\":\"city-\\u015fehir=Bing\\u00f6l<br>2_dose-2.doz=%{x}<br>B\\u00f6lge-Region=%{y}<extra></extra>\",\"legendgroup\":\"Bing\\u00f6l\",\"marker\":{\"color\":\"#FF6692\",\"pattern\":{\"shape\":\"\"}},\"name\":\"Bing\\u00f6l\",\"offsetgroup\":\"Bing\\u00f6l\",\"orientation\":\"h\",\"showlegend\":true,\"textposition\":\"auto\",\"type\":\"bar\",\"x\":[30771],\"xaxis\":\"x\",\"y\":[\"Do\\u011fu Anadolu\"],\"yaxis\":\"y\"},{\"alignmentgroup\":\"True\",\"hovertemplate\":\"city-\\u015fehir=Bitlis<br>2_dose-2.doz=%{x}<br>B\\u00f6lge-Region=%{y}<extra></extra>\",\"legendgroup\":\"Bitlis\",\"marker\":{\"color\":\"#B6E880\",\"pattern\":{\"shape\":\"\"}},\"name\":\"Bitlis\",\"offsetgroup\":\"Bitlis\",\"orientation\":\"h\",\"showlegend\":true,\"textposition\":\"auto\",\"type\":\"bar\",\"x\":[23726],\"xaxis\":\"x\",\"y\":[\"Do\\u011fu Anadolu\"],\"yaxis\":\"y\"},{\"alignmentgroup\":\"True\",\"hovertemplate\":\"city-\\u015fehir=Bolu<br>2_dose-2.doz=%{x}<br>B\\u00f6lge-Region=%{y}<extra></extra>\",\"legendgroup\":\"Bolu\",\"marker\":{\"color\":\"#FF97FF\",\"pattern\":{\"shape\":\"\"}},\"name\":\"Bolu\",\"offsetgroup\":\"Bolu\",\"orientation\":\"h\",\"showlegend\":true,\"textposition\":\"auto\",\"type\":\"bar\",\"x\":[75911],\"xaxis\":\"x\",\"y\":[\"Karadeniz\"],\"yaxis\":\"y\"},{\"alignmentgroup\":\"True\",\"hovertemplate\":\"city-\\u015fehir=Burdur<br>2_dose-2.doz=%{x}<br>B\\u00f6lge-Region=%{y}<extra></extra>\",\"legendgroup\":\"Burdur\",\"marker\":{\"color\":\"#FECB52\",\"pattern\":{\"shape\":\"\"}},\"name\":\"Burdur\",\"offsetgroup\":\"Burdur\",\"orientation\":\"h\",\"showlegend\":true,\"textposition\":\"auto\",\"type\":\"bar\",\"x\":[66955],\"xaxis\":\"x\",\"y\":[\"Akdeniz\"],\"yaxis\":\"y\"},{\"alignmentgroup\":\"True\",\"hovertemplate\":\"city-\\u015fehir=Bursa<br>2_dose-2.doz=%{x}<br>B\\u00f6lge-Region=%{y}<extra></extra>\",\"legendgroup\":\"Bursa\",\"marker\":{\"color\":\"#636efa\",\"pattern\":{\"shape\":\"\"}},\"name\":\"Bursa\",\"offsetgroup\":\"Bursa\",\"orientation\":\"h\",\"showlegend\":true,\"textposition\":\"auto\",\"type\":\"bar\",\"x\":[550539],\"xaxis\":\"x\",\"y\":[\"Marmara\"],\"yaxis\":\"y\"},{\"alignmentgroup\":\"True\",\"hovertemplate\":\"city-\\u015fehir=\\u00c7anakkale<br>2_dose-2.doz=%{x}<br>B\\u00f6lge-Region=%{y}<extra></extra>\",\"legendgroup\":\"\\u00c7anakkale\",\"marker\":{\"color\":\"#EF553B\",\"pattern\":{\"shape\":\"\"}},\"name\":\"\\u00c7anakkale\",\"offsetgroup\":\"\\u00c7anakkale\",\"orientation\":\"h\",\"showlegend\":true,\"textposition\":\"auto\",\"type\":\"bar\",\"x\":[161433],\"xaxis\":\"x\",\"y\":[\"Marmara\"],\"yaxis\":\"y\"},{\"alignmentgroup\":\"True\",\"hovertemplate\":\"city-\\u015fehir=\\u00c7ank\\u0131r\\u0131<br>2_dose-2.doz=%{x}<br>B\\u00f6lge-Region=%{y}<extra></extra>\",\"legendgroup\":\"\\u00c7ank\\u0131r\\u0131\",\"marker\":{\"color\":\"#00cc96\",\"pattern\":{\"shape\":\"\"}},\"name\":\"\\u00c7ank\\u0131r\\u0131\",\"offsetgroup\":\"\\u00c7ank\\u0131r\\u0131\",\"orientation\":\"h\",\"showlegend\":true,\"textposition\":\"auto\",\"type\":\"bar\",\"x\":[45799],\"xaxis\":\"x\",\"y\":[\"\\u0130\\u00e7 Anadolu\"],\"yaxis\":\"y\"},{\"alignmentgroup\":\"True\",\"hovertemplate\":\"city-\\u015fehir=\\u00c7orum<br>2_dose-2.doz=%{x}<br>B\\u00f6lge-Region=%{y}<extra></extra>\",\"legendgroup\":\"\\u00c7orum\",\"marker\":{\"color\":\"#ab63fa\",\"pattern\":{\"shape\":\"\"}},\"name\":\"\\u00c7orum\",\"offsetgroup\":\"\\u00c7orum\",\"orientation\":\"h\",\"showlegend\":true,\"textposition\":\"auto\",\"type\":\"bar\",\"x\":[121891],\"xaxis\":\"x\",\"y\":[\"Karadeniz\"],\"yaxis\":\"y\"},{\"alignmentgroup\":\"True\",\"hovertemplate\":\"city-\\u015fehir=Denizli<br>2_dose-2.doz=%{x}<br>B\\u00f6lge-Region=%{y}<extra></extra>\",\"legendgroup\":\"Denizli\",\"marker\":{\"color\":\"#FFA15A\",\"pattern\":{\"shape\":\"\"}},\"name\":\"Denizli\",\"offsetgroup\":\"Denizli\",\"orientation\":\"h\",\"showlegend\":true,\"textposition\":\"auto\",\"type\":\"bar\",\"x\":[212478],\"xaxis\":\"x\",\"y\":[\"Ege\"],\"yaxis\":\"y\"},{\"alignmentgroup\":\"True\",\"hovertemplate\":\"city-\\u015fehir=Diyarbak\\u0131r<br>2_dose-2.doz=%{x}<br>B\\u00f6lge-Region=%{y}<extra></extra>\",\"legendgroup\":\"Diyarbak\\u0131r\",\"marker\":{\"color\":\"#19d3f3\",\"pattern\":{\"shape\":\"\"}},\"name\":\"Diyarbak\\u0131r\",\"offsetgroup\":\"Diyarbak\\u0131r\",\"orientation\":\"h\",\"showlegend\":true,\"textposition\":\"auto\",\"type\":\"bar\",\"x\":[134167],\"xaxis\":\"x\",\"y\":[\"G\\u00fcneydo\\u011fu Anadolu\"],\"yaxis\":\"y\"},{\"alignmentgroup\":\"True\",\"hovertemplate\":\"city-\\u015fehir=D\\u00fczce<br>2_dose-2.doz=%{x}<br>B\\u00f6lge-Region=%{y}<extra></extra>\",\"legendgroup\":\"D\\u00fczce\",\"marker\":{\"color\":\"#FF6692\",\"pattern\":{\"shape\":\"\"}},\"name\":\"D\\u00fczce\",\"offsetgroup\":\"D\\u00fczce\",\"orientation\":\"h\",\"showlegend\":true,\"textposition\":\"auto\",\"type\":\"bar\",\"x\":[73865],\"xaxis\":\"x\",\"y\":[null],\"yaxis\":\"y\"},{\"alignmentgroup\":\"True\",\"hovertemplate\":\"city-\\u015fehir=Edirne<br>2_dose-2.doz=%{x}<br>B\\u00f6lge-Region=%{y}<extra></extra>\",\"legendgroup\":\"Edirne\",\"marker\":{\"color\":\"#B6E880\",\"pattern\":{\"shape\":\"\"}},\"name\":\"Edirne\",\"offsetgroup\":\"Edirne\",\"orientation\":\"h\",\"showlegend\":true,\"textposition\":\"auto\",\"type\":\"bar\",\"x\":[123707],\"xaxis\":\"x\",\"y\":[\"Marmara\"],\"yaxis\":\"y\"},{\"alignmentgroup\":\"True\",\"hovertemplate\":\"city-\\u015fehir=Elaz\\u0131\\u011f<br>2_dose-2.doz=%{x}<br>B\\u00f6lge-Region=%{y}<extra></extra>\",\"legendgroup\":\"Elaz\\u0131\\u011f\",\"marker\":{\"color\":\"#FF97FF\",\"pattern\":{\"shape\":\"\"}},\"name\":\"Elaz\\u0131\\u011f\",\"offsetgroup\":\"Elaz\\u0131\\u011f\",\"orientation\":\"h\",\"showlegend\":true,\"textposition\":\"auto\",\"type\":\"bar\",\"x\":[101103],\"xaxis\":\"x\",\"y\":[\"Do\\u011fu Anadolu\"],\"yaxis\":\"y\"},{\"alignmentgroup\":\"True\",\"hovertemplate\":\"city-\\u015fehir=Erzincan<br>2_dose-2.doz=%{x}<br>B\\u00f6lge-Region=%{y}<extra></extra>\",\"legendgroup\":\"Erzincan\",\"marker\":{\"color\":\"#FECB52\",\"pattern\":{\"shape\":\"\"}},\"name\":\"Erzincan\",\"offsetgroup\":\"Erzincan\",\"orientation\":\"h\",\"showlegend\":true,\"textposition\":\"auto\",\"type\":\"bar\",\"x\":[48554],\"xaxis\":\"x\",\"y\":[\"Do\\u011fu Anadolu\"],\"yaxis\":\"y\"},{\"alignmentgroup\":\"True\",\"hovertemplate\":\"city-\\u015fehir=Erzurum<br>2_dose-2.doz=%{x}<br>B\\u00f6lge-Region=%{y}<extra></extra>\",\"legendgroup\":\"Erzurum\",\"marker\":{\"color\":\"#636efa\",\"pattern\":{\"shape\":\"\"}},\"name\":\"Erzurum\",\"offsetgroup\":\"Erzurum\",\"orientation\":\"h\",\"showlegend\":true,\"textposition\":\"auto\",\"type\":\"bar\",\"x\":[106493],\"xaxis\":\"x\",\"y\":[\"Do\\u011fu Anadolu\"],\"yaxis\":\"y\"},{\"alignmentgroup\":\"True\",\"hovertemplate\":\"city-\\u015fehir=Eski\\u015fehir<br>2_dose-2.doz=%{x}<br>B\\u00f6lge-Region=%{y}<extra></extra>\",\"legendgroup\":\"Eski\\u015fehir\",\"marker\":{\"color\":\"#EF553B\",\"pattern\":{\"shape\":\"\"}},\"name\":\"Eski\\u015fehir\",\"offsetgroup\":\"Eski\\u015fehir\",\"orientation\":\"h\",\"showlegend\":true,\"textposition\":\"auto\",\"type\":\"bar\",\"x\":[215045],\"xaxis\":\"x\",\"y\":[\"\\u0130\\u00e7 Anadolu\"],\"yaxis\":\"y\"},{\"alignmentgroup\":\"True\",\"hovertemplate\":\"city-\\u015fehir=Gaziantep<br>2_dose-2.doz=%{x}<br>B\\u00f6lge-Region=%{y}<extra></extra>\",\"legendgroup\":\"Gaziantep\",\"marker\":{\"color\":\"#00cc96\",\"pattern\":{\"shape\":\"\"}},\"name\":\"Gaziantep\",\"offsetgroup\":\"Gaziantep\",\"orientation\":\"h\",\"showlegend\":true,\"textposition\":\"auto\",\"type\":\"bar\",\"x\":[207651],\"xaxis\":\"x\",\"y\":[\"G\\u00fcneydo\\u011fu Anadolu\"],\"yaxis\":\"y\"},{\"alignmentgroup\":\"True\",\"hovertemplate\":\"city-\\u015fehir=Giresun<br>2_dose-2.doz=%{x}<br>B\\u00f6lge-Region=%{y}<extra></extra>\",\"legendgroup\":\"Giresun\",\"marker\":{\"color\":\"#ab63fa\",\"pattern\":{\"shape\":\"\"}},\"name\":\"Giresun\",\"offsetgroup\":\"Giresun\",\"orientation\":\"h\",\"showlegend\":true,\"textposition\":\"auto\",\"type\":\"bar\",\"x\":[123826],\"xaxis\":\"x\",\"y\":[\"Karadeniz\"],\"yaxis\":\"y\"},{\"alignmentgroup\":\"True\",\"hovertemplate\":\"city-\\u015fehir=G\\u00fcm\\u00fc\\u015fhane<br>2_dose-2.doz=%{x}<br>B\\u00f6lge-Region=%{y}<extra></extra>\",\"legendgroup\":\"G\\u00fcm\\u00fc\\u015fhane\",\"marker\":{\"color\":\"#FFA15A\",\"pattern\":{\"shape\":\"\"}},\"name\":\"G\\u00fcm\\u00fc\\u015fhane\",\"offsetgroup\":\"G\\u00fcm\\u00fc\\u015fhane\",\"orientation\":\"h\",\"showlegend\":true,\"textposition\":\"auto\",\"type\":\"bar\",\"x\":[24740],\"xaxis\":\"x\",\"y\":[\"Karadeniz\"],\"yaxis\":\"y\"},{\"alignmentgroup\":\"True\",\"hovertemplate\":\"city-\\u015fehir=Hakkari<br>2_dose-2.doz=%{x}<br>B\\u00f6lge-Region=%{y}<extra></extra>\",\"legendgroup\":\"Hakkari\",\"marker\":{\"color\":\"#19d3f3\",\"pattern\":{\"shape\":\"\"}},\"name\":\"Hakkari\",\"offsetgroup\":\"Hakkari\",\"orientation\":\"h\",\"showlegend\":true,\"textposition\":\"auto\",\"type\":\"bar\",\"x\":[14102],\"xaxis\":\"x\",\"y\":[\"Do\\u011fu Anadolu\"],\"yaxis\":\"y\"},{\"alignmentgroup\":\"True\",\"hovertemplate\":\"city-\\u015fehir=Hatay<br>2_dose-2.doz=%{x}<br>B\\u00f6lge-Region=%{y}<extra></extra>\",\"legendgroup\":\"Hatay\",\"marker\":{\"color\":\"#FF6692\",\"pattern\":{\"shape\":\"\"}},\"name\":\"Hatay\",\"offsetgroup\":\"Hatay\",\"orientation\":\"h\",\"showlegend\":true,\"textposition\":\"auto\",\"type\":\"bar\",\"x\":[223365],\"xaxis\":\"x\",\"y\":[\"Akdeniz\"],\"yaxis\":\"y\"},{\"alignmentgroup\":\"True\",\"hovertemplate\":\"city-\\u015fehir=I\\u011fd\\u0131r<br>2_dose-2.doz=%{x}<br>B\\u00f6lge-Region=%{y}<extra></extra>\",\"legendgroup\":\"I\\u011fd\\u0131r\",\"marker\":{\"color\":\"#B6E880\",\"pattern\":{\"shape\":\"\"}},\"name\":\"I\\u011fd\\u0131r\",\"offsetgroup\":\"I\\u011fd\\u0131r\",\"orientation\":\"h\",\"showlegend\":true,\"textposition\":\"auto\",\"type\":\"bar\",\"x\":[21324],\"xaxis\":\"x\",\"y\":[null],\"yaxis\":\"y\"},{\"alignmentgroup\":\"True\",\"hovertemplate\":\"city-\\u015fehir=Isparta<br>2_dose-2.doz=%{x}<br>B\\u00f6lge-Region=%{y}<extra></extra>\",\"legendgroup\":\"Isparta\",\"marker\":{\"color\":\"#FF97FF\",\"pattern\":{\"shape\":\"\"}},\"name\":\"Isparta\",\"offsetgroup\":\"Isparta\",\"orientation\":\"h\",\"showlegend\":true,\"textposition\":\"auto\",\"type\":\"bar\",\"x\":[107865],\"xaxis\":\"x\",\"y\":[\"Akdeniz\"],\"yaxis\":\"y\"},{\"alignmentgroup\":\"True\",\"hovertemplate\":\"city-\\u015fehir=\\u0130stanbul<br>2_dose-2.doz=%{x}<br>B\\u00f6lge-Region=%{y}<extra></extra>\",\"legendgroup\":\"\\u0130stanbul\",\"marker\":{\"color\":\"#FECB52\",\"pattern\":{\"shape\":\"\"}},\"name\":\"\\u0130stanbul\",\"offsetgroup\":\"\\u0130stanbul\",\"orientation\":\"h\",\"showlegend\":true,\"textposition\":\"auto\",\"type\":\"bar\",\"x\":[2419591],\"xaxis\":\"x\",\"y\":[\"Marmara\"],\"yaxis\":\"y\"},{\"alignmentgroup\":\"True\",\"hovertemplate\":\"city-\\u015fehir=\\u0130zmir<br>2_dose-2.doz=%{x}<br>B\\u00f6lge-Region=%{y}<extra></extra>\",\"legendgroup\":\"\\u0130zmir\",\"marker\":{\"color\":\"#636efa\",\"pattern\":{\"shape\":\"\"}},\"name\":\"\\u0130zmir\",\"offsetgroup\":\"\\u0130zmir\",\"orientation\":\"h\",\"showlegend\":true,\"textposition\":\"auto\",\"type\":\"bar\",\"x\":[1006223],\"xaxis\":\"x\",\"y\":[\"Ege\"],\"yaxis\":\"y\"},{\"alignmentgroup\":\"True\",\"hovertemplate\":\"city-\\u015fehir=Kahramanmara\\u015f<br>2_dose-2.doz=%{x}<br>B\\u00f6lge-Region=%{y}<extra></extra>\",\"legendgroup\":\"Kahramanmara\\u015f\",\"marker\":{\"color\":\"#EF553B\",\"pattern\":{\"shape\":\"\"}},\"name\":\"Kahramanmara\\u015f\",\"offsetgroup\":\"Kahramanmara\\u015f\",\"orientation\":\"h\",\"showlegend\":true,\"textposition\":\"auto\",\"type\":\"bar\",\"x\":[149207],\"xaxis\":\"x\",\"y\":[\"Akdeniz\"],\"yaxis\":\"y\"},{\"alignmentgroup\":\"True\",\"hovertemplate\":\"city-\\u015fehir=Karab\\u00fck<br>2_dose-2.doz=%{x}<br>B\\u00f6lge-Region=%{y}<extra></extra>\",\"legendgroup\":\"Karab\\u00fck\",\"marker\":{\"color\":\"#00cc96\",\"pattern\":{\"shape\":\"\"}},\"name\":\"Karab\\u00fck\",\"offsetgroup\":\"Karab\\u00fck\",\"orientation\":\"h\",\"showlegend\":true,\"textposition\":\"auto\",\"type\":\"bar\",\"x\":[57241],\"xaxis\":\"x\",\"y\":[\"Karadeniz\"],\"yaxis\":\"y\"},{\"alignmentgroup\":\"True\",\"hovertemplate\":\"city-\\u015fehir=Karaman<br>2_dose-2.doz=%{x}<br>B\\u00f6lge-Region=%{y}<extra></extra>\",\"legendgroup\":\"Karaman\",\"marker\":{\"color\":\"#ab63fa\",\"pattern\":{\"shape\":\"\"}},\"name\":\"Karaman\",\"offsetgroup\":\"Karaman\",\"orientation\":\"h\",\"showlegend\":true,\"textposition\":\"auto\",\"type\":\"bar\",\"x\":[48437],\"xaxis\":\"x\",\"y\":[\"\\u0130\\u00e7 Anadolu\"],\"yaxis\":\"y\"},{\"alignmentgroup\":\"True\",\"hovertemplate\":\"city-\\u015fehir=Kars<br>2_dose-2.doz=%{x}<br>B\\u00f6lge-Region=%{y}<extra></extra>\",\"legendgroup\":\"Kars\",\"marker\":{\"color\":\"#FFA15A\",\"pattern\":{\"shape\":\"\"}},\"name\":\"Kars\",\"offsetgroup\":\"Kars\",\"orientation\":\"h\",\"showlegend\":true,\"textposition\":\"auto\",\"type\":\"bar\",\"x\":[37951],\"xaxis\":\"x\",\"y\":[\"Do\\u011fu Anadolu\"],\"yaxis\":\"y\"},{\"alignmentgroup\":\"True\",\"hovertemplate\":\"city-\\u015fehir=Kastamonu<br>2_dose-2.doz=%{x}<br>B\\u00f6lge-Region=%{y}<extra></extra>\",\"legendgroup\":\"Kastamonu\",\"marker\":{\"color\":\"#19d3f3\",\"pattern\":{\"shape\":\"\"}},\"name\":\"Kastamonu\",\"offsetgroup\":\"Kastamonu\",\"orientation\":\"h\",\"showlegend\":true,\"textposition\":\"auto\",\"type\":\"bar\",\"x\":[99604],\"xaxis\":\"x\",\"y\":[\"Karadeniz\"],\"yaxis\":\"y\"},{\"alignmentgroup\":\"True\",\"hovertemplate\":\"city-\\u015fehir=Kayseri<br>2_dose-2.doz=%{x}<br>B\\u00f6lge-Region=%{y}<extra></extra>\",\"legendgroup\":\"Kayseri\",\"marker\":{\"color\":\"#FF6692\",\"pattern\":{\"shape\":\"\"}},\"name\":\"Kayseri\",\"offsetgroup\":\"Kayseri\",\"orientation\":\"h\",\"showlegend\":true,\"textposition\":\"auto\",\"type\":\"bar\",\"x\":[250399],\"xaxis\":\"x\",\"y\":[\"\\u0130\\u00e7 Anadolu\"],\"yaxis\":\"y\"},{\"alignmentgroup\":\"True\",\"hovertemplate\":\"city-\\u015fehir=K\\u0131r\\u0131kkale<br>2_dose-2.doz=%{x}<br>B\\u00f6lge-Region=%{y}<extra></extra>\",\"legendgroup\":\"K\\u0131r\\u0131kkale\",\"marker\":{\"color\":\"#B6E880\",\"pattern\":{\"shape\":\"\"}},\"name\":\"K\\u0131r\\u0131kkale\",\"offsetgroup\":\"K\\u0131r\\u0131kkale\",\"orientation\":\"h\",\"showlegend\":true,\"textposition\":\"auto\",\"type\":\"bar\",\"x\":[60949],\"xaxis\":\"x\",\"y\":[\"\\u0130\\u00e7 Anadolu\"],\"yaxis\":\"y\"},{\"alignmentgroup\":\"True\",\"hovertemplate\":\"city-\\u015fehir=K\\u0131rklareli<br>2_dose-2.doz=%{x}<br>B\\u00f6lge-Region=%{y}<extra></extra>\",\"legendgroup\":\"K\\u0131rklareli\",\"marker\":{\"color\":\"#FF97FF\",\"pattern\":{\"shape\":\"\"}},\"name\":\"K\\u0131rklareli\",\"offsetgroup\":\"K\\u0131rklareli\",\"orientation\":\"h\",\"showlegend\":true,\"textposition\":\"auto\",\"type\":\"bar\",\"x\":[98896],\"xaxis\":\"x\",\"y\":[\"Marmara\"],\"yaxis\":\"y\"},{\"alignmentgroup\":\"True\",\"hovertemplate\":\"city-\\u015fehir=K\\u0131r\\u015fehir<br>2_dose-2.doz=%{x}<br>B\\u00f6lge-Region=%{y}<extra></extra>\",\"legendgroup\":\"K\\u0131r\\u015fehir\",\"marker\":{\"color\":\"#FECB52\",\"pattern\":{\"shape\":\"\"}},\"name\":\"K\\u0131r\\u015fehir\",\"offsetgroup\":\"K\\u0131r\\u015fehir\",\"orientation\":\"h\",\"showlegend\":true,\"textposition\":\"auto\",\"type\":\"bar\",\"x\":[54748],\"xaxis\":\"x\",\"y\":[\"\\u0130\\u00e7 Anadolu\"],\"yaxis\":\"y\"},{\"alignmentgroup\":\"True\",\"hovertemplate\":\"city-\\u015fehir=Kilis<br>2_dose-2.doz=%{x}<br>B\\u00f6lge-Region=%{y}<extra></extra>\",\"legendgroup\":\"Kilis\",\"marker\":{\"color\":\"#636efa\",\"pattern\":{\"shape\":\"\"}},\"name\":\"Kilis\",\"offsetgroup\":\"Kilis\",\"orientation\":\"h\",\"showlegend\":true,\"textposition\":\"auto\",\"type\":\"bar\",\"x\":[18348],\"xaxis\":\"x\",\"y\":[\"G\\u00fcneydo\\u011fu Anadolu\"],\"yaxis\":\"y\"},{\"alignmentgroup\":\"True\",\"hovertemplate\":\"city-\\u015fehir=Kocaeli<br>2_dose-2.doz=%{x}<br>B\\u00f6lge-Region=%{y}<extra></extra>\",\"legendgroup\":\"Kocaeli\",\"marker\":{\"color\":\"#EF553B\",\"pattern\":{\"shape\":\"\"}},\"name\":\"Kocaeli\",\"offsetgroup\":\"Kocaeli\",\"orientation\":\"h\",\"showlegend\":true,\"textposition\":\"auto\",\"type\":\"bar\",\"x\":[321371],\"xaxis\":\"x\",\"y\":[\"Marmara\"],\"yaxis\":\"y\"},{\"alignmentgroup\":\"True\",\"hovertemplate\":\"city-\\u015fehir=Konya<br>2_dose-2.doz=%{x}<br>B\\u00f6lge-Region=%{y}<extra></extra>\",\"legendgroup\":\"Konya\",\"marker\":{\"color\":\"#00cc96\",\"pattern\":{\"shape\":\"\"}},\"name\":\"Konya\",\"offsetgroup\":\"Konya\",\"orientation\":\"h\",\"showlegend\":true,\"textposition\":\"auto\",\"type\":\"bar\",\"x\":[374716],\"xaxis\":\"x\",\"y\":[\"\\u0130\\u00e7 Anadolu\"],\"yaxis\":\"y\"},{\"alignmentgroup\":\"True\",\"hovertemplate\":\"city-\\u015fehir=K\\u00fctahya<br>2_dose-2.doz=%{x}<br>B\\u00f6lge-Region=%{y}<extra></extra>\",\"legendgroup\":\"K\\u00fctahya\",\"marker\":{\"color\":\"#ab63fa\",\"pattern\":{\"shape\":\"\"}},\"name\":\"K\\u00fctahya\",\"offsetgroup\":\"K\\u00fctahya\",\"orientation\":\"h\",\"showlegend\":true,\"textposition\":\"auto\",\"type\":\"bar\",\"x\":[125308],\"xaxis\":\"x\",\"y\":[\"Ege\"],\"yaxis\":\"y\"},{\"alignmentgroup\":\"True\",\"hovertemplate\":\"city-\\u015fehir=Malatya<br>2_dose-2.doz=%{x}<br>B\\u00f6lge-Region=%{y}<extra></extra>\",\"legendgroup\":\"Malatya\",\"marker\":{\"color\":\"#FFA15A\",\"pattern\":{\"shape\":\"\"}},\"name\":\"Malatya\",\"offsetgroup\":\"Malatya\",\"orientation\":\"h\",\"showlegend\":true,\"textposition\":\"auto\",\"type\":\"bar\",\"x\":[147223],\"xaxis\":\"x\",\"y\":[\"Do\\u011fu Anadolu\"],\"yaxis\":\"y\"},{\"alignmentgroup\":\"True\",\"hovertemplate\":\"city-\\u015fehir=Manisa<br>2_dose-2.doz=%{x}<br>B\\u00f6lge-Region=%{y}<extra></extra>\",\"legendgroup\":\"Manisa\",\"marker\":{\"color\":\"#19d3f3\",\"pattern\":{\"shape\":\"\"}},\"name\":\"Manisa\",\"offsetgroup\":\"Manisa\",\"orientation\":\"h\",\"showlegend\":true,\"textposition\":\"auto\",\"type\":\"bar\",\"x\":[284045],\"xaxis\":\"x\",\"y\":[\"Ege\"],\"yaxis\":\"y\"},{\"alignmentgroup\":\"True\",\"hovertemplate\":\"city-\\u015fehir=Mardin<br>2_dose-2.doz=%{x}<br>B\\u00f6lge-Region=%{y}<extra></extra>\",\"legendgroup\":\"Mardin\",\"marker\":{\"color\":\"#FF6692\",\"pattern\":{\"shape\":\"\"}},\"name\":\"Mardin\",\"offsetgroup\":\"Mardin\",\"orientation\":\"h\",\"showlegend\":true,\"textposition\":\"auto\",\"type\":\"bar\",\"x\":[53374],\"xaxis\":\"x\",\"y\":[\"G\\u00fcneydo\\u011fu Anadolu\"],\"yaxis\":\"y\"},{\"alignmentgroup\":\"True\",\"hovertemplate\":\"city-\\u015fehir=Mersin<br>2_dose-2.doz=%{x}<br>B\\u00f6lge-Region=%{y}<extra></extra>\",\"legendgroup\":\"Mersin\",\"marker\":{\"color\":\"#B6E880\",\"pattern\":{\"shape\":\"\"}},\"name\":\"Mersin\",\"offsetgroup\":\"Mersin\",\"orientation\":\"h\",\"showlegend\":true,\"textposition\":\"auto\",\"type\":\"bar\",\"x\":[349594],\"xaxis\":\"x\",\"y\":[\"Akdeniz\"],\"yaxis\":\"y\"},{\"alignmentgroup\":\"True\",\"hovertemplate\":\"city-\\u015fehir=Mu\\u011fla<br>2_dose-2.doz=%{x}<br>B\\u00f6lge-Region=%{y}<extra></extra>\",\"legendgroup\":\"Mu\\u011fla\",\"marker\":{\"color\":\"#FF97FF\",\"pattern\":{\"shape\":\"\"}},\"name\":\"Mu\\u011fla\",\"offsetgroup\":\"Mu\\u011fla\",\"orientation\":\"h\",\"showlegend\":true,\"textposition\":\"auto\",\"type\":\"bar\",\"x\":[286979],\"xaxis\":\"x\",\"y\":[\"Ege\"],\"yaxis\":\"y\"},{\"alignmentgroup\":\"True\",\"hovertemplate\":\"city-\\u015fehir=Mu\\u015f<br>2_dose-2.doz=%{x}<br>B\\u00f6lge-Region=%{y}<extra></extra>\",\"legendgroup\":\"Mu\\u015f\",\"marker\":{\"color\":\"#FECB52\",\"pattern\":{\"shape\":\"\"}},\"name\":\"Mu\\u015f\",\"offsetgroup\":\"Mu\\u015f\",\"orientation\":\"h\",\"showlegend\":true,\"textposition\":\"auto\",\"type\":\"bar\",\"x\":[29056],\"xaxis\":\"x\",\"y\":[\"Do\\u011fu Anadolu\"],\"yaxis\":\"y\"},{\"alignmentgroup\":\"True\",\"hovertemplate\":\"city-\\u015fehir=Nev\\u015fehir<br>2_dose-2.doz=%{x}<br>B\\u00f6lge-Region=%{y}<extra></extra>\",\"legendgroup\":\"Nev\\u015fehir\",\"marker\":{\"color\":\"#636efa\",\"pattern\":{\"shape\":\"\"}},\"name\":\"Nev\\u015fehir\",\"offsetgroup\":\"Nev\\u015fehir\",\"orientation\":\"h\",\"showlegend\":true,\"textposition\":\"auto\",\"type\":\"bar\",\"x\":[59594],\"xaxis\":\"x\",\"y\":[\"\\u0130\\u00e7 Anadolu\"],\"yaxis\":\"y\"},{\"alignmentgroup\":\"True\",\"hovertemplate\":\"city-\\u015fehir=Ni\\u011fde<br>2_dose-2.doz=%{x}<br>B\\u00f6lge-Region=%{y}<extra></extra>\",\"legendgroup\":\"Ni\\u011fde\",\"marker\":{\"color\":\"#EF553B\",\"pattern\":{\"shape\":\"\"}},\"name\":\"Ni\\u011fde\",\"offsetgroup\":\"Ni\\u011fde\",\"orientation\":\"h\",\"showlegend\":true,\"textposition\":\"auto\",\"type\":\"bar\",\"x\":[59908],\"xaxis\":\"x\",\"y\":[\"\\u0130\\u00e7 Anadolu\"],\"yaxis\":\"y\"},{\"alignmentgroup\":\"True\",\"hovertemplate\":\"city-\\u015fehir=Ordu<br>2_dose-2.doz=%{x}<br>B\\u00f6lge-Region=%{y}<extra></extra>\",\"legendgroup\":\"Ordu\",\"marker\":{\"color\":\"#00cc96\",\"pattern\":{\"shape\":\"\"}},\"name\":\"Ordu\",\"offsetgroup\":\"Ordu\",\"orientation\":\"h\",\"showlegend\":true,\"textposition\":\"auto\",\"type\":\"bar\",\"x\":[187138],\"xaxis\":\"x\",\"y\":[\"Karadeniz\"],\"yaxis\":\"y\"},{\"alignmentgroup\":\"True\",\"hovertemplate\":\"city-\\u015fehir=Osmaniye<br>2_dose-2.doz=%{x}<br>B\\u00f6lge-Region=%{y}<extra></extra>\",\"legendgroup\":\"Osmaniye\",\"marker\":{\"color\":\"#ab63fa\",\"pattern\":{\"shape\":\"\"}},\"name\":\"Osmaniye\",\"offsetgroup\":\"Osmaniye\",\"orientation\":\"h\",\"showlegend\":true,\"textposition\":\"auto\",\"type\":\"bar\",\"x\":[95463],\"xaxis\":\"x\",\"y\":[\"Akdeniz\"],\"yaxis\":\"y\"},{\"alignmentgroup\":\"True\",\"hovertemplate\":\"city-\\u015fehir=Rize<br>2_dose-2.doz=%{x}<br>B\\u00f6lge-Region=%{y}<extra></extra>\",\"legendgroup\":\"Rize\",\"marker\":{\"color\":\"#FFA15A\",\"pattern\":{\"shape\":\"\"}},\"name\":\"Rize\",\"offsetgroup\":\"Rize\",\"orientation\":\"h\",\"showlegend\":true,\"textposition\":\"auto\",\"type\":\"bar\",\"x\":[78152],\"xaxis\":\"x\",\"y\":[\"Karadeniz\"],\"yaxis\":\"y\"},{\"alignmentgroup\":\"True\",\"hovertemplate\":\"city-\\u015fehir=Sakarya<br>2_dose-2.doz=%{x}<br>B\\u00f6lge-Region=%{y}<extra></extra>\",\"legendgroup\":\"Sakarya\",\"marker\":{\"color\":\"#19d3f3\",\"pattern\":{\"shape\":\"\"}},\"name\":\"Sakarya\",\"offsetgroup\":\"Sakarya\",\"orientation\":\"h\",\"showlegend\":true,\"textposition\":\"auto\",\"type\":\"bar\",\"x\":[184942],\"xaxis\":\"x\",\"y\":[\"Marmara\"],\"yaxis\":\"y\"},{\"alignmentgroup\":\"True\",\"hovertemplate\":\"city-\\u015fehir=Samsun<br>2_dose-2.doz=%{x}<br>B\\u00f6lge-Region=%{y}<extra></extra>\",\"legendgroup\":\"Samsun\",\"marker\":{\"color\":\"#FF6692\",\"pattern\":{\"shape\":\"\"}},\"name\":\"Samsun\",\"offsetgroup\":\"Samsun\",\"orientation\":\"h\",\"showlegend\":true,\"textposition\":\"auto\",\"type\":\"bar\",\"x\":[292951],\"xaxis\":\"x\",\"y\":[\"Karadeniz\"],\"yaxis\":\"y\"},{\"alignmentgroup\":\"True\",\"hovertemplate\":\"city-\\u015fehir=Siirt<br>2_dose-2.doz=%{x}<br>B\\u00f6lge-Region=%{y}<extra></extra>\",\"legendgroup\":\"Siirt\",\"marker\":{\"color\":\"#B6E880\",\"pattern\":{\"shape\":\"\"}},\"name\":\"Siirt\",\"offsetgroup\":\"Siirt\",\"orientation\":\"h\",\"showlegend\":true,\"textposition\":\"auto\",\"type\":\"bar\",\"x\":[19836],\"xaxis\":\"x\",\"y\":[\"G\\u00fcneydo\\u011fu Anadolu\"],\"yaxis\":\"y\"},{\"alignmentgroup\":\"True\",\"hovertemplate\":\"city-\\u015fehir=Sinop<br>2_dose-2.doz=%{x}<br>B\\u00f6lge-Region=%{y}<extra></extra>\",\"legendgroup\":\"Sinop\",\"marker\":{\"color\":\"#FF97FF\",\"pattern\":{\"shape\":\"\"}},\"name\":\"Sinop\",\"offsetgroup\":\"Sinop\",\"orientation\":\"h\",\"showlegend\":true,\"textposition\":\"auto\",\"type\":\"bar\",\"x\":[61944],\"xaxis\":\"x\",\"y\":[\"Karadeniz\"],\"yaxis\":\"y\"},{\"alignmentgroup\":\"True\",\"hovertemplate\":\"city-\\u015fehir=Sivas<br>2_dose-2.doz=%{x}<br>B\\u00f6lge-Region=%{y}<extra></extra>\",\"legendgroup\":\"Sivas\",\"marker\":{\"color\":\"#FECB52\",\"pattern\":{\"shape\":\"\"}},\"name\":\"Sivas\",\"offsetgroup\":\"Sivas\",\"orientation\":\"h\",\"showlegend\":true,\"textposition\":\"auto\",\"type\":\"bar\",\"x\":[126038],\"xaxis\":\"x\",\"y\":[\"\\u0130\\u00e7 Anadolu\"],\"yaxis\":\"y\"},{\"alignmentgroup\":\"True\",\"hovertemplate\":\"city-\\u015fehir=\\u015eanl\\u0131urfa<br>2_dose-2.doz=%{x}<br>B\\u00f6lge-Region=%{y}<extra></extra>\",\"legendgroup\":\"\\u015eanl\\u0131urfa\",\"marker\":{\"color\":\"#636efa\",\"pattern\":{\"shape\":\"\"}},\"name\":\"\\u015eanl\\u0131urfa\",\"offsetgroup\":\"\\u015eanl\\u0131urfa\",\"orientation\":\"h\",\"showlegend\":true,\"textposition\":\"auto\",\"type\":\"bar\",\"x\":[109394],\"xaxis\":\"x\",\"y\":[\"G\\u00fcneydo\\u011fu Anadolu\"],\"yaxis\":\"y\"},{\"alignmentgroup\":\"True\",\"hovertemplate\":\"city-\\u015fehir=\\u015e\\u0131rnak<br>2_dose-2.doz=%{x}<br>B\\u00f6lge-Region=%{y}<extra></extra>\",\"legendgroup\":\"\\u015e\\u0131rnak\",\"marker\":{\"color\":\"#EF553B\",\"pattern\":{\"shape\":\"\"}},\"name\":\"\\u015e\\u0131rnak\",\"offsetgroup\":\"\\u015e\\u0131rnak\",\"orientation\":\"h\",\"showlegend\":true,\"textposition\":\"auto\",\"type\":\"bar\",\"x\":[25473],\"xaxis\":\"x\",\"y\":[\"G\\u00fcneydo\\u011fu Anadolu\"],\"yaxis\":\"y\"},{\"alignmentgroup\":\"True\",\"hovertemplate\":\"city-\\u015fehir=Tekirda\\u011f<br>2_dose-2.doz=%{x}<br>B\\u00f6lge-Region=%{y}<extra></extra>\",\"legendgroup\":\"Tekirda\\u011f\",\"marker\":{\"color\":\"#00cc96\",\"pattern\":{\"shape\":\"\"}},\"name\":\"Tekirda\\u011f\",\"offsetgroup\":\"Tekirda\\u011f\",\"orientation\":\"h\",\"showlegend\":true,\"textposition\":\"auto\",\"type\":\"bar\",\"x\":[208146],\"xaxis\":\"x\",\"y\":[\"Marmara\"],\"yaxis\":\"y\"},{\"alignmentgroup\":\"True\",\"hovertemplate\":\"city-\\u015fehir=Tokat<br>2_dose-2.doz=%{x}<br>B\\u00f6lge-Region=%{y}<extra></extra>\",\"legendgroup\":\"Tokat\",\"marker\":{\"color\":\"#ab63fa\",\"pattern\":{\"shape\":\"\"}},\"name\":\"Tokat\",\"offsetgroup\":\"Tokat\",\"orientation\":\"h\",\"showlegend\":true,\"textposition\":\"auto\",\"type\":\"bar\",\"x\":[137312],\"xaxis\":\"x\",\"y\":[\"Karadeniz\"],\"yaxis\":\"y\"},{\"alignmentgroup\":\"True\",\"hovertemplate\":\"city-\\u015fehir=Trabzon<br>2_dose-2.doz=%{x}<br>B\\u00f6lge-Region=%{y}<extra></extra>\",\"legendgroup\":\"Trabzon\",\"marker\":{\"color\":\"#FFA15A\",\"pattern\":{\"shape\":\"\"}},\"name\":\"Trabzon\",\"offsetgroup\":\"Trabzon\",\"orientation\":\"h\",\"showlegend\":true,\"textposition\":\"auto\",\"type\":\"bar\",\"x\":[186529],\"xaxis\":\"x\",\"y\":[\"Karadeniz\"],\"yaxis\":\"y\"},{\"alignmentgroup\":\"True\",\"hovertemplate\":\"city-\\u015fehir=Tunceli<br>2_dose-2.doz=%{x}<br>B\\u00f6lge-Region=%{y}<extra></extra>\",\"legendgroup\":\"Tunceli\",\"marker\":{\"color\":\"#19d3f3\",\"pattern\":{\"shape\":\"\"}},\"name\":\"Tunceli\",\"offsetgroup\":\"Tunceli\",\"orientation\":\"h\",\"showlegend\":true,\"textposition\":\"auto\",\"type\":\"bar\",\"x\":[23646],\"xaxis\":\"x\",\"y\":[\"Do\\u011fu Anadolu\"],\"yaxis\":\"y\"},{\"alignmentgroup\":\"True\",\"hovertemplate\":\"city-\\u015fehir=U\\u015fak<br>2_dose-2.doz=%{x}<br>B\\u00f6lge-Region=%{y}<extra></extra>\",\"legendgroup\":\"U\\u015fak\",\"marker\":{\"color\":\"#FF6692\",\"pattern\":{\"shape\":\"\"}},\"name\":\"U\\u015fak\",\"offsetgroup\":\"U\\u015fak\",\"orientation\":\"h\",\"showlegend\":true,\"textposition\":\"auto\",\"type\":\"bar\",\"x\":[81055],\"xaxis\":\"x\",\"y\":[\"Ege\"],\"yaxis\":\"y\"},{\"alignmentgroup\":\"True\",\"hovertemplate\":\"city-\\u015fehir=Van<br>2_dose-2.doz=%{x}<br>B\\u00f6lge-Region=%{y}<extra></extra>\",\"legendgroup\":\"Van\",\"marker\":{\"color\":\"#B6E880\",\"pattern\":{\"shape\":\"\"}},\"name\":\"Van\",\"offsetgroup\":\"Van\",\"orientation\":\"h\",\"showlegend\":true,\"textposition\":\"auto\",\"type\":\"bar\",\"x\":[91208],\"xaxis\":\"x\",\"y\":[\"Do\\u011fu Anadolu\"],\"yaxis\":\"y\"},{\"alignmentgroup\":\"True\",\"hovertemplate\":\"city-\\u015fehir=Yalova<br>2_dose-2.doz=%{x}<br>B\\u00f6lge-Region=%{y}<extra></extra>\",\"legendgroup\":\"Yalova\",\"marker\":{\"color\":\"#FF97FF\",\"pattern\":{\"shape\":\"\"}},\"name\":\"Yalova\",\"offsetgroup\":\"Yalova\",\"orientation\":\"h\",\"showlegend\":true,\"textposition\":\"auto\",\"type\":\"bar\",\"x\":[65920],\"xaxis\":\"x\",\"y\":[\"Marmara\"],\"yaxis\":\"y\"},{\"alignmentgroup\":\"True\",\"hovertemplate\":\"city-\\u015fehir=Yozgat<br>2_dose-2.doz=%{x}<br>B\\u00f6lge-Region=%{y}<extra></extra>\",\"legendgroup\":\"Yozgat\",\"marker\":{\"color\":\"#FECB52\",\"pattern\":{\"shape\":\"\"}},\"name\":\"Yozgat\",\"offsetgroup\":\"Yozgat\",\"orientation\":\"h\",\"showlegend\":true,\"textposition\":\"auto\",\"type\":\"bar\",\"x\":[81924],\"xaxis\":\"x\",\"y\":[\"\\u0130\\u00e7 Anadolu\"],\"yaxis\":\"y\"},{\"alignmentgroup\":\"True\",\"hovertemplate\":\"city-\\u015fehir=Zonguldak<br>2_dose-2.doz=%{x}<br>B\\u00f6lge-Region=%{y}<extra></extra>\",\"legendgroup\":\"Zonguldak\",\"marker\":{\"color\":\"#636efa\",\"pattern\":{\"shape\":\"\"}},\"name\":\"Zonguldak\",\"offsetgroup\":\"Zonguldak\",\"orientation\":\"h\",\"showlegend\":true,\"textposition\":\"auto\",\"type\":\"bar\",\"x\":[139382],\"xaxis\":\"x\",\"y\":[\"Karadeniz\"],\"yaxis\":\"y\"}],                        {\"barmode\":\"relative\",\"legend\":{\"title\":{\"text\":\"city-\\u015fehir\"},\"tracegroupgap\":0},\"template\":{\"data\":{\"bar\":[{\"error_x\":{\"color\":\"#2a3f5f\"},\"error_y\":{\"color\":\"#2a3f5f\"},\"marker\":{\"line\":{\"color\":\"#E5ECF6\",\"width\":0.5},\"pattern\":{\"fillmode\":\"overlay\",\"size\":10,\"solidity\":0.2}},\"type\":\"bar\"}],\"barpolar\":[{\"marker\":{\"line\":{\"color\":\"#E5ECF6\",\"width\":0.5},\"pattern\":{\"fillmode\":\"overlay\",\"size\":10,\"solidity\":0.2}},\"type\":\"barpolar\"}],\"carpet\":[{\"aaxis\":{\"endlinecolor\":\"#2a3f5f\",\"gridcolor\":\"white\",\"linecolor\":\"white\",\"minorgridcolor\":\"white\",\"startlinecolor\":\"#2a3f5f\"},\"baxis\":{\"endlinecolor\":\"#2a3f5f\",\"gridcolor\":\"white\",\"linecolor\":\"white\",\"minorgridcolor\":\"white\",\"startlinecolor\":\"#2a3f5f\"},\"type\":\"carpet\"}],\"choropleth\":[{\"colorbar\":{\"outlinewidth\":0,\"ticks\":\"\"},\"type\":\"choropleth\"}],\"contour\":[{\"colorbar\":{\"outlinewidth\":0,\"ticks\":\"\"},\"colorscale\":[[0.0,\"#0d0887\"],[0.1111111111111111,\"#46039f\"],[0.2222222222222222,\"#7201a8\"],[0.3333333333333333,\"#9c179e\"],[0.4444444444444444,\"#bd3786\"],[0.5555555555555556,\"#d8576b\"],[0.6666666666666666,\"#ed7953\"],[0.7777777777777778,\"#fb9f3a\"],[0.8888888888888888,\"#fdca26\"],[1.0,\"#f0f921\"]],\"type\":\"contour\"}],\"contourcarpet\":[{\"colorbar\":{\"outlinewidth\":0,\"ticks\":\"\"},\"type\":\"contourcarpet\"}],\"heatmap\":[{\"colorbar\":{\"outlinewidth\":0,\"ticks\":\"\"},\"colorscale\":[[0.0,\"#0d0887\"],[0.1111111111111111,\"#46039f\"],[0.2222222222222222,\"#7201a8\"],[0.3333333333333333,\"#9c179e\"],[0.4444444444444444,\"#bd3786\"],[0.5555555555555556,\"#d8576b\"],[0.6666666666666666,\"#ed7953\"],[0.7777777777777778,\"#fb9f3a\"],[0.8888888888888888,\"#fdca26\"],[1.0,\"#f0f921\"]],\"type\":\"heatmap\"}],\"heatmapgl\":[{\"colorbar\":{\"outlinewidth\":0,\"ticks\":\"\"},\"colorscale\":[[0.0,\"#0d0887\"],[0.1111111111111111,\"#46039f\"],[0.2222222222222222,\"#7201a8\"],[0.3333333333333333,\"#9c179e\"],[0.4444444444444444,\"#bd3786\"],[0.5555555555555556,\"#d8576b\"],[0.6666666666666666,\"#ed7953\"],[0.7777777777777778,\"#fb9f3a\"],[0.8888888888888888,\"#fdca26\"],[1.0,\"#f0f921\"]],\"type\":\"heatmapgl\"}],\"histogram\":[{\"marker\":{\"pattern\":{\"fillmode\":\"overlay\",\"size\":10,\"solidity\":0.2}},\"type\":\"histogram\"}],\"histogram2d\":[{\"colorbar\":{\"outlinewidth\":0,\"ticks\":\"\"},\"colorscale\":[[0.0,\"#0d0887\"],[0.1111111111111111,\"#46039f\"],[0.2222222222222222,\"#7201a8\"],[0.3333333333333333,\"#9c179e\"],[0.4444444444444444,\"#bd3786\"],[0.5555555555555556,\"#d8576b\"],[0.6666666666666666,\"#ed7953\"],[0.7777777777777778,\"#fb9f3a\"],[0.8888888888888888,\"#fdca26\"],[1.0,\"#f0f921\"]],\"type\":\"histogram2d\"}],\"histogram2dcontour\":[{\"colorbar\":{\"outlinewidth\":0,\"ticks\":\"\"},\"colorscale\":[[0.0,\"#0d0887\"],[0.1111111111111111,\"#46039f\"],[0.2222222222222222,\"#7201a8\"],[0.3333333333333333,\"#9c179e\"],[0.4444444444444444,\"#bd3786\"],[0.5555555555555556,\"#d8576b\"],[0.6666666666666666,\"#ed7953\"],[0.7777777777777778,\"#fb9f3a\"],[0.8888888888888888,\"#fdca26\"],[1.0,\"#f0f921\"]],\"type\":\"histogram2dcontour\"}],\"mesh3d\":[{\"colorbar\":{\"outlinewidth\":0,\"ticks\":\"\"},\"type\":\"mesh3d\"}],\"parcoords\":[{\"line\":{\"colorbar\":{\"outlinewidth\":0,\"ticks\":\"\"}},\"type\":\"parcoords\"}],\"pie\":[{\"automargin\":true,\"type\":\"pie\"}],\"scatter\":[{\"marker\":{\"colorbar\":{\"outlinewidth\":0,\"ticks\":\"\"}},\"type\":\"scatter\"}],\"scatter3d\":[{\"line\":{\"colorbar\":{\"outlinewidth\":0,\"ticks\":\"\"}},\"marker\":{\"colorbar\":{\"outlinewidth\":0,\"ticks\":\"\"}},\"type\":\"scatter3d\"}],\"scattercarpet\":[{\"marker\":{\"colorbar\":{\"outlinewidth\":0,\"ticks\":\"\"}},\"type\":\"scattercarpet\"}],\"scattergeo\":[{\"marker\":{\"colorbar\":{\"outlinewidth\":0,\"ticks\":\"\"}},\"type\":\"scattergeo\"}],\"scattergl\":[{\"marker\":{\"colorbar\":{\"outlinewidth\":0,\"ticks\":\"\"}},\"type\":\"scattergl\"}],\"scattermapbox\":[{\"marker\":{\"colorbar\":{\"outlinewidth\":0,\"ticks\":\"\"}},\"type\":\"scattermapbox\"}],\"scatterpolar\":[{\"marker\":{\"colorbar\":{\"outlinewidth\":0,\"ticks\":\"\"}},\"type\":\"scatterpolar\"}],\"scatterpolargl\":[{\"marker\":{\"colorbar\":{\"outlinewidth\":0,\"ticks\":\"\"}},\"type\":\"scatterpolargl\"}],\"scatterternary\":[{\"marker\":{\"colorbar\":{\"outlinewidth\":0,\"ticks\":\"\"}},\"type\":\"scatterternary\"}],\"surface\":[{\"colorbar\":{\"outlinewidth\":0,\"ticks\":\"\"},\"colorscale\":[[0.0,\"#0d0887\"],[0.1111111111111111,\"#46039f\"],[0.2222222222222222,\"#7201a8\"],[0.3333333333333333,\"#9c179e\"],[0.4444444444444444,\"#bd3786\"],[0.5555555555555556,\"#d8576b\"],[0.6666666666666666,\"#ed7953\"],[0.7777777777777778,\"#fb9f3a\"],[0.8888888888888888,\"#fdca26\"],[1.0,\"#f0f921\"]],\"type\":\"surface\"}],\"table\":[{\"cells\":{\"fill\":{\"color\":\"#EBF0F8\"},\"line\":{\"color\":\"white\"}},\"header\":{\"fill\":{\"color\":\"#C8D4E3\"},\"line\":{\"color\":\"white\"}},\"type\":\"table\"}]},\"layout\":{\"annotationdefaults\":{\"arrowcolor\":\"#2a3f5f\",\"arrowhead\":0,\"arrowwidth\":1},\"autotypenumbers\":\"strict\",\"coloraxis\":{\"colorbar\":{\"outlinewidth\":0,\"ticks\":\"\"}},\"colorscale\":{\"diverging\":[[0,\"#8e0152\"],[0.1,\"#c51b7d\"],[0.2,\"#de77ae\"],[0.3,\"#f1b6da\"],[0.4,\"#fde0ef\"],[0.5,\"#f7f7f7\"],[0.6,\"#e6f5d0\"],[0.7,\"#b8e186\"],[0.8,\"#7fbc41\"],[0.9,\"#4d9221\"],[1,\"#276419\"]],\"sequential\":[[0.0,\"#0d0887\"],[0.1111111111111111,\"#46039f\"],[0.2222222222222222,\"#7201a8\"],[0.3333333333333333,\"#9c179e\"],[0.4444444444444444,\"#bd3786\"],[0.5555555555555556,\"#d8576b\"],[0.6666666666666666,\"#ed7953\"],[0.7777777777777778,\"#fb9f3a\"],[0.8888888888888888,\"#fdca26\"],[1.0,\"#f0f921\"]],\"sequentialminus\":[[0.0,\"#0d0887\"],[0.1111111111111111,\"#46039f\"],[0.2222222222222222,\"#7201a8\"],[0.3333333333333333,\"#9c179e\"],[0.4444444444444444,\"#bd3786\"],[0.5555555555555556,\"#d8576b\"],[0.6666666666666666,\"#ed7953\"],[0.7777777777777778,\"#fb9f3a\"],[0.8888888888888888,\"#fdca26\"],[1.0,\"#f0f921\"]]},\"colorway\":[\"#636efa\",\"#EF553B\",\"#00cc96\",\"#ab63fa\",\"#FFA15A\",\"#19d3f3\",\"#FF6692\",\"#B6E880\",\"#FF97FF\",\"#FECB52\"],\"font\":{\"color\":\"#2a3f5f\"},\"geo\":{\"bgcolor\":\"white\",\"lakecolor\":\"white\",\"landcolor\":\"#E5ECF6\",\"showlakes\":true,\"showland\":true,\"subunitcolor\":\"white\"},\"hoverlabel\":{\"align\":\"left\"},\"hovermode\":\"closest\",\"mapbox\":{\"style\":\"light\"},\"paper_bgcolor\":\"white\",\"plot_bgcolor\":\"#E5ECF6\",\"polar\":{\"angularaxis\":{\"gridcolor\":\"white\",\"linecolor\":\"white\",\"ticks\":\"\"},\"bgcolor\":\"#E5ECF6\",\"radialaxis\":{\"gridcolor\":\"white\",\"linecolor\":\"white\",\"ticks\":\"\"}},\"scene\":{\"xaxis\":{\"backgroundcolor\":\"#E5ECF6\",\"gridcolor\":\"white\",\"gridwidth\":2,\"linecolor\":\"white\",\"showbackground\":true,\"ticks\":\"\",\"zerolinecolor\":\"white\"},\"yaxis\":{\"backgroundcolor\":\"#E5ECF6\",\"gridcolor\":\"white\",\"gridwidth\":2,\"linecolor\":\"white\",\"showbackground\":true,\"ticks\":\"\",\"zerolinecolor\":\"white\"},\"zaxis\":{\"backgroundcolor\":\"#E5ECF6\",\"gridcolor\":\"white\",\"gridwidth\":2,\"linecolor\":\"white\",\"showbackground\":true,\"ticks\":\"\",\"zerolinecolor\":\"white\"}},\"shapedefaults\":{\"line\":{\"color\":\"#2a3f5f\"}},\"ternary\":{\"aaxis\":{\"gridcolor\":\"white\",\"linecolor\":\"white\",\"ticks\":\"\"},\"baxis\":{\"gridcolor\":\"white\",\"linecolor\":\"white\",\"ticks\":\"\"},\"bgcolor\":\"#E5ECF6\",\"caxis\":{\"gridcolor\":\"white\",\"linecolor\":\"white\",\"ticks\":\"\"}},\"title\":{\"x\":0.05},\"xaxis\":{\"automargin\":true,\"gridcolor\":\"white\",\"linecolor\":\"white\",\"ticks\":\"\",\"title\":{\"standoff\":15},\"zerolinecolor\":\"white\",\"zerolinewidth\":2},\"yaxis\":{\"automargin\":true,\"gridcolor\":\"white\",\"linecolor\":\"white\",\"ticks\":\"\",\"title\":{\"standoff\":15},\"zerolinecolor\":\"white\",\"zerolinewidth\":2}}},\"title\":{\"text\":\"Completed 2nd dose of Vaccine as of June 26, 26 Haziran'da tamamlanan 2.doz a\\u015f\\u0131\"},\"xaxis\":{\"anchor\":\"y\",\"domain\":[0.0,1.0],\"title\":{\"text\":\"2_dose-2.doz\"}},\"yaxis\":{\"anchor\":\"x\",\"domain\":[0.0,1.0],\"title\":{\"text\":\"B\\u00f6lge-Region\"}}},                        {\"responsive\": true}                    ).then(function(){\n",
       "                            \n",
       "var gd = document.getElementById('4fee2816-853d-4d48-a54d-124b7d5721e1');\n",
       "var x = new MutationObserver(function (mutations, observer) {{\n",
       "        var display = window.getComputedStyle(gd).display;\n",
       "        if (!display || display === 'none') {{\n",
       "            console.log([gd, 'removed!']);\n",
       "            Plotly.purge(gd);\n",
       "            observer.disconnect();\n",
       "        }}\n",
       "}});\n",
       "\n",
       "// Listen for the removal of the full notebook cells\n",
       "var notebookContainer = gd.closest('#notebook-container');\n",
       "if (notebookContainer) {{\n",
       "    x.observe(notebookContainer, {childList: true});\n",
       "}}\n",
       "\n",
       "// Listen for the clearing of the current output cell\n",
       "var outputEl = gd.closest('.output');\n",
       "if (outputEl) {{\n",
       "    x.observe(outputEl, {childList: true});\n",
       "}}\n",
       "\n",
       "                        })                };                });            </script>        </div>"
      ]
     },
     "metadata": {},
     "output_type": "display_data"
    }
   ],
   "source": [
    "fig = px.bar(covid, x=\"2_dose-2.doz\", y=\"Bölge-Region\", color=\"city-şehir\", title=\"Completed 2nd dose of Vaccine as of June 26, 26 Haziran'da tamamlanan 2.doz aşı\")\n",
    "fig.show()"
   ]
  },
  {
   "cell_type": "code",
   "execution_count": 966,
   "id": "cb8c14c8",
   "metadata": {},
   "outputs": [
    {
     "data": {
      "application/vnd.plotly.v1+json": {
       "config": {
        "plotlyServerURL": "https://plot.ly"
       },
       "data": [
        {
         "alignmentgroup": "True",
         "hovertemplate": "city-şehir=Adana<br>total-toplam=%{x}<br>Bölge-Region=%{y}<extra></extra>",
         "legendgroup": "Adana",
         "marker": {
          "color": "#636efa",
          "pattern": {
           "shape": ""
          }
         },
         "name": "Adana",
         "offsetgroup": "Adana",
         "orientation": "h",
         "showlegend": true,
         "textposition": "auto",
         "type": "bar",
         "x": [
          1139868
         ],
         "xaxis": "x",
         "y": [
          "Akdeniz"
         ],
         "yaxis": "y"
        },
        {
         "alignmentgroup": "True",
         "hovertemplate": "city-şehir=Adıyaman<br>total-toplam=%{x}<br>Bölge-Region=%{y}<extra></extra>",
         "legendgroup": "Adıyaman",
         "marker": {
          "color": "#EF553B",
          "pattern": {
           "shape": ""
          }
         },
         "name": "Adıyaman",
         "offsetgroup": "Adıyaman",
         "orientation": "h",
         "showlegend": true,
         "textposition": "auto",
         "type": "bar",
         "x": [
          248802
         ],
         "xaxis": "x",
         "y": [
          "Güneydoğu Anadolu"
         ],
         "yaxis": "y"
        },
        {
         "alignmentgroup": "True",
         "hovertemplate": "city-şehir=Afyonkarahisar<br>total-toplam=%{x}<br>Bölge-Region=%{y}<extra></extra>",
         "legendgroup": "Afyonkarahisar",
         "marker": {
          "color": "#00cc96",
          "pattern": {
           "shape": ""
          }
         },
         "name": "Afyonkarahisar",
         "offsetgroup": "Afyonkarahisar",
         "orientation": "h",
         "showlegend": true,
         "textposition": "auto",
         "type": "bar",
         "x": [
          431545
         ],
         "xaxis": "x",
         "y": [
          "Ege"
         ],
         "yaxis": "y"
        },
        {
         "alignmentgroup": "True",
         "hovertemplate": "city-şehir=Ağrı<br>total-toplam=%{x}<br>Bölge-Region=%{y}<extra></extra>",
         "legendgroup": "Ağrı",
         "marker": {
          "color": "#ab63fa",
          "pattern": {
           "shape": ""
          }
         },
         "name": "Ağrı",
         "offsetgroup": "Ağrı",
         "orientation": "h",
         "showlegend": true,
         "textposition": "auto",
         "type": "bar",
         "x": [
          135953
         ],
         "xaxis": "x",
         "y": [
          "Doğu Anadolu"
         ],
         "yaxis": "y"
        },
        {
         "alignmentgroup": "True",
         "hovertemplate": "city-şehir=Aksaray<br>total-toplam=%{x}<br>Bölge-Region=%{y}<extra></extra>",
         "legendgroup": "Aksaray",
         "marker": {
          "color": "#FFA15A",
          "pattern": {
           "shape": ""
          }
         },
         "name": "Aksaray",
         "offsetgroup": "Aksaray",
         "orientation": "h",
         "showlegend": true,
         "textposition": "auto",
         "type": "bar",
         "x": [
          194492
         ],
         "xaxis": "x",
         "y": [
          "İç Anadolu"
         ],
         "yaxis": "y"
        },
        {
         "alignmentgroup": "True",
         "hovertemplate": "city-şehir=Amasya<br>total-toplam=%{x}<br>Bölge-Region=%{y}<extra></extra>",
         "legendgroup": "Amasya",
         "marker": {
          "color": "#19d3f3",
          "pattern": {
           "shape": ""
          }
         },
         "name": "Amasya",
         "offsetgroup": "Amasya",
         "orientation": "h",
         "showlegend": true,
         "textposition": "auto",
         "type": "bar",
         "x": [
          256607
         ],
         "xaxis": "x",
         "y": [
          "Karadeniz"
         ],
         "yaxis": "y"
        },
        {
         "alignmentgroup": "True",
         "hovertemplate": "city-şehir=Ankara<br>total-toplam=%{x}<br>Bölge-Region=%{y}<extra></extra>",
         "legendgroup": "Ankara",
         "marker": {
          "color": "#FF6692",
          "pattern": {
           "shape": ""
          }
         },
         "name": "Ankara",
         "offsetgroup": "Ankara",
         "orientation": "h",
         "showlegend": true,
         "textposition": "auto",
         "type": "bar",
         "x": [
          3893991
         ],
         "xaxis": "x",
         "y": [
          "İç Anadolu"
         ],
         "yaxis": "y"
        },
        {
         "alignmentgroup": "True",
         "hovertemplate": "city-şehir=Antalya<br>total-toplam=%{x}<br>Bölge-Region=%{y}<extra></extra>",
         "legendgroup": "Antalya",
         "marker": {
          "color": "#B6E880",
          "pattern": {
           "shape": ""
          }
         },
         "name": "Antalya",
         "offsetgroup": "Antalya",
         "orientation": "h",
         "showlegend": true,
         "textposition": "auto",
         "type": "bar",
         "x": [
          1585765
         ],
         "xaxis": "x",
         "y": [
          "Akdeniz"
         ],
         "yaxis": "y"
        },
        {
         "alignmentgroup": "True",
         "hovertemplate": "city-şehir=Ardahan<br>total-toplam=%{x}<br>Bölge-Region=%{y}<extra></extra>",
         "legendgroup": "Ardahan",
         "marker": {
          "color": "#FF97FF",
          "pattern": {
           "shape": ""
          }
         },
         "name": "Ardahan",
         "offsetgroup": "Ardahan",
         "orientation": "h",
         "showlegend": true,
         "textposition": "auto",
         "type": "bar",
         "x": [
          53271
         ],
         "xaxis": "x",
         "y": [
          "Doğu Anadolu"
         ],
         "yaxis": "y"
        },
        {
         "alignmentgroup": "True",
         "hovertemplate": "city-şehir=Artvin<br>total-toplam=%{x}<br>Bölge-Region=%{y}<extra></extra>",
         "legendgroup": "Artvin",
         "marker": {
          "color": "#FECB52",
          "pattern": {
           "shape": ""
          }
         },
         "name": "Artvin",
         "offsetgroup": "Artvin",
         "orientation": "h",
         "showlegend": true,
         "textposition": "auto",
         "type": "bar",
         "x": [
          123686
         ],
         "xaxis": "x",
         "y": [
          "Karadeniz"
         ],
         "yaxis": "y"
        },
        {
         "alignmentgroup": "True",
         "hovertemplate": "city-şehir=Aydın<br>total-toplam=%{x}<br>Bölge-Region=%{y}<extra></extra>",
         "legendgroup": "Aydın",
         "marker": {
          "color": "#636efa",
          "pattern": {
           "shape": ""
          }
         },
         "name": "Aydın",
         "offsetgroup": "Aydın",
         "orientation": "h",
         "showlegend": true,
         "textposition": "auto",
         "type": "bar",
         "x": [
          849015
         ],
         "xaxis": "x",
         "y": [
          "Ege"
         ],
         "yaxis": "y"
        },
        {
         "alignmentgroup": "True",
         "hovertemplate": "city-şehir=Balıkesir<br>total-toplam=%{x}<br>Bölge-Region=%{y}<extra></extra>",
         "legendgroup": "Balıkesir",
         "marker": {
          "color": "#EF553B",
          "pattern": {
           "shape": ""
          }
         },
         "name": "Balıkesir",
         "offsetgroup": "Balıkesir",
         "orientation": "h",
         "showlegend": true,
         "textposition": "auto",
         "type": "bar",
         "x": [
          1020497
         ],
         "xaxis": "x",
         "y": [
          "Marmara"
         ],
         "yaxis": "y"
        },
        {
         "alignmentgroup": "True",
         "hovertemplate": "city-şehir=Bartın<br>total-toplam=%{x}<br>Bölge-Region=%{y}<extra></extra>",
         "legendgroup": "Bartın",
         "marker": {
          "color": "#00cc96",
          "pattern": {
           "shape": ""
          }
         },
         "name": "Bartın",
         "offsetgroup": "Bartın",
         "orientation": "h",
         "showlegend": true,
         "textposition": "auto",
         "type": "bar",
         "x": [
          145902
         ],
         "xaxis": "x",
         "y": [
          "Karadeniz"
         ],
         "yaxis": "y"
        },
        {
         "alignmentgroup": "True",
         "hovertemplate": "city-şehir=Batman<br>total-toplam=%{x}<br>Bölge-Region=%{y}<extra></extra>",
         "legendgroup": "Batman",
         "marker": {
          "color": "#ab63fa",
          "pattern": {
           "shape": ""
          }
         },
         "name": "Batman",
         "offsetgroup": "Batman",
         "orientation": "h",
         "showlegend": true,
         "textposition": "auto",
         "type": "bar",
         "x": [
          157545
         ],
         "xaxis": "x",
         "y": [
          "Güneydoğu Anadolu"
         ],
         "yaxis": "y"
        },
        {
         "alignmentgroup": "True",
         "hovertemplate": "city-şehir=Bayburt<br>total-toplam=%{x}<br>Bölge-Region=%{y}<extra></extra>",
         "legendgroup": "Bayburt",
         "marker": {
          "color": "#FFA15A",
          "pattern": {
           "shape": ""
          }
         },
         "name": "Bayburt",
         "offsetgroup": "Bayburt",
         "orientation": "h",
         "showlegend": true,
         "textposition": "auto",
         "type": "bar",
         "x": [
          37283
         ],
         "xaxis": "x",
         "y": [
          "Karadeniz"
         ],
         "yaxis": "y"
        },
        {
         "alignmentgroup": "True",
         "hovertemplate": "city-şehir=Bilecik<br>total-toplam=%{x}<br>Bölge-Region=%{y}<extra></extra>",
         "legendgroup": "Bilecik",
         "marker": {
          "color": "#19d3f3",
          "pattern": {
           "shape": ""
          }
         },
         "name": "Bilecik",
         "offsetgroup": "Bilecik",
         "orientation": "h",
         "showlegend": true,
         "textposition": "auto",
         "type": "bar",
         "x": [
          157530
         ],
         "xaxis": "x",
         "y": [
          "Marmara"
         ],
         "yaxis": "y"
        },
        {
         "alignmentgroup": "True",
         "hovertemplate": "city-şehir=Bingöl<br>total-toplam=%{x}<br>Bölge-Region=%{y}<extra></extra>",
         "legendgroup": "Bingöl",
         "marker": {
          "color": "#FF6692",
          "pattern": {
           "shape": ""
          }
         },
         "name": "Bingöl",
         "offsetgroup": "Bingöl",
         "orientation": "h",
         "showlegend": true,
         "textposition": "auto",
         "type": "bar",
         "x": [
          88137
         ],
         "xaxis": "x",
         "y": [
          "Doğu Anadolu"
         ],
         "yaxis": "y"
        },
        {
         "alignmentgroup": "True",
         "hovertemplate": "city-şehir=Bitlis<br>total-toplam=%{x}<br>Bölge-Region=%{y}<extra></extra>",
         "legendgroup": "Bitlis",
         "marker": {
          "color": "#B6E880",
          "pattern": {
           "shape": ""
          }
         },
         "name": "Bitlis",
         "offsetgroup": "Bitlis",
         "orientation": "h",
         "showlegend": true,
         "textposition": "auto",
         "type": "bar",
         "x": [
          74819
         ],
         "xaxis": "x",
         "y": [
          "Doğu Anadolu"
         ],
         "yaxis": "y"
        },
        {
         "alignmentgroup": "True",
         "hovertemplate": "city-şehir=Bolu<br>total-toplam=%{x}<br>Bölge-Region=%{y}<extra></extra>",
         "legendgroup": "Bolu",
         "marker": {
          "color": "#FF97FF",
          "pattern": {
           "shape": ""
          }
         },
         "name": "Bolu",
         "offsetgroup": "Bolu",
         "orientation": "h",
         "showlegend": true,
         "textposition": "auto",
         "type": "bar",
         "x": [
          227547
         ],
         "xaxis": "x",
         "y": [
          "Karadeniz"
         ],
         "yaxis": "y"
        },
        {
         "alignmentgroup": "True",
         "hovertemplate": "city-şehir=Burdur<br>total-toplam=%{x}<br>Bölge-Region=%{y}<extra></extra>",
         "legendgroup": "Burdur",
         "marker": {
          "color": "#FECB52",
          "pattern": {
           "shape": ""
          }
         },
         "name": "Burdur",
         "offsetgroup": "Burdur",
         "orientation": "h",
         "showlegend": true,
         "textposition": "auto",
         "type": "bar",
         "x": [
          194991
         ],
         "xaxis": "x",
         "y": [
          "Akdeniz"
         ],
         "yaxis": "y"
        },
        {
         "alignmentgroup": "True",
         "hovertemplate": "city-şehir=Bursa<br>total-toplam=%{x}<br>Bölge-Region=%{y}<extra></extra>",
         "legendgroup": "Bursa",
         "marker": {
          "color": "#636efa",
          "pattern": {
           "shape": ""
          }
         },
         "name": "Bursa",
         "offsetgroup": "Bursa",
         "orientation": "h",
         "showlegend": true,
         "textposition": "auto",
         "type": "bar",
         "x": [
          1822577
         ],
         "xaxis": "x",
         "y": [
          "Marmara"
         ],
         "yaxis": "y"
        },
        {
         "alignmentgroup": "True",
         "hovertemplate": "city-şehir=Çanakkale<br>total-toplam=%{x}<br>Bölge-Region=%{y}<extra></extra>",
         "legendgroup": "Çanakkale",
         "marker": {
          "color": "#EF553B",
          "pattern": {
           "shape": ""
          }
         },
         "name": "Çanakkale",
         "offsetgroup": "Çanakkale",
         "orientation": "h",
         "showlegend": true,
         "textposition": "auto",
         "type": "bar",
         "x": [
          460095
         ],
         "xaxis": "x",
         "y": [
          "Marmara"
         ],
         "yaxis": "y"
        },
        {
         "alignmentgroup": "True",
         "hovertemplate": "city-şehir=Çankırı<br>total-toplam=%{x}<br>Bölge-Region=%{y}<extra></extra>",
         "legendgroup": "Çankırı",
         "marker": {
          "color": "#00cc96",
          "pattern": {
           "shape": ""
          }
         },
         "name": "Çankırı",
         "offsetgroup": "Çankırı",
         "orientation": "h",
         "showlegend": true,
         "textposition": "auto",
         "type": "bar",
         "x": [
          127320
         ],
         "xaxis": "x",
         "y": [
          "İç Anadolu"
         ],
         "yaxis": "y"
        },
        {
         "alignmentgroup": "True",
         "hovertemplate": "city-şehir=Çorum<br>total-toplam=%{x}<br>Bölge-Region=%{y}<extra></extra>",
         "legendgroup": "Çorum",
         "marker": {
          "color": "#ab63fa",
          "pattern": {
           "shape": ""
          }
         },
         "name": "Çorum",
         "offsetgroup": "Çorum",
         "orientation": "h",
         "showlegend": true,
         "textposition": "auto",
         "type": "bar",
         "x": [
          360331
         ],
         "xaxis": "x",
         "y": [
          "Karadeniz"
         ],
         "yaxis": "y"
        },
        {
         "alignmentgroup": "True",
         "hovertemplate": "city-şehir=Denizli<br>total-toplam=%{x}<br>Bölge-Region=%{y}<extra></extra>",
         "legendgroup": "Denizli",
         "marker": {
          "color": "#FFA15A",
          "pattern": {
           "shape": ""
          }
         },
         "name": "Denizli",
         "offsetgroup": "Denizli",
         "orientation": "h",
         "showlegend": true,
         "textposition": "auto",
         "type": "bar",
         "x": [
          688083
         ],
         "xaxis": "x",
         "y": [
          "Ege"
         ],
         "yaxis": "y"
        },
        {
         "alignmentgroup": "True",
         "hovertemplate": "city-şehir=Diyarbakır<br>total-toplam=%{x}<br>Bölge-Region=%{y}<extra></extra>",
         "legendgroup": "Diyarbakır",
         "marker": {
          "color": "#19d3f3",
          "pattern": {
           "shape": ""
          }
         },
         "name": "Diyarbakır",
         "offsetgroup": "Diyarbakır",
         "orientation": "h",
         "showlegend": true,
         "textposition": "auto",
         "type": "bar",
         "x": [
          442035
         ],
         "xaxis": "x",
         "y": [
          "Güneydoğu Anadolu"
         ],
         "yaxis": "y"
        },
        {
         "alignmentgroup": "True",
         "hovertemplate": "city-şehir=Düzce<br>total-toplam=%{x}<br>Bölge-Region=%{y}<extra></extra>",
         "legendgroup": "Düzce",
         "marker": {
          "color": "#FF6692",
          "pattern": {
           "shape": ""
          }
         },
         "name": "Düzce",
         "offsetgroup": "Düzce",
         "orientation": "h",
         "showlegend": true,
         "textposition": "auto",
         "type": "bar",
         "x": [
          231911
         ],
         "xaxis": "x",
         "y": [
          null
         ],
         "yaxis": "y"
        },
        {
         "alignmentgroup": "True",
         "hovertemplate": "city-şehir=Edirne<br>total-toplam=%{x}<br>Bölge-Region=%{y}<extra></extra>",
         "legendgroup": "Edirne",
         "marker": {
          "color": "#B6E880",
          "pattern": {
           "shape": ""
          }
         },
         "name": "Edirne",
         "offsetgroup": "Edirne",
         "orientation": "h",
         "showlegend": true,
         "textposition": "auto",
         "type": "bar",
         "x": [
          349857
         ],
         "xaxis": "x",
         "y": [
          "Marmara"
         ],
         "yaxis": "y"
        },
        {
         "alignmentgroup": "True",
         "hovertemplate": "city-şehir=Elazığ<br>total-toplam=%{x}<br>Bölge-Region=%{y}<extra></extra>",
         "legendgroup": "Elazığ",
         "marker": {
          "color": "#FF97FF",
          "pattern": {
           "shape": ""
          }
         },
         "name": "Elazığ",
         "offsetgroup": "Elazığ",
         "orientation": "h",
         "showlegend": true,
         "textposition": "auto",
         "type": "bar",
         "x": [
          292951
         ],
         "xaxis": "x",
         "y": [
          "Doğu Anadolu"
         ],
         "yaxis": "y"
        },
        {
         "alignmentgroup": "True",
         "hovertemplate": "city-şehir=Erzincan<br>total-toplam=%{x}<br>Bölge-Region=%{y}<extra></extra>",
         "legendgroup": "Erzincan",
         "marker": {
          "color": "#FECB52",
          "pattern": {
           "shape": ""
          }
         },
         "name": "Erzincan",
         "offsetgroup": "Erzincan",
         "orientation": "h",
         "showlegend": true,
         "textposition": "auto",
         "type": "bar",
         "x": [
          140381
         ],
         "xaxis": "x",
         "y": [
          "Doğu Anadolu"
         ],
         "yaxis": "y"
        },
        {
         "alignmentgroup": "True",
         "hovertemplate": "city-şehir=Erzurum<br>total-toplam=%{x}<br>Bölge-Region=%{y}<extra></extra>",
         "legendgroup": "Erzurum",
         "marker": {
          "color": "#636efa",
          "pattern": {
           "shape": ""
          }
         },
         "name": "Erzurum",
         "offsetgroup": "Erzurum",
         "orientation": "h",
         "showlegend": true,
         "textposition": "auto",
         "type": "bar",
         "x": [
          318718
         ],
         "xaxis": "x",
         "y": [
          "Doğu Anadolu"
         ],
         "yaxis": "y"
        },
        {
         "alignmentgroup": "True",
         "hovertemplate": "city-şehir=Eskişehir<br>total-toplam=%{x}<br>Bölge-Region=%{y}<extra></extra>",
         "legendgroup": "Eskişehir",
         "marker": {
          "color": "#EF553B",
          "pattern": {
           "shape": ""
          }
         },
         "name": "Eskişehir",
         "offsetgroup": "Eskişehir",
         "orientation": "h",
         "showlegend": true,
         "textposition": "auto",
         "type": "bar",
         "x": [
          672665
         ],
         "xaxis": "x",
         "y": [
          "İç Anadolu"
         ],
         "yaxis": "y"
        },
        {
         "alignmentgroup": "True",
         "hovertemplate": "city-şehir=Gaziantep<br>total-toplam=%{x}<br>Bölge-Region=%{y}<extra></extra>",
         "legendgroup": "Gaziantep",
         "marker": {
          "color": "#00cc96",
          "pattern": {
           "shape": ""
          }
         },
         "name": "Gaziantep",
         "offsetgroup": "Gaziantep",
         "orientation": "h",
         "showlegend": true,
         "textposition": "auto",
         "type": "bar",
         "x": [
          778187
         ],
         "xaxis": "x",
         "y": [
          "Güneydoğu Anadolu"
         ],
         "yaxis": "y"
        },
        {
         "alignmentgroup": "True",
         "hovertemplate": "city-şehir=Giresun<br>total-toplam=%{x}<br>Bölge-Region=%{y}<extra></extra>",
         "legendgroup": "Giresun",
         "marker": {
          "color": "#ab63fa",
          "pattern": {
           "shape": ""
          }
         },
         "name": "Giresun",
         "offsetgroup": "Giresun",
         "orientation": "h",
         "showlegend": true,
         "textposition": "auto",
         "type": "bar",
         "x": [
          334731
         ],
         "xaxis": "x",
         "y": [
          "Karadeniz"
         ],
         "yaxis": "y"
        },
        {
         "alignmentgroup": "True",
         "hovertemplate": "city-şehir=Gümüşhane<br>total-toplam=%{x}<br>Bölge-Region=%{y}<extra></extra>",
         "legendgroup": "Gümüşhane",
         "marker": {
          "color": "#FFA15A",
          "pattern": {
           "shape": ""
          }
         },
         "name": "Gümüşhane",
         "offsetgroup": "Gümüşhane",
         "orientation": "h",
         "showlegend": true,
         "textposition": "auto",
         "type": "bar",
         "x": [
          66120
         ],
         "xaxis": "x",
         "y": [
          "Karadeniz"
         ],
         "yaxis": "y"
        },
        {
         "alignmentgroup": "True",
         "hovertemplate": "city-şehir=Hakkari<br>total-toplam=%{x}<br>Bölge-Region=%{y}<extra></extra>",
         "legendgroup": "Hakkari",
         "marker": {
          "color": "#19d3f3",
          "pattern": {
           "shape": ""
          }
         },
         "name": "Hakkari",
         "offsetgroup": "Hakkari",
         "orientation": "h",
         "showlegend": true,
         "textposition": "auto",
         "type": "bar",
         "x": [
          61180
         ],
         "xaxis": "x",
         "y": [
          "Doğu Anadolu"
         ],
         "yaxis": "y"
        },
        {
         "alignmentgroup": "True",
         "hovertemplate": "city-şehir=Hatay<br>total-toplam=%{x}<br>Bölge-Region=%{y}<extra></extra>",
         "legendgroup": "Hatay",
         "marker": {
          "color": "#FF6692",
          "pattern": {
           "shape": ""
          }
         },
         "name": "Hatay",
         "offsetgroup": "Hatay",
         "orientation": "h",
         "showlegend": true,
         "textposition": "auto",
         "type": "bar",
         "x": [
          735439
         ],
         "xaxis": "x",
         "y": [
          "Akdeniz"
         ],
         "yaxis": "y"
        },
        {
         "alignmentgroup": "True",
         "hovertemplate": "city-şehir=Iğdır<br>total-toplam=%{x}<br>Bölge-Region=%{y}<extra></extra>",
         "legendgroup": "Iğdır",
         "marker": {
          "color": "#B6E880",
          "pattern": {
           "shape": ""
          }
         },
         "name": "Iğdır",
         "offsetgroup": "Iğdır",
         "orientation": "h",
         "showlegend": true,
         "textposition": "auto",
         "type": "bar",
         "x": [
          64951
         ],
         "xaxis": "x",
         "y": [
          null
         ],
         "yaxis": "y"
        },
        {
         "alignmentgroup": "True",
         "hovertemplate": "city-şehir=Isparta<br>total-toplam=%{x}<br>Bölge-Region=%{y}<extra></extra>",
         "legendgroup": "Isparta",
         "marker": {
          "color": "#FF97FF",
          "pattern": {
           "shape": ""
          }
         },
         "name": "Isparta",
         "offsetgroup": "Isparta",
         "orientation": "h",
         "showlegend": true,
         "textposition": "auto",
         "type": "bar",
         "x": [
          313856
         ],
         "xaxis": "x",
         "y": [
          "Akdeniz"
         ],
         "yaxis": "y"
        },
        {
         "alignmentgroup": "True",
         "hovertemplate": "city-şehir=İstanbul<br>total-toplam=%{x}<br>Bölge-Region=%{y}<extra></extra>",
         "legendgroup": "İstanbul",
         "marker": {
          "color": "#FECB52",
          "pattern": {
           "shape": ""
          }
         },
         "name": "İstanbul",
         "offsetgroup": "İstanbul",
         "orientation": "h",
         "showlegend": true,
         "textposition": "auto",
         "type": "bar",
         "x": [
          8617141
         ],
         "xaxis": "x",
         "y": [
          "Marmara"
         ],
         "yaxis": "y"
        },
        {
         "alignmentgroup": "True",
         "hovertemplate": "city-şehir=İzmir<br>total-toplam=%{x}<br>Bölge-Region=%{y}<extra></extra>",
         "legendgroup": "İzmir",
         "marker": {
          "color": "#636efa",
          "pattern": {
           "shape": ""
          }
         },
         "name": "İzmir",
         "offsetgroup": "İzmir",
         "orientation": "h",
         "showlegend": true,
         "textposition": "auto",
         "type": "bar",
         "x": [
          3142928
         ],
         "xaxis": "x",
         "y": [
          "Ege"
         ],
         "yaxis": "y"
        },
        {
         "alignmentgroup": "True",
         "hovertemplate": "city-şehir=Kahramanmaraş<br>total-toplam=%{x}<br>Bölge-Region=%{y}<extra></extra>",
         "legendgroup": "Kahramanmaraş",
         "marker": {
          "color": "#EF553B",
          "pattern": {
           "shape": ""
          }
         },
         "name": "Kahramanmaraş",
         "offsetgroup": "Kahramanmaraş",
         "orientation": "h",
         "showlegend": true,
         "textposition": "auto",
         "type": "bar",
         "x": [
          485392
         ],
         "xaxis": "x",
         "y": [
          "Akdeniz"
         ],
         "yaxis": "y"
        },
        {
         "alignmentgroup": "True",
         "hovertemplate": "city-şehir=Karabük<br>total-toplam=%{x}<br>Bölge-Region=%{y}<extra></extra>",
         "legendgroup": "Karabük",
         "marker": {
          "color": "#00cc96",
          "pattern": {
           "shape": ""
          }
         },
         "name": "Karabük",
         "offsetgroup": "Karabük",
         "orientation": "h",
         "showlegend": true,
         "textposition": "auto",
         "type": "bar",
         "x": [
          165165
         ],
         "xaxis": "x",
         "y": [
          "Karadeniz"
         ],
         "yaxis": "y"
        },
        {
         "alignmentgroup": "True",
         "hovertemplate": "city-şehir=Karaman<br>total-toplam=%{x}<br>Bölge-Region=%{y}<extra></extra>",
         "legendgroup": "Karaman",
         "marker": {
          "color": "#ab63fa",
          "pattern": {
           "shape": ""
          }
         },
         "name": "Karaman",
         "offsetgroup": "Karaman",
         "orientation": "h",
         "showlegend": true,
         "textposition": "auto",
         "type": "bar",
         "x": [
          144641
         ],
         "xaxis": "x",
         "y": [
          "İç Anadolu"
         ],
         "yaxis": "y"
        },
        {
         "alignmentgroup": "True",
         "hovertemplate": "city-şehir=Kars<br>total-toplam=%{x}<br>Bölge-Region=%{y}<extra></extra>",
         "legendgroup": "Kars",
         "marker": {
          "color": "#FFA15A",
          "pattern": {
           "shape": ""
          }
         },
         "name": "Kars",
         "offsetgroup": "Kars",
         "orientation": "h",
         "showlegend": true,
         "textposition": "auto",
         "type": "bar",
         "x": [
          119780
         ],
         "xaxis": "x",
         "y": [
          "Doğu Anadolu"
         ],
         "yaxis": "y"
        },
        {
         "alignmentgroup": "True",
         "hovertemplate": "city-şehir=Kastamonu<br>total-toplam=%{x}<br>Bölge-Region=%{y}<extra></extra>",
         "legendgroup": "Kastamonu",
         "marker": {
          "color": "#19d3f3",
          "pattern": {
           "shape": ""
          }
         },
         "name": "Kastamonu",
         "offsetgroup": "Kastamonu",
         "orientation": "h",
         "showlegend": true,
         "textposition": "auto",
         "type": "bar",
         "x": [
          275403
         ],
         "xaxis": "x",
         "y": [
          "Karadeniz"
         ],
         "yaxis": "y"
        },
        {
         "alignmentgroup": "True",
         "hovertemplate": "city-şehir=Kayseri<br>total-toplam=%{x}<br>Bölge-Region=%{y}<extra></extra>",
         "legendgroup": "Kayseri",
         "marker": {
          "color": "#FF6692",
          "pattern": {
           "shape": ""
          }
         },
         "name": "Kayseri",
         "offsetgroup": "Kayseri",
         "orientation": "h",
         "showlegend": true,
         "textposition": "auto",
         "type": "bar",
         "x": [
          785275
         ],
         "xaxis": "x",
         "y": [
          "İç Anadolu"
         ],
         "yaxis": "y"
        },
        {
         "alignmentgroup": "True",
         "hovertemplate": "city-şehir=Kırıkkale<br>total-toplam=%{x}<br>Bölge-Region=%{y}<extra></extra>",
         "legendgroup": "Kırıkkale",
         "marker": {
          "color": "#B6E880",
          "pattern": {
           "shape": ""
          }
         },
         "name": "Kırıkkale",
         "offsetgroup": "Kırıkkale",
         "orientation": "h",
         "showlegend": true,
         "textposition": "auto",
         "type": "bar",
         "x": [
          175651
         ],
         "xaxis": "x",
         "y": [
          "İç Anadolu"
         ],
         "yaxis": "y"
        },
        {
         "alignmentgroup": "True",
         "hovertemplate": "city-şehir=Kırklareli<br>total-toplam=%{x}<br>Bölge-Region=%{y}<extra></extra>",
         "legendgroup": "Kırklareli",
         "marker": {
          "color": "#FF97FF",
          "pattern": {
           "shape": ""
          }
         },
         "name": "Kırklareli",
         "offsetgroup": "Kırklareli",
         "orientation": "h",
         "showlegend": true,
         "textposition": "auto",
         "type": "bar",
         "x": [
          296527
         ],
         "xaxis": "x",
         "y": [
          "Marmara"
         ],
         "yaxis": "y"
        },
        {
         "alignmentgroup": "True",
         "hovertemplate": "city-şehir=Kırşehir<br>total-toplam=%{x}<br>Bölge-Region=%{y}<extra></extra>",
         "legendgroup": "Kırşehir",
         "marker": {
          "color": "#FECB52",
          "pattern": {
           "shape": ""
          }
         },
         "name": "Kırşehir",
         "offsetgroup": "Kırşehir",
         "orientation": "h",
         "showlegend": true,
         "textposition": "auto",
         "type": "bar",
         "x": [
          161738
         ],
         "xaxis": "x",
         "y": [
          "İç Anadolu"
         ],
         "yaxis": "y"
        },
        {
         "alignmentgroup": "True",
         "hovertemplate": "city-şehir=Kilis<br>total-toplam=%{x}<br>Bölge-Region=%{y}<extra></extra>",
         "legendgroup": "Kilis",
         "marker": {
          "color": "#636efa",
          "pattern": {
           "shape": ""
          }
         },
         "name": "Kilis",
         "offsetgroup": "Kilis",
         "orientation": "h",
         "showlegend": true,
         "textposition": "auto",
         "type": "bar",
         "x": [
          62220
         ],
         "xaxis": "x",
         "y": [
          "Güneydoğu Anadolu"
         ],
         "yaxis": "y"
        },
        {
         "alignmentgroup": "True",
         "hovertemplate": "city-şehir=Kocaeli<br>total-toplam=%{x}<br>Bölge-Region=%{y}<extra></extra>",
         "legendgroup": "Kocaeli",
         "marker": {
          "color": "#EF553B",
          "pattern": {
           "shape": ""
          }
         },
         "name": "Kocaeli",
         "offsetgroup": "Kocaeli",
         "orientation": "h",
         "showlegend": true,
         "textposition": "auto",
         "type": "bar",
         "x": [
          1115365
         ],
         "xaxis": "x",
         "y": [
          "Marmara"
         ],
         "yaxis": "y"
        },
        {
         "alignmentgroup": "True",
         "hovertemplate": "city-şehir=Konya<br>total-toplam=%{x}<br>Bölge-Region=%{y}<extra></extra>",
         "legendgroup": "Konya",
         "marker": {
          "color": "#00cc96",
          "pattern": {
           "shape": ""
          }
         },
         "name": "Konya",
         "offsetgroup": "Konya",
         "orientation": "h",
         "showlegend": true,
         "textposition": "auto",
         "type": "bar",
         "x": [
          1132277
         ],
         "xaxis": "x",
         "y": [
          "İç Anadolu"
         ],
         "yaxis": "y"
        },
        {
         "alignmentgroup": "True",
         "hovertemplate": "city-şehir=Kütahya<br>total-toplam=%{x}<br>Bölge-Region=%{y}<extra></extra>",
         "legendgroup": "Kütahya",
         "marker": {
          "color": "#ab63fa",
          "pattern": {
           "shape": ""
          }
         },
         "name": "Kütahya",
         "offsetgroup": "Kütahya",
         "orientation": "h",
         "showlegend": true,
         "textposition": "auto",
         "type": "bar",
         "x": [
          379920
         ],
         "xaxis": "x",
         "y": [
          "Ege"
         ],
         "yaxis": "y"
        },
        {
         "alignmentgroup": "True",
         "hovertemplate": "city-şehir=Malatya<br>total-toplam=%{x}<br>Bölge-Region=%{y}<extra></extra>",
         "legendgroup": "Malatya",
         "marker": {
          "color": "#FFA15A",
          "pattern": {
           "shape": ""
          }
         },
         "name": "Malatya",
         "offsetgroup": "Malatya",
         "orientation": "h",
         "showlegend": true,
         "textposition": "auto",
         "type": "bar",
         "x": [
          437319
         ],
         "xaxis": "x",
         "y": [
          "Doğu Anadolu"
         ],
         "yaxis": "y"
        },
        {
         "alignmentgroup": "True",
         "hovertemplate": "city-şehir=Manisa<br>total-toplam=%{x}<br>Bölge-Region=%{y}<extra></extra>",
         "legendgroup": "Manisa",
         "marker": {
          "color": "#19d3f3",
          "pattern": {
           "shape": ""
          }
         },
         "name": "Manisa",
         "offsetgroup": "Manisa",
         "orientation": "h",
         "showlegend": true,
         "textposition": "auto",
         "type": "bar",
         "x": [
          921654
         ],
         "xaxis": "x",
         "y": [
          "Ege"
         ],
         "yaxis": "y"
        },
        {
         "alignmentgroup": "True",
         "hovertemplate": "city-şehir=Mardin<br>total-toplam=%{x}<br>Bölge-Region=%{y}<extra></extra>",
         "legendgroup": "Mardin",
         "marker": {
          "color": "#FF6692",
          "pattern": {
           "shape": ""
          }
         },
         "name": "Mardin",
         "offsetgroup": "Mardin",
         "orientation": "h",
         "showlegend": true,
         "textposition": "auto",
         "type": "bar",
         "x": [
          177609
         ],
         "xaxis": "x",
         "y": [
          "Güneydoğu Anadolu"
         ],
         "yaxis": "y"
        },
        {
         "alignmentgroup": "True",
         "hovertemplate": "city-şehir=Mersin<br>total-toplam=%{x}<br>Bölge-Region=%{y}<extra></extra>",
         "legendgroup": "Mersin",
         "marker": {
          "color": "#B6E880",
          "pattern": {
           "shape": ""
          }
         },
         "name": "Mersin",
         "offsetgroup": "Mersin",
         "orientation": "h",
         "showlegend": true,
         "textposition": "auto",
         "type": "bar",
         "x": [
          1080427
         ],
         "xaxis": "x",
         "y": [
          "Akdeniz"
         ],
         "yaxis": "y"
        },
        {
         "alignmentgroup": "True",
         "hovertemplate": "city-şehir=Muğla<br>total-toplam=%{x}<br>Bölge-Region=%{y}<extra></extra>",
         "legendgroup": "Muğla",
         "marker": {
          "color": "#FF97FF",
          "pattern": {
           "shape": ""
          }
         },
         "name": "Muğla",
         "offsetgroup": "Muğla",
         "orientation": "h",
         "showlegend": true,
         "textposition": "auto",
         "type": "bar",
         "x": [
          865620
         ],
         "xaxis": "x",
         "y": [
          "Ege"
         ],
         "yaxis": "y"
        },
        {
         "alignmentgroup": "True",
         "hovertemplate": "city-şehir=Muş<br>total-toplam=%{x}<br>Bölge-Region=%{y}<extra></extra>",
         "legendgroup": "Muş",
         "marker": {
          "color": "#FECB52",
          "pattern": {
           "shape": ""
          }
         },
         "name": "Muş",
         "offsetgroup": "Muş",
         "orientation": "h",
         "showlegend": true,
         "textposition": "auto",
         "type": "bar",
         "x": [
          91243
         ],
         "xaxis": "x",
         "y": [
          "Doğu Anadolu"
         ],
         "yaxis": "y"
        },
        {
         "alignmentgroup": "True",
         "hovertemplate": "city-şehir=Nevşehir<br>total-toplam=%{x}<br>Bölge-Region=%{y}<extra></extra>",
         "legendgroup": "Nevşehir",
         "marker": {
          "color": "#636efa",
          "pattern": {
           "shape": ""
          }
         },
         "name": "Nevşehir",
         "offsetgroup": "Nevşehir",
         "orientation": "h",
         "showlegend": true,
         "textposition": "auto",
         "type": "bar",
         "x": [
          182025
         ],
         "xaxis": "x",
         "y": [
          "İç Anadolu"
         ],
         "yaxis": "y"
        },
        {
         "alignmentgroup": "True",
         "hovertemplate": "city-şehir=Niğde<br>total-toplam=%{x}<br>Bölge-Region=%{y}<extra></extra>",
         "legendgroup": "Niğde",
         "marker": {
          "color": "#EF553B",
          "pattern": {
           "shape": ""
          }
         },
         "name": "Niğde",
         "offsetgroup": "Niğde",
         "orientation": "h",
         "showlegend": true,
         "textposition": "auto",
         "type": "bar",
         "x": [
          183531
         ],
         "xaxis": "x",
         "y": [
          "İç Anadolu"
         ],
         "yaxis": "y"
        },
        {
         "alignmentgroup": "True",
         "hovertemplate": "city-şehir=Ordu<br>total-toplam=%{x}<br>Bölge-Region=%{y}<extra></extra>",
         "legendgroup": "Ordu",
         "marker": {
          "color": "#00cc96",
          "pattern": {
           "shape": ""
          }
         },
         "name": "Ordu",
         "offsetgroup": "Ordu",
         "orientation": "h",
         "showlegend": true,
         "textposition": "auto",
         "type": "bar",
         "x": [
          539515
         ],
         "xaxis": "x",
         "y": [
          "Karadeniz"
         ],
         "yaxis": "y"
        },
        {
         "alignmentgroup": "True",
         "hovertemplate": "city-şehir=Osmaniye<br>total-toplam=%{x}<br>Bölge-Region=%{y}<extra></extra>",
         "legendgroup": "Osmaniye",
         "marker": {
          "color": "#ab63fa",
          "pattern": {
           "shape": ""
          }
         },
         "name": "Osmaniye",
         "offsetgroup": "Osmaniye",
         "orientation": "h",
         "showlegend": true,
         "textposition": "auto",
         "type": "bar",
         "x": [
          294010
         ],
         "xaxis": "x",
         "y": [
          "Akdeniz"
         ],
         "yaxis": "y"
        },
        {
         "alignmentgroup": "True",
         "hovertemplate": "city-şehir=Rize<br>total-toplam=%{x}<br>Bölge-Region=%{y}<extra></extra>",
         "legendgroup": "Rize",
         "marker": {
          "color": "#FFA15A",
          "pattern": {
           "shape": ""
          }
         },
         "name": "Rize",
         "offsetgroup": "Rize",
         "orientation": "h",
         "showlegend": true,
         "textposition": "auto",
         "type": "bar",
         "x": [
          223962
         ],
         "xaxis": "x",
         "y": [
          "Karadeniz"
         ],
         "yaxis": "y"
        },
        {
         "alignmentgroup": "True",
         "hovertemplate": "city-şehir=Sakarya<br>total-toplam=%{x}<br>Bölge-Region=%{y}<extra></extra>",
         "legendgroup": "Sakarya",
         "marker": {
          "color": "#19d3f3",
          "pattern": {
           "shape": ""
          }
         },
         "name": "Sakarya",
         "offsetgroup": "Sakarya",
         "orientation": "h",
         "showlegend": true,
         "textposition": "auto",
         "type": "bar",
         "x": [
          580524
         ],
         "xaxis": "x",
         "y": [
          "Marmara"
         ],
         "yaxis": "y"
        },
        {
         "alignmentgroup": "True",
         "hovertemplate": "city-şehir=Samsun<br>total-toplam=%{x}<br>Bölge-Region=%{y}<extra></extra>",
         "legendgroup": "Samsun",
         "marker": {
          "color": "#FF6692",
          "pattern": {
           "shape": ""
          }
         },
         "name": "Samsun",
         "offsetgroup": "Samsun",
         "orientation": "h",
         "showlegend": true,
         "textposition": "auto",
         "type": "bar",
         "x": [
          855399
         ],
         "xaxis": "x",
         "y": [
          "Karadeniz"
         ],
         "yaxis": "y"
        },
        {
         "alignmentgroup": "True",
         "hovertemplate": "city-şehir=Siirt<br>total-toplam=%{x}<br>Bölge-Region=%{y}<extra></extra>",
         "legendgroup": "Siirt",
         "marker": {
          "color": "#B6E880",
          "pattern": {
           "shape": ""
          }
         },
         "name": "Siirt",
         "offsetgroup": "Siirt",
         "orientation": "h",
         "showlegend": true,
         "textposition": "auto",
         "type": "bar",
         "x": [
          65203
         ],
         "xaxis": "x",
         "y": [
          "Güneydoğu Anadolu"
         ],
         "yaxis": "y"
        },
        {
         "alignmentgroup": "True",
         "hovertemplate": "city-şehir=Sinop<br>total-toplam=%{x}<br>Bölge-Region=%{y}<extra></extra>",
         "legendgroup": "Sinop",
         "marker": {
          "color": "#FF97FF",
          "pattern": {
           "shape": ""
          }
         },
         "name": "Sinop",
         "offsetgroup": "Sinop",
         "orientation": "h",
         "showlegend": true,
         "textposition": "auto",
         "type": "bar",
         "x": [
          166394
         ],
         "xaxis": "x",
         "y": [
          "Karadeniz"
         ],
         "yaxis": "y"
        },
        {
         "alignmentgroup": "True",
         "hovertemplate": "city-şehir=Sivas<br>total-toplam=%{x}<br>Bölge-Region=%{y}<extra></extra>",
         "legendgroup": "Sivas",
         "marker": {
          "color": "#FECB52",
          "pattern": {
           "shape": ""
          }
         },
         "name": "Sivas",
         "offsetgroup": "Sivas",
         "orientation": "h",
         "showlegend": true,
         "textposition": "auto",
         "type": "bar",
         "x": [
          371178
         ],
         "xaxis": "x",
         "y": [
          "İç Anadolu"
         ],
         "yaxis": "y"
        },
        {
         "alignmentgroup": "True",
         "hovertemplate": "city-şehir=Şanlıurfa<br>total-toplam=%{x}<br>Bölge-Region=%{y}<extra></extra>",
         "legendgroup": "Şanlıurfa",
         "marker": {
          "color": "#636efa",
          "pattern": {
           "shape": ""
          }
         },
         "name": "Şanlıurfa",
         "offsetgroup": "Şanlıurfa",
         "orientation": "h",
         "showlegend": true,
         "textposition": "auto",
         "type": "bar",
         "x": [
          375928
         ],
         "xaxis": "x",
         "y": [
          "Güneydoğu Anadolu"
         ],
         "yaxis": "y"
        },
        {
         "alignmentgroup": "True",
         "hovertemplate": "city-şehir=Şırnak<br>total-toplam=%{x}<br>Bölge-Region=%{y}<extra></extra>",
         "legendgroup": "Şırnak",
         "marker": {
          "color": "#EF553B",
          "pattern": {
           "shape": ""
          }
         },
         "name": "Şırnak",
         "offsetgroup": "Şırnak",
         "orientation": "h",
         "showlegend": true,
         "textposition": "auto",
         "type": "bar",
         "x": [
          96097
         ],
         "xaxis": "x",
         "y": [
          "Güneydoğu Anadolu"
         ],
         "yaxis": "y"
        },
        {
         "alignmentgroup": "True",
         "hovertemplate": "city-şehir=Tekirdağ<br>total-toplam=%{x}<br>Bölge-Region=%{y}<extra></extra>",
         "legendgroup": "Tekirdağ",
         "marker": {
          "color": "#00cc96",
          "pattern": {
           "shape": ""
          }
         },
         "name": "Tekirdağ",
         "offsetgroup": "Tekirdağ",
         "orientation": "h",
         "showlegend": true,
         "textposition": "auto",
         "type": "bar",
         "x": [
          685872
         ],
         "xaxis": "x",
         "y": [
          "Marmara"
         ],
         "yaxis": "y"
        },
        {
         "alignmentgroup": "True",
         "hovertemplate": "city-şehir=Tokat<br>total-toplam=%{x}<br>Bölge-Region=%{y}<extra></extra>",
         "legendgroup": "Tokat",
         "marker": {
          "color": "#ab63fa",
          "pattern": {
           "shape": ""
          }
         },
         "name": "Tokat",
         "offsetgroup": "Tokat",
         "orientation": "h",
         "showlegend": true,
         "textposition": "auto",
         "type": "bar",
         "x": [
          387708
         ],
         "xaxis": "x",
         "y": [
          "Karadeniz"
         ],
         "yaxis": "y"
        },
        {
         "alignmentgroup": "True",
         "hovertemplate": "city-şehir=Trabzon<br>total-toplam=%{x}<br>Bölge-Region=%{y}<extra></extra>",
         "legendgroup": "Trabzon",
         "marker": {
          "color": "#FFA15A",
          "pattern": {
           "shape": ""
          }
         },
         "name": "Trabzon",
         "offsetgroup": "Trabzon",
         "orientation": "h",
         "showlegend": true,
         "textposition": "auto",
         "type": "bar",
         "x": [
          528361
         ],
         "xaxis": "x",
         "y": [
          "Karadeniz"
         ],
         "yaxis": "y"
        },
        {
         "alignmentgroup": "True",
         "hovertemplate": "city-şehir=Tunceli<br>total-toplam=%{x}<br>Bölge-Region=%{y}<extra></extra>",
         "legendgroup": "Tunceli",
         "marker": {
          "color": "#19d3f3",
          "pattern": {
           "shape": ""
          }
         },
         "name": "Tunceli",
         "offsetgroup": "Tunceli",
         "orientation": "h",
         "showlegend": true,
         "textposition": "auto",
         "type": "bar",
         "x": [
          64109
         ],
         "xaxis": "x",
         "y": [
          "Doğu Anadolu"
         ],
         "yaxis": "y"
        },
        {
         "alignmentgroup": "True",
         "hovertemplate": "city-şehir=Uşak<br>total-toplam=%{x}<br>Bölge-Region=%{y}<extra></extra>",
         "legendgroup": "Uşak",
         "marker": {
          "color": "#FF6692",
          "pattern": {
           "shape": ""
          }
         },
         "name": "Uşak",
         "offsetgroup": "Uşak",
         "orientation": "h",
         "showlegend": true,
         "textposition": "auto",
         "type": "bar",
         "x": [
          250214
         ],
         "xaxis": "x",
         "y": [
          "Ege"
         ],
         "yaxis": "y"
        },
        {
         "alignmentgroup": "True",
         "hovertemplate": "city-şehir=Van<br>total-toplam=%{x}<br>Bölge-Region=%{y}<extra></extra>",
         "legendgroup": "Van",
         "marker": {
          "color": "#B6E880",
          "pattern": {
           "shape": ""
          }
         },
         "name": "Van",
         "offsetgroup": "Van",
         "orientation": "h",
         "showlegend": true,
         "textposition": "auto",
         "type": "bar",
         "x": [
          327849
         ],
         "xaxis": "x",
         "y": [
          "Doğu Anadolu"
         ],
         "yaxis": "y"
        },
        {
         "alignmentgroup": "True",
         "hovertemplate": "city-şehir=Yalova<br>total-toplam=%{x}<br>Bölge-Region=%{y}<extra></extra>",
         "legendgroup": "Yalova",
         "marker": {
          "color": "#FF97FF",
          "pattern": {
           "shape": ""
          }
         },
         "name": "Yalova",
         "offsetgroup": "Yalova",
         "orientation": "h",
         "showlegend": true,
         "textposition": "auto",
         "type": "bar",
         "x": [
          195808
         ],
         "xaxis": "x",
         "y": [
          "Marmara"
         ],
         "yaxis": "y"
        },
        {
         "alignmentgroup": "True",
         "hovertemplate": "city-şehir=Yozgat<br>total-toplam=%{x}<br>Bölge-Region=%{y}<extra></extra>",
         "legendgroup": "Yozgat",
         "marker": {
          "color": "#FECB52",
          "pattern": {
           "shape": ""
          }
         },
         "name": "Yozgat",
         "offsetgroup": "Yozgat",
         "orientation": "h",
         "showlegend": true,
         "textposition": "auto",
         "type": "bar",
         "x": [
          233749
         ],
         "xaxis": "x",
         "y": [
          "İç Anadolu"
         ],
         "yaxis": "y"
        },
        {
         "alignmentgroup": "True",
         "hovertemplate": "city-şehir=Zonguldak<br>total-toplam=%{x}<br>Bölge-Region=%{y}<extra></extra>",
         "legendgroup": "Zonguldak",
         "marker": {
          "color": "#636efa",
          "pattern": {
           "shape": ""
          }
         },
         "name": "Zonguldak",
         "offsetgroup": "Zonguldak",
         "orientation": "h",
         "showlegend": true,
         "textposition": "auto",
         "type": "bar",
         "x": [
          414815
         ],
         "xaxis": "x",
         "y": [
          "Karadeniz"
         ],
         "yaxis": "y"
        }
       ],
       "layout": {
        "barmode": "relative",
        "legend": {
         "title": {
          "text": "city-şehir"
         },
         "tracegroupgap": 0
        },
        "template": {
         "data": {
          "bar": [
           {
            "error_x": {
             "color": "#2a3f5f"
            },
            "error_y": {
             "color": "#2a3f5f"
            },
            "marker": {
             "line": {
              "color": "#E5ECF6",
              "width": 0.5
             },
             "pattern": {
              "fillmode": "overlay",
              "size": 10,
              "solidity": 0.2
             }
            },
            "type": "bar"
           }
          ],
          "barpolar": [
           {
            "marker": {
             "line": {
              "color": "#E5ECF6",
              "width": 0.5
             },
             "pattern": {
              "fillmode": "overlay",
              "size": 10,
              "solidity": 0.2
             }
            },
            "type": "barpolar"
           }
          ],
          "carpet": [
           {
            "aaxis": {
             "endlinecolor": "#2a3f5f",
             "gridcolor": "white",
             "linecolor": "white",
             "minorgridcolor": "white",
             "startlinecolor": "#2a3f5f"
            },
            "baxis": {
             "endlinecolor": "#2a3f5f",
             "gridcolor": "white",
             "linecolor": "white",
             "minorgridcolor": "white",
             "startlinecolor": "#2a3f5f"
            },
            "type": "carpet"
           }
          ],
          "choropleth": [
           {
            "colorbar": {
             "outlinewidth": 0,
             "ticks": ""
            },
            "type": "choropleth"
           }
          ],
          "contour": [
           {
            "colorbar": {
             "outlinewidth": 0,
             "ticks": ""
            },
            "colorscale": [
             [
              0,
              "#0d0887"
             ],
             [
              0.1111111111111111,
              "#46039f"
             ],
             [
              0.2222222222222222,
              "#7201a8"
             ],
             [
              0.3333333333333333,
              "#9c179e"
             ],
             [
              0.4444444444444444,
              "#bd3786"
             ],
             [
              0.5555555555555556,
              "#d8576b"
             ],
             [
              0.6666666666666666,
              "#ed7953"
             ],
             [
              0.7777777777777778,
              "#fb9f3a"
             ],
             [
              0.8888888888888888,
              "#fdca26"
             ],
             [
              1,
              "#f0f921"
             ]
            ],
            "type": "contour"
           }
          ],
          "contourcarpet": [
           {
            "colorbar": {
             "outlinewidth": 0,
             "ticks": ""
            },
            "type": "contourcarpet"
           }
          ],
          "heatmap": [
           {
            "colorbar": {
             "outlinewidth": 0,
             "ticks": ""
            },
            "colorscale": [
             [
              0,
              "#0d0887"
             ],
             [
              0.1111111111111111,
              "#46039f"
             ],
             [
              0.2222222222222222,
              "#7201a8"
             ],
             [
              0.3333333333333333,
              "#9c179e"
             ],
             [
              0.4444444444444444,
              "#bd3786"
             ],
             [
              0.5555555555555556,
              "#d8576b"
             ],
             [
              0.6666666666666666,
              "#ed7953"
             ],
             [
              0.7777777777777778,
              "#fb9f3a"
             ],
             [
              0.8888888888888888,
              "#fdca26"
             ],
             [
              1,
              "#f0f921"
             ]
            ],
            "type": "heatmap"
           }
          ],
          "heatmapgl": [
           {
            "colorbar": {
             "outlinewidth": 0,
             "ticks": ""
            },
            "colorscale": [
             [
              0,
              "#0d0887"
             ],
             [
              0.1111111111111111,
              "#46039f"
             ],
             [
              0.2222222222222222,
              "#7201a8"
             ],
             [
              0.3333333333333333,
              "#9c179e"
             ],
             [
              0.4444444444444444,
              "#bd3786"
             ],
             [
              0.5555555555555556,
              "#d8576b"
             ],
             [
              0.6666666666666666,
              "#ed7953"
             ],
             [
              0.7777777777777778,
              "#fb9f3a"
             ],
             [
              0.8888888888888888,
              "#fdca26"
             ],
             [
              1,
              "#f0f921"
             ]
            ],
            "type": "heatmapgl"
           }
          ],
          "histogram": [
           {
            "marker": {
             "pattern": {
              "fillmode": "overlay",
              "size": 10,
              "solidity": 0.2
             }
            },
            "type": "histogram"
           }
          ],
          "histogram2d": [
           {
            "colorbar": {
             "outlinewidth": 0,
             "ticks": ""
            },
            "colorscale": [
             [
              0,
              "#0d0887"
             ],
             [
              0.1111111111111111,
              "#46039f"
             ],
             [
              0.2222222222222222,
              "#7201a8"
             ],
             [
              0.3333333333333333,
              "#9c179e"
             ],
             [
              0.4444444444444444,
              "#bd3786"
             ],
             [
              0.5555555555555556,
              "#d8576b"
             ],
             [
              0.6666666666666666,
              "#ed7953"
             ],
             [
              0.7777777777777778,
              "#fb9f3a"
             ],
             [
              0.8888888888888888,
              "#fdca26"
             ],
             [
              1,
              "#f0f921"
             ]
            ],
            "type": "histogram2d"
           }
          ],
          "histogram2dcontour": [
           {
            "colorbar": {
             "outlinewidth": 0,
             "ticks": ""
            },
            "colorscale": [
             [
              0,
              "#0d0887"
             ],
             [
              0.1111111111111111,
              "#46039f"
             ],
             [
              0.2222222222222222,
              "#7201a8"
             ],
             [
              0.3333333333333333,
              "#9c179e"
             ],
             [
              0.4444444444444444,
              "#bd3786"
             ],
             [
              0.5555555555555556,
              "#d8576b"
             ],
             [
              0.6666666666666666,
              "#ed7953"
             ],
             [
              0.7777777777777778,
              "#fb9f3a"
             ],
             [
              0.8888888888888888,
              "#fdca26"
             ],
             [
              1,
              "#f0f921"
             ]
            ],
            "type": "histogram2dcontour"
           }
          ],
          "mesh3d": [
           {
            "colorbar": {
             "outlinewidth": 0,
             "ticks": ""
            },
            "type": "mesh3d"
           }
          ],
          "parcoords": [
           {
            "line": {
             "colorbar": {
              "outlinewidth": 0,
              "ticks": ""
             }
            },
            "type": "parcoords"
           }
          ],
          "pie": [
           {
            "automargin": true,
            "type": "pie"
           }
          ],
          "scatter": [
           {
            "marker": {
             "colorbar": {
              "outlinewidth": 0,
              "ticks": ""
             }
            },
            "type": "scatter"
           }
          ],
          "scatter3d": [
           {
            "line": {
             "colorbar": {
              "outlinewidth": 0,
              "ticks": ""
             }
            },
            "marker": {
             "colorbar": {
              "outlinewidth": 0,
              "ticks": ""
             }
            },
            "type": "scatter3d"
           }
          ],
          "scattercarpet": [
           {
            "marker": {
             "colorbar": {
              "outlinewidth": 0,
              "ticks": ""
             }
            },
            "type": "scattercarpet"
           }
          ],
          "scattergeo": [
           {
            "marker": {
             "colorbar": {
              "outlinewidth": 0,
              "ticks": ""
             }
            },
            "type": "scattergeo"
           }
          ],
          "scattergl": [
           {
            "marker": {
             "colorbar": {
              "outlinewidth": 0,
              "ticks": ""
             }
            },
            "type": "scattergl"
           }
          ],
          "scattermapbox": [
           {
            "marker": {
             "colorbar": {
              "outlinewidth": 0,
              "ticks": ""
             }
            },
            "type": "scattermapbox"
           }
          ],
          "scatterpolar": [
           {
            "marker": {
             "colorbar": {
              "outlinewidth": 0,
              "ticks": ""
             }
            },
            "type": "scatterpolar"
           }
          ],
          "scatterpolargl": [
           {
            "marker": {
             "colorbar": {
              "outlinewidth": 0,
              "ticks": ""
             }
            },
            "type": "scatterpolargl"
           }
          ],
          "scatterternary": [
           {
            "marker": {
             "colorbar": {
              "outlinewidth": 0,
              "ticks": ""
             }
            },
            "type": "scatterternary"
           }
          ],
          "surface": [
           {
            "colorbar": {
             "outlinewidth": 0,
             "ticks": ""
            },
            "colorscale": [
             [
              0,
              "#0d0887"
             ],
             [
              0.1111111111111111,
              "#46039f"
             ],
             [
              0.2222222222222222,
              "#7201a8"
             ],
             [
              0.3333333333333333,
              "#9c179e"
             ],
             [
              0.4444444444444444,
              "#bd3786"
             ],
             [
              0.5555555555555556,
              "#d8576b"
             ],
             [
              0.6666666666666666,
              "#ed7953"
             ],
             [
              0.7777777777777778,
              "#fb9f3a"
             ],
             [
              0.8888888888888888,
              "#fdca26"
             ],
             [
              1,
              "#f0f921"
             ]
            ],
            "type": "surface"
           }
          ],
          "table": [
           {
            "cells": {
             "fill": {
              "color": "#EBF0F8"
             },
             "line": {
              "color": "white"
             }
            },
            "header": {
             "fill": {
              "color": "#C8D4E3"
             },
             "line": {
              "color": "white"
             }
            },
            "type": "table"
           }
          ]
         },
         "layout": {
          "annotationdefaults": {
           "arrowcolor": "#2a3f5f",
           "arrowhead": 0,
           "arrowwidth": 1
          },
          "autotypenumbers": "strict",
          "coloraxis": {
           "colorbar": {
            "outlinewidth": 0,
            "ticks": ""
           }
          },
          "colorscale": {
           "diverging": [
            [
             0,
             "#8e0152"
            ],
            [
             0.1,
             "#c51b7d"
            ],
            [
             0.2,
             "#de77ae"
            ],
            [
             0.3,
             "#f1b6da"
            ],
            [
             0.4,
             "#fde0ef"
            ],
            [
             0.5,
             "#f7f7f7"
            ],
            [
             0.6,
             "#e6f5d0"
            ],
            [
             0.7,
             "#b8e186"
            ],
            [
             0.8,
             "#7fbc41"
            ],
            [
             0.9,
             "#4d9221"
            ],
            [
             1,
             "#276419"
            ]
           ],
           "sequential": [
            [
             0,
             "#0d0887"
            ],
            [
             0.1111111111111111,
             "#46039f"
            ],
            [
             0.2222222222222222,
             "#7201a8"
            ],
            [
             0.3333333333333333,
             "#9c179e"
            ],
            [
             0.4444444444444444,
             "#bd3786"
            ],
            [
             0.5555555555555556,
             "#d8576b"
            ],
            [
             0.6666666666666666,
             "#ed7953"
            ],
            [
             0.7777777777777778,
             "#fb9f3a"
            ],
            [
             0.8888888888888888,
             "#fdca26"
            ],
            [
             1,
             "#f0f921"
            ]
           ],
           "sequentialminus": [
            [
             0,
             "#0d0887"
            ],
            [
             0.1111111111111111,
             "#46039f"
            ],
            [
             0.2222222222222222,
             "#7201a8"
            ],
            [
             0.3333333333333333,
             "#9c179e"
            ],
            [
             0.4444444444444444,
             "#bd3786"
            ],
            [
             0.5555555555555556,
             "#d8576b"
            ],
            [
             0.6666666666666666,
             "#ed7953"
            ],
            [
             0.7777777777777778,
             "#fb9f3a"
            ],
            [
             0.8888888888888888,
             "#fdca26"
            ],
            [
             1,
             "#f0f921"
            ]
           ]
          },
          "colorway": [
           "#636efa",
           "#EF553B",
           "#00cc96",
           "#ab63fa",
           "#FFA15A",
           "#19d3f3",
           "#FF6692",
           "#B6E880",
           "#FF97FF",
           "#FECB52"
          ],
          "font": {
           "color": "#2a3f5f"
          },
          "geo": {
           "bgcolor": "white",
           "lakecolor": "white",
           "landcolor": "#E5ECF6",
           "showlakes": true,
           "showland": true,
           "subunitcolor": "white"
          },
          "hoverlabel": {
           "align": "left"
          },
          "hovermode": "closest",
          "mapbox": {
           "style": "light"
          },
          "paper_bgcolor": "white",
          "plot_bgcolor": "#E5ECF6",
          "polar": {
           "angularaxis": {
            "gridcolor": "white",
            "linecolor": "white",
            "ticks": ""
           },
           "bgcolor": "#E5ECF6",
           "radialaxis": {
            "gridcolor": "white",
            "linecolor": "white",
            "ticks": ""
           }
          },
          "scene": {
           "xaxis": {
            "backgroundcolor": "#E5ECF6",
            "gridcolor": "white",
            "gridwidth": 2,
            "linecolor": "white",
            "showbackground": true,
            "ticks": "",
            "zerolinecolor": "white"
           },
           "yaxis": {
            "backgroundcolor": "#E5ECF6",
            "gridcolor": "white",
            "gridwidth": 2,
            "linecolor": "white",
            "showbackground": true,
            "ticks": "",
            "zerolinecolor": "white"
           },
           "zaxis": {
            "backgroundcolor": "#E5ECF6",
            "gridcolor": "white",
            "gridwidth": 2,
            "linecolor": "white",
            "showbackground": true,
            "ticks": "",
            "zerolinecolor": "white"
           }
          },
          "shapedefaults": {
           "line": {
            "color": "#2a3f5f"
           }
          },
          "ternary": {
           "aaxis": {
            "gridcolor": "white",
            "linecolor": "white",
            "ticks": ""
           },
           "baxis": {
            "gridcolor": "white",
            "linecolor": "white",
            "ticks": ""
           },
           "bgcolor": "#E5ECF6",
           "caxis": {
            "gridcolor": "white",
            "linecolor": "white",
            "ticks": ""
           }
          },
          "title": {
           "x": 0.05
          },
          "xaxis": {
           "automargin": true,
           "gridcolor": "white",
           "linecolor": "white",
           "ticks": "",
           "title": {
            "standoff": 15
           },
           "zerolinecolor": "white",
           "zerolinewidth": 2
          },
          "yaxis": {
           "automargin": true,
           "gridcolor": "white",
           "linecolor": "white",
           "ticks": "",
           "title": {
            "standoff": 15
           },
           "zerolinecolor": "white",
           "zerolinewidth": 2
          }
         }
        },
        "title": {
         "text": "Completed total of Vaccine as of June 26 - 26 Haziran'da tamamlanan toplam aşı "
        },
        "xaxis": {
         "anchor": "y",
         "domain": [
          0,
          1
         ],
         "title": {
          "text": "total-toplam"
         }
        },
        "yaxis": {
         "anchor": "x",
         "domain": [
          0,
          1
         ],
         "title": {
          "text": "Bölge-Region"
         }
        }
       }
      },
      "text/html": [
       "<div>                            <div id=\"aedaab50-8008-4034-8649-bb1dab9d324a\" class=\"plotly-graph-div\" style=\"height:525px; width:100%;\"></div>            <script type=\"text/javascript\">                require([\"plotly\"], function(Plotly) {                    window.PLOTLYENV=window.PLOTLYENV || {};                                    if (document.getElementById(\"aedaab50-8008-4034-8649-bb1dab9d324a\")) {                    Plotly.newPlot(                        \"aedaab50-8008-4034-8649-bb1dab9d324a\",                        [{\"alignmentgroup\":\"True\",\"hovertemplate\":\"city-\\u015fehir=Adana<br>total-toplam=%{x}<br>B\\u00f6lge-Region=%{y}<extra></extra>\",\"legendgroup\":\"Adana\",\"marker\":{\"color\":\"#636efa\",\"pattern\":{\"shape\":\"\"}},\"name\":\"Adana\",\"offsetgroup\":\"Adana\",\"orientation\":\"h\",\"showlegend\":true,\"textposition\":\"auto\",\"type\":\"bar\",\"x\":[1139868],\"xaxis\":\"x\",\"y\":[\"Akdeniz\"],\"yaxis\":\"y\"},{\"alignmentgroup\":\"True\",\"hovertemplate\":\"city-\\u015fehir=Ad\\u0131yaman<br>total-toplam=%{x}<br>B\\u00f6lge-Region=%{y}<extra></extra>\",\"legendgroup\":\"Ad\\u0131yaman\",\"marker\":{\"color\":\"#EF553B\",\"pattern\":{\"shape\":\"\"}},\"name\":\"Ad\\u0131yaman\",\"offsetgroup\":\"Ad\\u0131yaman\",\"orientation\":\"h\",\"showlegend\":true,\"textposition\":\"auto\",\"type\":\"bar\",\"x\":[248802],\"xaxis\":\"x\",\"y\":[\"G\\u00fcneydo\\u011fu Anadolu\"],\"yaxis\":\"y\"},{\"alignmentgroup\":\"True\",\"hovertemplate\":\"city-\\u015fehir=Afyonkarahisar<br>total-toplam=%{x}<br>B\\u00f6lge-Region=%{y}<extra></extra>\",\"legendgroup\":\"Afyonkarahisar\",\"marker\":{\"color\":\"#00cc96\",\"pattern\":{\"shape\":\"\"}},\"name\":\"Afyonkarahisar\",\"offsetgroup\":\"Afyonkarahisar\",\"orientation\":\"h\",\"showlegend\":true,\"textposition\":\"auto\",\"type\":\"bar\",\"x\":[431545],\"xaxis\":\"x\",\"y\":[\"Ege\"],\"yaxis\":\"y\"},{\"alignmentgroup\":\"True\",\"hovertemplate\":\"city-\\u015fehir=A\\u011fr\\u0131<br>total-toplam=%{x}<br>B\\u00f6lge-Region=%{y}<extra></extra>\",\"legendgroup\":\"A\\u011fr\\u0131\",\"marker\":{\"color\":\"#ab63fa\",\"pattern\":{\"shape\":\"\"}},\"name\":\"A\\u011fr\\u0131\",\"offsetgroup\":\"A\\u011fr\\u0131\",\"orientation\":\"h\",\"showlegend\":true,\"textposition\":\"auto\",\"type\":\"bar\",\"x\":[135953],\"xaxis\":\"x\",\"y\":[\"Do\\u011fu Anadolu\"],\"yaxis\":\"y\"},{\"alignmentgroup\":\"True\",\"hovertemplate\":\"city-\\u015fehir=Aksaray<br>total-toplam=%{x}<br>B\\u00f6lge-Region=%{y}<extra></extra>\",\"legendgroup\":\"Aksaray\",\"marker\":{\"color\":\"#FFA15A\",\"pattern\":{\"shape\":\"\"}},\"name\":\"Aksaray\",\"offsetgroup\":\"Aksaray\",\"orientation\":\"h\",\"showlegend\":true,\"textposition\":\"auto\",\"type\":\"bar\",\"x\":[194492],\"xaxis\":\"x\",\"y\":[\"\\u0130\\u00e7 Anadolu\"],\"yaxis\":\"y\"},{\"alignmentgroup\":\"True\",\"hovertemplate\":\"city-\\u015fehir=Amasya<br>total-toplam=%{x}<br>B\\u00f6lge-Region=%{y}<extra></extra>\",\"legendgroup\":\"Amasya\",\"marker\":{\"color\":\"#19d3f3\",\"pattern\":{\"shape\":\"\"}},\"name\":\"Amasya\",\"offsetgroup\":\"Amasya\",\"orientation\":\"h\",\"showlegend\":true,\"textposition\":\"auto\",\"type\":\"bar\",\"x\":[256607],\"xaxis\":\"x\",\"y\":[\"Karadeniz\"],\"yaxis\":\"y\"},{\"alignmentgroup\":\"True\",\"hovertemplate\":\"city-\\u015fehir=Ankara<br>total-toplam=%{x}<br>B\\u00f6lge-Region=%{y}<extra></extra>\",\"legendgroup\":\"Ankara\",\"marker\":{\"color\":\"#FF6692\",\"pattern\":{\"shape\":\"\"}},\"name\":\"Ankara\",\"offsetgroup\":\"Ankara\",\"orientation\":\"h\",\"showlegend\":true,\"textposition\":\"auto\",\"type\":\"bar\",\"x\":[3893991],\"xaxis\":\"x\",\"y\":[\"\\u0130\\u00e7 Anadolu\"],\"yaxis\":\"y\"},{\"alignmentgroup\":\"True\",\"hovertemplate\":\"city-\\u015fehir=Antalya<br>total-toplam=%{x}<br>B\\u00f6lge-Region=%{y}<extra></extra>\",\"legendgroup\":\"Antalya\",\"marker\":{\"color\":\"#B6E880\",\"pattern\":{\"shape\":\"\"}},\"name\":\"Antalya\",\"offsetgroup\":\"Antalya\",\"orientation\":\"h\",\"showlegend\":true,\"textposition\":\"auto\",\"type\":\"bar\",\"x\":[1585765],\"xaxis\":\"x\",\"y\":[\"Akdeniz\"],\"yaxis\":\"y\"},{\"alignmentgroup\":\"True\",\"hovertemplate\":\"city-\\u015fehir=Ardahan<br>total-toplam=%{x}<br>B\\u00f6lge-Region=%{y}<extra></extra>\",\"legendgroup\":\"Ardahan\",\"marker\":{\"color\":\"#FF97FF\",\"pattern\":{\"shape\":\"\"}},\"name\":\"Ardahan\",\"offsetgroup\":\"Ardahan\",\"orientation\":\"h\",\"showlegend\":true,\"textposition\":\"auto\",\"type\":\"bar\",\"x\":[53271],\"xaxis\":\"x\",\"y\":[\"Do\\u011fu Anadolu\"],\"yaxis\":\"y\"},{\"alignmentgroup\":\"True\",\"hovertemplate\":\"city-\\u015fehir=Artvin<br>total-toplam=%{x}<br>B\\u00f6lge-Region=%{y}<extra></extra>\",\"legendgroup\":\"Artvin\",\"marker\":{\"color\":\"#FECB52\",\"pattern\":{\"shape\":\"\"}},\"name\":\"Artvin\",\"offsetgroup\":\"Artvin\",\"orientation\":\"h\",\"showlegend\":true,\"textposition\":\"auto\",\"type\":\"bar\",\"x\":[123686],\"xaxis\":\"x\",\"y\":[\"Karadeniz\"],\"yaxis\":\"y\"},{\"alignmentgroup\":\"True\",\"hovertemplate\":\"city-\\u015fehir=Ayd\\u0131n<br>total-toplam=%{x}<br>B\\u00f6lge-Region=%{y}<extra></extra>\",\"legendgroup\":\"Ayd\\u0131n\",\"marker\":{\"color\":\"#636efa\",\"pattern\":{\"shape\":\"\"}},\"name\":\"Ayd\\u0131n\",\"offsetgroup\":\"Ayd\\u0131n\",\"orientation\":\"h\",\"showlegend\":true,\"textposition\":\"auto\",\"type\":\"bar\",\"x\":[849015],\"xaxis\":\"x\",\"y\":[\"Ege\"],\"yaxis\":\"y\"},{\"alignmentgroup\":\"True\",\"hovertemplate\":\"city-\\u015fehir=Bal\\u0131kesir<br>total-toplam=%{x}<br>B\\u00f6lge-Region=%{y}<extra></extra>\",\"legendgroup\":\"Bal\\u0131kesir\",\"marker\":{\"color\":\"#EF553B\",\"pattern\":{\"shape\":\"\"}},\"name\":\"Bal\\u0131kesir\",\"offsetgroup\":\"Bal\\u0131kesir\",\"orientation\":\"h\",\"showlegend\":true,\"textposition\":\"auto\",\"type\":\"bar\",\"x\":[1020497],\"xaxis\":\"x\",\"y\":[\"Marmara\"],\"yaxis\":\"y\"},{\"alignmentgroup\":\"True\",\"hovertemplate\":\"city-\\u015fehir=Bart\\u0131n<br>total-toplam=%{x}<br>B\\u00f6lge-Region=%{y}<extra></extra>\",\"legendgroup\":\"Bart\\u0131n\",\"marker\":{\"color\":\"#00cc96\",\"pattern\":{\"shape\":\"\"}},\"name\":\"Bart\\u0131n\",\"offsetgroup\":\"Bart\\u0131n\",\"orientation\":\"h\",\"showlegend\":true,\"textposition\":\"auto\",\"type\":\"bar\",\"x\":[145902],\"xaxis\":\"x\",\"y\":[\"Karadeniz\"],\"yaxis\":\"y\"},{\"alignmentgroup\":\"True\",\"hovertemplate\":\"city-\\u015fehir=Batman<br>total-toplam=%{x}<br>B\\u00f6lge-Region=%{y}<extra></extra>\",\"legendgroup\":\"Batman\",\"marker\":{\"color\":\"#ab63fa\",\"pattern\":{\"shape\":\"\"}},\"name\":\"Batman\",\"offsetgroup\":\"Batman\",\"orientation\":\"h\",\"showlegend\":true,\"textposition\":\"auto\",\"type\":\"bar\",\"x\":[157545],\"xaxis\":\"x\",\"y\":[\"G\\u00fcneydo\\u011fu Anadolu\"],\"yaxis\":\"y\"},{\"alignmentgroup\":\"True\",\"hovertemplate\":\"city-\\u015fehir=Bayburt<br>total-toplam=%{x}<br>B\\u00f6lge-Region=%{y}<extra></extra>\",\"legendgroup\":\"Bayburt\",\"marker\":{\"color\":\"#FFA15A\",\"pattern\":{\"shape\":\"\"}},\"name\":\"Bayburt\",\"offsetgroup\":\"Bayburt\",\"orientation\":\"h\",\"showlegend\":true,\"textposition\":\"auto\",\"type\":\"bar\",\"x\":[37283],\"xaxis\":\"x\",\"y\":[\"Karadeniz\"],\"yaxis\":\"y\"},{\"alignmentgroup\":\"True\",\"hovertemplate\":\"city-\\u015fehir=Bilecik<br>total-toplam=%{x}<br>B\\u00f6lge-Region=%{y}<extra></extra>\",\"legendgroup\":\"Bilecik\",\"marker\":{\"color\":\"#19d3f3\",\"pattern\":{\"shape\":\"\"}},\"name\":\"Bilecik\",\"offsetgroup\":\"Bilecik\",\"orientation\":\"h\",\"showlegend\":true,\"textposition\":\"auto\",\"type\":\"bar\",\"x\":[157530],\"xaxis\":\"x\",\"y\":[\"Marmara\"],\"yaxis\":\"y\"},{\"alignmentgroup\":\"True\",\"hovertemplate\":\"city-\\u015fehir=Bing\\u00f6l<br>total-toplam=%{x}<br>B\\u00f6lge-Region=%{y}<extra></extra>\",\"legendgroup\":\"Bing\\u00f6l\",\"marker\":{\"color\":\"#FF6692\",\"pattern\":{\"shape\":\"\"}},\"name\":\"Bing\\u00f6l\",\"offsetgroup\":\"Bing\\u00f6l\",\"orientation\":\"h\",\"showlegend\":true,\"textposition\":\"auto\",\"type\":\"bar\",\"x\":[88137],\"xaxis\":\"x\",\"y\":[\"Do\\u011fu Anadolu\"],\"yaxis\":\"y\"},{\"alignmentgroup\":\"True\",\"hovertemplate\":\"city-\\u015fehir=Bitlis<br>total-toplam=%{x}<br>B\\u00f6lge-Region=%{y}<extra></extra>\",\"legendgroup\":\"Bitlis\",\"marker\":{\"color\":\"#B6E880\",\"pattern\":{\"shape\":\"\"}},\"name\":\"Bitlis\",\"offsetgroup\":\"Bitlis\",\"orientation\":\"h\",\"showlegend\":true,\"textposition\":\"auto\",\"type\":\"bar\",\"x\":[74819],\"xaxis\":\"x\",\"y\":[\"Do\\u011fu Anadolu\"],\"yaxis\":\"y\"},{\"alignmentgroup\":\"True\",\"hovertemplate\":\"city-\\u015fehir=Bolu<br>total-toplam=%{x}<br>B\\u00f6lge-Region=%{y}<extra></extra>\",\"legendgroup\":\"Bolu\",\"marker\":{\"color\":\"#FF97FF\",\"pattern\":{\"shape\":\"\"}},\"name\":\"Bolu\",\"offsetgroup\":\"Bolu\",\"orientation\":\"h\",\"showlegend\":true,\"textposition\":\"auto\",\"type\":\"bar\",\"x\":[227547],\"xaxis\":\"x\",\"y\":[\"Karadeniz\"],\"yaxis\":\"y\"},{\"alignmentgroup\":\"True\",\"hovertemplate\":\"city-\\u015fehir=Burdur<br>total-toplam=%{x}<br>B\\u00f6lge-Region=%{y}<extra></extra>\",\"legendgroup\":\"Burdur\",\"marker\":{\"color\":\"#FECB52\",\"pattern\":{\"shape\":\"\"}},\"name\":\"Burdur\",\"offsetgroup\":\"Burdur\",\"orientation\":\"h\",\"showlegend\":true,\"textposition\":\"auto\",\"type\":\"bar\",\"x\":[194991],\"xaxis\":\"x\",\"y\":[\"Akdeniz\"],\"yaxis\":\"y\"},{\"alignmentgroup\":\"True\",\"hovertemplate\":\"city-\\u015fehir=Bursa<br>total-toplam=%{x}<br>B\\u00f6lge-Region=%{y}<extra></extra>\",\"legendgroup\":\"Bursa\",\"marker\":{\"color\":\"#636efa\",\"pattern\":{\"shape\":\"\"}},\"name\":\"Bursa\",\"offsetgroup\":\"Bursa\",\"orientation\":\"h\",\"showlegend\":true,\"textposition\":\"auto\",\"type\":\"bar\",\"x\":[1822577],\"xaxis\":\"x\",\"y\":[\"Marmara\"],\"yaxis\":\"y\"},{\"alignmentgroup\":\"True\",\"hovertemplate\":\"city-\\u015fehir=\\u00c7anakkale<br>total-toplam=%{x}<br>B\\u00f6lge-Region=%{y}<extra></extra>\",\"legendgroup\":\"\\u00c7anakkale\",\"marker\":{\"color\":\"#EF553B\",\"pattern\":{\"shape\":\"\"}},\"name\":\"\\u00c7anakkale\",\"offsetgroup\":\"\\u00c7anakkale\",\"orientation\":\"h\",\"showlegend\":true,\"textposition\":\"auto\",\"type\":\"bar\",\"x\":[460095],\"xaxis\":\"x\",\"y\":[\"Marmara\"],\"yaxis\":\"y\"},{\"alignmentgroup\":\"True\",\"hovertemplate\":\"city-\\u015fehir=\\u00c7ank\\u0131r\\u0131<br>total-toplam=%{x}<br>B\\u00f6lge-Region=%{y}<extra></extra>\",\"legendgroup\":\"\\u00c7ank\\u0131r\\u0131\",\"marker\":{\"color\":\"#00cc96\",\"pattern\":{\"shape\":\"\"}},\"name\":\"\\u00c7ank\\u0131r\\u0131\",\"offsetgroup\":\"\\u00c7ank\\u0131r\\u0131\",\"orientation\":\"h\",\"showlegend\":true,\"textposition\":\"auto\",\"type\":\"bar\",\"x\":[127320],\"xaxis\":\"x\",\"y\":[\"\\u0130\\u00e7 Anadolu\"],\"yaxis\":\"y\"},{\"alignmentgroup\":\"True\",\"hovertemplate\":\"city-\\u015fehir=\\u00c7orum<br>total-toplam=%{x}<br>B\\u00f6lge-Region=%{y}<extra></extra>\",\"legendgroup\":\"\\u00c7orum\",\"marker\":{\"color\":\"#ab63fa\",\"pattern\":{\"shape\":\"\"}},\"name\":\"\\u00c7orum\",\"offsetgroup\":\"\\u00c7orum\",\"orientation\":\"h\",\"showlegend\":true,\"textposition\":\"auto\",\"type\":\"bar\",\"x\":[360331],\"xaxis\":\"x\",\"y\":[\"Karadeniz\"],\"yaxis\":\"y\"},{\"alignmentgroup\":\"True\",\"hovertemplate\":\"city-\\u015fehir=Denizli<br>total-toplam=%{x}<br>B\\u00f6lge-Region=%{y}<extra></extra>\",\"legendgroup\":\"Denizli\",\"marker\":{\"color\":\"#FFA15A\",\"pattern\":{\"shape\":\"\"}},\"name\":\"Denizli\",\"offsetgroup\":\"Denizli\",\"orientation\":\"h\",\"showlegend\":true,\"textposition\":\"auto\",\"type\":\"bar\",\"x\":[688083],\"xaxis\":\"x\",\"y\":[\"Ege\"],\"yaxis\":\"y\"},{\"alignmentgroup\":\"True\",\"hovertemplate\":\"city-\\u015fehir=Diyarbak\\u0131r<br>total-toplam=%{x}<br>B\\u00f6lge-Region=%{y}<extra></extra>\",\"legendgroup\":\"Diyarbak\\u0131r\",\"marker\":{\"color\":\"#19d3f3\",\"pattern\":{\"shape\":\"\"}},\"name\":\"Diyarbak\\u0131r\",\"offsetgroup\":\"Diyarbak\\u0131r\",\"orientation\":\"h\",\"showlegend\":true,\"textposition\":\"auto\",\"type\":\"bar\",\"x\":[442035],\"xaxis\":\"x\",\"y\":[\"G\\u00fcneydo\\u011fu Anadolu\"],\"yaxis\":\"y\"},{\"alignmentgroup\":\"True\",\"hovertemplate\":\"city-\\u015fehir=D\\u00fczce<br>total-toplam=%{x}<br>B\\u00f6lge-Region=%{y}<extra></extra>\",\"legendgroup\":\"D\\u00fczce\",\"marker\":{\"color\":\"#FF6692\",\"pattern\":{\"shape\":\"\"}},\"name\":\"D\\u00fczce\",\"offsetgroup\":\"D\\u00fczce\",\"orientation\":\"h\",\"showlegend\":true,\"textposition\":\"auto\",\"type\":\"bar\",\"x\":[231911],\"xaxis\":\"x\",\"y\":[null],\"yaxis\":\"y\"},{\"alignmentgroup\":\"True\",\"hovertemplate\":\"city-\\u015fehir=Edirne<br>total-toplam=%{x}<br>B\\u00f6lge-Region=%{y}<extra></extra>\",\"legendgroup\":\"Edirne\",\"marker\":{\"color\":\"#B6E880\",\"pattern\":{\"shape\":\"\"}},\"name\":\"Edirne\",\"offsetgroup\":\"Edirne\",\"orientation\":\"h\",\"showlegend\":true,\"textposition\":\"auto\",\"type\":\"bar\",\"x\":[349857],\"xaxis\":\"x\",\"y\":[\"Marmara\"],\"yaxis\":\"y\"},{\"alignmentgroup\":\"True\",\"hovertemplate\":\"city-\\u015fehir=Elaz\\u0131\\u011f<br>total-toplam=%{x}<br>B\\u00f6lge-Region=%{y}<extra></extra>\",\"legendgroup\":\"Elaz\\u0131\\u011f\",\"marker\":{\"color\":\"#FF97FF\",\"pattern\":{\"shape\":\"\"}},\"name\":\"Elaz\\u0131\\u011f\",\"offsetgroup\":\"Elaz\\u0131\\u011f\",\"orientation\":\"h\",\"showlegend\":true,\"textposition\":\"auto\",\"type\":\"bar\",\"x\":[292951],\"xaxis\":\"x\",\"y\":[\"Do\\u011fu Anadolu\"],\"yaxis\":\"y\"},{\"alignmentgroup\":\"True\",\"hovertemplate\":\"city-\\u015fehir=Erzincan<br>total-toplam=%{x}<br>B\\u00f6lge-Region=%{y}<extra></extra>\",\"legendgroup\":\"Erzincan\",\"marker\":{\"color\":\"#FECB52\",\"pattern\":{\"shape\":\"\"}},\"name\":\"Erzincan\",\"offsetgroup\":\"Erzincan\",\"orientation\":\"h\",\"showlegend\":true,\"textposition\":\"auto\",\"type\":\"bar\",\"x\":[140381],\"xaxis\":\"x\",\"y\":[\"Do\\u011fu Anadolu\"],\"yaxis\":\"y\"},{\"alignmentgroup\":\"True\",\"hovertemplate\":\"city-\\u015fehir=Erzurum<br>total-toplam=%{x}<br>B\\u00f6lge-Region=%{y}<extra></extra>\",\"legendgroup\":\"Erzurum\",\"marker\":{\"color\":\"#636efa\",\"pattern\":{\"shape\":\"\"}},\"name\":\"Erzurum\",\"offsetgroup\":\"Erzurum\",\"orientation\":\"h\",\"showlegend\":true,\"textposition\":\"auto\",\"type\":\"bar\",\"x\":[318718],\"xaxis\":\"x\",\"y\":[\"Do\\u011fu Anadolu\"],\"yaxis\":\"y\"},{\"alignmentgroup\":\"True\",\"hovertemplate\":\"city-\\u015fehir=Eski\\u015fehir<br>total-toplam=%{x}<br>B\\u00f6lge-Region=%{y}<extra></extra>\",\"legendgroup\":\"Eski\\u015fehir\",\"marker\":{\"color\":\"#EF553B\",\"pattern\":{\"shape\":\"\"}},\"name\":\"Eski\\u015fehir\",\"offsetgroup\":\"Eski\\u015fehir\",\"orientation\":\"h\",\"showlegend\":true,\"textposition\":\"auto\",\"type\":\"bar\",\"x\":[672665],\"xaxis\":\"x\",\"y\":[\"\\u0130\\u00e7 Anadolu\"],\"yaxis\":\"y\"},{\"alignmentgroup\":\"True\",\"hovertemplate\":\"city-\\u015fehir=Gaziantep<br>total-toplam=%{x}<br>B\\u00f6lge-Region=%{y}<extra></extra>\",\"legendgroup\":\"Gaziantep\",\"marker\":{\"color\":\"#00cc96\",\"pattern\":{\"shape\":\"\"}},\"name\":\"Gaziantep\",\"offsetgroup\":\"Gaziantep\",\"orientation\":\"h\",\"showlegend\":true,\"textposition\":\"auto\",\"type\":\"bar\",\"x\":[778187],\"xaxis\":\"x\",\"y\":[\"G\\u00fcneydo\\u011fu Anadolu\"],\"yaxis\":\"y\"},{\"alignmentgroup\":\"True\",\"hovertemplate\":\"city-\\u015fehir=Giresun<br>total-toplam=%{x}<br>B\\u00f6lge-Region=%{y}<extra></extra>\",\"legendgroup\":\"Giresun\",\"marker\":{\"color\":\"#ab63fa\",\"pattern\":{\"shape\":\"\"}},\"name\":\"Giresun\",\"offsetgroup\":\"Giresun\",\"orientation\":\"h\",\"showlegend\":true,\"textposition\":\"auto\",\"type\":\"bar\",\"x\":[334731],\"xaxis\":\"x\",\"y\":[\"Karadeniz\"],\"yaxis\":\"y\"},{\"alignmentgroup\":\"True\",\"hovertemplate\":\"city-\\u015fehir=G\\u00fcm\\u00fc\\u015fhane<br>total-toplam=%{x}<br>B\\u00f6lge-Region=%{y}<extra></extra>\",\"legendgroup\":\"G\\u00fcm\\u00fc\\u015fhane\",\"marker\":{\"color\":\"#FFA15A\",\"pattern\":{\"shape\":\"\"}},\"name\":\"G\\u00fcm\\u00fc\\u015fhane\",\"offsetgroup\":\"G\\u00fcm\\u00fc\\u015fhane\",\"orientation\":\"h\",\"showlegend\":true,\"textposition\":\"auto\",\"type\":\"bar\",\"x\":[66120],\"xaxis\":\"x\",\"y\":[\"Karadeniz\"],\"yaxis\":\"y\"},{\"alignmentgroup\":\"True\",\"hovertemplate\":\"city-\\u015fehir=Hakkari<br>total-toplam=%{x}<br>B\\u00f6lge-Region=%{y}<extra></extra>\",\"legendgroup\":\"Hakkari\",\"marker\":{\"color\":\"#19d3f3\",\"pattern\":{\"shape\":\"\"}},\"name\":\"Hakkari\",\"offsetgroup\":\"Hakkari\",\"orientation\":\"h\",\"showlegend\":true,\"textposition\":\"auto\",\"type\":\"bar\",\"x\":[61180],\"xaxis\":\"x\",\"y\":[\"Do\\u011fu Anadolu\"],\"yaxis\":\"y\"},{\"alignmentgroup\":\"True\",\"hovertemplate\":\"city-\\u015fehir=Hatay<br>total-toplam=%{x}<br>B\\u00f6lge-Region=%{y}<extra></extra>\",\"legendgroup\":\"Hatay\",\"marker\":{\"color\":\"#FF6692\",\"pattern\":{\"shape\":\"\"}},\"name\":\"Hatay\",\"offsetgroup\":\"Hatay\",\"orientation\":\"h\",\"showlegend\":true,\"textposition\":\"auto\",\"type\":\"bar\",\"x\":[735439],\"xaxis\":\"x\",\"y\":[\"Akdeniz\"],\"yaxis\":\"y\"},{\"alignmentgroup\":\"True\",\"hovertemplate\":\"city-\\u015fehir=I\\u011fd\\u0131r<br>total-toplam=%{x}<br>B\\u00f6lge-Region=%{y}<extra></extra>\",\"legendgroup\":\"I\\u011fd\\u0131r\",\"marker\":{\"color\":\"#B6E880\",\"pattern\":{\"shape\":\"\"}},\"name\":\"I\\u011fd\\u0131r\",\"offsetgroup\":\"I\\u011fd\\u0131r\",\"orientation\":\"h\",\"showlegend\":true,\"textposition\":\"auto\",\"type\":\"bar\",\"x\":[64951],\"xaxis\":\"x\",\"y\":[null],\"yaxis\":\"y\"},{\"alignmentgroup\":\"True\",\"hovertemplate\":\"city-\\u015fehir=Isparta<br>total-toplam=%{x}<br>B\\u00f6lge-Region=%{y}<extra></extra>\",\"legendgroup\":\"Isparta\",\"marker\":{\"color\":\"#FF97FF\",\"pattern\":{\"shape\":\"\"}},\"name\":\"Isparta\",\"offsetgroup\":\"Isparta\",\"orientation\":\"h\",\"showlegend\":true,\"textposition\":\"auto\",\"type\":\"bar\",\"x\":[313856],\"xaxis\":\"x\",\"y\":[\"Akdeniz\"],\"yaxis\":\"y\"},{\"alignmentgroup\":\"True\",\"hovertemplate\":\"city-\\u015fehir=\\u0130stanbul<br>total-toplam=%{x}<br>B\\u00f6lge-Region=%{y}<extra></extra>\",\"legendgroup\":\"\\u0130stanbul\",\"marker\":{\"color\":\"#FECB52\",\"pattern\":{\"shape\":\"\"}},\"name\":\"\\u0130stanbul\",\"offsetgroup\":\"\\u0130stanbul\",\"orientation\":\"h\",\"showlegend\":true,\"textposition\":\"auto\",\"type\":\"bar\",\"x\":[8617141],\"xaxis\":\"x\",\"y\":[\"Marmara\"],\"yaxis\":\"y\"},{\"alignmentgroup\":\"True\",\"hovertemplate\":\"city-\\u015fehir=\\u0130zmir<br>total-toplam=%{x}<br>B\\u00f6lge-Region=%{y}<extra></extra>\",\"legendgroup\":\"\\u0130zmir\",\"marker\":{\"color\":\"#636efa\",\"pattern\":{\"shape\":\"\"}},\"name\":\"\\u0130zmir\",\"offsetgroup\":\"\\u0130zmir\",\"orientation\":\"h\",\"showlegend\":true,\"textposition\":\"auto\",\"type\":\"bar\",\"x\":[3142928],\"xaxis\":\"x\",\"y\":[\"Ege\"],\"yaxis\":\"y\"},{\"alignmentgroup\":\"True\",\"hovertemplate\":\"city-\\u015fehir=Kahramanmara\\u015f<br>total-toplam=%{x}<br>B\\u00f6lge-Region=%{y}<extra></extra>\",\"legendgroup\":\"Kahramanmara\\u015f\",\"marker\":{\"color\":\"#EF553B\",\"pattern\":{\"shape\":\"\"}},\"name\":\"Kahramanmara\\u015f\",\"offsetgroup\":\"Kahramanmara\\u015f\",\"orientation\":\"h\",\"showlegend\":true,\"textposition\":\"auto\",\"type\":\"bar\",\"x\":[485392],\"xaxis\":\"x\",\"y\":[\"Akdeniz\"],\"yaxis\":\"y\"},{\"alignmentgroup\":\"True\",\"hovertemplate\":\"city-\\u015fehir=Karab\\u00fck<br>total-toplam=%{x}<br>B\\u00f6lge-Region=%{y}<extra></extra>\",\"legendgroup\":\"Karab\\u00fck\",\"marker\":{\"color\":\"#00cc96\",\"pattern\":{\"shape\":\"\"}},\"name\":\"Karab\\u00fck\",\"offsetgroup\":\"Karab\\u00fck\",\"orientation\":\"h\",\"showlegend\":true,\"textposition\":\"auto\",\"type\":\"bar\",\"x\":[165165],\"xaxis\":\"x\",\"y\":[\"Karadeniz\"],\"yaxis\":\"y\"},{\"alignmentgroup\":\"True\",\"hovertemplate\":\"city-\\u015fehir=Karaman<br>total-toplam=%{x}<br>B\\u00f6lge-Region=%{y}<extra></extra>\",\"legendgroup\":\"Karaman\",\"marker\":{\"color\":\"#ab63fa\",\"pattern\":{\"shape\":\"\"}},\"name\":\"Karaman\",\"offsetgroup\":\"Karaman\",\"orientation\":\"h\",\"showlegend\":true,\"textposition\":\"auto\",\"type\":\"bar\",\"x\":[144641],\"xaxis\":\"x\",\"y\":[\"\\u0130\\u00e7 Anadolu\"],\"yaxis\":\"y\"},{\"alignmentgroup\":\"True\",\"hovertemplate\":\"city-\\u015fehir=Kars<br>total-toplam=%{x}<br>B\\u00f6lge-Region=%{y}<extra></extra>\",\"legendgroup\":\"Kars\",\"marker\":{\"color\":\"#FFA15A\",\"pattern\":{\"shape\":\"\"}},\"name\":\"Kars\",\"offsetgroup\":\"Kars\",\"orientation\":\"h\",\"showlegend\":true,\"textposition\":\"auto\",\"type\":\"bar\",\"x\":[119780],\"xaxis\":\"x\",\"y\":[\"Do\\u011fu Anadolu\"],\"yaxis\":\"y\"},{\"alignmentgroup\":\"True\",\"hovertemplate\":\"city-\\u015fehir=Kastamonu<br>total-toplam=%{x}<br>B\\u00f6lge-Region=%{y}<extra></extra>\",\"legendgroup\":\"Kastamonu\",\"marker\":{\"color\":\"#19d3f3\",\"pattern\":{\"shape\":\"\"}},\"name\":\"Kastamonu\",\"offsetgroup\":\"Kastamonu\",\"orientation\":\"h\",\"showlegend\":true,\"textposition\":\"auto\",\"type\":\"bar\",\"x\":[275403],\"xaxis\":\"x\",\"y\":[\"Karadeniz\"],\"yaxis\":\"y\"},{\"alignmentgroup\":\"True\",\"hovertemplate\":\"city-\\u015fehir=Kayseri<br>total-toplam=%{x}<br>B\\u00f6lge-Region=%{y}<extra></extra>\",\"legendgroup\":\"Kayseri\",\"marker\":{\"color\":\"#FF6692\",\"pattern\":{\"shape\":\"\"}},\"name\":\"Kayseri\",\"offsetgroup\":\"Kayseri\",\"orientation\":\"h\",\"showlegend\":true,\"textposition\":\"auto\",\"type\":\"bar\",\"x\":[785275],\"xaxis\":\"x\",\"y\":[\"\\u0130\\u00e7 Anadolu\"],\"yaxis\":\"y\"},{\"alignmentgroup\":\"True\",\"hovertemplate\":\"city-\\u015fehir=K\\u0131r\\u0131kkale<br>total-toplam=%{x}<br>B\\u00f6lge-Region=%{y}<extra></extra>\",\"legendgroup\":\"K\\u0131r\\u0131kkale\",\"marker\":{\"color\":\"#B6E880\",\"pattern\":{\"shape\":\"\"}},\"name\":\"K\\u0131r\\u0131kkale\",\"offsetgroup\":\"K\\u0131r\\u0131kkale\",\"orientation\":\"h\",\"showlegend\":true,\"textposition\":\"auto\",\"type\":\"bar\",\"x\":[175651],\"xaxis\":\"x\",\"y\":[\"\\u0130\\u00e7 Anadolu\"],\"yaxis\":\"y\"},{\"alignmentgroup\":\"True\",\"hovertemplate\":\"city-\\u015fehir=K\\u0131rklareli<br>total-toplam=%{x}<br>B\\u00f6lge-Region=%{y}<extra></extra>\",\"legendgroup\":\"K\\u0131rklareli\",\"marker\":{\"color\":\"#FF97FF\",\"pattern\":{\"shape\":\"\"}},\"name\":\"K\\u0131rklareli\",\"offsetgroup\":\"K\\u0131rklareli\",\"orientation\":\"h\",\"showlegend\":true,\"textposition\":\"auto\",\"type\":\"bar\",\"x\":[296527],\"xaxis\":\"x\",\"y\":[\"Marmara\"],\"yaxis\":\"y\"},{\"alignmentgroup\":\"True\",\"hovertemplate\":\"city-\\u015fehir=K\\u0131r\\u015fehir<br>total-toplam=%{x}<br>B\\u00f6lge-Region=%{y}<extra></extra>\",\"legendgroup\":\"K\\u0131r\\u015fehir\",\"marker\":{\"color\":\"#FECB52\",\"pattern\":{\"shape\":\"\"}},\"name\":\"K\\u0131r\\u015fehir\",\"offsetgroup\":\"K\\u0131r\\u015fehir\",\"orientation\":\"h\",\"showlegend\":true,\"textposition\":\"auto\",\"type\":\"bar\",\"x\":[161738],\"xaxis\":\"x\",\"y\":[\"\\u0130\\u00e7 Anadolu\"],\"yaxis\":\"y\"},{\"alignmentgroup\":\"True\",\"hovertemplate\":\"city-\\u015fehir=Kilis<br>total-toplam=%{x}<br>B\\u00f6lge-Region=%{y}<extra></extra>\",\"legendgroup\":\"Kilis\",\"marker\":{\"color\":\"#636efa\",\"pattern\":{\"shape\":\"\"}},\"name\":\"Kilis\",\"offsetgroup\":\"Kilis\",\"orientation\":\"h\",\"showlegend\":true,\"textposition\":\"auto\",\"type\":\"bar\",\"x\":[62220],\"xaxis\":\"x\",\"y\":[\"G\\u00fcneydo\\u011fu Anadolu\"],\"yaxis\":\"y\"},{\"alignmentgroup\":\"True\",\"hovertemplate\":\"city-\\u015fehir=Kocaeli<br>total-toplam=%{x}<br>B\\u00f6lge-Region=%{y}<extra></extra>\",\"legendgroup\":\"Kocaeli\",\"marker\":{\"color\":\"#EF553B\",\"pattern\":{\"shape\":\"\"}},\"name\":\"Kocaeli\",\"offsetgroup\":\"Kocaeli\",\"orientation\":\"h\",\"showlegend\":true,\"textposition\":\"auto\",\"type\":\"bar\",\"x\":[1115365],\"xaxis\":\"x\",\"y\":[\"Marmara\"],\"yaxis\":\"y\"},{\"alignmentgroup\":\"True\",\"hovertemplate\":\"city-\\u015fehir=Konya<br>total-toplam=%{x}<br>B\\u00f6lge-Region=%{y}<extra></extra>\",\"legendgroup\":\"Konya\",\"marker\":{\"color\":\"#00cc96\",\"pattern\":{\"shape\":\"\"}},\"name\":\"Konya\",\"offsetgroup\":\"Konya\",\"orientation\":\"h\",\"showlegend\":true,\"textposition\":\"auto\",\"type\":\"bar\",\"x\":[1132277],\"xaxis\":\"x\",\"y\":[\"\\u0130\\u00e7 Anadolu\"],\"yaxis\":\"y\"},{\"alignmentgroup\":\"True\",\"hovertemplate\":\"city-\\u015fehir=K\\u00fctahya<br>total-toplam=%{x}<br>B\\u00f6lge-Region=%{y}<extra></extra>\",\"legendgroup\":\"K\\u00fctahya\",\"marker\":{\"color\":\"#ab63fa\",\"pattern\":{\"shape\":\"\"}},\"name\":\"K\\u00fctahya\",\"offsetgroup\":\"K\\u00fctahya\",\"orientation\":\"h\",\"showlegend\":true,\"textposition\":\"auto\",\"type\":\"bar\",\"x\":[379920],\"xaxis\":\"x\",\"y\":[\"Ege\"],\"yaxis\":\"y\"},{\"alignmentgroup\":\"True\",\"hovertemplate\":\"city-\\u015fehir=Malatya<br>total-toplam=%{x}<br>B\\u00f6lge-Region=%{y}<extra></extra>\",\"legendgroup\":\"Malatya\",\"marker\":{\"color\":\"#FFA15A\",\"pattern\":{\"shape\":\"\"}},\"name\":\"Malatya\",\"offsetgroup\":\"Malatya\",\"orientation\":\"h\",\"showlegend\":true,\"textposition\":\"auto\",\"type\":\"bar\",\"x\":[437319],\"xaxis\":\"x\",\"y\":[\"Do\\u011fu Anadolu\"],\"yaxis\":\"y\"},{\"alignmentgroup\":\"True\",\"hovertemplate\":\"city-\\u015fehir=Manisa<br>total-toplam=%{x}<br>B\\u00f6lge-Region=%{y}<extra></extra>\",\"legendgroup\":\"Manisa\",\"marker\":{\"color\":\"#19d3f3\",\"pattern\":{\"shape\":\"\"}},\"name\":\"Manisa\",\"offsetgroup\":\"Manisa\",\"orientation\":\"h\",\"showlegend\":true,\"textposition\":\"auto\",\"type\":\"bar\",\"x\":[921654],\"xaxis\":\"x\",\"y\":[\"Ege\"],\"yaxis\":\"y\"},{\"alignmentgroup\":\"True\",\"hovertemplate\":\"city-\\u015fehir=Mardin<br>total-toplam=%{x}<br>B\\u00f6lge-Region=%{y}<extra></extra>\",\"legendgroup\":\"Mardin\",\"marker\":{\"color\":\"#FF6692\",\"pattern\":{\"shape\":\"\"}},\"name\":\"Mardin\",\"offsetgroup\":\"Mardin\",\"orientation\":\"h\",\"showlegend\":true,\"textposition\":\"auto\",\"type\":\"bar\",\"x\":[177609],\"xaxis\":\"x\",\"y\":[\"G\\u00fcneydo\\u011fu Anadolu\"],\"yaxis\":\"y\"},{\"alignmentgroup\":\"True\",\"hovertemplate\":\"city-\\u015fehir=Mersin<br>total-toplam=%{x}<br>B\\u00f6lge-Region=%{y}<extra></extra>\",\"legendgroup\":\"Mersin\",\"marker\":{\"color\":\"#B6E880\",\"pattern\":{\"shape\":\"\"}},\"name\":\"Mersin\",\"offsetgroup\":\"Mersin\",\"orientation\":\"h\",\"showlegend\":true,\"textposition\":\"auto\",\"type\":\"bar\",\"x\":[1080427],\"xaxis\":\"x\",\"y\":[\"Akdeniz\"],\"yaxis\":\"y\"},{\"alignmentgroup\":\"True\",\"hovertemplate\":\"city-\\u015fehir=Mu\\u011fla<br>total-toplam=%{x}<br>B\\u00f6lge-Region=%{y}<extra></extra>\",\"legendgroup\":\"Mu\\u011fla\",\"marker\":{\"color\":\"#FF97FF\",\"pattern\":{\"shape\":\"\"}},\"name\":\"Mu\\u011fla\",\"offsetgroup\":\"Mu\\u011fla\",\"orientation\":\"h\",\"showlegend\":true,\"textposition\":\"auto\",\"type\":\"bar\",\"x\":[865620],\"xaxis\":\"x\",\"y\":[\"Ege\"],\"yaxis\":\"y\"},{\"alignmentgroup\":\"True\",\"hovertemplate\":\"city-\\u015fehir=Mu\\u015f<br>total-toplam=%{x}<br>B\\u00f6lge-Region=%{y}<extra></extra>\",\"legendgroup\":\"Mu\\u015f\",\"marker\":{\"color\":\"#FECB52\",\"pattern\":{\"shape\":\"\"}},\"name\":\"Mu\\u015f\",\"offsetgroup\":\"Mu\\u015f\",\"orientation\":\"h\",\"showlegend\":true,\"textposition\":\"auto\",\"type\":\"bar\",\"x\":[91243],\"xaxis\":\"x\",\"y\":[\"Do\\u011fu Anadolu\"],\"yaxis\":\"y\"},{\"alignmentgroup\":\"True\",\"hovertemplate\":\"city-\\u015fehir=Nev\\u015fehir<br>total-toplam=%{x}<br>B\\u00f6lge-Region=%{y}<extra></extra>\",\"legendgroup\":\"Nev\\u015fehir\",\"marker\":{\"color\":\"#636efa\",\"pattern\":{\"shape\":\"\"}},\"name\":\"Nev\\u015fehir\",\"offsetgroup\":\"Nev\\u015fehir\",\"orientation\":\"h\",\"showlegend\":true,\"textposition\":\"auto\",\"type\":\"bar\",\"x\":[182025],\"xaxis\":\"x\",\"y\":[\"\\u0130\\u00e7 Anadolu\"],\"yaxis\":\"y\"},{\"alignmentgroup\":\"True\",\"hovertemplate\":\"city-\\u015fehir=Ni\\u011fde<br>total-toplam=%{x}<br>B\\u00f6lge-Region=%{y}<extra></extra>\",\"legendgroup\":\"Ni\\u011fde\",\"marker\":{\"color\":\"#EF553B\",\"pattern\":{\"shape\":\"\"}},\"name\":\"Ni\\u011fde\",\"offsetgroup\":\"Ni\\u011fde\",\"orientation\":\"h\",\"showlegend\":true,\"textposition\":\"auto\",\"type\":\"bar\",\"x\":[183531],\"xaxis\":\"x\",\"y\":[\"\\u0130\\u00e7 Anadolu\"],\"yaxis\":\"y\"},{\"alignmentgroup\":\"True\",\"hovertemplate\":\"city-\\u015fehir=Ordu<br>total-toplam=%{x}<br>B\\u00f6lge-Region=%{y}<extra></extra>\",\"legendgroup\":\"Ordu\",\"marker\":{\"color\":\"#00cc96\",\"pattern\":{\"shape\":\"\"}},\"name\":\"Ordu\",\"offsetgroup\":\"Ordu\",\"orientation\":\"h\",\"showlegend\":true,\"textposition\":\"auto\",\"type\":\"bar\",\"x\":[539515],\"xaxis\":\"x\",\"y\":[\"Karadeniz\"],\"yaxis\":\"y\"},{\"alignmentgroup\":\"True\",\"hovertemplate\":\"city-\\u015fehir=Osmaniye<br>total-toplam=%{x}<br>B\\u00f6lge-Region=%{y}<extra></extra>\",\"legendgroup\":\"Osmaniye\",\"marker\":{\"color\":\"#ab63fa\",\"pattern\":{\"shape\":\"\"}},\"name\":\"Osmaniye\",\"offsetgroup\":\"Osmaniye\",\"orientation\":\"h\",\"showlegend\":true,\"textposition\":\"auto\",\"type\":\"bar\",\"x\":[294010],\"xaxis\":\"x\",\"y\":[\"Akdeniz\"],\"yaxis\":\"y\"},{\"alignmentgroup\":\"True\",\"hovertemplate\":\"city-\\u015fehir=Rize<br>total-toplam=%{x}<br>B\\u00f6lge-Region=%{y}<extra></extra>\",\"legendgroup\":\"Rize\",\"marker\":{\"color\":\"#FFA15A\",\"pattern\":{\"shape\":\"\"}},\"name\":\"Rize\",\"offsetgroup\":\"Rize\",\"orientation\":\"h\",\"showlegend\":true,\"textposition\":\"auto\",\"type\":\"bar\",\"x\":[223962],\"xaxis\":\"x\",\"y\":[\"Karadeniz\"],\"yaxis\":\"y\"},{\"alignmentgroup\":\"True\",\"hovertemplate\":\"city-\\u015fehir=Sakarya<br>total-toplam=%{x}<br>B\\u00f6lge-Region=%{y}<extra></extra>\",\"legendgroup\":\"Sakarya\",\"marker\":{\"color\":\"#19d3f3\",\"pattern\":{\"shape\":\"\"}},\"name\":\"Sakarya\",\"offsetgroup\":\"Sakarya\",\"orientation\":\"h\",\"showlegend\":true,\"textposition\":\"auto\",\"type\":\"bar\",\"x\":[580524],\"xaxis\":\"x\",\"y\":[\"Marmara\"],\"yaxis\":\"y\"},{\"alignmentgroup\":\"True\",\"hovertemplate\":\"city-\\u015fehir=Samsun<br>total-toplam=%{x}<br>B\\u00f6lge-Region=%{y}<extra></extra>\",\"legendgroup\":\"Samsun\",\"marker\":{\"color\":\"#FF6692\",\"pattern\":{\"shape\":\"\"}},\"name\":\"Samsun\",\"offsetgroup\":\"Samsun\",\"orientation\":\"h\",\"showlegend\":true,\"textposition\":\"auto\",\"type\":\"bar\",\"x\":[855399],\"xaxis\":\"x\",\"y\":[\"Karadeniz\"],\"yaxis\":\"y\"},{\"alignmentgroup\":\"True\",\"hovertemplate\":\"city-\\u015fehir=Siirt<br>total-toplam=%{x}<br>B\\u00f6lge-Region=%{y}<extra></extra>\",\"legendgroup\":\"Siirt\",\"marker\":{\"color\":\"#B6E880\",\"pattern\":{\"shape\":\"\"}},\"name\":\"Siirt\",\"offsetgroup\":\"Siirt\",\"orientation\":\"h\",\"showlegend\":true,\"textposition\":\"auto\",\"type\":\"bar\",\"x\":[65203],\"xaxis\":\"x\",\"y\":[\"G\\u00fcneydo\\u011fu Anadolu\"],\"yaxis\":\"y\"},{\"alignmentgroup\":\"True\",\"hovertemplate\":\"city-\\u015fehir=Sinop<br>total-toplam=%{x}<br>B\\u00f6lge-Region=%{y}<extra></extra>\",\"legendgroup\":\"Sinop\",\"marker\":{\"color\":\"#FF97FF\",\"pattern\":{\"shape\":\"\"}},\"name\":\"Sinop\",\"offsetgroup\":\"Sinop\",\"orientation\":\"h\",\"showlegend\":true,\"textposition\":\"auto\",\"type\":\"bar\",\"x\":[166394],\"xaxis\":\"x\",\"y\":[\"Karadeniz\"],\"yaxis\":\"y\"},{\"alignmentgroup\":\"True\",\"hovertemplate\":\"city-\\u015fehir=Sivas<br>total-toplam=%{x}<br>B\\u00f6lge-Region=%{y}<extra></extra>\",\"legendgroup\":\"Sivas\",\"marker\":{\"color\":\"#FECB52\",\"pattern\":{\"shape\":\"\"}},\"name\":\"Sivas\",\"offsetgroup\":\"Sivas\",\"orientation\":\"h\",\"showlegend\":true,\"textposition\":\"auto\",\"type\":\"bar\",\"x\":[371178],\"xaxis\":\"x\",\"y\":[\"\\u0130\\u00e7 Anadolu\"],\"yaxis\":\"y\"},{\"alignmentgroup\":\"True\",\"hovertemplate\":\"city-\\u015fehir=\\u015eanl\\u0131urfa<br>total-toplam=%{x}<br>B\\u00f6lge-Region=%{y}<extra></extra>\",\"legendgroup\":\"\\u015eanl\\u0131urfa\",\"marker\":{\"color\":\"#636efa\",\"pattern\":{\"shape\":\"\"}},\"name\":\"\\u015eanl\\u0131urfa\",\"offsetgroup\":\"\\u015eanl\\u0131urfa\",\"orientation\":\"h\",\"showlegend\":true,\"textposition\":\"auto\",\"type\":\"bar\",\"x\":[375928],\"xaxis\":\"x\",\"y\":[\"G\\u00fcneydo\\u011fu Anadolu\"],\"yaxis\":\"y\"},{\"alignmentgroup\":\"True\",\"hovertemplate\":\"city-\\u015fehir=\\u015e\\u0131rnak<br>total-toplam=%{x}<br>B\\u00f6lge-Region=%{y}<extra></extra>\",\"legendgroup\":\"\\u015e\\u0131rnak\",\"marker\":{\"color\":\"#EF553B\",\"pattern\":{\"shape\":\"\"}},\"name\":\"\\u015e\\u0131rnak\",\"offsetgroup\":\"\\u015e\\u0131rnak\",\"orientation\":\"h\",\"showlegend\":true,\"textposition\":\"auto\",\"type\":\"bar\",\"x\":[96097],\"xaxis\":\"x\",\"y\":[\"G\\u00fcneydo\\u011fu Anadolu\"],\"yaxis\":\"y\"},{\"alignmentgroup\":\"True\",\"hovertemplate\":\"city-\\u015fehir=Tekirda\\u011f<br>total-toplam=%{x}<br>B\\u00f6lge-Region=%{y}<extra></extra>\",\"legendgroup\":\"Tekirda\\u011f\",\"marker\":{\"color\":\"#00cc96\",\"pattern\":{\"shape\":\"\"}},\"name\":\"Tekirda\\u011f\",\"offsetgroup\":\"Tekirda\\u011f\",\"orientation\":\"h\",\"showlegend\":true,\"textposition\":\"auto\",\"type\":\"bar\",\"x\":[685872],\"xaxis\":\"x\",\"y\":[\"Marmara\"],\"yaxis\":\"y\"},{\"alignmentgroup\":\"True\",\"hovertemplate\":\"city-\\u015fehir=Tokat<br>total-toplam=%{x}<br>B\\u00f6lge-Region=%{y}<extra></extra>\",\"legendgroup\":\"Tokat\",\"marker\":{\"color\":\"#ab63fa\",\"pattern\":{\"shape\":\"\"}},\"name\":\"Tokat\",\"offsetgroup\":\"Tokat\",\"orientation\":\"h\",\"showlegend\":true,\"textposition\":\"auto\",\"type\":\"bar\",\"x\":[387708],\"xaxis\":\"x\",\"y\":[\"Karadeniz\"],\"yaxis\":\"y\"},{\"alignmentgroup\":\"True\",\"hovertemplate\":\"city-\\u015fehir=Trabzon<br>total-toplam=%{x}<br>B\\u00f6lge-Region=%{y}<extra></extra>\",\"legendgroup\":\"Trabzon\",\"marker\":{\"color\":\"#FFA15A\",\"pattern\":{\"shape\":\"\"}},\"name\":\"Trabzon\",\"offsetgroup\":\"Trabzon\",\"orientation\":\"h\",\"showlegend\":true,\"textposition\":\"auto\",\"type\":\"bar\",\"x\":[528361],\"xaxis\":\"x\",\"y\":[\"Karadeniz\"],\"yaxis\":\"y\"},{\"alignmentgroup\":\"True\",\"hovertemplate\":\"city-\\u015fehir=Tunceli<br>total-toplam=%{x}<br>B\\u00f6lge-Region=%{y}<extra></extra>\",\"legendgroup\":\"Tunceli\",\"marker\":{\"color\":\"#19d3f3\",\"pattern\":{\"shape\":\"\"}},\"name\":\"Tunceli\",\"offsetgroup\":\"Tunceli\",\"orientation\":\"h\",\"showlegend\":true,\"textposition\":\"auto\",\"type\":\"bar\",\"x\":[64109],\"xaxis\":\"x\",\"y\":[\"Do\\u011fu Anadolu\"],\"yaxis\":\"y\"},{\"alignmentgroup\":\"True\",\"hovertemplate\":\"city-\\u015fehir=U\\u015fak<br>total-toplam=%{x}<br>B\\u00f6lge-Region=%{y}<extra></extra>\",\"legendgroup\":\"U\\u015fak\",\"marker\":{\"color\":\"#FF6692\",\"pattern\":{\"shape\":\"\"}},\"name\":\"U\\u015fak\",\"offsetgroup\":\"U\\u015fak\",\"orientation\":\"h\",\"showlegend\":true,\"textposition\":\"auto\",\"type\":\"bar\",\"x\":[250214],\"xaxis\":\"x\",\"y\":[\"Ege\"],\"yaxis\":\"y\"},{\"alignmentgroup\":\"True\",\"hovertemplate\":\"city-\\u015fehir=Van<br>total-toplam=%{x}<br>B\\u00f6lge-Region=%{y}<extra></extra>\",\"legendgroup\":\"Van\",\"marker\":{\"color\":\"#B6E880\",\"pattern\":{\"shape\":\"\"}},\"name\":\"Van\",\"offsetgroup\":\"Van\",\"orientation\":\"h\",\"showlegend\":true,\"textposition\":\"auto\",\"type\":\"bar\",\"x\":[327849],\"xaxis\":\"x\",\"y\":[\"Do\\u011fu Anadolu\"],\"yaxis\":\"y\"},{\"alignmentgroup\":\"True\",\"hovertemplate\":\"city-\\u015fehir=Yalova<br>total-toplam=%{x}<br>B\\u00f6lge-Region=%{y}<extra></extra>\",\"legendgroup\":\"Yalova\",\"marker\":{\"color\":\"#FF97FF\",\"pattern\":{\"shape\":\"\"}},\"name\":\"Yalova\",\"offsetgroup\":\"Yalova\",\"orientation\":\"h\",\"showlegend\":true,\"textposition\":\"auto\",\"type\":\"bar\",\"x\":[195808],\"xaxis\":\"x\",\"y\":[\"Marmara\"],\"yaxis\":\"y\"},{\"alignmentgroup\":\"True\",\"hovertemplate\":\"city-\\u015fehir=Yozgat<br>total-toplam=%{x}<br>B\\u00f6lge-Region=%{y}<extra></extra>\",\"legendgroup\":\"Yozgat\",\"marker\":{\"color\":\"#FECB52\",\"pattern\":{\"shape\":\"\"}},\"name\":\"Yozgat\",\"offsetgroup\":\"Yozgat\",\"orientation\":\"h\",\"showlegend\":true,\"textposition\":\"auto\",\"type\":\"bar\",\"x\":[233749],\"xaxis\":\"x\",\"y\":[\"\\u0130\\u00e7 Anadolu\"],\"yaxis\":\"y\"},{\"alignmentgroup\":\"True\",\"hovertemplate\":\"city-\\u015fehir=Zonguldak<br>total-toplam=%{x}<br>B\\u00f6lge-Region=%{y}<extra></extra>\",\"legendgroup\":\"Zonguldak\",\"marker\":{\"color\":\"#636efa\",\"pattern\":{\"shape\":\"\"}},\"name\":\"Zonguldak\",\"offsetgroup\":\"Zonguldak\",\"orientation\":\"h\",\"showlegend\":true,\"textposition\":\"auto\",\"type\":\"bar\",\"x\":[414815],\"xaxis\":\"x\",\"y\":[\"Karadeniz\"],\"yaxis\":\"y\"}],                        {\"barmode\":\"relative\",\"legend\":{\"title\":{\"text\":\"city-\\u015fehir\"},\"tracegroupgap\":0},\"template\":{\"data\":{\"bar\":[{\"error_x\":{\"color\":\"#2a3f5f\"},\"error_y\":{\"color\":\"#2a3f5f\"},\"marker\":{\"line\":{\"color\":\"#E5ECF6\",\"width\":0.5},\"pattern\":{\"fillmode\":\"overlay\",\"size\":10,\"solidity\":0.2}},\"type\":\"bar\"}],\"barpolar\":[{\"marker\":{\"line\":{\"color\":\"#E5ECF6\",\"width\":0.5},\"pattern\":{\"fillmode\":\"overlay\",\"size\":10,\"solidity\":0.2}},\"type\":\"barpolar\"}],\"carpet\":[{\"aaxis\":{\"endlinecolor\":\"#2a3f5f\",\"gridcolor\":\"white\",\"linecolor\":\"white\",\"minorgridcolor\":\"white\",\"startlinecolor\":\"#2a3f5f\"},\"baxis\":{\"endlinecolor\":\"#2a3f5f\",\"gridcolor\":\"white\",\"linecolor\":\"white\",\"minorgridcolor\":\"white\",\"startlinecolor\":\"#2a3f5f\"},\"type\":\"carpet\"}],\"choropleth\":[{\"colorbar\":{\"outlinewidth\":0,\"ticks\":\"\"},\"type\":\"choropleth\"}],\"contour\":[{\"colorbar\":{\"outlinewidth\":0,\"ticks\":\"\"},\"colorscale\":[[0.0,\"#0d0887\"],[0.1111111111111111,\"#46039f\"],[0.2222222222222222,\"#7201a8\"],[0.3333333333333333,\"#9c179e\"],[0.4444444444444444,\"#bd3786\"],[0.5555555555555556,\"#d8576b\"],[0.6666666666666666,\"#ed7953\"],[0.7777777777777778,\"#fb9f3a\"],[0.8888888888888888,\"#fdca26\"],[1.0,\"#f0f921\"]],\"type\":\"contour\"}],\"contourcarpet\":[{\"colorbar\":{\"outlinewidth\":0,\"ticks\":\"\"},\"type\":\"contourcarpet\"}],\"heatmap\":[{\"colorbar\":{\"outlinewidth\":0,\"ticks\":\"\"},\"colorscale\":[[0.0,\"#0d0887\"],[0.1111111111111111,\"#46039f\"],[0.2222222222222222,\"#7201a8\"],[0.3333333333333333,\"#9c179e\"],[0.4444444444444444,\"#bd3786\"],[0.5555555555555556,\"#d8576b\"],[0.6666666666666666,\"#ed7953\"],[0.7777777777777778,\"#fb9f3a\"],[0.8888888888888888,\"#fdca26\"],[1.0,\"#f0f921\"]],\"type\":\"heatmap\"}],\"heatmapgl\":[{\"colorbar\":{\"outlinewidth\":0,\"ticks\":\"\"},\"colorscale\":[[0.0,\"#0d0887\"],[0.1111111111111111,\"#46039f\"],[0.2222222222222222,\"#7201a8\"],[0.3333333333333333,\"#9c179e\"],[0.4444444444444444,\"#bd3786\"],[0.5555555555555556,\"#d8576b\"],[0.6666666666666666,\"#ed7953\"],[0.7777777777777778,\"#fb9f3a\"],[0.8888888888888888,\"#fdca26\"],[1.0,\"#f0f921\"]],\"type\":\"heatmapgl\"}],\"histogram\":[{\"marker\":{\"pattern\":{\"fillmode\":\"overlay\",\"size\":10,\"solidity\":0.2}},\"type\":\"histogram\"}],\"histogram2d\":[{\"colorbar\":{\"outlinewidth\":0,\"ticks\":\"\"},\"colorscale\":[[0.0,\"#0d0887\"],[0.1111111111111111,\"#46039f\"],[0.2222222222222222,\"#7201a8\"],[0.3333333333333333,\"#9c179e\"],[0.4444444444444444,\"#bd3786\"],[0.5555555555555556,\"#d8576b\"],[0.6666666666666666,\"#ed7953\"],[0.7777777777777778,\"#fb9f3a\"],[0.8888888888888888,\"#fdca26\"],[1.0,\"#f0f921\"]],\"type\":\"histogram2d\"}],\"histogram2dcontour\":[{\"colorbar\":{\"outlinewidth\":0,\"ticks\":\"\"},\"colorscale\":[[0.0,\"#0d0887\"],[0.1111111111111111,\"#46039f\"],[0.2222222222222222,\"#7201a8\"],[0.3333333333333333,\"#9c179e\"],[0.4444444444444444,\"#bd3786\"],[0.5555555555555556,\"#d8576b\"],[0.6666666666666666,\"#ed7953\"],[0.7777777777777778,\"#fb9f3a\"],[0.8888888888888888,\"#fdca26\"],[1.0,\"#f0f921\"]],\"type\":\"histogram2dcontour\"}],\"mesh3d\":[{\"colorbar\":{\"outlinewidth\":0,\"ticks\":\"\"},\"type\":\"mesh3d\"}],\"parcoords\":[{\"line\":{\"colorbar\":{\"outlinewidth\":0,\"ticks\":\"\"}},\"type\":\"parcoords\"}],\"pie\":[{\"automargin\":true,\"type\":\"pie\"}],\"scatter\":[{\"marker\":{\"colorbar\":{\"outlinewidth\":0,\"ticks\":\"\"}},\"type\":\"scatter\"}],\"scatter3d\":[{\"line\":{\"colorbar\":{\"outlinewidth\":0,\"ticks\":\"\"}},\"marker\":{\"colorbar\":{\"outlinewidth\":0,\"ticks\":\"\"}},\"type\":\"scatter3d\"}],\"scattercarpet\":[{\"marker\":{\"colorbar\":{\"outlinewidth\":0,\"ticks\":\"\"}},\"type\":\"scattercarpet\"}],\"scattergeo\":[{\"marker\":{\"colorbar\":{\"outlinewidth\":0,\"ticks\":\"\"}},\"type\":\"scattergeo\"}],\"scattergl\":[{\"marker\":{\"colorbar\":{\"outlinewidth\":0,\"ticks\":\"\"}},\"type\":\"scattergl\"}],\"scattermapbox\":[{\"marker\":{\"colorbar\":{\"outlinewidth\":0,\"ticks\":\"\"}},\"type\":\"scattermapbox\"}],\"scatterpolar\":[{\"marker\":{\"colorbar\":{\"outlinewidth\":0,\"ticks\":\"\"}},\"type\":\"scatterpolar\"}],\"scatterpolargl\":[{\"marker\":{\"colorbar\":{\"outlinewidth\":0,\"ticks\":\"\"}},\"type\":\"scatterpolargl\"}],\"scatterternary\":[{\"marker\":{\"colorbar\":{\"outlinewidth\":0,\"ticks\":\"\"}},\"type\":\"scatterternary\"}],\"surface\":[{\"colorbar\":{\"outlinewidth\":0,\"ticks\":\"\"},\"colorscale\":[[0.0,\"#0d0887\"],[0.1111111111111111,\"#46039f\"],[0.2222222222222222,\"#7201a8\"],[0.3333333333333333,\"#9c179e\"],[0.4444444444444444,\"#bd3786\"],[0.5555555555555556,\"#d8576b\"],[0.6666666666666666,\"#ed7953\"],[0.7777777777777778,\"#fb9f3a\"],[0.8888888888888888,\"#fdca26\"],[1.0,\"#f0f921\"]],\"type\":\"surface\"}],\"table\":[{\"cells\":{\"fill\":{\"color\":\"#EBF0F8\"},\"line\":{\"color\":\"white\"}},\"header\":{\"fill\":{\"color\":\"#C8D4E3\"},\"line\":{\"color\":\"white\"}},\"type\":\"table\"}]},\"layout\":{\"annotationdefaults\":{\"arrowcolor\":\"#2a3f5f\",\"arrowhead\":0,\"arrowwidth\":1},\"autotypenumbers\":\"strict\",\"coloraxis\":{\"colorbar\":{\"outlinewidth\":0,\"ticks\":\"\"}},\"colorscale\":{\"diverging\":[[0,\"#8e0152\"],[0.1,\"#c51b7d\"],[0.2,\"#de77ae\"],[0.3,\"#f1b6da\"],[0.4,\"#fde0ef\"],[0.5,\"#f7f7f7\"],[0.6,\"#e6f5d0\"],[0.7,\"#b8e186\"],[0.8,\"#7fbc41\"],[0.9,\"#4d9221\"],[1,\"#276419\"]],\"sequential\":[[0.0,\"#0d0887\"],[0.1111111111111111,\"#46039f\"],[0.2222222222222222,\"#7201a8\"],[0.3333333333333333,\"#9c179e\"],[0.4444444444444444,\"#bd3786\"],[0.5555555555555556,\"#d8576b\"],[0.6666666666666666,\"#ed7953\"],[0.7777777777777778,\"#fb9f3a\"],[0.8888888888888888,\"#fdca26\"],[1.0,\"#f0f921\"]],\"sequentialminus\":[[0.0,\"#0d0887\"],[0.1111111111111111,\"#46039f\"],[0.2222222222222222,\"#7201a8\"],[0.3333333333333333,\"#9c179e\"],[0.4444444444444444,\"#bd3786\"],[0.5555555555555556,\"#d8576b\"],[0.6666666666666666,\"#ed7953\"],[0.7777777777777778,\"#fb9f3a\"],[0.8888888888888888,\"#fdca26\"],[1.0,\"#f0f921\"]]},\"colorway\":[\"#636efa\",\"#EF553B\",\"#00cc96\",\"#ab63fa\",\"#FFA15A\",\"#19d3f3\",\"#FF6692\",\"#B6E880\",\"#FF97FF\",\"#FECB52\"],\"font\":{\"color\":\"#2a3f5f\"},\"geo\":{\"bgcolor\":\"white\",\"lakecolor\":\"white\",\"landcolor\":\"#E5ECF6\",\"showlakes\":true,\"showland\":true,\"subunitcolor\":\"white\"},\"hoverlabel\":{\"align\":\"left\"},\"hovermode\":\"closest\",\"mapbox\":{\"style\":\"light\"},\"paper_bgcolor\":\"white\",\"plot_bgcolor\":\"#E5ECF6\",\"polar\":{\"angularaxis\":{\"gridcolor\":\"white\",\"linecolor\":\"white\",\"ticks\":\"\"},\"bgcolor\":\"#E5ECF6\",\"radialaxis\":{\"gridcolor\":\"white\",\"linecolor\":\"white\",\"ticks\":\"\"}},\"scene\":{\"xaxis\":{\"backgroundcolor\":\"#E5ECF6\",\"gridcolor\":\"white\",\"gridwidth\":2,\"linecolor\":\"white\",\"showbackground\":true,\"ticks\":\"\",\"zerolinecolor\":\"white\"},\"yaxis\":{\"backgroundcolor\":\"#E5ECF6\",\"gridcolor\":\"white\",\"gridwidth\":2,\"linecolor\":\"white\",\"showbackground\":true,\"ticks\":\"\",\"zerolinecolor\":\"white\"},\"zaxis\":{\"backgroundcolor\":\"#E5ECF6\",\"gridcolor\":\"white\",\"gridwidth\":2,\"linecolor\":\"white\",\"showbackground\":true,\"ticks\":\"\",\"zerolinecolor\":\"white\"}},\"shapedefaults\":{\"line\":{\"color\":\"#2a3f5f\"}},\"ternary\":{\"aaxis\":{\"gridcolor\":\"white\",\"linecolor\":\"white\",\"ticks\":\"\"},\"baxis\":{\"gridcolor\":\"white\",\"linecolor\":\"white\",\"ticks\":\"\"},\"bgcolor\":\"#E5ECF6\",\"caxis\":{\"gridcolor\":\"white\",\"linecolor\":\"white\",\"ticks\":\"\"}},\"title\":{\"x\":0.05},\"xaxis\":{\"automargin\":true,\"gridcolor\":\"white\",\"linecolor\":\"white\",\"ticks\":\"\",\"title\":{\"standoff\":15},\"zerolinecolor\":\"white\",\"zerolinewidth\":2},\"yaxis\":{\"automargin\":true,\"gridcolor\":\"white\",\"linecolor\":\"white\",\"ticks\":\"\",\"title\":{\"standoff\":15},\"zerolinecolor\":\"white\",\"zerolinewidth\":2}}},\"title\":{\"text\":\"Completed total of Vaccine as of June 26 - 26 Haziran'da tamamlanan toplam a\\u015f\\u0131 \"},\"xaxis\":{\"anchor\":\"y\",\"domain\":[0.0,1.0],\"title\":{\"text\":\"total-toplam\"}},\"yaxis\":{\"anchor\":\"x\",\"domain\":[0.0,1.0],\"title\":{\"text\":\"B\\u00f6lge-Region\"}}},                        {\"responsive\": true}                    ).then(function(){\n",
       "                            \n",
       "var gd = document.getElementById('aedaab50-8008-4034-8649-bb1dab9d324a');\n",
       "var x = new MutationObserver(function (mutations, observer) {{\n",
       "        var display = window.getComputedStyle(gd).display;\n",
       "        if (!display || display === 'none') {{\n",
       "            console.log([gd, 'removed!']);\n",
       "            Plotly.purge(gd);\n",
       "            observer.disconnect();\n",
       "        }}\n",
       "}});\n",
       "\n",
       "// Listen for the removal of the full notebook cells\n",
       "var notebookContainer = gd.closest('#notebook-container');\n",
       "if (notebookContainer) {{\n",
       "    x.observe(notebookContainer, {childList: true});\n",
       "}}\n",
       "\n",
       "// Listen for the clearing of the current output cell\n",
       "var outputEl = gd.closest('.output');\n",
       "if (outputEl) {{\n",
       "    x.observe(outputEl, {childList: true});\n",
       "}}\n",
       "\n",
       "                        })                };                });            </script>        </div>"
      ]
     },
     "metadata": {},
     "output_type": "display_data"
    }
   ],
   "source": [
    "fig = px.bar(covid, x=\"total-toplam\", y=\"Bölge-Region\", color=\"city-şehir\", title=\"Completed total of Vaccine as of June 26 - 26 Haziran'da tamamlanan toplam aşı \")\n",
    "fig.show()"
   ]
  },
  {
   "cell_type": "code",
   "execution_count": 967,
   "id": "a91b9489",
   "metadata": {},
   "outputs": [],
   "source": [
    "bolgelerimOrtalama.drop(\"1_dose-1.doz\", axis = 1, inplace = True)"
   ]
  },
  {
   "cell_type": "code",
   "execution_count": 968,
   "id": "385d9a08",
   "metadata": {},
   "outputs": [],
   "source": [
    "bolgelerimOrtalama.drop(\"2_dose-2.doz\", axis = 1, inplace = True)"
   ]
  },
  {
   "cell_type": "code",
   "execution_count": 969,
   "id": "251f9c17",
   "metadata": {},
   "outputs": [],
   "source": [
    "bolgelerimOrtalama.drop(\"total-toplam\", axis = 1, inplace = True)"
   ]
  },
  {
   "cell_type": "code",
   "execution_count": 970,
   "id": "6db90e15",
   "metadata": {},
   "outputs": [
    {
     "data": {
      "text/plain": [
       "<AxesSubplot:xlabel='Bölge-Region'>"
      ]
     },
     "execution_count": 970,
     "metadata": {},
     "output_type": "execute_result"
    },
    {
     "data": {
      "image/png": "[encoded data removed]",
      "text/plain": [
       "<Figure size 432x288 with 1 Axes>"
      ]
     },
     "metadata": {
      "needs_background": "light"
     },
     "output_type": "display_data"
    }
   ],
   "source": [
    "bolgelerimOrtalama.plot()"
   ]
  },
  {
   "cell_type": "code",
   "execution_count": null,
   "id": "d7b4a0e8",
   "metadata": {},
   "outputs": [],
   "source": []
  }
 ],
 "metadata": {
  "kernelspec": {
   "display_name": "Python 3",
   "language": "python",
   "name": "python3"
  },
  "language_info": {
   "codemirror_mode": {
    "name": "ipython",
    "version": 3
   },
   "file_extension": ".py",
   "mimetype": "text/x-python",
   "name": "python",
   "nbconvert_exporter": "python",
   "pygments_lexer": "ipython3",
   "version": "3.8.8"
  }
 },
 "nbformat": 4,
 "nbformat_minor": 5
}
